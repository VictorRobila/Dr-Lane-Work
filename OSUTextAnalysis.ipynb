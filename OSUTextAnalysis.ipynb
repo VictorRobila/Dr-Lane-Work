{
  "nbformat": 4,
  "nbformat_minor": 0,
  "metadata": {
    "colab": {
      "provenance": [],
      "machine_shape": "hm",
      "gpuClass": "premium"
    },
    "kernelspec": {
      "name": "python3",
      "display_name": "Python 3"
    },
    "language_info": {
      "name": "python"
    },
    "accelerator": "GPU",
    "gpuClass": "premium"
  },
  "cells": [
    {
      "cell_type": "markdown",
      "source": [
        "# Imporant"
      ],
      "metadata": {
        "id": "cTIsHg7IDHyA"
      }
    },
    {
      "cell_type": "code",
      "execution_count": null,
      "metadata": {
        "id": "1t2smI5OS88d",
        "colab": {
          "base_uri": "https://localhost:8080/"
        },
        "outputId": "40b965ca-50d5-4078-f4d6-3a442abf4f34"
      },
      "outputs": [
        {
          "output_type": "stream",
          "name": "stdout",
          "text": [
            "Looking in indexes: https://pypi.org/simple, https://us-python.pkg.dev/colab-wheels/public/simple/\n",
            "Collecting fuzzywuzzy\n",
            "  Downloading fuzzywuzzy-0.18.0-py2.py3-none-any.whl (18 kB)\n",
            "Installing collected packages: fuzzywuzzy\n",
            "Successfully installed fuzzywuzzy-0.18.0\n",
            "Looking in indexes: https://pypi.org/simple, https://us-python.pkg.dev/colab-wheels/public/simple/\n",
            "Collecting transformers\n",
            "  Downloading transformers-4.27.4-py3-none-any.whl (6.8 MB)\n",
            "\u001b[2K     \u001b[90m━━━━━━━━━━━━━━━━━━━━━━━━━━━━━━━━━━━━━━━━\u001b[0m \u001b[32m6.8/6.8 MB\u001b[0m \u001b[31m72.8 MB/s\u001b[0m eta \u001b[36m0:00:00\u001b[0m\n",
            "\u001b[?25hCollecting huggingface-hub<1.0,>=0.11.0\n",
            "  Downloading huggingface_hub-0.13.3-py3-none-any.whl (199 kB)\n",
            "\u001b[2K     \u001b[90m━━━━━━━━━━━━━━━━━━━━━━━━━━━━━━━━━━━━━━\u001b[0m \u001b[32m199.8/199.8 KB\u001b[0m \u001b[31m10.6 MB/s\u001b[0m eta \u001b[36m0:00:00\u001b[0m\n",
            "\u001b[?25hRequirement already satisfied: regex!=2019.12.17 in /usr/local/lib/python3.9/dist-packages (from transformers) (2022.10.31)\n",
            "Requirement already satisfied: tqdm>=4.27 in /usr/local/lib/python3.9/dist-packages (from transformers) (4.65.0)\n",
            "Requirement already satisfied: filelock in /usr/local/lib/python3.9/dist-packages (from transformers) (3.10.7)\n",
            "Requirement already satisfied: numpy>=1.17 in /usr/local/lib/python3.9/dist-packages (from transformers) (1.22.4)\n",
            "Collecting tokenizers!=0.11.3,<0.14,>=0.11.1\n",
            "  Downloading tokenizers-0.13.2-cp39-cp39-manylinux_2_17_x86_64.manylinux2014_x86_64.whl (7.6 MB)\n",
            "\u001b[2K     \u001b[90m━━━━━━━━━━━━━━━━━━━━━━━━━━━━━━━━━━━━━━━━\u001b[0m \u001b[32m7.6/7.6 MB\u001b[0m \u001b[31m91.3 MB/s\u001b[0m eta \u001b[36m0:00:00\u001b[0m\n",
            "\u001b[?25hRequirement already satisfied: packaging>=20.0 in /usr/local/lib/python3.9/dist-packages (from transformers) (23.0)\n",
            "Requirement already satisfied: pyyaml>=5.1 in /usr/local/lib/python3.9/dist-packages (from transformers) (6.0)\n",
            "Requirement already satisfied: requests in /usr/local/lib/python3.9/dist-packages (from transformers) (2.27.1)\n",
            "Requirement already satisfied: typing-extensions>=3.7.4.3 in /usr/local/lib/python3.9/dist-packages (from huggingface-hub<1.0,>=0.11.0->transformers) (4.5.0)\n",
            "Requirement already satisfied: certifi>=2017.4.17 in /usr/local/lib/python3.9/dist-packages (from requests->transformers) (2022.12.7)\n",
            "Requirement already satisfied: idna<4,>=2.5 in /usr/local/lib/python3.9/dist-packages (from requests->transformers) (3.4)\n",
            "Requirement already satisfied: charset-normalizer~=2.0.0 in /usr/local/lib/python3.9/dist-packages (from requests->transformers) (2.0.12)\n",
            "Requirement already satisfied: urllib3<1.27,>=1.21.1 in /usr/local/lib/python3.9/dist-packages (from requests->transformers) (1.26.15)\n",
            "Installing collected packages: tokenizers, huggingface-hub, transformers\n",
            "Successfully installed huggingface-hub-0.13.3 tokenizers-0.13.2 transformers-4.27.4\n",
            "Looking in indexes: https://pypi.org/simple, https://us-python.pkg.dev/colab-wheels/public/simple/\n",
            "Collecting PyPDF2\n",
            "  Downloading pypdf2-3.0.1-py3-none-any.whl (232 kB)\n",
            "\u001b[2K     \u001b[90m━━━━━━━━━━━━━━━━━━━━━━━━━━━━━━━━━━━━━━\u001b[0m \u001b[32m232.6/232.6 KB\u001b[0m \u001b[31m19.1 MB/s\u001b[0m eta \u001b[36m0:00:00\u001b[0m\n",
            "\u001b[?25hRequirement already satisfied: typing_extensions>=3.10.0.0 in /usr/local/lib/python3.9/dist-packages (from PyPDF2) (4.5.0)\n",
            "Installing collected packages: PyPDF2\n",
            "Successfully installed PyPDF2-3.0.1\n",
            "Looking in indexes: https://pypi.org/simple, https://us-python.pkg.dev/colab-wheels/public/simple/\n",
            "Collecting textract\n",
            "  Downloading textract-1.6.5-py3-none-any.whl (23 kB)\n",
            "Collecting SpeechRecognition~=3.8.1\n",
            "  Downloading SpeechRecognition-3.8.1-py2.py3-none-any.whl (32.8 MB)\n",
            "\u001b[2K     \u001b[90m━━━━━━━━━━━━━━━━━━━━━━━━━━━━━━━━━━━━━━━━\u001b[0m \u001b[32m32.8/32.8 MB\u001b[0m \u001b[31m57.7 MB/s\u001b[0m eta \u001b[36m0:00:00\u001b[0m\n",
            "\u001b[?25hCollecting docx2txt~=0.8\n",
            "  Downloading docx2txt-0.8.tar.gz (2.8 kB)\n",
            "  Preparing metadata (setup.py) ... \u001b[?25l\u001b[?25hdone\n",
            "Collecting pdfminer.six==20191110\n",
            "  Downloading pdfminer.six-20191110-py2.py3-none-any.whl (5.6 MB)\n",
            "\u001b[2K     \u001b[90m━━━━━━━━━━━━━━━━━━━━━━━━━━━━━━━━━━━━━━━━\u001b[0m \u001b[32m5.6/5.6 MB\u001b[0m \u001b[31m101.9 MB/s\u001b[0m eta \u001b[36m0:00:00\u001b[0m\n",
            "\u001b[?25hCollecting six~=1.12.0\n",
            "  Downloading six-1.12.0-py2.py3-none-any.whl (10 kB)\n",
            "Collecting extract-msg<=0.29.*\n",
            "  Downloading extract_msg-0.28.7-py2.py3-none-any.whl (69 kB)\n",
            "\u001b[2K     \u001b[90m━━━━━━━━━━━━━━━━━━━━━━━━━━━━━━━━━━━━━━━━\u001b[0m \u001b[32m69.0/69.0 KB\u001b[0m \u001b[31m9.9 MB/s\u001b[0m eta \u001b[36m0:00:00\u001b[0m\n",
            "\u001b[?25hCollecting xlrd~=1.2.0\n",
            "  Downloading xlrd-1.2.0-py2.py3-none-any.whl (103 kB)\n",
            "\u001b[2K     \u001b[90m━━━━━━━━━━━━━━━━━━━━━━━━━━━━━━━━━━━━━━\u001b[0m \u001b[32m103.3/103.3 KB\u001b[0m \u001b[31m15.9 MB/s\u001b[0m eta \u001b[36m0:00:00\u001b[0m\n",
            "\u001b[?25hCollecting argcomplete~=1.10.0\n",
            "  Downloading argcomplete-1.10.3-py2.py3-none-any.whl (36 kB)\n",
            "Collecting python-pptx~=0.6.18\n",
            "  Downloading python-pptx-0.6.21.tar.gz (10.1 MB)\n",
            "\u001b[2K     \u001b[90m━━━━━━━━━━━━━━━━━━━━━━━━━━━━━━━━━━━━━━━\u001b[0m \u001b[32m10.1/10.1 MB\u001b[0m \u001b[31m117.0 MB/s\u001b[0m eta \u001b[36m0:00:00\u001b[0m\n",
            "\u001b[?25h  Preparing metadata (setup.py) ... \u001b[?25l\u001b[?25hdone\n",
            "Collecting beautifulsoup4~=4.8.0\n",
            "  Downloading beautifulsoup4-4.8.2-py3-none-any.whl (106 kB)\n",
            "\u001b[2K     \u001b[90m━━━━━━━━━━━━━━━━━━━━━━━━━━━━━━━━━━━━━━\u001b[0m \u001b[32m106.9/106.9 KB\u001b[0m \u001b[31m13.7 MB/s\u001b[0m eta \u001b[36m0:00:00\u001b[0m\n",
            "\u001b[?25hCollecting chardet==3.*\n",
            "  Downloading chardet-3.0.4-py2.py3-none-any.whl (133 kB)\n",
            "\u001b[2K     \u001b[90m━━━━━━━━━━━━━━━━━━━━━━━━━━━━━━━━━━━━━━\u001b[0m \u001b[32m133.4/133.4 KB\u001b[0m \u001b[31m17.3 MB/s\u001b[0m eta \u001b[36m0:00:00\u001b[0m\n",
            "\u001b[?25hRequirement already satisfied: sortedcontainers in /usr/local/lib/python3.9/dist-packages (from pdfminer.six==20191110->textract) (2.4.0)\n",
            "Collecting pycryptodome\n",
            "  Downloading pycryptodome-3.17-cp35-abi3-manylinux_2_17_x86_64.manylinux2014_x86_64.whl (2.1 MB)\n",
            "\u001b[2K     \u001b[90m━━━━━━━━━━━━━━━━━━━━━━━━━━━━━━━━━━━━━━━━\u001b[0m \u001b[32m2.1/2.1 MB\u001b[0m \u001b[31m59.5 MB/s\u001b[0m eta \u001b[36m0:00:00\u001b[0m\n",
            "\u001b[?25hRequirement already satisfied: soupsieve>=1.2 in /usr/local/lib/python3.9/dist-packages (from beautifulsoup4~=4.8.0->textract) (2.4)\n",
            "Collecting ebcdic>=1.1.1\n",
            "  Downloading ebcdic-1.1.1-py2.py3-none-any.whl (128 kB)\n",
            "\u001b[2K     \u001b[90m━━━━━━━━━━━━━━━━━━━━━━━━━━━━━━━━━━━━━━\u001b[0m \u001b[32m128.5/128.5 KB\u001b[0m \u001b[31m17.0 MB/s\u001b[0m eta \u001b[36m0:00:00\u001b[0m\n",
            "\u001b[?25hRequirement already satisfied: tzlocal>=2.1 in /usr/local/lib/python3.9/dist-packages (from extract-msg<=0.29.*->textract) (4.3)\n",
            "Collecting imapclient==2.1.0\n",
            "  Downloading IMAPClient-2.1.0-py2.py3-none-any.whl (73 kB)\n",
            "\u001b[2K     \u001b[90m━━━━━━━━━━━━━━━━━━━━━━━━━━━━━━━━━━━━━━━━\u001b[0m \u001b[32m74.0/74.0 KB\u001b[0m \u001b[31m10.1 MB/s\u001b[0m eta \u001b[36m0:00:00\u001b[0m\n",
            "\u001b[?25hCollecting compressed-rtf>=1.0.6\n",
            "  Downloading compressed_rtf-1.0.6.tar.gz (5.8 kB)\n",
            "  Preparing metadata (setup.py) ... \u001b[?25l\u001b[?25hdone\n",
            "Collecting olefile>=0.46\n",
            "  Downloading olefile-0.46.zip (112 kB)\n",
            "\u001b[2K     \u001b[90m━━━━━━━━━━━━━━━━━━━━━━━━━━━━━━━━━━━━━━\u001b[0m \u001b[32m112.2/112.2 KB\u001b[0m \u001b[31m14.7 MB/s\u001b[0m eta \u001b[36m0:00:00\u001b[0m\n",
            "\u001b[?25h  Preparing metadata (setup.py) ... \u001b[?25l\u001b[?25hdone\n",
            "Requirement already satisfied: lxml>=3.1.0 in /usr/local/lib/python3.9/dist-packages (from python-pptx~=0.6.18->textract) (4.9.2)\n",
            "Requirement already satisfied: Pillow>=3.3.2 in /usr/local/lib/python3.9/dist-packages (from python-pptx~=0.6.18->textract) (8.4.0)\n",
            "Collecting XlsxWriter>=0.5.7\n",
            "  Downloading XlsxWriter-3.0.9-py3-none-any.whl (152 kB)\n",
            "\u001b[2K     \u001b[90m━━━━━━━━━━━━━━━━━━━━━━━━━━━━━━━━━━━━━━\u001b[0m \u001b[32m152.8/152.8 KB\u001b[0m \u001b[31m15.3 MB/s\u001b[0m eta \u001b[36m0:00:00\u001b[0m\n",
            "\u001b[?25hRequirement already satisfied: pytz-deprecation-shim in /usr/local/lib/python3.9/dist-packages (from tzlocal>=2.1->extract-msg<=0.29.*->textract) (0.1.0.post0)\n",
            "Requirement already satisfied: tzdata in /usr/local/lib/python3.9/dist-packages (from pytz-deprecation-shim->tzlocal>=2.1->extract-msg<=0.29.*->textract) (2023.3)\n",
            "Building wheels for collected packages: docx2txt, python-pptx, compressed-rtf, olefile\n",
            "  Building wheel for docx2txt (setup.py) ... \u001b[?25l\u001b[?25hdone\n",
            "  Created wheel for docx2txt: filename=docx2txt-0.8-py3-none-any.whl size=3977 sha256=172e6c4965b7abfeb47cd5b26e02019e8a350b853e0dca349e281d4f00db31a0\n",
            "  Stored in directory: /root/.cache/pip/wheels/40/75/01/e6c444034338bde9c7947d3467807f889123465c2371e77418\n",
            "  Building wheel for python-pptx (setup.py) ... \u001b[?25l\u001b[?25hdone\n",
            "  Created wheel for python-pptx: filename=python_pptx-0.6.21-py3-none-any.whl size=470949 sha256=38e71979272f7ba45332c83fd70141ab0977be70d4970633055b4cc32ffa2768\n",
            "  Stored in directory: /root/.cache/pip/wheels/0e/4a/ed/9653bc799915f52dce3f04d14946fbd85cce9c3cdedc9cfa71\n",
            "  Building wheel for compressed-rtf (setup.py) ... \u001b[?25l\u001b[?25hdone\n",
            "  Created wheel for compressed-rtf: filename=compressed_rtf-1.0.6-py3-none-any.whl size=6201 sha256=4862226b05f56758bcacb4f577ab8fc7224c13c31d9d73cb6f0158c616d3bc7a\n",
            "  Stored in directory: /root/.cache/pip/wheels/e4/67/e4/ba2159853bdd0fe99330aa1e384915108143a5370686ea446f\n",
            "  Building wheel for olefile (setup.py) ... \u001b[?25l\u001b[?25hdone\n",
            "  Created wheel for olefile: filename=olefile-0.46-py2.py3-none-any.whl size=35432 sha256=37cd2b6f17f0bfa7cfdf5e4bf4bf14535bf32f26aa333dd95e6d57714c127138\n",
            "  Stored in directory: /root/.cache/pip/wheels/64/b8/ba/ebba30390fbd997074f35e42a842ce3fd933213cac8753414e\n",
            "Successfully built docx2txt python-pptx compressed-rtf olefile\n",
            "Installing collected packages: SpeechRecognition, ebcdic, docx2txt, compressed-rtf, chardet, argcomplete, XlsxWriter, xlrd, six, pycryptodome, olefile, beautifulsoup4, python-pptx, pdfminer.six, imapclient, extract-msg, textract\n",
            "  Attempting uninstall: chardet\n",
            "    Found existing installation: chardet 4.0.0\n",
            "    Uninstalling chardet-4.0.0:\n",
            "      Successfully uninstalled chardet-4.0.0\n",
            "  Attempting uninstall: xlrd\n",
            "    Found existing installation: xlrd 2.0.1\n",
            "    Uninstalling xlrd-2.0.1:\n",
            "      Successfully uninstalled xlrd-2.0.1\n",
            "  Attempting uninstall: six\n",
            "    Found existing installation: six 1.16.0\n",
            "    Uninstalling six-1.16.0:\n",
            "      Successfully uninstalled six-1.16.0\n",
            "  Attempting uninstall: beautifulsoup4\n",
            "    Found existing installation: beautifulsoup4 4.11.2\n",
            "    Uninstalling beautifulsoup4-4.11.2:\n",
            "      Successfully uninstalled beautifulsoup4-4.11.2\n",
            "\u001b[31mERROR: pip's dependency resolver does not currently take into account all the packages that are installed. This behaviour is the source of the following dependency conflicts.\n",
            "yfinance 0.2.14 requires beautifulsoup4>=4.11.1, but you have beautifulsoup4 4.8.2 which is incompatible.\u001b[0m\u001b[31m\n",
            "\u001b[0mSuccessfully installed SpeechRecognition-3.8.1 XlsxWriter-3.0.9 argcomplete-1.10.3 beautifulsoup4-4.8.2 chardet-3.0.4 compressed-rtf-1.0.6 docx2txt-0.8 ebcdic-1.1.1 extract-msg-0.28.7 imapclient-2.1.0 olefile-0.46 pdfminer.six-20191110 pycryptodome-3.17 python-pptx-0.6.21 six-1.12.0 textract-1.6.5 xlrd-1.2.0\n"
          ]
        },
        {
          "output_type": "stream",
          "name": "stderr",
          "text": [
            "/usr/local/lib/python3.9/dist-packages/fuzzywuzzy/fuzz.py:11: UserWarning: Using slow pure-python SequenceMatcher. Install python-Levenshtein to remove this warning\n",
            "  warnings.warn('Using slow pure-python SequenceMatcher. Install python-Levenshtein to remove this warning')\n",
            "[nltk_data] Downloading package stopwords to /root/nltk_data...\n",
            "[nltk_data]   Unzipping corpora/stopwords.zip.\n",
            "[nltk_data] Downloading package punkt to /root/nltk_data...\n",
            "[nltk_data]   Unzipping tokenizers/punkt.zip.\n",
            "[nltk_data] Downloading package stopwords to /root/nltk_data...\n",
            "[nltk_data]   Package stopwords is already up-to-date!\n"
          ]
        },
        {
          "output_type": "execute_result",
          "data": {
            "text/plain": [
              "True"
            ]
          },
          "metadata": {},
          "execution_count": 1
        }
      ],
      "source": [
        "!pip install fuzzywuzzy\n",
        "!pip install transformers\n",
        "!pip install PyPDF2\n",
        "!pip install textract\n",
        "import json\n",
        "\n",
        "# data manipulation\n",
        "import pandas as pd\n",
        "import string\n",
        "# normalize nested JSON files\n",
        "from pandas.io.json import json_normalize\n",
        "import os\n",
        "import requests\n",
        "from urllib.parse import urljoin\n",
        "from bs4 import BeautifulSoup\n",
        "import PyPDF2, urllib.request , nltk , textract\n",
        "from io import BytesIO\n",
        "import json\n",
        "#import weasyprint\n",
        "import pandas as pd\n",
        "from pandas.io.json import json_normalize\n",
        "from nltk.tokenize import word_tokenize\n",
        "from nltk.corpus import stopwords\n",
        "import os\n",
        "import requests\n",
        "from urllib.parse import urljoin\n",
        "from bs4 import BeautifulSoup\n",
        "from collections import defaultdict, Counter\n",
        "from fuzzywuzzy import fuzz\n",
        "import json\n",
        "import logging\n",
        "import multiprocessing as mp\n",
        "import numpy as np\n",
        "import pandas as pd\n",
        "import os\n",
        "import re\n",
        "import regex\n",
        "import torch\n",
        "from transformers import AutoTokenizer, AutoModelForSequenceClassification\n",
        "import nltk\n",
        "from nltk.tokenize import sent_tokenize\n",
        "nltk.download('stopwords')\n",
        "nltk.download('punkt')\n",
        "from sklearn.feature_extraction.text import CountVectorizer, TfidfTransformer\n",
        "from sklearn.decomposition import LatentDirichletAllocation\n",
        "from sklearn import preprocessing\n",
        "from nltk import SnowballStemmer\n",
        "import string\n",
        "import nltk\n",
        "import os\n",
        "import json\n",
        "from nltk.corpus import stopwords\n",
        "nltk.download('stopwords')"
      ]
    },
    {
      "cell_type": "code",
      "source": [
        "\n",
        "!pip install python-Levenshtein"
      ],
      "metadata": {
        "colab": {
          "base_uri": "https://localhost:8080/"
        },
        "id": "k7BpYVT3SRC7",
        "outputId": "a23c276a-9119-48ac-88e4-9bbf41552173"
      },
      "execution_count": null,
      "outputs": [
        {
          "output_type": "stream",
          "name": "stdout",
          "text": [
            "Looking in indexes: https://pypi.org/simple, https://us-python.pkg.dev/colab-wheels/public/simple/\n",
            "Collecting python-Levenshtein\n",
            "  Downloading python_Levenshtein-0.20.9-py3-none-any.whl (9.4 kB)\n",
            "Collecting Levenshtein==0.20.9\n",
            "  Downloading Levenshtein-0.20.9-cp39-cp39-manylinux_2_17_x86_64.manylinux2014_x86_64.whl (175 kB)\n",
            "\u001b[2K     \u001b[90m━━━━━━━━━━━━━━━━━━━━━━━━━━━━━━━━━━━━━━\u001b[0m \u001b[32m175.5/175.5 KB\u001b[0m \u001b[31m12.8 MB/s\u001b[0m eta \u001b[36m0:00:00\u001b[0m\n",
            "\u001b[?25hCollecting rapidfuzz<3.0.0,>=2.3.0\n",
            "  Downloading rapidfuzz-2.13.7-cp39-cp39-manylinux_2_17_x86_64.manylinux2014_x86_64.whl (2.2 MB)\n",
            "\u001b[2K     \u001b[90m━━━━━━━━━━━━━━━━━━━━━━━━━━━━━━━━━━━━━━━━\u001b[0m \u001b[32m2.2/2.2 MB\u001b[0m \u001b[31m84.6 MB/s\u001b[0m eta \u001b[36m0:00:00\u001b[0m\n",
            "\u001b[?25hInstalling collected packages: rapidfuzz, Levenshtein, python-Levenshtein\n",
            "Successfully installed Levenshtein-0.20.9 python-Levenshtein-0.20.9 rapidfuzz-2.13.7\n"
          ]
        }
      ]
    },
    {
      "cell_type": "code",
      "source": [
        "import gensim\n",
        "from gensim.models import Word2Vec,KeyedVectors"
      ],
      "metadata": {
        "id": "OOinC5OBTQNY"
      },
      "execution_count": null,
      "outputs": []
    },
    {
      "cell_type": "code",
      "source": [
        "from google.colab import drive\n",
        "drive.mount('/content/drive')"
      ],
      "metadata": {
        "colab": {
          "base_uri": "https://localhost:8080/"
        },
        "id": "kZ6y8ztmVJw0",
        "outputId": "86cd5a5b-27b9-4a8b-9c85-227367bb228e"
      },
      "execution_count": null,
      "outputs": [
        {
          "output_type": "stream",
          "name": "stdout",
          "text": [
            "Mounted at /content/drive\n"
          ]
        }
      ]
    },
    {
      "cell_type": "markdown",
      "source": [
        "# Process data"
      ],
      "metadata": {
        "id": "GrYfepZvDpdj"
      }
    },
    {
      "cell_type": "markdown",
      "source": [
        "## Load data"
      ],
      "metadata": {
        "id": "1SeyVofDDrLX"
      }
    },
    {
      "cell_type": "code",
      "source": [
        "JSON_FEATURE_DIR = \"/content/drive/MyDrive/RAjobs/try\""
      ],
      "metadata": {
        "id": "gUC0hBQ3VOJ3"
      },
      "execution_count": null,
      "outputs": []
    },
    {
      "cell_type": "code",
      "source": [
        "def content(jsonfile):\n",
        "    curr_id = jsonfile.split('.')[0]\n",
        "    with open(os.path.join(JSON_FEATURE_DIR, jsonfile)) as f:\n",
        "        raw_json = json.load(f)\n",
        "\n",
        "        ## for new data\n",
        "        raw_json = eval(\"[\"+raw_json['text']+\"]\")  ## convert str to dict\n",
        "        raw_json = [{'section_title': x['header'], 'text': x['text']} for x in raw_json]  ## clean data\n",
        "        ## for new data\n",
        "\n",
        "        raw_text = list(map(lambda x: ' '.join(x.values()), raw_json))\n",
        "        raw_text = ' '.join(raw_text)\n",
        "        raw_text = ' '.join(raw_text.split())\n",
        "    sentences = '\\n'.join(sent_tokenize(raw_text))\n",
        "    return curr_id, sentences"
      ],
      "metadata": {
        "id": "fNFcjyY2TIXk"
      },
      "execution_count": null,
      "outputs": []
    },
    {
      "cell_type": "code",
      "source": [
        "with mp.Pool(4) as pooler:\n",
        "    content_dicts = list(pooler.map(content, os.listdir(JSON_FEATURE_DIR)))"
      ],
      "metadata": {
        "id": "Z8funzQZTNbo"
      },
      "execution_count": null,
      "outputs": []
    },
    {
      "cell_type": "code",
      "source": [
        "content_df = pd.DataFrame(content_dicts)\n",
        "content_df = content_df.rename(columns={content_df.columns[0]: \"ID\",content_df.columns[1]: \"content\"})\n",
        "content_list = content_df['content'].values.tolist()"
      ],
      "metadata": {
        "id": "uhIXqDIuTN9P"
      },
      "execution_count": null,
      "outputs": []
    },
    {
      "cell_type": "markdown",
      "source": [
        "## Clean text"
      ],
      "metadata": {
        "id": "bAHfTm5bEgBH"
      }
    },
    {
      "cell_type": "code",
      "source": [
        "preprocessed_text = content_df['content'].apply(gensim.utils.simple_preprocess)\n",
        "preprocessed_text[0:10]"
      ],
      "metadata": {
        "colab": {
          "base_uri": "https://localhost:8080/"
        },
        "id": "cTX93IZYTuo1",
        "outputId": "b9cd879d-76ea-4679-ff9a-9a62e3684922"
      },
      "execution_count": null,
      "outputs": [
        {
          "output_type": "execute_result",
          "data": {
            "text/plain": [
              "0    [introduction, header, summer, and, autumn, ar...\n",
              "1    [introduction, header, osu, extensions, educat...\n",
              "2    [introduction, header, potassium, is, an, esse...\n",
              "3    [introduction, header, the, most, common, plan...\n",
              "4    [introduction, header, new, report, from, oreg...\n",
              "5    [introduction, header, we, are, continually, d...\n",
              "6    [introduction, header, poisonous, plants, are,...\n",
              "7    [introduction, header, corvallis, ore, new, re...\n",
              "8    [introduction, header, do, you, have, gardenin...\n",
              "9    [introduction, header, the, second, video, in,...\n",
              "Name: content, dtype: object"
            ]
          },
          "metadata": {},
          "execution_count": 9
        }
      ]
    },
    {
      "cell_type": "code",
      "source": [
        "#model_cbow = Word2Vec(sentences=preprocessed_text, sg=0, min_count=10, workers=4, window =3, epochs = 20)"
      ],
      "metadata": {
        "id": "1MJluhZWUdaS"
      },
      "execution_count": null,
      "outputs": []
    },
    {
      "cell_type": "code",
      "source": [
        "def clean_text(text, tokenizer, stopwords):\n",
        "    \"\"\"Pre-process text and generate tokens\n",
        "\n",
        "    Args:\n",
        "        text: Text to tokenize.\n",
        "\n",
        "    Returns:\n",
        "        Tokenized text.\n",
        "    \"\"\"\n",
        "    text = str(text).lower()  # Lowercase words\n",
        "    text = re.sub(r\"\\[(.*?)\\]\", \"\", text)  # Remove [+XYZ chars] in content\n",
        "    text = re.sub(r\"\\s+\", \" \", text)  # Remove multiple spaces in content\n",
        "    text = re.sub(r\"\\w+…|…\", \"\", text)  # Remove ellipsis (and last word)\n",
        "    text = re.sub(r\"(?<=\\w)-(?=\\w)\", \" \", text)  # Replace dash between words\n",
        "    text = re.sub(\n",
        "        f\"[{re.escape(string.punctuation)}]\", \"\", text\n",
        "    )  # Remove punctuation\n",
        "\n",
        "    tokens = tokenizer(text)  # Get tokens from text\n",
        "    tokens = [t for t in tokens if not t in stopwords]  # Remove stopwords\n",
        "    tokens = [\"\" if t.isdigit() else t for t in tokens]  # Remove digits\n",
        "    tokens = [t for t in tokens if len(t) > 1]  # Remove short tokens\n",
        "    return tokens"
      ],
      "metadata": {
        "id": "Bqt4paxOAbS-"
      },
      "execution_count": null,
      "outputs": []
    },
    {
      "cell_type": "code",
      "source": [
        "# Create text column based on title, description, and content\n",
        "custom_stopwords = set(stopwords.words(\"english\") + [\"oku\", \"osu\", \"oklahoma\",\"oregon\",\"use\",\"process\",\"number\",\"rate\",\"per\",\"state\",\"percent\",\"may\",\"formula\",\"figure\",\"use\",\"problem\",\"program\",\"research\",\"need\",\"year\",\"include\",\"require\",\"member\",\"manag\",\"make\",\"help\",\"time\",\"also\",\"one\"])\n",
        "content_df[\"tokens\"] = content_df[\"content\"].map(lambda x: clean_text(x, word_tokenize, custom_stopwords))\n"
      ],
      "metadata": {
        "id": "PObGfU-p-ava"
      },
      "execution_count": null,
      "outputs": []
    },
    {
      "cell_type": "code",
      "source": [],
      "metadata": {
        "id": "glGk11xM_8Yu"
      },
      "execution_count": null,
      "outputs": []
    },
    {
      "cell_type": "code",
      "source": [
        "# docs = content_df[\"content\"].values\n",
        "# tokenized_docs = content_df[\"tokens\"].values"
      ],
      "metadata": {
        "id": "p-PqZZmq-6Tm"
      },
      "execution_count": null,
      "outputs": []
    },
    {
      "cell_type": "code",
      "source": [
        "import nltk\n",
        "nltk.download('wordnet')\n",
        "from gensim.corpora import Dictionary\n",
        "from gensim.models.ldamulticore import LdaMulticore"
      ],
      "metadata": {
        "colab": {
          "base_uri": "https://localhost:8080/"
        },
        "id": "Xn0MmWeZozce",
        "outputId": "a1c7640a-d65d-48f8-e6aa-7c3e9ecd087d"
      },
      "execution_count": null,
      "outputs": [
        {
          "output_type": "stream",
          "name": "stderr",
          "text": [
            "[nltk_data] Downloading package wordnet to /root/nltk_data...\n"
          ]
        }
      ]
    },
    {
      "cell_type": "code",
      "source": [
        "def stem_words(df):\n",
        "    lemm = nltk.stem.WordNetLemmatizer()\n",
        "    content_df['lemmatized_text'] = list(map(lambda sentence:\n",
        "                                     list(map(lemm.lemmatize, sentence)),\n",
        "                                     content_df.tokens))\n",
        "\n",
        "    p_stemmer = nltk.stem.porter.PorterStemmer()\n",
        "    content_df['stemmed_text'] = list(map(lambda sentence:\n",
        "                                  list(map(p_stemmer.stem, sentence)),\n",
        "                                  content_df.lemmatized_text))\n",
        "stem_words(content_df)"
      ],
      "metadata": {
        "id": "mF7g-ttWn55i"
      },
      "execution_count": null,
      "outputs": []
    },
    {
      "cell_type": "markdown",
      "source": [
        "## Build dictionary and BoW"
      ],
      "metadata": {
        "id": "XQvoARZHJEdd"
      }
    },
    {
      "cell_type": "code",
      "source": [
        "dictionary = Dictionary(documents=content_df.stemmed_text.values)\n",
        "\n",
        "\n",
        "print(\"Found {} words.\".format(len(dictionary.values())))"
      ],
      "metadata": {
        "colab": {
          "base_uri": "https://localhost:8080/"
        },
        "id": "Y0l5xUwOpQvv",
        "outputId": "133769e0-67c6-450d-f4cd-c7f30da9fca5"
      },
      "execution_count": null,
      "outputs": [
        {
          "output_type": "stream",
          "name": "stdout",
          "text": [
            "Found 21887 words.\n"
          ]
        }
      ]
    },
    {
      "cell_type": "code",
      "source": [
        "def document_to_bow(df):\n",
        "    df['bow'] = list(map(lambda doc: dictionary.doc2bow(doc), df.stemmed_text))\n",
        "\n",
        "document_to_bow(content_df)"
      ],
      "metadata": {
        "id": "0Fzmbx0rpoyd"
      },
      "execution_count": null,
      "outputs": []
    },
    {
      "cell_type": "code",
      "source": [
        "content_df.head()"
      ],
      "metadata": {
        "colab": {
          "base_uri": "https://localhost:8080/",
          "height": 424
        },
        "id": "Ks199HWEFjCD",
        "outputId": "0e528277-8200-4528-b171-7a0e9b1349e7"
      },
      "execution_count": null,
      "outputs": [
        {
          "output_type": "execute_result",
          "data": {
            "text/plain": [
              "                    ID                                            content  \\\n",
              "0  2022-08-22-2085-OSU  Introduction-w/o-header Summer and autumn are ...   \n",
              "1  2022-07-01-2316-OSU  Introduction-w/o-header OSU Extensions educati...   \n",
              "2  2022-08-22-2082-OSU  Introduction-w/o-header Potassium (K) is an es...   \n",
              "3  2019-05-17-2217-OSU  Introduction-w/o-header The most common plant ...   \n",
              "4  2022-02-22-2101-OSU  Introduction-w/o-header A new report from Oreg...   \n",
              "\n",
              "                                              tokens  \\\n",
              "0  [introduction, wo, header, summer, autumn, sea...   \n",
              "1  [introduction, wo, header, extensions, educati...   \n",
              "2  [introduction, wo, header, potassium, essentia...   \n",
              "3  [introduction, wo, header, common, plant, comm...   \n",
              "4  [introduction, wo, header, new, report, univer...   \n",
              "\n",
              "                                     lemmatized_text  \\\n",
              "0  [introduction, wo, header, summer, autumn, sea...   \n",
              "1  [introduction, wo, header, extension, educatio...   \n",
              "2  [introduction, wo, header, potassium, essentia...   \n",
              "3  [introduction, wo, header, common, plant, comm...   \n",
              "4  [introduction, wo, header, new, report, univer...   \n",
              "\n",
              "                                        stemmed_text  \\\n",
              "0  [introduct, wo, header, summer, autumn, season...   \n",
              "1  [introduct, wo, header, extens, educ, program,...   \n",
              "2  [introduct, wo, header, potassium, essenti, nu...   \n",
              "3  [introduct, wo, header, common, plant, commun,...   \n",
              "4  [introduct, wo, header, new, report, univers, ...   \n",
              "\n",
              "                                                 bow  topic  \\\n",
              "0  [(0, 1), (1, 1), (2, 2), (3, 1), (4, 1), (5, 3...     12   \n",
              "1  [(7, 1), (29, 1), (44, 1), (53, 1), (69, 3), (...     40   \n",
              "2  [(13, 6), (20, 2), (51, 9), (53, 1), (66, 1), ...     12   \n",
              "3  [(1, 1), (7, 1), (8, 2), (13, 3), (19, 6), (40...     20   \n",
              "4  [(18, 1), (26, 1), (53, 1), (69, 3), (71, 1), ...     49   \n",
              "\n",
              "                                         topic_words  \\\n",
              "0  [plant, seed, soil, root, leaf, crop, control,...   \n",
              "1  [extens, commun, youth, educ, counti, learn, h...   \n",
              "2  [plant, seed, soil, root, leaf, crop, control,...   \n",
              "3  [tree, plant, grow, soil, water, root, year, p...   \n",
              "4  [food, farm, commun, school, local, extens, pr...   \n",
              "\n",
              "                                               words  \n",
              "0  plant, seed, soil, root, leaf, crop, control, ...  \n",
              "1  extens, commun, youth, educ, counti, learn, he...  \n",
              "2  plant, seed, soil, root, leaf, crop, control, ...  \n",
              "3  tree, plant, grow, soil, water, root, year, pr...  \n",
              "4  food, farm, commun, school, local, extens, pro...  "
            ],
            "text/html": [
              "\n",
              "  <div id=\"df-1a3888e0-58e2-4cb7-bc5e-342d7482181f\">\n",
              "    <div class=\"colab-df-container\">\n",
              "      <div>\n",
              "<style scoped>\n",
              "    .dataframe tbody tr th:only-of-type {\n",
              "        vertical-align: middle;\n",
              "    }\n",
              "\n",
              "    .dataframe tbody tr th {\n",
              "        vertical-align: top;\n",
              "    }\n",
              "\n",
              "    .dataframe thead th {\n",
              "        text-align: right;\n",
              "    }\n",
              "</style>\n",
              "<table border=\"1\" class=\"dataframe\">\n",
              "  <thead>\n",
              "    <tr style=\"text-align: right;\">\n",
              "      <th></th>\n",
              "      <th>ID</th>\n",
              "      <th>content</th>\n",
              "      <th>tokens</th>\n",
              "      <th>lemmatized_text</th>\n",
              "      <th>stemmed_text</th>\n",
              "      <th>bow</th>\n",
              "      <th>topic</th>\n",
              "      <th>topic_words</th>\n",
              "      <th>words</th>\n",
              "    </tr>\n",
              "  </thead>\n",
              "  <tbody>\n",
              "    <tr>\n",
              "      <th>0</th>\n",
              "      <td>2022-08-22-2085-OSU</td>\n",
              "      <td>Introduction-w/o-header Summer and autumn are ...</td>\n",
              "      <td>[introduction, wo, header, summer, autumn, sea...</td>\n",
              "      <td>[introduction, wo, header, summer, autumn, sea...</td>\n",
              "      <td>[introduct, wo, header, summer, autumn, season...</td>\n",
              "      <td>[(0, 1), (1, 1), (2, 2), (3, 1), (4, 1), (5, 3...</td>\n",
              "      <td>12</td>\n",
              "      <td>[plant, seed, soil, root, leaf, crop, control,...</td>\n",
              "      <td>plant, seed, soil, root, leaf, crop, control, ...</td>\n",
              "    </tr>\n",
              "    <tr>\n",
              "      <th>1</th>\n",
              "      <td>2022-07-01-2316-OSU</td>\n",
              "      <td>Introduction-w/o-header OSU Extensions educati...</td>\n",
              "      <td>[introduction, wo, header, extensions, educati...</td>\n",
              "      <td>[introduction, wo, header, extension, educatio...</td>\n",
              "      <td>[introduct, wo, header, extens, educ, program,...</td>\n",
              "      <td>[(7, 1), (29, 1), (44, 1), (53, 1), (69, 3), (...</td>\n",
              "      <td>40</td>\n",
              "      <td>[extens, commun, youth, educ, counti, learn, h...</td>\n",
              "      <td>extens, commun, youth, educ, counti, learn, he...</td>\n",
              "    </tr>\n",
              "    <tr>\n",
              "      <th>2</th>\n",
              "      <td>2022-08-22-2082-OSU</td>\n",
              "      <td>Introduction-w/o-header Potassium (K) is an es...</td>\n",
              "      <td>[introduction, wo, header, potassium, essentia...</td>\n",
              "      <td>[introduction, wo, header, potassium, essentia...</td>\n",
              "      <td>[introduct, wo, header, potassium, essenti, nu...</td>\n",
              "      <td>[(13, 6), (20, 2), (51, 9), (53, 1), (66, 1), ...</td>\n",
              "      <td>12</td>\n",
              "      <td>[plant, seed, soil, root, leaf, crop, control,...</td>\n",
              "      <td>plant, seed, soil, root, leaf, crop, control, ...</td>\n",
              "    </tr>\n",
              "    <tr>\n",
              "      <th>3</th>\n",
              "      <td>2019-05-17-2217-OSU</td>\n",
              "      <td>Introduction-w/o-header The most common plant ...</td>\n",
              "      <td>[introduction, wo, header, common, plant, comm...</td>\n",
              "      <td>[introduction, wo, header, common, plant, comm...</td>\n",
              "      <td>[introduct, wo, header, common, plant, commun,...</td>\n",
              "      <td>[(1, 1), (7, 1), (8, 2), (13, 3), (19, 6), (40...</td>\n",
              "      <td>20</td>\n",
              "      <td>[tree, plant, grow, soil, water, root, year, p...</td>\n",
              "      <td>tree, plant, grow, soil, water, root, year, pr...</td>\n",
              "    </tr>\n",
              "    <tr>\n",
              "      <th>4</th>\n",
              "      <td>2022-02-22-2101-OSU</td>\n",
              "      <td>Introduction-w/o-header A new report from Oreg...</td>\n",
              "      <td>[introduction, wo, header, new, report, univer...</td>\n",
              "      <td>[introduction, wo, header, new, report, univer...</td>\n",
              "      <td>[introduct, wo, header, new, report, univers, ...</td>\n",
              "      <td>[(18, 1), (26, 1), (53, 1), (69, 3), (71, 1), ...</td>\n",
              "      <td>49</td>\n",
              "      <td>[food, farm, commun, school, local, extens, pr...</td>\n",
              "      <td>food, farm, commun, school, local, extens, pro...</td>\n",
              "    </tr>\n",
              "  </tbody>\n",
              "</table>\n",
              "</div>\n",
              "      <button class=\"colab-df-convert\" onclick=\"convertToInteractive('df-1a3888e0-58e2-4cb7-bc5e-342d7482181f')\"\n",
              "              title=\"Convert this dataframe to an interactive table.\"\n",
              "              style=\"display:none;\">\n",
              "        \n",
              "  <svg xmlns=\"http://www.w3.org/2000/svg\" height=\"24px\"viewBox=\"0 0 24 24\"\n",
              "       width=\"24px\">\n",
              "    <path d=\"M0 0h24v24H0V0z\" fill=\"none\"/>\n",
              "    <path d=\"M18.56 5.44l.94 2.06.94-2.06 2.06-.94-2.06-.94-.94-2.06-.94 2.06-2.06.94zm-11 1L8.5 8.5l.94-2.06 2.06-.94-2.06-.94L8.5 2.5l-.94 2.06-2.06.94zm10 10l.94 2.06.94-2.06 2.06-.94-2.06-.94-.94-2.06-.94 2.06-2.06.94z\"/><path d=\"M17.41 7.96l-1.37-1.37c-.4-.4-.92-.59-1.43-.59-.52 0-1.04.2-1.43.59L10.3 9.45l-7.72 7.72c-.78.78-.78 2.05 0 2.83L4 21.41c.39.39.9.59 1.41.59.51 0 1.02-.2 1.41-.59l7.78-7.78 2.81-2.81c.8-.78.8-2.07 0-2.86zM5.41 20L4 18.59l7.72-7.72 1.47 1.35L5.41 20z\"/>\n",
              "  </svg>\n",
              "      </button>\n",
              "      \n",
              "  <style>\n",
              "    .colab-df-container {\n",
              "      display:flex;\n",
              "      flex-wrap:wrap;\n",
              "      gap: 12px;\n",
              "    }\n",
              "\n",
              "    .colab-df-convert {\n",
              "      background-color: #E8F0FE;\n",
              "      border: none;\n",
              "      border-radius: 50%;\n",
              "      cursor: pointer;\n",
              "      display: none;\n",
              "      fill: #1967D2;\n",
              "      height: 32px;\n",
              "      padding: 0 0 0 0;\n",
              "      width: 32px;\n",
              "    }\n",
              "\n",
              "    .colab-df-convert:hover {\n",
              "      background-color: #E2EBFA;\n",
              "      box-shadow: 0px 1px 2px rgba(60, 64, 67, 0.3), 0px 1px 3px 1px rgba(60, 64, 67, 0.15);\n",
              "      fill: #174EA6;\n",
              "    }\n",
              "\n",
              "    [theme=dark] .colab-df-convert {\n",
              "      background-color: #3B4455;\n",
              "      fill: #D2E3FC;\n",
              "    }\n",
              "\n",
              "    [theme=dark] .colab-df-convert:hover {\n",
              "      background-color: #434B5C;\n",
              "      box-shadow: 0px 1px 3px 1px rgba(0, 0, 0, 0.15);\n",
              "      filter: drop-shadow(0px 1px 2px rgba(0, 0, 0, 0.3));\n",
              "      fill: #FFFFFF;\n",
              "    }\n",
              "  </style>\n",
              "\n",
              "      <script>\n",
              "        const buttonEl =\n",
              "          document.querySelector('#df-1a3888e0-58e2-4cb7-bc5e-342d7482181f button.colab-df-convert');\n",
              "        buttonEl.style.display =\n",
              "          google.colab.kernel.accessAllowed ? 'block' : 'none';\n",
              "\n",
              "        async function convertToInteractive(key) {\n",
              "          const element = document.querySelector('#df-1a3888e0-58e2-4cb7-bc5e-342d7482181f');\n",
              "          const dataTable =\n",
              "            await google.colab.kernel.invokeFunction('convertToInteractive',\n",
              "                                                     [key], {});\n",
              "          if (!dataTable) return;\n",
              "\n",
              "          const docLinkHtml = 'Like what you see? Visit the ' +\n",
              "            '<a target=\"_blank\" href=https://colab.research.google.com/notebooks/data_table.ipynb>data table notebook</a>'\n",
              "            + ' to learn more about interactive tables.';\n",
              "          element.innerHTML = '';\n",
              "          dataTable['output_type'] = 'display_data';\n",
              "          await google.colab.output.renderOutput(dataTable, element);\n",
              "          const docLink = document.createElement('div');\n",
              "          docLink.innerHTML = docLinkHtml;\n",
              "          element.appendChild(docLink);\n",
              "        }\n",
              "      </script>\n",
              "    </div>\n",
              "  </div>\n",
              "  "
            ]
          },
          "metadata": {},
          "execution_count": 32
        }
      ]
    },
    {
      "cell_type": "code",
      "source": [
        "def lda_preprocessing(df):\n",
        "    \"\"\" All the preprocessing steps for LDA are combined in this function.\n",
        "    All mutations are done on the dataframe itself. So this function returns\n",
        "    nothing.\n",
        "    \"\"\"\n",
        "    stem_words(df)\n",
        "    document_to_bow(df)\n"
      ],
      "metadata": {
        "id": "3ziY10Idp7Qn"
      },
      "execution_count": null,
      "outputs": []
    },
    {
      "cell_type": "code",
      "source": [
        "corpus = content_df.bow"
      ],
      "metadata": {
        "id": "LPlV27tKqIvz"
      },
      "execution_count": null,
      "outputs": []
    },
    {
      "cell_type": "markdown",
      "source": [
        "## LDA"
      ],
      "metadata": {
        "id": "G-aT2LvJJL2U"
      }
    },
    {
      "cell_type": "code",
      "source": [
        "%%time\n",
        "num_topics = 20\n",
        "#A multicore approach to decrease training time\n",
        "LDAmodel = LdaMulticore(corpus=corpus,\n",
        "                        id2word=dictionary,\n",
        "                        num_topics=num_topics,\n",
        "                        workers=4,\n",
        "                        chunksize=4000,\n",
        "                        passes=7,\n",
        "                        alpha='asymmetric')"
      ],
      "metadata": {
        "colab": {
          "base_uri": "https://localhost:8080/"
        },
        "id": "_bJQei1zqK-7",
        "outputId": "a39500c0-13b2-448b-ae5d-da2639c3840d"
      },
      "execution_count": null,
      "outputs": [
        {
          "output_type": "stream",
          "name": "stderr",
          "text": [
            "WARNING:gensim.models.ldamulticore:too few updates, training might not converge; consider increasing the number of passes or iterations to improve accuracy\n"
          ]
        },
        {
          "output_type": "stream",
          "name": "stdout",
          "text": [
            "CPU times: user 1min 7s, sys: 1min 54s, total: 3min 1s\n",
            "Wall time: 56.9 s\n"
          ]
        }
      ]
    },
    {
      "cell_type": "code",
      "source": [
        "LDAmodel.get_document_topics(content_df.bow.iloc[0])"
      ],
      "metadata": {
        "colab": {
          "base_uri": "https://localhost:8080/"
        },
        "id": "Djj7uVF9JSZa",
        "outputId": "6082aad1-b0ea-4309-f175-564c118c7372"
      },
      "execution_count": null,
      "outputs": [
        {
          "output_type": "execute_result",
          "data": {
            "text/plain": [
              "[(4, 0.02129859), (6, 0.113923185), (18, 0.8397959), (19, 0.02356957)]"
            ]
          },
          "metadata": {},
          "execution_count": 35
        }
      ]
    },
    {
      "cell_type": "code",
      "source": [
        "sorted(LDAmodel.get_document_topics(content_df.bow.iloc[0]), key=lambda x: x[1])[-1][0]"
      ],
      "metadata": {
        "colab": {
          "base_uri": "https://localhost:8080/"
        },
        "id": "ACms4NRGNKfx",
        "outputId": "d9951c1b-fd14-4749-f03d-eb2df4b00bd1"
      },
      "execution_count": null,
      "outputs": [
        {
          "output_type": "execute_result",
          "data": {
            "text/plain": [
              "18"
            ]
          },
          "metadata": {},
          "execution_count": 36
        }
      ]
    },
    {
      "cell_type": "code",
      "source": [
        "#def document_to_lda_features(lda_model, document):\n",
        "    #\"\"\" Transforms a bag of words document to features.\n",
        "    #It returns the proportion of how much each topic was\n",
        "    #present in the document.\n",
        "    #\"\"\"\n",
        "    #topic_importances = LDAmodel.get_document_topics(document, minimum_probability=0)\n",
        "    #topic_importances = np.array(topic_importances)\n",
        "    #return topic_importances[:,1]\n",
        "\n",
        "#content_df['lda_features'] = list(map(lambda doc:\n",
        "                                      #document_to_lda_features(LDAmodel, doc),\n",
        "                                      #content_df.bow))"
      ],
      "metadata": {
        "id": "7toHbWbqsbeJ"
      },
      "execution_count": null,
      "outputs": []
    },
    {
      "cell_type": "code",
      "source": [
        "def document_to_topic(lda_model, document):\n",
        "    return sorted(LDAmodel.get_document_topics(document), key=lambda x: x[1])[-1][0]\n",
        "\n",
        "content_df['topic'] = list(map(lambda doc:\n",
        "                                      document_to_topic(LDAmodel, doc),\n",
        "                                      content_df.bow))"
      ],
      "metadata": {
        "id": "XU-p7nZ9NbwF"
      },
      "execution_count": null,
      "outputs": []
    },
    {
      "cell_type": "code",
      "source": [
        "content_df['topic_words'] = [[x[0] for x in LDAmodel.show_topic(y)] for y in content_df['topic']]\n"
      ],
      "metadata": {
        "id": "DFl9YyBOOtG8"
      },
      "execution_count": null,
      "outputs": []
    },
    {
      "cell_type": "code",
      "source": [
        "import ast"
      ],
      "metadata": {
        "id": "eaYQ6qO4HXuW"
      },
      "execution_count": null,
      "outputs": []
    },
    {
      "cell_type": "code",
      "source": [
        "# convert you string of a list of to an actual list\n",
        "#content_df['words'] = content_df['topic_words'].apply(ast.literal_eval)\n",
        "\n",
        "# use a lambda expression with join to keep the text inside the list\n",
        "content_df['words'] = content_df['topic_words'].apply(lambda x: ', '.join(x))"
      ],
      "metadata": {
        "id": "YyZmA9OEKOL9"
      },
      "execution_count": null,
      "outputs": []
    },
    {
      "cell_type": "code",
      "source": [
        "content_df.head()"
      ],
      "metadata": {
        "colab": {
          "base_uri": "https://localhost:8080/",
          "height": 424
        },
        "id": "HNOFsyqWtNxy",
        "outputId": "6eb1e147-8253-4adc-a1d2-911ecae0c40e"
      },
      "execution_count": null,
      "outputs": [
        {
          "output_type": "execute_result",
          "data": {
            "text/plain": [
              "                    ID                                            content  \\\n",
              "0  2022-08-22-2085-OSU  Introduction-w/o-header Summer and autumn are ...   \n",
              "1  2022-07-01-2316-OSU  Introduction-w/o-header OSU Extensions educati...   \n",
              "2  2022-08-22-2082-OSU  Introduction-w/o-header Potassium (K) is an es...   \n",
              "3  2019-05-17-2217-OSU  Introduction-w/o-header The most common plant ...   \n",
              "4  2022-02-22-2101-OSU  Introduction-w/o-header A new report from Oreg...   \n",
              "\n",
              "                                              tokens  \\\n",
              "0  [introduction, wo, header, summer, autumn, sea...   \n",
              "1  [introduction, wo, header, extensions, educati...   \n",
              "2  [introduction, wo, header, potassium, essentia...   \n",
              "3  [introduction, wo, header, common, plant, comm...   \n",
              "4  [introduction, wo, header, new, report, univer...   \n",
              "\n",
              "                                     lemmatized_text  \\\n",
              "0  [introduction, wo, header, summer, autumn, sea...   \n",
              "1  [introduction, wo, header, extension, educatio...   \n",
              "2  [introduction, wo, header, potassium, essentia...   \n",
              "3  [introduction, wo, header, common, plant, comm...   \n",
              "4  [introduction, wo, header, new, report, univer...   \n",
              "\n",
              "                                        stemmed_text  \\\n",
              "0  [introduct, wo, header, summer, autumn, season...   \n",
              "1  [introduct, wo, header, extens, educ, program,...   \n",
              "2  [introduct, wo, header, potassium, essenti, nu...   \n",
              "3  [introduct, wo, header, common, plant, commun,...   \n",
              "4  [introduct, wo, header, new, report, univers, ...   \n",
              "\n",
              "                                                 bow  topic  \\\n",
              "0  [(0, 1), (1, 1), (2, 2), (3, 1), (4, 1), (5, 3...     18   \n",
              "1  [(7, 1), (29, 1), (44, 1), (53, 1), (69, 3), (...     10   \n",
              "2  [(13, 6), (20, 2), (51, 9), (53, 1), (66, 1), ...      5   \n",
              "3  [(1, 1), (7, 1), (8, 2), (13, 3), (19, 6), (40...      3   \n",
              "4  [(18, 1), (26, 1), (53, 1), (69, 3), (71, 1), ...     10   \n",
              "\n",
              "                                         topic_words  \\\n",
              "0  [plant, fruit, seed, grow, tomato, varieti, se...   \n",
              "1  [food, commun, counti, extens, youth, school, ...   \n",
              "2  [soil, fertil, plant, compost, test, nutrient,...   \n",
              "3  [tree, plant, leaf, flower, grow, root, branch...   \n",
              "4  [food, commun, counti, extens, youth, school, ...   \n",
              "\n",
              "                                               words  \n",
              "0  plant, fruit, seed, grow, tomato, varieti, sea...  \n",
              "1  food, commun, counti, extens, youth, school, e...  \n",
              "2  soil, fertil, plant, compost, test, nutrient, ...  \n",
              "3  tree, plant, leaf, flower, grow, root, branch,...  \n",
              "4  food, commun, counti, extens, youth, school, e...  "
            ],
            "text/html": [
              "\n",
              "  <div id=\"df-bd0dd8c1-562e-40c6-9166-861654b8856d\">\n",
              "    <div class=\"colab-df-container\">\n",
              "      <div>\n",
              "<style scoped>\n",
              "    .dataframe tbody tr th:only-of-type {\n",
              "        vertical-align: middle;\n",
              "    }\n",
              "\n",
              "    .dataframe tbody tr th {\n",
              "        vertical-align: top;\n",
              "    }\n",
              "\n",
              "    .dataframe thead th {\n",
              "        text-align: right;\n",
              "    }\n",
              "</style>\n",
              "<table border=\"1\" class=\"dataframe\">\n",
              "  <thead>\n",
              "    <tr style=\"text-align: right;\">\n",
              "      <th></th>\n",
              "      <th>ID</th>\n",
              "      <th>content</th>\n",
              "      <th>tokens</th>\n",
              "      <th>lemmatized_text</th>\n",
              "      <th>stemmed_text</th>\n",
              "      <th>bow</th>\n",
              "      <th>topic</th>\n",
              "      <th>topic_words</th>\n",
              "      <th>words</th>\n",
              "    </tr>\n",
              "  </thead>\n",
              "  <tbody>\n",
              "    <tr>\n",
              "      <th>0</th>\n",
              "      <td>2022-08-22-2085-OSU</td>\n",
              "      <td>Introduction-w/o-header Summer and autumn are ...</td>\n",
              "      <td>[introduction, wo, header, summer, autumn, sea...</td>\n",
              "      <td>[introduction, wo, header, summer, autumn, sea...</td>\n",
              "      <td>[introduct, wo, header, summer, autumn, season...</td>\n",
              "      <td>[(0, 1), (1, 1), (2, 2), (3, 1), (4, 1), (5, 3...</td>\n",
              "      <td>18</td>\n",
              "      <td>[plant, fruit, seed, grow, tomato, varieti, se...</td>\n",
              "      <td>plant, fruit, seed, grow, tomato, varieti, sea...</td>\n",
              "    </tr>\n",
              "    <tr>\n",
              "      <th>1</th>\n",
              "      <td>2022-07-01-2316-OSU</td>\n",
              "      <td>Introduction-w/o-header OSU Extensions educati...</td>\n",
              "      <td>[introduction, wo, header, extensions, educati...</td>\n",
              "      <td>[introduction, wo, header, extension, educatio...</td>\n",
              "      <td>[introduct, wo, header, extens, educ, program,...</td>\n",
              "      <td>[(7, 1), (29, 1), (44, 1), (53, 1), (69, 3), (...</td>\n",
              "      <td>10</td>\n",
              "      <td>[food, commun, counti, extens, youth, school, ...</td>\n",
              "      <td>food, commun, counti, extens, youth, school, e...</td>\n",
              "    </tr>\n",
              "    <tr>\n",
              "      <th>2</th>\n",
              "      <td>2022-08-22-2082-OSU</td>\n",
              "      <td>Introduction-w/o-header Potassium (K) is an es...</td>\n",
              "      <td>[introduction, wo, header, potassium, essentia...</td>\n",
              "      <td>[introduction, wo, header, potassium, essentia...</td>\n",
              "      <td>[introduct, wo, header, potassium, essenti, nu...</td>\n",
              "      <td>[(13, 6), (20, 2), (51, 9), (53, 1), (66, 1), ...</td>\n",
              "      <td>5</td>\n",
              "      <td>[soil, fertil, plant, compost, test, nutrient,...</td>\n",
              "      <td>soil, fertil, plant, compost, test, nutrient, ...</td>\n",
              "    </tr>\n",
              "    <tr>\n",
              "      <th>3</th>\n",
              "      <td>2019-05-17-2217-OSU</td>\n",
              "      <td>Introduction-w/o-header The most common plant ...</td>\n",
              "      <td>[introduction, wo, header, common, plant, comm...</td>\n",
              "      <td>[introduction, wo, header, common, plant, comm...</td>\n",
              "      <td>[introduct, wo, header, common, plant, commun,...</td>\n",
              "      <td>[(1, 1), (7, 1), (8, 2), (13, 3), (19, 6), (40...</td>\n",
              "      <td>3</td>\n",
              "      <td>[tree, plant, leaf, flower, grow, root, branch...</td>\n",
              "      <td>tree, plant, leaf, flower, grow, root, branch,...</td>\n",
              "    </tr>\n",
              "    <tr>\n",
              "      <th>4</th>\n",
              "      <td>2022-02-22-2101-OSU</td>\n",
              "      <td>Introduction-w/o-header A new report from Oreg...</td>\n",
              "      <td>[introduction, wo, header, new, report, univer...</td>\n",
              "      <td>[introduction, wo, header, new, report, univer...</td>\n",
              "      <td>[introduct, wo, header, new, report, univers, ...</td>\n",
              "      <td>[(18, 1), (26, 1), (53, 1), (69, 3), (71, 1), ...</td>\n",
              "      <td>10</td>\n",
              "      <td>[food, commun, counti, extens, youth, school, ...</td>\n",
              "      <td>food, commun, counti, extens, youth, school, e...</td>\n",
              "    </tr>\n",
              "  </tbody>\n",
              "</table>\n",
              "</div>\n",
              "      <button class=\"colab-df-convert\" onclick=\"convertToInteractive('df-bd0dd8c1-562e-40c6-9166-861654b8856d')\"\n",
              "              title=\"Convert this dataframe to an interactive table.\"\n",
              "              style=\"display:none;\">\n",
              "        \n",
              "  <svg xmlns=\"http://www.w3.org/2000/svg\" height=\"24px\"viewBox=\"0 0 24 24\"\n",
              "       width=\"24px\">\n",
              "    <path d=\"M0 0h24v24H0V0z\" fill=\"none\"/>\n",
              "    <path d=\"M18.56 5.44l.94 2.06.94-2.06 2.06-.94-2.06-.94-.94-2.06-.94 2.06-2.06.94zm-11 1L8.5 8.5l.94-2.06 2.06-.94-2.06-.94L8.5 2.5l-.94 2.06-2.06.94zm10 10l.94 2.06.94-2.06 2.06-.94-2.06-.94-.94-2.06-.94 2.06-2.06.94z\"/><path d=\"M17.41 7.96l-1.37-1.37c-.4-.4-.92-.59-1.43-.59-.52 0-1.04.2-1.43.59L10.3 9.45l-7.72 7.72c-.78.78-.78 2.05 0 2.83L4 21.41c.39.39.9.59 1.41.59.51 0 1.02-.2 1.41-.59l7.78-7.78 2.81-2.81c.8-.78.8-2.07 0-2.86zM5.41 20L4 18.59l7.72-7.72 1.47 1.35L5.41 20z\"/>\n",
              "  </svg>\n",
              "      </button>\n",
              "      \n",
              "  <style>\n",
              "    .colab-df-container {\n",
              "      display:flex;\n",
              "      flex-wrap:wrap;\n",
              "      gap: 12px;\n",
              "    }\n",
              "\n",
              "    .colab-df-convert {\n",
              "      background-color: #E8F0FE;\n",
              "      border: none;\n",
              "      border-radius: 50%;\n",
              "      cursor: pointer;\n",
              "      display: none;\n",
              "      fill: #1967D2;\n",
              "      height: 32px;\n",
              "      padding: 0 0 0 0;\n",
              "      width: 32px;\n",
              "    }\n",
              "\n",
              "    .colab-df-convert:hover {\n",
              "      background-color: #E2EBFA;\n",
              "      box-shadow: 0px 1px 2px rgba(60, 64, 67, 0.3), 0px 1px 3px 1px rgba(60, 64, 67, 0.15);\n",
              "      fill: #174EA6;\n",
              "    }\n",
              "\n",
              "    [theme=dark] .colab-df-convert {\n",
              "      background-color: #3B4455;\n",
              "      fill: #D2E3FC;\n",
              "    }\n",
              "\n",
              "    [theme=dark] .colab-df-convert:hover {\n",
              "      background-color: #434B5C;\n",
              "      box-shadow: 0px 1px 3px 1px rgba(0, 0, 0, 0.15);\n",
              "      filter: drop-shadow(0px 1px 2px rgba(0, 0, 0, 0.3));\n",
              "      fill: #FFFFFF;\n",
              "    }\n",
              "  </style>\n",
              "\n",
              "      <script>\n",
              "        const buttonEl =\n",
              "          document.querySelector('#df-bd0dd8c1-562e-40c6-9166-861654b8856d button.colab-df-convert');\n",
              "        buttonEl.style.display =\n",
              "          google.colab.kernel.accessAllowed ? 'block' : 'none';\n",
              "\n",
              "        async function convertToInteractive(key) {\n",
              "          const element = document.querySelector('#df-bd0dd8c1-562e-40c6-9166-861654b8856d');\n",
              "          const dataTable =\n",
              "            await google.colab.kernel.invokeFunction('convertToInteractive',\n",
              "                                                     [key], {});\n",
              "          if (!dataTable) return;\n",
              "\n",
              "          const docLinkHtml = 'Like what you see? Visit the ' +\n",
              "            '<a target=\"_blank\" href=https://colab.research.google.com/notebooks/data_table.ipynb>data table notebook</a>'\n",
              "            + ' to learn more about interactive tables.';\n",
              "          element.innerHTML = '';\n",
              "          dataTable['output_type'] = 'display_data';\n",
              "          await google.colab.output.renderOutput(dataTable, element);\n",
              "          const docLink = document.createElement('div');\n",
              "          docLink.innerHTML = docLinkHtml;\n",
              "          element.appendChild(docLink);\n",
              "        }\n",
              "      </script>\n",
              "    </div>\n",
              "  </div>\n",
              "  "
            ]
          },
          "metadata": {},
          "execution_count": 40
        }
      ]
    },
    {
      "cell_type": "code",
      "source": [
        "content_df.to_excel('/content/drive/MyDrive/RAjobs/textanalysis_OSU_v2.xlsx',index= False)"
      ],
      "metadata": {
        "id": "JQGQCnuAFbQI"
      },
      "execution_count": null,
      "outputs": []
    },
    {
      "cell_type": "code",
      "source": [
        "topic_group = content_df.groupby('words')\n",
        "\n",
        "#topic_group.get_group(['speci', 'area', 'nest', 'habitat', 'control', 'wildlif', 'feed', 'anim', 'fli', 'use'])"
      ],
      "metadata": {
        "id": "1iVqDtH-UWmQ"
      },
      "execution_count": null,
      "outputs": []
    },
    {
      "cell_type": "code",
      "source": [
        "df2 = pd.DataFrame(content_df.groupby('words').count())"
      ],
      "metadata": {
        "id": "8zYVQnVTK2RF"
      },
      "execution_count": null,
      "outputs": []
    },
    {
      "cell_type": "code",
      "source": [
        "df2['words'] = df2.index"
      ],
      "metadata": {
        "id": "2PrO93TrMt51"
      },
      "execution_count": null,
      "outputs": []
    },
    {
      "cell_type": "code",
      "source": [
        "df2"
      ],
      "metadata": {
        "colab": {
          "base_uri": "https://localhost:8080/",
          "height": 978
        },
        "id": "uV6Hi5RnLz_m",
        "outputId": "77170adf-afe2-4095-ad60-4e374808d3ab"
      },
      "execution_count": null,
      "outputs": [
        {
          "output_type": "execute_result",
          "data": {
            "text/plain": [
              "                                                     ID  content  tokens  \\\n",
              "words                                                                      \n",
              "bee, introduct, header, wo, beekeep, honey, act...  178      178     178   \n",
              "camp, youth, learn, counselor, inform, wine, st...   77       77      77   \n",
              "compost, soil, plant, diseas, garden, pile, mat...   77       77      77   \n",
              "crop, food, cover, seed, product, veget, temper...   69       69      69   \n",
              "fair, hors, counti, contest, member, project, p...   48       48      48   \n",
              "farm, forest, manag, land, resourc, extens, pla...  238      238     238   \n",
              "feed, anim, forag, pastur, hay, cattl, livestoc...   92       92      92   \n",
              "food, commun, counti, extens, youth, school, ed...  482      482     482   \n",
              "garden, extens, master, commun, counti, volunt,...  386      386     386   \n",
              "harvest, grower, appl, fruit, red, pear, variet...   25       25      25   \n",
              "minut, jar, water, remov, boil, canner, cup, su...   82       82      82   \n",
              "plant, fruit, seed, grow, tomato, varieti, seas...   90       90      90   \n",
              "plant, garden, water, expert, soil, tree, get, ...  472      472     472   \n",
              "project, scienc, record, learn, youth, art, gui...  204      204     204   \n",
              "soil, fertil, plant, compost, test, nutrient, p...   77       77      77   \n",
              "soil, weed, plant, crop, control, seed, water, ...  126      126     126   \n",
              "studi, said, calf, univers, agricultur, researc...  132      132     132   \n",
              "tree, plant, leaf, flower, grow, root, branch, ...  157      157     157   \n",
              "water, plant, dri, pastur, manag, graze, grass,...   58       58      58   \n",
              "worm, diseas, viru, health, food, said, frog, p...   72       72      72   \n",
              "\n",
              "                                                    lemmatized_text  \\\n",
              "words                                                                 \n",
              "bee, introduct, header, wo, beekeep, honey, act...              178   \n",
              "camp, youth, learn, counselor, inform, wine, st...               77   \n",
              "compost, soil, plant, diseas, garden, pile, mat...               77   \n",
              "crop, food, cover, seed, product, veget, temper...               69   \n",
              "fair, hors, counti, contest, member, project, p...               48   \n",
              "farm, forest, manag, land, resourc, extens, pla...              238   \n",
              "feed, anim, forag, pastur, hay, cattl, livestoc...               92   \n",
              "food, commun, counti, extens, youth, school, ed...              482   \n",
              "garden, extens, master, commun, counti, volunt,...              386   \n",
              "harvest, grower, appl, fruit, red, pear, variet...               25   \n",
              "minut, jar, water, remov, boil, canner, cup, su...               82   \n",
              "plant, fruit, seed, grow, tomato, varieti, seas...               90   \n",
              "plant, garden, water, expert, soil, tree, get, ...              472   \n",
              "project, scienc, record, learn, youth, art, gui...              204   \n",
              "soil, fertil, plant, compost, test, nutrient, p...               77   \n",
              "soil, weed, plant, crop, control, seed, water, ...              126   \n",
              "studi, said, calf, univers, agricultur, researc...              132   \n",
              "tree, plant, leaf, flower, grow, root, branch, ...              157   \n",
              "water, plant, dri, pastur, manag, graze, grass,...               58   \n",
              "worm, diseas, viru, health, food, said, frog, p...               72   \n",
              "\n",
              "                                                    stemmed_text  bow  topic  \\\n",
              "words                                                                          \n",
              "bee, introduct, header, wo, beekeep, honey, act...           178  178    178   \n",
              "camp, youth, learn, counselor, inform, wine, st...            77   77     77   \n",
              "compost, soil, plant, diseas, garden, pile, mat...            77   77     77   \n",
              "crop, food, cover, seed, product, veget, temper...            69   69     69   \n",
              "fair, hors, counti, contest, member, project, p...            48   48     48   \n",
              "farm, forest, manag, land, resourc, extens, pla...           238  238    238   \n",
              "feed, anim, forag, pastur, hay, cattl, livestoc...            92   92     92   \n",
              "food, commun, counti, extens, youth, school, ed...           482  482    482   \n",
              "garden, extens, master, commun, counti, volunt,...           386  386    386   \n",
              "harvest, grower, appl, fruit, red, pear, variet...            25   25     25   \n",
              "minut, jar, water, remov, boil, canner, cup, su...            82   82     82   \n",
              "plant, fruit, seed, grow, tomato, varieti, seas...            90   90     90   \n",
              "plant, garden, water, expert, soil, tree, get, ...           472  472    472   \n",
              "project, scienc, record, learn, youth, art, gui...           204  204    204   \n",
              "soil, fertil, plant, compost, test, nutrient, p...            77   77     77   \n",
              "soil, weed, plant, crop, control, seed, water, ...           126  126    126   \n",
              "studi, said, calf, univers, agricultur, researc...           132  132    132   \n",
              "tree, plant, leaf, flower, grow, root, branch, ...           157  157    157   \n",
              "water, plant, dri, pastur, manag, graze, grass,...            58   58     58   \n",
              "worm, diseas, viru, health, food, said, frog, p...            72   72     72   \n",
              "\n",
              "                                                    topic_words  \\\n",
              "words                                                             \n",
              "bee, introduct, header, wo, beekeep, honey, act...          178   \n",
              "camp, youth, learn, counselor, inform, wine, st...           77   \n",
              "compost, soil, plant, diseas, garden, pile, mat...           77   \n",
              "crop, food, cover, seed, product, veget, temper...           69   \n",
              "fair, hors, counti, contest, member, project, p...           48   \n",
              "farm, forest, manag, land, resourc, extens, pla...          238   \n",
              "feed, anim, forag, pastur, hay, cattl, livestoc...           92   \n",
              "food, commun, counti, extens, youth, school, ed...          482   \n",
              "garden, extens, master, commun, counti, volunt,...          386   \n",
              "harvest, grower, appl, fruit, red, pear, variet...           25   \n",
              "minut, jar, water, remov, boil, canner, cup, su...           82   \n",
              "plant, fruit, seed, grow, tomato, varieti, seas...           90   \n",
              "plant, garden, water, expert, soil, tree, get, ...          472   \n",
              "project, scienc, record, learn, youth, art, gui...          204   \n",
              "soil, fertil, plant, compost, test, nutrient, p...           77   \n",
              "soil, weed, plant, crop, control, seed, water, ...          126   \n",
              "studi, said, calf, univers, agricultur, researc...          132   \n",
              "tree, plant, leaf, flower, grow, root, branch, ...          157   \n",
              "water, plant, dri, pastur, manag, graze, grass,...           58   \n",
              "worm, diseas, viru, health, food, said, frog, p...           72   \n",
              "\n",
              "                                                                                                words  \n",
              "words                                                                                                  \n",
              "bee, introduct, header, wo, beekeep, honey, act...  bee, introduct, header, wo, beekeep, honey, ac...  \n",
              "camp, youth, learn, counselor, inform, wine, st...  camp, youth, learn, counselor, inform, wine, s...  \n",
              "compost, soil, plant, diseas, garden, pile, mat...  compost, soil, plant, diseas, garden, pile, ma...  \n",
              "crop, food, cover, seed, product, veget, temper...  crop, food, cover, seed, product, veget, tempe...  \n",
              "fair, hors, counti, contest, member, project, p...  fair, hors, counti, contest, member, project, ...  \n",
              "farm, forest, manag, land, resourc, extens, pla...  farm, forest, manag, land, resourc, extens, pl...  \n",
              "feed, anim, forag, pastur, hay, cattl, livestoc...  feed, anim, forag, pastur, hay, cattl, livesto...  \n",
              "food, commun, counti, extens, youth, school, ed...  food, commun, counti, extens, youth, school, e...  \n",
              "garden, extens, master, commun, counti, volunt,...  garden, extens, master, commun, counti, volunt...  \n",
              "harvest, grower, appl, fruit, red, pear, variet...  harvest, grower, appl, fruit, red, pear, varie...  \n",
              "minut, jar, water, remov, boil, canner, cup, su...  minut, jar, water, remov, boil, canner, cup, s...  \n",
              "plant, fruit, seed, grow, tomato, varieti, seas...  plant, fruit, seed, grow, tomato, varieti, sea...  \n",
              "plant, garden, water, expert, soil, tree, get, ...  plant, garden, water, expert, soil, tree, get,...  \n",
              "project, scienc, record, learn, youth, art, gui...  project, scienc, record, learn, youth, art, gu...  \n",
              "soil, fertil, plant, compost, test, nutrient, p...  soil, fertil, plant, compost, test, nutrient, ...  \n",
              "soil, weed, plant, crop, control, seed, water, ...  soil, weed, plant, crop, control, seed, water,...  \n",
              "studi, said, calf, univers, agricultur, researc...  studi, said, calf, univers, agricultur, resear...  \n",
              "tree, plant, leaf, flower, grow, root, branch, ...  tree, plant, leaf, flower, grow, root, branch,...  \n",
              "water, plant, dri, pastur, manag, graze, grass,...  water, plant, dri, pastur, manag, graze, grass...  \n",
              "worm, diseas, viru, health, food, said, frog, p...  worm, diseas, viru, health, food, said, frog, ...  "
            ],
            "text/html": [
              "\n",
              "  <div id=\"df-ba986768-6cba-4850-8217-31e98667c472\">\n",
              "    <div class=\"colab-df-container\">\n",
              "      <div>\n",
              "<style scoped>\n",
              "    .dataframe tbody tr th:only-of-type {\n",
              "        vertical-align: middle;\n",
              "    }\n",
              "\n",
              "    .dataframe tbody tr th {\n",
              "        vertical-align: top;\n",
              "    }\n",
              "\n",
              "    .dataframe thead th {\n",
              "        text-align: right;\n",
              "    }\n",
              "</style>\n",
              "<table border=\"1\" class=\"dataframe\">\n",
              "  <thead>\n",
              "    <tr style=\"text-align: right;\">\n",
              "      <th></th>\n",
              "      <th>ID</th>\n",
              "      <th>content</th>\n",
              "      <th>tokens</th>\n",
              "      <th>lemmatized_text</th>\n",
              "      <th>stemmed_text</th>\n",
              "      <th>bow</th>\n",
              "      <th>topic</th>\n",
              "      <th>topic_words</th>\n",
              "      <th>words</th>\n",
              "    </tr>\n",
              "    <tr>\n",
              "      <th>words</th>\n",
              "      <th></th>\n",
              "      <th></th>\n",
              "      <th></th>\n",
              "      <th></th>\n",
              "      <th></th>\n",
              "      <th></th>\n",
              "      <th></th>\n",
              "      <th></th>\n",
              "      <th></th>\n",
              "    </tr>\n",
              "  </thead>\n",
              "  <tbody>\n",
              "    <tr>\n",
              "      <th>bee, introduct, header, wo, beekeep, honey, activ, extens, coloni, prune</th>\n",
              "      <td>178</td>\n",
              "      <td>178</td>\n",
              "      <td>178</td>\n",
              "      <td>178</td>\n",
              "      <td>178</td>\n",
              "      <td>178</td>\n",
              "      <td>178</td>\n",
              "      <td>178</td>\n",
              "      <td>bee, introduct, header, wo, beekeep, honey, ac...</td>\n",
              "    </tr>\n",
              "    <tr>\n",
              "      <th>camp, youth, learn, counselor, inform, wine, student, day, grape, plant</th>\n",
              "      <td>77</td>\n",
              "      <td>77</td>\n",
              "      <td>77</td>\n",
              "      <td>77</td>\n",
              "      <td>77</td>\n",
              "      <td>77</td>\n",
              "      <td>77</td>\n",
              "      <td>77</td>\n",
              "      <td>camp, youth, learn, counselor, inform, wine, s...</td>\n",
              "    </tr>\n",
              "    <tr>\n",
              "      <th>compost, soil, plant, diseas, garden, pile, materi, use, caus, seed</th>\n",
              "      <td>77</td>\n",
              "      <td>77</td>\n",
              "      <td>77</td>\n",
              "      <td>77</td>\n",
              "      <td>77</td>\n",
              "      <td>77</td>\n",
              "      <td>77</td>\n",
              "      <td>77</td>\n",
              "      <td>compost, soil, plant, diseas, garden, pile, ma...</td>\n",
              "    </tr>\n",
              "    <tr>\n",
              "      <th>crop, food, cover, seed, product, veget, temperatur, slug, plant, use</th>\n",
              "      <td>69</td>\n",
              "      <td>69</td>\n",
              "      <td>69</td>\n",
              "      <td>69</td>\n",
              "      <td>69</td>\n",
              "      <td>69</td>\n",
              "      <td>69</td>\n",
              "      <td>69</td>\n",
              "      <td>crop, food, cover, seed, product, veget, tempe...</td>\n",
              "    </tr>\n",
              "    <tr>\n",
              "      <th>fair, hors, counti, contest, member, project, pattern, class, anim, judg</th>\n",
              "      <td>48</td>\n",
              "      <td>48</td>\n",
              "      <td>48</td>\n",
              "      <td>48</td>\n",
              "      <td>48</td>\n",
              "      <td>48</td>\n",
              "      <td>48</td>\n",
              "      <td>48</td>\n",
              "      <td>fair, hors, counti, contest, member, project, ...</td>\n",
              "    </tr>\n",
              "    <tr>\n",
              "      <th>farm, forest, manag, land, resourc, extens, plan, introduct, tree, work</th>\n",
              "      <td>238</td>\n",
              "      <td>238</td>\n",
              "      <td>238</td>\n",
              "      <td>238</td>\n",
              "      <td>238</td>\n",
              "      <td>238</td>\n",
              "      <td>238</td>\n",
              "      <td>238</td>\n",
              "      <td>farm, forest, manag, land, resourc, extens, pl...</td>\n",
              "    </tr>\n",
              "    <tr>\n",
              "      <th>feed, anim, forag, pastur, hay, cattl, livestock, requir, qualiti, energi</th>\n",
              "      <td>92</td>\n",
              "      <td>92</td>\n",
              "      <td>92</td>\n",
              "      <td>92</td>\n",
              "      <td>92</td>\n",
              "      <td>92</td>\n",
              "      <td>92</td>\n",
              "      <td>92</td>\n",
              "      <td>feed, anim, forag, pastur, hay, cattl, livesto...</td>\n",
              "    </tr>\n",
              "    <tr>\n",
              "      <th>food, commun, counti, extens, youth, school, educ, activ, learn, student</th>\n",
              "      <td>482</td>\n",
              "      <td>482</td>\n",
              "      <td>482</td>\n",
              "      <td>482</td>\n",
              "      <td>482</td>\n",
              "      <td>482</td>\n",
              "      <td>482</td>\n",
              "      <td>482</td>\n",
              "      <td>food, commun, counti, extens, youth, school, e...</td>\n",
              "    </tr>\n",
              "    <tr>\n",
              "      <th>garden, extens, master, commun, counti, volunt, fire, expert, plant, school</th>\n",
              "      <td>386</td>\n",
              "      <td>386</td>\n",
              "      <td>386</td>\n",
              "      <td>386</td>\n",
              "      <td>386</td>\n",
              "      <td>386</td>\n",
              "      <td>386</td>\n",
              "      <td>386</td>\n",
              "      <td>garden, extens, master, commun, counti, volunt...</td>\n",
              "    </tr>\n",
              "    <tr>\n",
              "      <th>harvest, grower, appl, fruit, red, pear, varieti, blueberri, cherri, green</th>\n",
              "      <td>25</td>\n",
              "      <td>25</td>\n",
              "      <td>25</td>\n",
              "      <td>25</td>\n",
              "      <td>25</td>\n",
              "      <td>25</td>\n",
              "      <td>25</td>\n",
              "      <td>25</td>\n",
              "      <td>harvest, grower, appl, fruit, red, pear, varie...</td>\n",
              "    </tr>\n",
              "    <tr>\n",
              "      <th>minut, jar, water, remov, boil, canner, cup, sugar, fruit, dri</th>\n",
              "      <td>82</td>\n",
              "      <td>82</td>\n",
              "      <td>82</td>\n",
              "      <td>82</td>\n",
              "      <td>82</td>\n",
              "      <td>82</td>\n",
              "      <td>82</td>\n",
              "      <td>82</td>\n",
              "      <td>minut, jar, water, remov, boil, canner, cup, s...</td>\n",
              "    </tr>\n",
              "    <tr>\n",
              "      <th>plant, fruit, seed, grow, tomato, varieti, season, extens, new, garden</th>\n",
              "      <td>90</td>\n",
              "      <td>90</td>\n",
              "      <td>90</td>\n",
              "      <td>90</td>\n",
              "      <td>90</td>\n",
              "      <td>90</td>\n",
              "      <td>90</td>\n",
              "      <td>90</td>\n",
              "      <td>plant, fruit, seed, grow, tomato, varieti, sea...</td>\n",
              "    </tr>\n",
              "    <tr>\n",
              "      <th>plant, garden, water, expert, soil, tree, get, ask, extens, like</th>\n",
              "      <td>472</td>\n",
              "      <td>472</td>\n",
              "      <td>472</td>\n",
              "      <td>472</td>\n",
              "      <td>472</td>\n",
              "      <td>472</td>\n",
              "      <td>472</td>\n",
              "      <td>472</td>\n",
              "      <td>plant, garden, water, expert, soil, tree, get,...</td>\n",
              "    </tr>\n",
              "    <tr>\n",
              "      <th>project, scienc, record, learn, youth, art, guid, area, introduct, resourc</th>\n",
              "      <td>204</td>\n",
              "      <td>204</td>\n",
              "      <td>204</td>\n",
              "      <td>204</td>\n",
              "      <td>204</td>\n",
              "      <td>204</td>\n",
              "      <td>204</td>\n",
              "      <td>204</td>\n",
              "      <td>project, scienc, record, learn, youth, art, gu...</td>\n",
              "    </tr>\n",
              "    <tr>\n",
              "      <th>soil, fertil, plant, compost, test, nutrient, ph, sampl, expert, product</th>\n",
              "      <td>77</td>\n",
              "      <td>77</td>\n",
              "      <td>77</td>\n",
              "      <td>77</td>\n",
              "      <td>77</td>\n",
              "      <td>77</td>\n",
              "      <td>77</td>\n",
              "      <td>77</td>\n",
              "      <td>soil, fertil, plant, compost, test, nutrient, ...</td>\n",
              "    </tr>\n",
              "    <tr>\n",
              "      <th>soil, weed, plant, crop, control, seed, water, manag, grass, field</th>\n",
              "      <td>126</td>\n",
              "      <td>126</td>\n",
              "      <td>126</td>\n",
              "      <td>126</td>\n",
              "      <td>126</td>\n",
              "      <td>126</td>\n",
              "      <td>126</td>\n",
              "      <td>126</td>\n",
              "      <td>soil, weed, plant, crop, control, seed, water,...</td>\n",
              "    </tr>\n",
              "    <tr>\n",
              "      <th>studi, said, calf, univers, agricultur, research, introduct, wo, header, scienc</th>\n",
              "      <td>132</td>\n",
              "      <td>132</td>\n",
              "      <td>132</td>\n",
              "      <td>132</td>\n",
              "      <td>132</td>\n",
              "      <td>132</td>\n",
              "      <td>132</td>\n",
              "      <td>132</td>\n",
              "      <td>studi, said, calf, univers, agricultur, resear...</td>\n",
              "    </tr>\n",
              "    <tr>\n",
              "      <th>tree, plant, leaf, flower, grow, root, branch, stem, area, zone</th>\n",
              "      <td>157</td>\n",
              "      <td>157</td>\n",
              "      <td>157</td>\n",
              "      <td>157</td>\n",
              "      <td>157</td>\n",
              "      <td>157</td>\n",
              "      <td>157</td>\n",
              "      <td>157</td>\n",
              "      <td>tree, plant, leaf, flower, grow, root, branch,...</td>\n",
              "    </tr>\n",
              "    <tr>\n",
              "      <th>water, plant, dri, pastur, manag, graze, grass, irrig, soil, area</th>\n",
              "      <td>58</td>\n",
              "      <td>58</td>\n",
              "      <td>58</td>\n",
              "      <td>58</td>\n",
              "      <td>58</td>\n",
              "      <td>58</td>\n",
              "      <td>58</td>\n",
              "      <td>58</td>\n",
              "      <td>water, plant, dri, pastur, manag, graze, grass...</td>\n",
              "    </tr>\n",
              "    <tr>\n",
              "      <th>worm, diseas, viru, health, food, said, frog, peopl, expert, get</th>\n",
              "      <td>72</td>\n",
              "      <td>72</td>\n",
              "      <td>72</td>\n",
              "      <td>72</td>\n",
              "      <td>72</td>\n",
              "      <td>72</td>\n",
              "      <td>72</td>\n",
              "      <td>72</td>\n",
              "      <td>worm, diseas, viru, health, food, said, frog, ...</td>\n",
              "    </tr>\n",
              "  </tbody>\n",
              "</table>\n",
              "</div>\n",
              "      <button class=\"colab-df-convert\" onclick=\"convertToInteractive('df-ba986768-6cba-4850-8217-31e98667c472')\"\n",
              "              title=\"Convert this dataframe to an interactive table.\"\n",
              "              style=\"display:none;\">\n",
              "        \n",
              "  <svg xmlns=\"http://www.w3.org/2000/svg\" height=\"24px\"viewBox=\"0 0 24 24\"\n",
              "       width=\"24px\">\n",
              "    <path d=\"M0 0h24v24H0V0z\" fill=\"none\"/>\n",
              "    <path d=\"M18.56 5.44l.94 2.06.94-2.06 2.06-.94-2.06-.94-.94-2.06-.94 2.06-2.06.94zm-11 1L8.5 8.5l.94-2.06 2.06-.94-2.06-.94L8.5 2.5l-.94 2.06-2.06.94zm10 10l.94 2.06.94-2.06 2.06-.94-2.06-.94-.94-2.06-.94 2.06-2.06.94z\"/><path d=\"M17.41 7.96l-1.37-1.37c-.4-.4-.92-.59-1.43-.59-.52 0-1.04.2-1.43.59L10.3 9.45l-7.72 7.72c-.78.78-.78 2.05 0 2.83L4 21.41c.39.39.9.59 1.41.59.51 0 1.02-.2 1.41-.59l7.78-7.78 2.81-2.81c.8-.78.8-2.07 0-2.86zM5.41 20L4 18.59l7.72-7.72 1.47 1.35L5.41 20z\"/>\n",
              "  </svg>\n",
              "      </button>\n",
              "      \n",
              "  <style>\n",
              "    .colab-df-container {\n",
              "      display:flex;\n",
              "      flex-wrap:wrap;\n",
              "      gap: 12px;\n",
              "    }\n",
              "\n",
              "    .colab-df-convert {\n",
              "      background-color: #E8F0FE;\n",
              "      border: none;\n",
              "      border-radius: 50%;\n",
              "      cursor: pointer;\n",
              "      display: none;\n",
              "      fill: #1967D2;\n",
              "      height: 32px;\n",
              "      padding: 0 0 0 0;\n",
              "      width: 32px;\n",
              "    }\n",
              "\n",
              "    .colab-df-convert:hover {\n",
              "      background-color: #E2EBFA;\n",
              "      box-shadow: 0px 1px 2px rgba(60, 64, 67, 0.3), 0px 1px 3px 1px rgba(60, 64, 67, 0.15);\n",
              "      fill: #174EA6;\n",
              "    }\n",
              "\n",
              "    [theme=dark] .colab-df-convert {\n",
              "      background-color: #3B4455;\n",
              "      fill: #D2E3FC;\n",
              "    }\n",
              "\n",
              "    [theme=dark] .colab-df-convert:hover {\n",
              "      background-color: #434B5C;\n",
              "      box-shadow: 0px 1px 3px 1px rgba(0, 0, 0, 0.15);\n",
              "      filter: drop-shadow(0px 1px 2px rgba(0, 0, 0, 0.3));\n",
              "      fill: #FFFFFF;\n",
              "    }\n",
              "  </style>\n",
              "\n",
              "      <script>\n",
              "        const buttonEl =\n",
              "          document.querySelector('#df-ba986768-6cba-4850-8217-31e98667c472 button.colab-df-convert');\n",
              "        buttonEl.style.display =\n",
              "          google.colab.kernel.accessAllowed ? 'block' : 'none';\n",
              "\n",
              "        async function convertToInteractive(key) {\n",
              "          const element = document.querySelector('#df-ba986768-6cba-4850-8217-31e98667c472');\n",
              "          const dataTable =\n",
              "            await google.colab.kernel.invokeFunction('convertToInteractive',\n",
              "                                                     [key], {});\n",
              "          if (!dataTable) return;\n",
              "\n",
              "          const docLinkHtml = 'Like what you see? Visit the ' +\n",
              "            '<a target=\"_blank\" href=https://colab.research.google.com/notebooks/data_table.ipynb>data table notebook</a>'\n",
              "            + ' to learn more about interactive tables.';\n",
              "          element.innerHTML = '';\n",
              "          dataTable['output_type'] = 'display_data';\n",
              "          await google.colab.output.renderOutput(dataTable, element);\n",
              "          const docLink = document.createElement('div');\n",
              "          docLink.innerHTML = docLinkHtml;\n",
              "          element.appendChild(docLink);\n",
              "        }\n",
              "      </script>\n",
              "    </div>\n",
              "  </div>\n",
              "  "
            ]
          },
          "metadata": {},
          "execution_count": 43
        }
      ]
    },
    {
      "cell_type": "code",
      "source": [
        "df2.to_excel('/content/drive/MyDrive/RAjobs/count_OSU_v2.xlsx',index= False)"
      ],
      "metadata": {
        "id": "c_LPqW4gLjU8"
      },
      "execution_count": null,
      "outputs": []
    }
  ]
}