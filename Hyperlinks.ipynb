{
  "cells": [
    {
      "cell_type": "code",
      "execution_count": null,
      "metadata": {
        "colab": {
          "base_uri": "https://localhost:8080/"
        },
        "id": "_jheoZKI7B9K",
        "outputId": "c9dedab1-1b09-47a7-e4c5-5f223c48c914"
      },
      "outputs": [
        {
          "output_type": "stream",
          "name": "stdout",
          "text": [
            "Looking in indexes: https://pypi.org/simple, https://us-python.pkg.dev/colab-wheels/public/simple/\n",
            "Collecting PyPDF2\n",
            "  Downloading pypdf2-3.0.1-py3-none-any.whl (232 kB)\n",
            "\u001b[2K     \u001b[90m━━━━━━━━━━━━━━━━━━━━━━━━━━━━━━━━━━━━━━━\u001b[0m \u001b[32m232.6/232.6 KB\u001b[0m \u001b[31m5.6 MB/s\u001b[0m eta \u001b[36m0:00:00\u001b[0m\n",
            "\u001b[?25hRequirement already satisfied: typing_extensions>=3.10.0.0 in /usr/local/lib/python3.9/dist-packages (from PyPDF2) (4.5.0)\n",
            "Installing collected packages: PyPDF2\n",
            "Successfully installed PyPDF2-3.0.1\n",
            "Looking in indexes: https://pypi.org/simple, https://us-python.pkg.dev/colab-wheels/public/simple/\n",
            "Collecting fuzzywuzzy\n",
            "  Downloading fuzzywuzzy-0.18.0-py2.py3-none-any.whl (18 kB)\n",
            "Installing collected packages: fuzzywuzzy\n",
            "Successfully installed fuzzywuzzy-0.18.0\n",
            "Looking in indexes: https://pypi.org/simple, https://us-python.pkg.dev/colab-wheels/public/simple/\n",
            "Collecting transformers\n",
            "  Downloading transformers-4.27.3-py3-none-any.whl (6.8 MB)\n",
            "\u001b[2K     \u001b[90m━━━━━━━━━━━━━━━━━━━━━━━━━━━━━━━━━━━━━━━━\u001b[0m \u001b[32m6.8/6.8 MB\u001b[0m \u001b[31m84.4 MB/s\u001b[0m eta \u001b[36m0:00:00\u001b[0m\n",
            "\u001b[?25hRequirement already satisfied: requests in /usr/local/lib/python3.9/dist-packages (from transformers) (2.27.1)\n",
            "Collecting huggingface-hub<1.0,>=0.11.0\n",
            "  Downloading huggingface_hub-0.13.3-py3-none-any.whl (199 kB)\n",
            "\u001b[2K     \u001b[90m━━━━━━━━━━━━━━━━━━━━━━━━━━━━━━━━━━━━━━\u001b[0m \u001b[32m199.8/199.8 KB\u001b[0m \u001b[31m24.8 MB/s\u001b[0m eta \u001b[36m0:00:00\u001b[0m\n",
            "\u001b[?25hCollecting tokenizers!=0.11.3,<0.14,>=0.11.1\n",
            "  Downloading tokenizers-0.13.2-cp39-cp39-manylinux_2_17_x86_64.manylinux2014_x86_64.whl (7.6 MB)\n",
            "\u001b[2K     \u001b[90m━━━━━━━━━━━━━━━━━━━━━━━━━━━━━━━━━━━━━━━━\u001b[0m \u001b[32m7.6/7.6 MB\u001b[0m \u001b[31m98.3 MB/s\u001b[0m eta \u001b[36m0:00:00\u001b[0m\n",
            "\u001b[?25hRequirement already satisfied: tqdm>=4.27 in /usr/local/lib/python3.9/dist-packages (from transformers) (4.65.0)\n",
            "Requirement already satisfied: regex!=2019.12.17 in /usr/local/lib/python3.9/dist-packages (from transformers) (2022.10.31)\n",
            "Requirement already satisfied: packaging>=20.0 in /usr/local/lib/python3.9/dist-packages (from transformers) (23.0)\n",
            "Requirement already satisfied: numpy>=1.17 in /usr/local/lib/python3.9/dist-packages (from transformers) (1.22.4)\n",
            "Requirement already satisfied: filelock in /usr/local/lib/python3.9/dist-packages (from transformers) (3.10.2)\n",
            "Requirement already satisfied: pyyaml>=5.1 in /usr/local/lib/python3.9/dist-packages (from transformers) (6.0)\n",
            "Requirement already satisfied: typing-extensions>=3.7.4.3 in /usr/local/lib/python3.9/dist-packages (from huggingface-hub<1.0,>=0.11.0->transformers) (4.5.0)\n",
            "Requirement already satisfied: idna<4,>=2.5 in /usr/local/lib/python3.9/dist-packages (from requests->transformers) (3.4)\n",
            "Requirement already satisfied: certifi>=2017.4.17 in /usr/local/lib/python3.9/dist-packages (from requests->transformers) (2022.12.7)\n",
            "Requirement already satisfied: charset-normalizer~=2.0.0 in /usr/local/lib/python3.9/dist-packages (from requests->transformers) (2.0.12)\n",
            "Requirement already satisfied: urllib3<1.27,>=1.21.1 in /usr/local/lib/python3.9/dist-packages (from requests->transformers) (1.26.15)\n",
            "Installing collected packages: tokenizers, huggingface-hub, transformers\n",
            "Successfully installed huggingface-hub-0.13.3 tokenizers-0.13.2 transformers-4.27.3\n",
            "Looking in indexes: https://pypi.org/simple, https://us-python.pkg.dev/colab-wheels/public/simple/\n",
            "Collecting textract\n",
            "  Downloading textract-1.6.5-py3-none-any.whl (23 kB)\n",
            "Collecting SpeechRecognition~=3.8.1\n",
            "  Downloading SpeechRecognition-3.8.1-py2.py3-none-any.whl (32.8 MB)\n",
            "\u001b[2K     \u001b[90m━━━━━━━━━━━━━━━━━━━━━━━━━━━━━━━━━━━━━━━━\u001b[0m \u001b[32m32.8/32.8 MB\u001b[0m \u001b[31m48.0 MB/s\u001b[0m eta \u001b[36m0:00:00\u001b[0m\n",
            "\u001b[?25hCollecting beautifulsoup4~=4.8.0\n",
            "  Downloading beautifulsoup4-4.8.2-py3-none-any.whl (106 kB)\n",
            "\u001b[2K     \u001b[90m━━━━━━━━━━━━━━━━━━━━━━━━━━━━━━━━━━━━━━\u001b[0m \u001b[32m106.9/106.9 KB\u001b[0m \u001b[31m14.4 MB/s\u001b[0m eta \u001b[36m0:00:00\u001b[0m\n",
            "\u001b[?25hCollecting xlrd~=1.2.0\n",
            "  Downloading xlrd-1.2.0-py2.py3-none-any.whl (103 kB)\n",
            "\u001b[2K     \u001b[90m━━━━━━━━━━━━━━━━━━━━━━━━━━━━━━━━━━━━━━\u001b[0m \u001b[32m103.3/103.3 KB\u001b[0m \u001b[31m15.3 MB/s\u001b[0m eta \u001b[36m0:00:00\u001b[0m\n",
            "\u001b[?25hCollecting argcomplete~=1.10.0\n",
            "  Downloading argcomplete-1.10.3-py2.py3-none-any.whl (36 kB)\n",
            "Collecting chardet==3.*\n",
            "  Downloading chardet-3.0.4-py2.py3-none-any.whl (133 kB)\n",
            "\u001b[2K     \u001b[90m━━━━━━━━━━━━━━━━━━━━━━━━━━━━━━━━━━━━━━\u001b[0m \u001b[32m133.4/133.4 KB\u001b[0m \u001b[31m16.2 MB/s\u001b[0m eta \u001b[36m0:00:00\u001b[0m\n",
            "\u001b[?25hCollecting pdfminer.six==20191110\n",
            "  Downloading pdfminer.six-20191110-py2.py3-none-any.whl (5.6 MB)\n",
            "\u001b[2K     \u001b[90m━━━━━━━━━━━━━━━━━━━━━━━━━━━━━━━━━━━━━━━━\u001b[0m \u001b[32m5.6/5.6 MB\u001b[0m \u001b[31m79.6 MB/s\u001b[0m eta \u001b[36m0:00:00\u001b[0m\n",
            "\u001b[?25hCollecting six~=1.12.0\n",
            "  Downloading six-1.12.0-py2.py3-none-any.whl (10 kB)\n",
            "Collecting docx2txt~=0.8\n",
            "  Downloading docx2txt-0.8.tar.gz (2.8 kB)\n",
            "  Preparing metadata (setup.py) ... \u001b[?25l\u001b[?25hdone\n",
            "Collecting python-pptx~=0.6.18\n",
            "  Downloading python-pptx-0.6.21.tar.gz (10.1 MB)\n",
            "\u001b[2K     \u001b[90m━━━━━━━━━━━━━━━━━━━━━━━━━━━━━━━━━━━━━━━\u001b[0m \u001b[32m10.1/10.1 MB\u001b[0m \u001b[31m100.8 MB/s\u001b[0m eta \u001b[36m0:00:00\u001b[0m\n",
            "\u001b[?25h  Preparing metadata (setup.py) ... \u001b[?25l\u001b[?25hdone\n",
            "Collecting extract-msg<=0.29.*\n",
            "  Downloading extract_msg-0.28.7-py2.py3-none-any.whl (69 kB)\n",
            "\u001b[2K     \u001b[90m━━━━━━━━━━━━━━━━━━━━━━━━━━━━━━━━━━━━━━━━\u001b[0m \u001b[32m69.0/69.0 KB\u001b[0m \u001b[31m8.6 MB/s\u001b[0m eta \u001b[36m0:00:00\u001b[0m\n",
            "\u001b[?25hRequirement already satisfied: sortedcontainers in /usr/local/lib/python3.9/dist-packages (from pdfminer.six==20191110->textract) (2.4.0)\n",
            "Collecting pycryptodome\n",
            "  Downloading pycryptodome-3.17-cp35-abi3-manylinux_2_17_x86_64.manylinux2014_x86_64.whl (2.1 MB)\n",
            "\u001b[2K     \u001b[90m━━━━━━━━━━━━━━━━━━━━━━━━━━━━━━━━━━━━━━━━\u001b[0m \u001b[32m2.1/2.1 MB\u001b[0m \u001b[31m90.7 MB/s\u001b[0m eta \u001b[36m0:00:00\u001b[0m\n",
            "\u001b[?25hRequirement already satisfied: soupsieve>=1.2 in /usr/local/lib/python3.9/dist-packages (from beautifulsoup4~=4.8.0->textract) (2.4)\n",
            "Collecting compressed-rtf>=1.0.6\n",
            "  Downloading compressed_rtf-1.0.6.tar.gz (5.8 kB)\n",
            "  Preparing metadata (setup.py) ... \u001b[?25l\u001b[?25hdone\n",
            "Collecting olefile>=0.46\n",
            "  Downloading olefile-0.46.zip (112 kB)\n",
            "\u001b[2K     \u001b[90m━━━━━━━━━━━━━━━━━━━━━━━━━━━━━━━━━━━━━━\u001b[0m \u001b[32m112.2/112.2 KB\u001b[0m \u001b[31m14.3 MB/s\u001b[0m eta \u001b[36m0:00:00\u001b[0m\n",
            "\u001b[?25h  Preparing metadata (setup.py) ... \u001b[?25l\u001b[?25hdone\n",
            "Collecting imapclient==2.1.0\n",
            "  Downloading IMAPClient-2.1.0-py2.py3-none-any.whl (73 kB)\n",
            "\u001b[2K     \u001b[90m━━━━━━━━━━━━━━━━━━━━━━━━━━━━━━━━━━━━━━━━\u001b[0m \u001b[32m74.0/74.0 KB\u001b[0m \u001b[31m8.6 MB/s\u001b[0m eta \u001b[36m0:00:00\u001b[0m\n",
            "\u001b[?25hCollecting ebcdic>=1.1.1\n",
            "  Downloading ebcdic-1.1.1-py2.py3-none-any.whl (128 kB)\n",
            "\u001b[2K     \u001b[90m━━━━━━━━━━━━━━━━━━━━━━━━━━━━━━━━━━━━━━\u001b[0m \u001b[32m128.5/128.5 KB\u001b[0m \u001b[31m16.4 MB/s\u001b[0m eta \u001b[36m0:00:00\u001b[0m\n",
            "\u001b[?25hRequirement already satisfied: tzlocal>=2.1 in /usr/local/lib/python3.9/dist-packages (from extract-msg<=0.29.*->textract) (4.3)\n",
            "Requirement already satisfied: lxml>=3.1.0 in /usr/local/lib/python3.9/dist-packages (from python-pptx~=0.6.18->textract) (4.9.2)\n",
            "Requirement already satisfied: Pillow>=3.3.2 in /usr/local/lib/python3.9/dist-packages (from python-pptx~=0.6.18->textract) (8.4.0)\n",
            "Collecting XlsxWriter>=0.5.7\n",
            "  Downloading XlsxWriter-3.0.9-py3-none-any.whl (152 kB)\n",
            "\u001b[2K     \u001b[90m━━━━━━━━━━━━━━━━━━━━━━━━━━━━━━━━━━━━━━\u001b[0m \u001b[32m152.8/152.8 KB\u001b[0m \u001b[31m16.9 MB/s\u001b[0m eta \u001b[36m0:00:00\u001b[0m\n",
            "\u001b[?25hRequirement already satisfied: pytz-deprecation-shim in /usr/local/lib/python3.9/dist-packages (from tzlocal>=2.1->extract-msg<=0.29.*->textract) (0.1.0.post0)\n",
            "Requirement already satisfied: tzdata in /usr/local/lib/python3.9/dist-packages (from pytz-deprecation-shim->tzlocal>=2.1->extract-msg<=0.29.*->textract) (2022.7)\n",
            "Building wheels for collected packages: docx2txt, python-pptx, compressed-rtf, olefile\n",
            "  Building wheel for docx2txt (setup.py) ... \u001b[?25l\u001b[?25hdone\n",
            "  Created wheel for docx2txt: filename=docx2txt-0.8-py3-none-any.whl size=3977 sha256=e568e80c3adf413cea31e90d231da042e17683774f064f7fa359352e143c6fb6\n",
            "  Stored in directory: /root/.cache/pip/wheels/40/75/01/e6c444034338bde9c7947d3467807f889123465c2371e77418\n",
            "  Building wheel for python-pptx (setup.py) ... \u001b[?25l\u001b[?25hdone\n",
            "  Created wheel for python-pptx: filename=python_pptx-0.6.21-py3-none-any.whl size=470949 sha256=b6e5f4f751e4900597c877ce37ccc529863185b59f352ff01572896912fe83a6\n",
            "  Stored in directory: /root/.cache/pip/wheels/0e/4a/ed/9653bc799915f52dce3f04d14946fbd85cce9c3cdedc9cfa71\n",
            "  Building wheel for compressed-rtf (setup.py) ... \u001b[?25l\u001b[?25hdone\n",
            "  Created wheel for compressed-rtf: filename=compressed_rtf-1.0.6-py3-none-any.whl size=6201 sha256=46a6f589581e29744687ffcf945c54f32cb854bd6bb3747e042975f7d228038f\n",
            "  Stored in directory: /root/.cache/pip/wheels/e4/67/e4/ba2159853bdd0fe99330aa1e384915108143a5370686ea446f\n",
            "  Building wheel for olefile (setup.py) ... \u001b[?25l\u001b[?25hdone\n",
            "  Created wheel for olefile: filename=olefile-0.46-py2.py3-none-any.whl size=35432 sha256=ddb49148789fe940bf1d761f6a5b259c0f47c6cd9c4f30ed297657f29de4a76b\n",
            "  Stored in directory: /root/.cache/pip/wheels/64/b8/ba/ebba30390fbd997074f35e42a842ce3fd933213cac8753414e\n",
            "Successfully built docx2txt python-pptx compressed-rtf olefile\n",
            "Installing collected packages: SpeechRecognition, ebcdic, docx2txt, compressed-rtf, chardet, argcomplete, XlsxWriter, xlrd, six, pycryptodome, olefile, beautifulsoup4, python-pptx, pdfminer.six, imapclient, extract-msg, textract\n",
            "  Attempting uninstall: chardet\n",
            "    Found existing installation: chardet 4.0.0\n",
            "    Uninstalling chardet-4.0.0:\n",
            "      Successfully uninstalled chardet-4.0.0\n",
            "  Attempting uninstall: xlrd\n",
            "    Found existing installation: xlrd 2.0.1\n",
            "    Uninstalling xlrd-2.0.1:\n",
            "      Successfully uninstalled xlrd-2.0.1\n",
            "  Attempting uninstall: six\n",
            "    Found existing installation: six 1.16.0\n",
            "    Uninstalling six-1.16.0:\n",
            "      Successfully uninstalled six-1.16.0\n",
            "  Attempting uninstall: beautifulsoup4\n",
            "    Found existing installation: beautifulsoup4 4.11.2\n",
            "    Uninstalling beautifulsoup4-4.11.2:\n",
            "      Successfully uninstalled beautifulsoup4-4.11.2\n",
            "\u001b[31mERROR: pip's dependency resolver does not currently take into account all the packages that are installed. This behaviour is the source of the following dependency conflicts.\n",
            "ipython 7.9.0 requires jedi>=0.10, which is not installed.\n",
            "yfinance 0.2.13 requires beautifulsoup4>=4.11.1, but you have beautifulsoup4 4.8.2 which is incompatible.\u001b[0m\u001b[31m\n",
            "\u001b[0mSuccessfully installed SpeechRecognition-3.8.1 XlsxWriter-3.0.9 argcomplete-1.10.3 beautifulsoup4-4.8.2 chardet-3.0.4 compressed-rtf-1.0.6 docx2txt-0.8 ebcdic-1.1.1 extract-msg-0.28.7 imapclient-2.1.0 olefile-0.46 pdfminer.six-20191110 pycryptodome-3.17 python-pptx-0.6.21 six-1.12.0 textract-1.6.5 xlrd-1.2.0\n"
          ]
        },
        {
          "output_type": "stream",
          "name": "stderr",
          "text": [
            "/usr/local/lib/python3.9/dist-packages/fuzzywuzzy/fuzz.py:11: UserWarning: Using slow pure-python SequenceMatcher. Install python-Levenshtein to remove this warning\n",
            "  warnings.warn('Using slow pure-python SequenceMatcher. Install python-Levenshtein to remove this warning')\n",
            "[nltk_data] Downloading package stopwords to /root/nltk_data...\n",
            "[nltk_data]   Unzipping corpora/stopwords.zip.\n",
            "[nltk_data] Downloading package punkt to /root/nltk_data...\n",
            "[nltk_data]   Unzipping tokenizers/punkt.zip.\n"
          ]
        },
        {
          "output_type": "execute_result",
          "data": {
            "text/plain": [
              "True"
            ]
          },
          "metadata": {},
          "execution_count": 1
        }
      ],
      "source": [
        "!pip install PyPDF2\n",
        "!pip install fuzzywuzzy\n",
        "!pip install transformers\n",
        "!pip install textract\n",
        "import json\n",
        "\n",
        "# data manipulation\n",
        "import pandas as pd\n",
        "import string\n",
        "# normalize nested JSON files\n",
        "from pandas.io.json import json_normalize\n",
        "import os\n",
        "import requests\n",
        "from urllib.parse import urljoin\n",
        "from bs4 import BeautifulSoup\n",
        "import PyPDF2, urllib.request , nltk , textract\n",
        "from io import BytesIO\n",
        "import json\n",
        "#import weasyprint\n",
        "import pandas as pd\n",
        "from pandas.io.json import json_normalize\n",
        "from nltk.tokenize import word_tokenize\n",
        "from nltk.corpus import stopwords\n",
        "import os\n",
        "import requests\n",
        "from urllib.parse import urljoin\n",
        "from bs4 import BeautifulSoup\n",
        "from collections import defaultdict, Counter\n",
        "from fuzzywuzzy import fuzz\n",
        "import json\n",
        "import logging\n",
        "import multiprocessing as mp\n",
        "import numpy as np\n",
        "import pandas as pd\n",
        "import os\n",
        "import re\n",
        "import regex\n",
        "import torch\n",
        "from transformers import AutoTokenizer, AutoModelForSequenceClassification\n",
        "import nltk\n",
        "from nltk.tokenize import sent_tokenize\n",
        "nltk.download('stopwords')\n",
        "nltk.download('punkt')"
      ]
    },
    {
      "cell_type": "code",
      "execution_count": null,
      "metadata": {
        "colab": {
          "base_uri": "https://localhost:8080/"
        },
        "id": "dPjJhDYty_S3",
        "outputId": "f596fb2a-7930-4b81-f4b8-fd64a8b03243"
      },
      "outputs": [
        {
          "output_type": "stream",
          "name": "stdout",
          "text": [
            "Looking in indexes: https://pypi.org/simple, https://us-python.pkg.dev/colab-wheels/public/simple/\n",
            "Collecting html2text\n",
            "  Downloading html2text-2020.1.16-py3-none-any.whl (32 kB)\n",
            "Installing collected packages: html2text\n",
            "Successfully installed html2text-2020.1.16\n"
          ]
        }
      ],
      "source": [
        "!pip install html2text\n",
        "import urllib.request as urllib2\n",
        "import html2text\n"
      ]
    },
    {
      "cell_type": "code",
      "execution_count": null,
      "metadata": {
        "colab": {
          "base_uri": "https://localhost:8080/"
        },
        "id": "8J_AQXAT_-mk",
        "outputId": "1483a7cf-6695-4cbe-88ac-2f1928f03c13"
      },
      "outputs": [
        {
          "output_type": "stream",
          "name": "stdout",
          "text": [
            "Mounted at /content/drive\n"
          ]
        }
      ],
      "source": [
        "from google.colab import drive\n",
        "drive.mount('/content/drive')"
      ]
    },
    {
      "cell_type": "code",
      "execution_count": null,
      "metadata": {
        "id": "sfr5FHfo_47x"
      },
      "outputs": [],
      "source": [
        "json_file_path = \"/content/drive/MyDrive/RAjobs/OSU-Out-with-Thumbnails.json\"\n",
        "\n",
        "with open(json_file_path, 'r') as json_file:\n",
        "    data = json.load(json_file)"
      ]
    },
    {
      "cell_type": "code",
      "source": [
        "len(data), data[3]"
      ],
      "metadata": {
        "colab": {
          "base_uri": "https://localhost:8080/"
        },
        "id": "KlGFxfLvuDit",
        "outputId": "5695296e-f155-4f22-84e5-621f49956394"
      },
      "execution_count": null,
      "outputs": [
        {
          "output_type": "execute_result",
          "data": {
            "text/plain": [
              "(1546,\n",
              " {'title': 'Propagation of Ornamental Plants for Oklahoma',\n",
              "  'link': 'https://extension.okstate.edu/fact-sheets/propagation-of-ornamental-plants-for-oklahoma.html',\n",
              "  'thumbnail': 'https://extension.okstate.edu/fact-sheets/images/propagation-of-ornamental-plants-for-oklahoma/thumbnail-propagation-of-ornamental-plants-for-oklahoma.jpg',\n",
              "  'description': 'This circular discusses propagation techniques for different types plants.',\n",
              "  'content': [{'header': 'Introduction-w/o-header',\n",
              "    'text': 'Most ornamental plants in Oklahoma can be propagated locally by nursery personnel,  which allows them to increase the number of plants with specific desirable characteristics.  Plants can be propagated by asexual or sexual means. Asexual propagation refers to  the multiplications of plants from vegetative plant parts such as shoots, roots, and  leaves, while sexual propagation involves the growing of plants from seed. Asexual  propagation is the only practical means of reproduction when plants do not produce  viable seed, or seeds are difficult to germinate. The most important reason for using  asexual reproduction is to grow plants with the same characteristics as the parent  plant. This method can produce marketable plants in less growing time and increase  profits. Many people have tried to define or describe the ideal rooting medium for  asexual propagation. In general, it has been found that one ideal rooting medium does  not exist but several combinations of materials are best. A mixture of equal volumes  of peat moss and coarse perlite is a suitable rooting mixture for most plants. Combinations  of materials such as rockwool, shredded sphagnum, vermiculite, and sand have also  proven satisfactory. \\n E-917\\n',\n",
              "    'parent_header': None,\n",
              "    'images': {'image_urls': [], 'image_captions': [], 'image_indexes': []},\n",
              "    'Table': {'raw_table_text': [], 'table_indexes': []}}],\n",
              "  'author': 'Laura Wray <lawray@okstate.edu>',\n",
              "  'pubdate': '2022-08-31',\n",
              "  'category': ['Crops',\n",
              "   'Gardening & Lawn Care',\n",
              "   'Ornamentals',\n",
              "   'Shrubs',\n",
              "   'Trees'],\n",
              "  'displaydate': '2022-08-31'})"
            ]
          },
          "metadata": {},
          "execution_count": 5
        }
      ]
    },
    {
      "cell_type": "code",
      "execution_count": null,
      "metadata": {
        "id": "PKOpt6GM_8Ei"
      },
      "outputs": [],
      "source": [
        "links = [x['link'] for x in data]"
      ]
    },
    {
      "cell_type": "code",
      "execution_count": null,
      "metadata": {
        "id": "2LKLeWbDhVFC"
      },
      "outputs": [],
      "source": [
        "links = pd.DataFrame(links)"
      ]
    },
    {
      "cell_type": "code",
      "source": [
        "links"
      ],
      "metadata": {
        "colab": {
          "base_uri": "https://localhost:8080/",
          "height": 423
        },
        "id": "RdcK6_yadhkp",
        "outputId": "f18efabd-dbd0-4660-cb89-a8910e824dc9"
      },
      "execution_count": null,
      "outputs": [
        {
          "output_type": "execute_result",
          "data": {
            "text/plain": [
              "                                                      0\n",
              "0     https://extension.okstate.edu/fact-sheets/cust...\n",
              "1     https://extension.okstate.edu/fact-sheets/an-i...\n",
              "2     https://extension.okstate.edu/fact-sheets/food...\n",
              "3     https://extension.okstate.edu/fact-sheets/prop...\n",
              "4     https://extension.okstate.edu/fact-sheets/cow-...\n",
              "...                                                 ...\n",
              "1541  https://extension.okstate.edu/fact-sheets/indu...\n",
              "1542  https://extension.okstate.edu/fact-sheets/dehy...\n",
              "1543  https://extension.okstate.edu/fact-sheets/2010...\n",
              "1544  https://extension.okstate.edu/fact-sheets/meas...\n",
              "1545  https://extension.okstate.edu/fact-sheets/impa...\n",
              "\n",
              "[1546 rows x 1 columns]"
            ],
            "text/html": [
              "\n",
              "  <div id=\"df-54053e0f-3a96-440e-be01-f09b384f76b5\">\n",
              "    <div class=\"colab-df-container\">\n",
              "      <div>\n",
              "<style scoped>\n",
              "    .dataframe tbody tr th:only-of-type {\n",
              "        vertical-align: middle;\n",
              "    }\n",
              "\n",
              "    .dataframe tbody tr th {\n",
              "        vertical-align: top;\n",
              "    }\n",
              "\n",
              "    .dataframe thead th {\n",
              "        text-align: right;\n",
              "    }\n",
              "</style>\n",
              "<table border=\"1\" class=\"dataframe\">\n",
              "  <thead>\n",
              "    <tr style=\"text-align: right;\">\n",
              "      <th></th>\n",
              "      <th>0</th>\n",
              "    </tr>\n",
              "  </thead>\n",
              "  <tbody>\n",
              "    <tr>\n",
              "      <th>0</th>\n",
              "      <td>https://extension.okstate.edu/fact-sheets/cust...</td>\n",
              "    </tr>\n",
              "    <tr>\n",
              "      <th>1</th>\n",
              "      <td>https://extension.okstate.edu/fact-sheets/an-i...</td>\n",
              "    </tr>\n",
              "    <tr>\n",
              "      <th>2</th>\n",
              "      <td>https://extension.okstate.edu/fact-sheets/food...</td>\n",
              "    </tr>\n",
              "    <tr>\n",
              "      <th>3</th>\n",
              "      <td>https://extension.okstate.edu/fact-sheets/prop...</td>\n",
              "    </tr>\n",
              "    <tr>\n",
              "      <th>4</th>\n",
              "      <td>https://extension.okstate.edu/fact-sheets/cow-...</td>\n",
              "    </tr>\n",
              "    <tr>\n",
              "      <th>...</th>\n",
              "      <td>...</td>\n",
              "    </tr>\n",
              "    <tr>\n",
              "      <th>1541</th>\n",
              "      <td>https://extension.okstate.edu/fact-sheets/indu...</td>\n",
              "    </tr>\n",
              "    <tr>\n",
              "      <th>1542</th>\n",
              "      <td>https://extension.okstate.edu/fact-sheets/dehy...</td>\n",
              "    </tr>\n",
              "    <tr>\n",
              "      <th>1543</th>\n",
              "      <td>https://extension.okstate.edu/fact-sheets/2010...</td>\n",
              "    </tr>\n",
              "    <tr>\n",
              "      <th>1544</th>\n",
              "      <td>https://extension.okstate.edu/fact-sheets/meas...</td>\n",
              "    </tr>\n",
              "    <tr>\n",
              "      <th>1545</th>\n",
              "      <td>https://extension.okstate.edu/fact-sheets/impa...</td>\n",
              "    </tr>\n",
              "  </tbody>\n",
              "</table>\n",
              "<p>1546 rows × 1 columns</p>\n",
              "</div>\n",
              "      <button class=\"colab-df-convert\" onclick=\"convertToInteractive('df-54053e0f-3a96-440e-be01-f09b384f76b5')\"\n",
              "              title=\"Convert this dataframe to an interactive table.\"\n",
              "              style=\"display:none;\">\n",
              "        \n",
              "  <svg xmlns=\"http://www.w3.org/2000/svg\" height=\"24px\"viewBox=\"0 0 24 24\"\n",
              "       width=\"24px\">\n",
              "    <path d=\"M0 0h24v24H0V0z\" fill=\"none\"/>\n",
              "    <path d=\"M18.56 5.44l.94 2.06.94-2.06 2.06-.94-2.06-.94-.94-2.06-.94 2.06-2.06.94zm-11 1L8.5 8.5l.94-2.06 2.06-.94-2.06-.94L8.5 2.5l-.94 2.06-2.06.94zm10 10l.94 2.06.94-2.06 2.06-.94-2.06-.94-.94-2.06-.94 2.06-2.06.94z\"/><path d=\"M17.41 7.96l-1.37-1.37c-.4-.4-.92-.59-1.43-.59-.52 0-1.04.2-1.43.59L10.3 9.45l-7.72 7.72c-.78.78-.78 2.05 0 2.83L4 21.41c.39.39.9.59 1.41.59.51 0 1.02-.2 1.41-.59l7.78-7.78 2.81-2.81c.8-.78.8-2.07 0-2.86zM5.41 20L4 18.59l7.72-7.72 1.47 1.35L5.41 20z\"/>\n",
              "  </svg>\n",
              "      </button>\n",
              "      \n",
              "  <style>\n",
              "    .colab-df-container {\n",
              "      display:flex;\n",
              "      flex-wrap:wrap;\n",
              "      gap: 12px;\n",
              "    }\n",
              "\n",
              "    .colab-df-convert {\n",
              "      background-color: #E8F0FE;\n",
              "      border: none;\n",
              "      border-radius: 50%;\n",
              "      cursor: pointer;\n",
              "      display: none;\n",
              "      fill: #1967D2;\n",
              "      height: 32px;\n",
              "      padding: 0 0 0 0;\n",
              "      width: 32px;\n",
              "    }\n",
              "\n",
              "    .colab-df-convert:hover {\n",
              "      background-color: #E2EBFA;\n",
              "      box-shadow: 0px 1px 2px rgba(60, 64, 67, 0.3), 0px 1px 3px 1px rgba(60, 64, 67, 0.15);\n",
              "      fill: #174EA6;\n",
              "    }\n",
              "\n",
              "    [theme=dark] .colab-df-convert {\n",
              "      background-color: #3B4455;\n",
              "      fill: #D2E3FC;\n",
              "    }\n",
              "\n",
              "    [theme=dark] .colab-df-convert:hover {\n",
              "      background-color: #434B5C;\n",
              "      box-shadow: 0px 1px 3px 1px rgba(0, 0, 0, 0.15);\n",
              "      filter: drop-shadow(0px 1px 2px rgba(0, 0, 0, 0.3));\n",
              "      fill: #FFFFFF;\n",
              "    }\n",
              "  </style>\n",
              "\n",
              "      <script>\n",
              "        const buttonEl =\n",
              "          document.querySelector('#df-54053e0f-3a96-440e-be01-f09b384f76b5 button.colab-df-convert');\n",
              "        buttonEl.style.display =\n",
              "          google.colab.kernel.accessAllowed ? 'block' : 'none';\n",
              "\n",
              "        async function convertToInteractive(key) {\n",
              "          const element = document.querySelector('#df-54053e0f-3a96-440e-be01-f09b384f76b5');\n",
              "          const dataTable =\n",
              "            await google.colab.kernel.invokeFunction('convertToInteractive',\n",
              "                                                     [key], {});\n",
              "          if (!dataTable) return;\n",
              "\n",
              "          const docLinkHtml = 'Like what you see? Visit the ' +\n",
              "            '<a target=\"_blank\" href=https://colab.research.google.com/notebooks/data_table.ipynb>data table notebook</a>'\n",
              "            + ' to learn more about interactive tables.';\n",
              "          element.innerHTML = '';\n",
              "          dataTable['output_type'] = 'display_data';\n",
              "          await google.colab.output.renderOutput(dataTable, element);\n",
              "          const docLink = document.createElement('div');\n",
              "          docLink.innerHTML = docLinkHtml;\n",
              "          element.appendChild(docLink);\n",
              "        }\n",
              "      </script>\n",
              "    </div>\n",
              "  </div>\n",
              "  "
            ]
          },
          "metadata": {},
          "execution_count": 8
        }
      ]
    },
    {
      "cell_type": "code",
      "source": [
        "USDA = []\n",
        "\n",
        "def RequestHTML(url):\n",
        "  response = requests.get(url)\n",
        "  return response.text\n",
        "\n",
        "TEST = []\n",
        "N = 1546\n",
        "# usda_count = np.zeros([N,1])\n",
        "usda_count = []\n",
        "for i in range(N):\n",
        "  USDA.append([])\n",
        "  usda_count.append(0)\n",
        "# for i in range(N):\n",
        "  url_to_scrape = links.iloc[i,0]\n",
        "  html_document = RequestHTML(url_to_scrape)\n",
        "  soup = BeautifulSoup(html_document, \"html.parser\")\n",
        "  content = []\n",
        "  for link in soup.find_all('a', attrs={'href': re.compile(\"http\")}):\n",
        "    content.append(link.get('href', []))\n",
        "    if ('usda' in link.get('href', [])) and (not 'extension' in link.get('href',[])):\n",
        "        usda_count[i] += 1\n",
        "        USDA[i].append(link.get('href', []))\n",
        "\n",
        "  content = list(filter(None,content))\n",
        "  TEST.append(content)\n",
        "\n"
      ],
      "metadata": {
        "id": "Qtbl3zZqeew4"
      },
      "execution_count": null,
      "outputs": []
    },
    {
      "cell_type": "code",
      "source": [
        "len(content), len(USDA), len(TEST)"
      ],
      "metadata": {
        "id": "69hfEGAp_vGG",
        "colab": {
          "base_uri": "https://localhost:8080/"
        },
        "outputId": "65c40fb1-dffa-4508-fec2-23db880f9581"
      },
      "execution_count": null,
      "outputs": [
        {
          "output_type": "execute_result",
          "data": {
            "text/plain": [
              "(37, 1546, 1546)"
            ]
          },
          "metadata": {},
          "execution_count": 7
        }
      ]
    },
    {
      "cell_type": "code",
      "source": [
        "links['usda_count'] = np.nan\n",
        "links['usda_link'] = np.nan\n",
        "#links['usda_count'].iloc[:30] = usda_count\n",
        "links['usda_count'] = usda_count\n",
        "links['usda_link'] = USDA"
      ],
      "metadata": {
        "id": "p6iO0BU2aClM"
      },
      "execution_count": null,
      "outputs": []
    },
    {
      "cell_type": "code",
      "source": [
        "links.to_excel('/content/drive/MyDrive/RAjobs/links.xlsx',index = False)"
      ],
      "metadata": {
        "id": "E8yuC8o3DkdA"
      },
      "execution_count": null,
      "outputs": []
    },
    {
      "cell_type": "code",
      "execution_count": null,
      "metadata": {
        "id": "T4oDmlZQooka"
      },
      "outputs": [],
      "source": [
        "#This one scrape all hyperlinks\n",
        "link1 = []\n",
        "for i in links:\n",
        "    url = i\n",
        "\n",
        "    response = requests.get(url)\n",
        "    soup= BeautifulSoup(response.text, \"html.parser\")\n",
        "\n",
        "    for link in soup.find_all(attrs={'href': re.compile(\"http\")}):\n",
        "        link1.append(link.get('href'))\n"
      ]
    },
    {
      "cell_type": "code",
      "execution_count": null,
      "metadata": {
        "id": "hav0RQUrB0E-"
      },
      "outputs": [],
      "source": [
        "urls = links[0]\n",
        "grab = requests.get(urls)\n",
        "soup = BeautifulSoup(grab.text, 'html.parser')\n",
        "\n",
        "# opening a file in write mode\n",
        "f = open(\"test1.txt\", \"w\")\n",
        "# traverse paragraphs from soup\n",
        "for link in soup.find_all(\"a\"):\n",
        "   data = link.get('href')\n",
        "   f.write(data)\n",
        "   f.write(\"\\n\")\n",
        "\n",
        "f.close()\n",
        "\n"
      ]
    },
    {
      "cell_type": "code",
      "execution_count": null,
      "metadata": {
        "id": "hWTzvQrl_9gc"
      },
      "outputs": [],
      "source": [
        "# This one I exclude pngs\n",
        "pdf = []\n",
        "for i in links:\n",
        "    url = i\n",
        "\n",
        "    response = requests.get(url)\n",
        "    soup= BeautifulSoup(response.text, \"html.parser\")\n",
        "    j = 0\n",
        "\n",
        "\n",
        "\n",
        "    for link in soup.find_all(attrs={'href': re.compile(\"http\")}):\n",
        "        content=[]\n",
        "        content.append(link.get('href', []))\n",
        "        for urls in content:\n",
        "            if ('.pdf' in urls):\n",
        "                j+=1\n",
        "                pdf.append(link.get('href'))\n",
        "            else:\n",
        "                pass\n",
        "\n",
        "        #link1.append(link.get('href'))\n",
        ""
      ]
    },
    {
      "cell_type": "code",
      "source": [
        "pdf = pd.DataFrame(pdf)\n",
        "pdf.to_excel('/content/drive/MyDrive/RAjobs/OSU_pdfs.xlsx',index = False)"
      ],
      "metadata": {
        "id": "3U4BFamj9Xw1"
      },
      "execution_count": null,
      "outputs": []
    },
    {
      "cell_type": "code",
      "source": [
        "\n",
        "PDF = pdf.values.tolist()"
      ],
      "metadata": {
        "id": "qx0uUGak0OCA"
      },
      "execution_count": null,
      "outputs": []
    },
    {
      "cell_type": "code",
      "source": [
        "agpr = []\n",
        "fmla = []\n",
        "land = []\n",
        "fnlo = []\n",
        "fpex = []\n",
        "fmpc = []\n",
        "crop= []\n",
        "grst = []\n",
        "acrg = []\n",
        "cropan = []\n",
        "prog = []\n",
        "hgpg = []\n",
        "cofd = []\n",
        "cost = []\n",
        "mkpr = []\n",
        "brls = []\n",
        "catl = []\n",
        "lstk = []\n",
        "dary = []\n",
        "ckeg = []\n",
        "hony = []\n",
        "s = 0\n",
        "e = 0\n",
        "f = 0\n",
        "for urls in PDF:\n",
        "  if ('agpr' in urls):\n",
        "    s+=1\n",
        "    agpr.append(link.get('href'))\n",
        "  else:\n",
        "    if ('fmla' in urls):\n",
        "      e+=1\n",
        "      fmla.append(link.get('href'))\n",
        "    else:\n",
        "      if ('land08' in urls) or ('AgriLandVa' in urls):\n",
        "        f+=1\n",
        "        land.append(link.get('href'))\n",
        "      else:\n",
        "        if ('fnlo' in urls) or ('FarmLandIn' in urls):\n",
        "          fnlo.append(link.get('href'))\n",
        "        else:\n",
        "          if ('fpex' in urls) or ('FarmProdEx' in urls):\n",
        "            fpex.append(link.get('href'))\n",
        "          else:\n",
        "            if ('fmpc' in urls) or ('FarmComp' in urls):\n",
        "              fmpc.append(link.get('href'))\n",
        "            else:\n",
        "              if ('crop' in urls):\n",
        "                crop.append(link.get('href'))\n",
        "              else:\n",
        "                if ('grst' in urls):\n",
        "                  grst.append(link.get('href'))\n",
        "                else:\n",
        "                  if ('acrg' in urls) or ('Acre' in urls):\n",
        "                    acrg.append(link.get('href'))\n",
        "                  else:\n",
        "                    if ('CropProdSu' in urls):\n",
        "                      cropan.append(link.get('href'))\n",
        "                    else:\n",
        "                      if ('prog' in urls):\n",
        "                        prog.append(link.get('href'))\n",
        "                      else:\n",
        "                        if ('hgpg' in urls):\n",
        "                          hgpg.append(link.get('href'))\n",
        "                        else:\n",
        "                          if ('cofd' in urls):\n",
        "                            cofd.append(link.get('href'))\n",
        "                          else:\n",
        "                            if ('cost' in urls):\n",
        "                              cost.append(link.get('href'))\n",
        "                            else:\n",
        "                              if ('mkpr' in urls):\n",
        "                                mkpr.append(link.get('href'))\n",
        "                              else:\n",
        "                                if ('brls' in urls):\n",
        "                                  brls.append(link.get('href'))\n",
        "                                else:\n",
        "                                  if ('catl' in urls):\n",
        "                                    catl.append(link.get('href'))\n",
        "                                  else:\n",
        "                                    if ('lstk' in urls):\n",
        "                                      lstk.append(link.get('href'))\n",
        "                                    else:\n",
        "                                      if ('dary' in urls):\n",
        "                                        dary.append(link.get('href'))\n",
        "                                      else:\n",
        "                                        if ('ckeg' in urls):\n",
        "                                          ckeg.append(link.get('href'))\n",
        "                                        else:\n",
        "                                          if ('hony' in urls) or ('Hone' in urls):\n",
        "                                            hony.append(link.get('href'))\n",
        "                                          else:\n",
        "                                            pass\n",
        "\n",
        "\n",
        "\n",
        "\n"
      ],
      "metadata": {
        "id": "UjR2hfBi0Uc4"
      },
      "execution_count": null,
      "outputs": []
    },
    {
      "cell_type": "code",
      "source": [
        "print(agpr)\n",
        "print(fmla)\n",
        "print(land)\n",
        "print(fnlo)\n",
        "print(fpex)\n",
        "print(fmpc)\n",
        "print(crop)\n",
        "print(grst)\n",
        "print(acrg)\n",
        "print(cropan)\n",
        "print(prog)\n",
        "print(hgpg)\n",
        "print(cofd)\n",
        "print(cost)\n",
        "print(mkpr)\n",
        "print(brls)\n",
        "print(catl)\n",
        "print(lstk)\n",
        "print(dary)\n",
        "print(ckeg)\n",
        "print(hony)"
      ],
      "metadata": {
        "colab": {
          "base_uri": "https://localhost:8080/"
        },
        "id": "Xyx6H0vS91qV",
        "outputId": "e8c7be8c-e739-4766-ff80-6a2b44aaec45"
      },
      "execution_count": null,
      "outputs": [
        {
          "output_type": "stream",
          "name": "stdout",
          "text": [
            "[]\n",
            "[]\n",
            "[]\n",
            "[]\n",
            "[]\n",
            "[]\n",
            "[]\n",
            "[]\n",
            "[]\n",
            "[]\n",
            "[]\n",
            "[]\n",
            "[]\n",
            "[]\n",
            "[]\n",
            "[]\n",
            "[]\n",
            "[]\n",
            "[]\n",
            "[]\n",
            "[]\n"
          ]
        }
      ]
    },
    {
      "cell_type": "code",
      "source": [
        "pdf.to_excel('/content/drive/MyDrive/RAjobs/OKU_pdf.xlsx',index = False)"
      ],
      "metadata": {
        "id": "py9QPp4Vz9U-"
      },
      "execution_count": null,
      "outputs": []
    },
    {
      "cell_type": "code",
      "execution_count": null,
      "metadata": {
        "id": "gatj-ofPMx-A"
      },
      "outputs": [],
      "source": [
        "# This one I exclude pngs\n",
        "png = []\n",
        "pdf = []\n",
        "extension = []\n",
        "video = []\n",
        "for i in links:\n",
        "  url = i\n",
        "  try:\n",
        "      response = requests.get(url)\n",
        "      soup= BeautifulSoup(response.text, \"html.parser\")\n",
        "      j = 0\n",
        "      p = 0\n",
        "      q = 0\n",
        "      f = 0\n",
        "      for link in soup.find_all(attrs={'href': re.compile(\"http\")}):\n",
        "          content=[]\n",
        "          content.append(link.get('href', []))\n",
        "          for urls in content:\n",
        "              if ('.png' in urls):\n",
        "                  j+=1\n",
        "                  png.append(link.get('href'))\n",
        "              else:\n",
        "                  if ('.pdf' in urls):\n",
        "                    p+=1\n",
        "                    pdf.append(link.get('href'))\n",
        "                  else:\n",
        "                    if ('extension' in urls):\n",
        "                      q+=1\n",
        "                      extension.append(link.get('href'))\n",
        "                    else:\n",
        "                      if (\"youtube\" in urls):\n",
        "                        f+=1\n",
        "                        video.append(link.get('href'))\n",
        "                      else:\n",
        "                        pass\n",
        "\n",
        "  except urllib.error.HTTPError:\n",
        "      pass\n",
        "\n",
        "        #link1.append(link.get('href'))"
      ]
    },
    {
      "cell_type": "code",
      "source": [
        "print(len(png))\n",
        "print(len(pdf))\n",
        "print(len(extension))\n",
        "print(len(video))"
      ],
      "metadata": {
        "colab": {
          "base_uri": "https://localhost:8080/"
        },
        "id": "2tfmGYdE-x-F",
        "outputId": "9b1bd6be-5c38-4e3d-cfd7-9e437968a570"
      },
      "execution_count": null,
      "outputs": [
        {
          "output_type": "stream",
          "name": "stdout",
          "text": [
            "6195\n",
            "801\n",
            "19927\n",
            "15\n"
          ]
        }
      ]
    },
    {
      "cell_type": "code",
      "source": [
        "extension[0:50]"
      ],
      "metadata": {
        "colab": {
          "base_uri": "https://localhost:8080/"
        },
        "id": "E2QjUutjM33J",
        "outputId": "fafb4520-1b2e-49cd-ec6e-c2aee5e341cf"
      },
      "execution_count": null,
      "outputs": [
        {
          "output_type": "execute_result",
          "data": {
            "text/plain": [
              "['https://extension.okstate.edu/fact-sheets/custom-beef-processing-expected-yields.html',\n",
              " 'https://extension.okstate.edu/',\n",
              " 'https://www.facebook.com/sharer/sharer.php?u=https://extension.okstate.edu/fact-sheets/custom-beef-processing-expected-yields.html',\n",
              " 'https://twitter.com/intent/tweet?url=https://extension.okstate.edu/fact-sheets/custom-beef-processing-expected-yields.html',\n",
              " 'https://pinterest.com/pin/create/link/?url=https://extension.okstate.edu/fact-sheets/custom-beef-processing-expected-yields.html&media=https://extension.okstate.edu%20/fact-sheets/images/custom-beef-processing-expected-yields/thumbnail-custom-beef-processing-expected-yields.jpg&description=By%20Joel%20Jackson.%20Learn%20about%20custom%20beef%20processing%20and%20the%20various%20factors%20that%20affect%20the%20yield%20that%20will%20be%20produced.%20',\n",
              " 'https://www.facebook.com/sharer/sharer.php?u=https://extension.okstate.edu/fact-sheets/custom-beef-processing-expected-yields.html',\n",
              " 'https://twitter.com/intent/tweet?url=https://extension.okstate.edu/fact-sheets/custom-beef-processing-expected-yields.html',\n",
              " 'https://pinterest.com/pin/create/link/?url=https://extension.okstate.edu/fact-sheets/custom-beef-processing-expected-yields.html&media=https://extension.okstate.edu%20/fact-sheets/images/custom-beef-processing-expected-yields/thumbnail-custom-beef-processing-expected-yields.jpg&description=By%20Joel%20Jackson.%20Learn%20about%20custom%20beef%20processing%20and%20the%20various%20factors%20that%20affect%20the%20yield%20that%20will%20be%20produced.%20',\n",
              " 'https://extension.okstate.edu/fact-sheets/effect-of-bos-indicus-influence-and-pregnancy-on-feeder-heifer-gains.html',\n",
              " 'https://extension.okstate.edu/fact-sheets/stocker-lease-agreements.html',\n",
              " 'https://extension.okstate.edu/fact-sheets/cow-calf-production-record-software.html',\n",
              " 'https://extension.okstate.edu/fact-sheets/mobile-slaughter-units-regulatory-overview-for-oklahoma-non-poultry.html',\n",
              " 'https://a.cms.omniupdate.com/11/?skin=okstate&account=okstate&site=extension&action=de&path=/fact-sheets/custom-beef-processing-expected-yields.pcf',\n",
              " 'https://extension.okstate.edu/fact-sheets/an-introduction-to-mental-health-challenges-for-rural-americans.html',\n",
              " 'https://extension.okstate.edu/',\n",
              " 'https://www.facebook.com/sharer/sharer.php?u=https://extension.okstate.edu/fact-sheets/an-introduction-to-mental-health-challenges-for-rural-americans.html',\n",
              " 'https://twitter.com/intent/tweet?url=https://extension.okstate.edu/fact-sheets/an-introduction-to-mental-health-challenges-for-rural-americans.html',\n",
              " 'https://pinterest.com/pin/create/link/?url=https://extension.okstate.edu/fact-sheets/an-introduction-to-mental-health-challenges-for-rural-americans.html&media=https://extension.okstate.edu%20/fact-sheets/images/an-introduction-to-mental-health-challenges-for-rural-americans/thumbnail-an-introduction-to-mental-health-challenges-for-rural-americans.jpg&description=By%20Jordan%20Shuler,%20Matthew%20Brosi.%20Learn%20about%20the%20mental%20health%20challenges%20for%20rural%20Americans.',\n",
              " 'https://www.facebook.com/sharer/sharer.php?u=https://extension.okstate.edu/fact-sheets/an-introduction-to-mental-health-challenges-for-rural-americans.html',\n",
              " 'https://twitter.com/intent/tweet?url=https://extension.okstate.edu/fact-sheets/an-introduction-to-mental-health-challenges-for-rural-americans.html',\n",
              " 'https://pinterest.com/pin/create/link/?url=https://extension.okstate.edu/fact-sheets/an-introduction-to-mental-health-challenges-for-rural-americans.html&media=https://extension.okstate.edu%20/fact-sheets/images/an-introduction-to-mental-health-challenges-for-rural-americans/thumbnail-an-introduction-to-mental-health-challenges-for-rural-americans.jpg&description=By%20Jordan%20Shuler,%20Matthew%20Brosi.%20Learn%20about%20the%20mental%20health%20challenges%20for%20rural%20Americans.',\n",
              " 'https://extension.okstate.edu/fact-sheets/farmers-in-transition-taking-charge-in-stressful-times.html',\n",
              " 'https://extension.okstate.edu/fact-sheets/drugs-and-smoking-during-pregnancy-t2402.html',\n",
              " 'https://extension.okstate.edu/fact-sheets/nutrition-and-heart-health-in-the-fire-service.html',\n",
              " 'https://extension.okstate.edu/fact-sheets/weight-management.html',\n",
              " 'https://a.cms.omniupdate.com/11/?skin=okstate&account=okstate&site=extension&action=de&path=/fact-sheets/an-introduction-to-mental-health-challenges-for-rural-americans.pcf',\n",
              " 'https://extension.okstate.edu/fact-sheets/food-business-license-and-permit-costs-in-oklahoma-the-good-the-bad-and-the-mundane.html',\n",
              " 'https://extension.okstate.edu/',\n",
              " 'https://www.facebook.com/sharer/sharer.php?u=https://extension.okstate.edu/fact-sheets/food-business-license-and-permit-costs-in-oklahoma-the-good-the-bad-and-the-mundane.html',\n",
              " 'https://twitter.com/intent/tweet?url=https://extension.okstate.edu/fact-sheets/food-business-license-and-permit-costs-in-oklahoma-the-good-the-bad-and-the-mundane.html',\n",
              " 'https://pinterest.com/pin/create/link/?url=https://extension.okstate.edu/fact-sheets/food-business-license-and-permit-costs-in-oklahoma-the-good-the-bad-and-the-mundane.html&media=https://extension.okstate.edu%20/fact-sheets/images/food-business-license-and-permit-costs-in-oklahoma-the-good-the-bad-and-the-mundane/thumbnail-food-business-license-and-permit-costs-in-oklahoma-the-good-the-bad-and-the-mundane.jpg&description=A%20helpful%20guide%20that%20clarifies%20food%20business%20categories%20with%20their%20corresponding%20definitions%20and%20license%20fees.',\n",
              " 'https://www.facebook.com/sharer/sharer.php?u=https://extension.okstate.edu/fact-sheets/food-business-license-and-permit-costs-in-oklahoma-the-good-the-bad-and-the-mundane.html',\n",
              " 'https://twitter.com/intent/tweet?url=https://extension.okstate.edu/fact-sheets/food-business-license-and-permit-costs-in-oklahoma-the-good-the-bad-and-the-mundane.html',\n",
              " 'https://pinterest.com/pin/create/link/?url=https://extension.okstate.edu/fact-sheets/food-business-license-and-permit-costs-in-oklahoma-the-good-the-bad-and-the-mundane.html&media=https://extension.okstate.edu%20/fact-sheets/images/food-business-license-and-permit-costs-in-oklahoma-the-good-the-bad-and-the-mundane/thumbnail-food-business-license-and-permit-costs-in-oklahoma-the-good-the-bad-and-the-mundane.jpg&description=A%20helpful%20guide%20that%20clarifies%20food%20business%20categories%20with%20their%20corresponding%20definitions%20and%20license%20fees.',\n",
              " 'https://extension.okstate.edu/fact-sheets/regulatory-landscape-for-the-direct-marketing-of-meat-and-poultry-in-ok.html',\n",
              " 'https://extension.okstate.edu/fact-sheets/3-d-printed-parts-for-food-contact.html',\n",
              " 'https://extension.okstate.edu/fact-sheets/homemade-food-freedom-act-fapc-242.html',\n",
              " 'https://extension.okstate.edu/fact-sheets/automatic-pneumatic-cutter.html',\n",
              " 'https://a.cms.omniupdate.com/11/?skin=okstate&account=okstate&site=extension&action=de&path=/fact-sheets/food-business-license-and-permit-costs-in-oklahoma-the-good-the-bad-and-the-mundane.pcf',\n",
              " 'https://extension.okstate.edu/fact-sheets/propagation-of-ornamental-plants-for-oklahoma.html',\n",
              " 'https://extension.okstate.edu/',\n",
              " 'https://www.facebook.com/sharer/sharer.php?u=https://extension.okstate.edu/fact-sheets/propagation-of-ornamental-plants-for-oklahoma.html',\n",
              " 'https://twitter.com/intent/tweet?url=https://extension.okstate.edu/fact-sheets/propagation-of-ornamental-plants-for-oklahoma.html',\n",
              " 'https://pinterest.com/pin/create/link/?url=https://extension.okstate.edu/fact-sheets/propagation-of-ornamental-plants-for-oklahoma.html&media=https://extension.okstate.edu%20/fact-sheets/images/propagation-of-ornamental-plants-for-oklahoma/thumbnail-propagation-of-ornamental-plants-for-oklahoma.jpg&description=This%20circular%20discusses%20propagation%20techniques%20for%20different%20types%20plants.',\n",
              " 'https://www.facebook.com/sharer/sharer.php?u=https://extension.okstate.edu/fact-sheets/propagation-of-ornamental-plants-for-oklahoma.html',\n",
              " 'https://twitter.com/intent/tweet?url=https://extension.okstate.edu/fact-sheets/propagation-of-ornamental-plants-for-oklahoma.html',\n",
              " 'https://pinterest.com/pin/create/link/?url=https://extension.okstate.edu/fact-sheets/propagation-of-ornamental-plants-for-oklahoma.html&media=https://extension.okstate.edu%20/fact-sheets/images/propagation-of-ornamental-plants-for-oklahoma/thumbnail-propagation-of-ornamental-plants-for-oklahoma.jpg&description=This%20circular%20discusses%20propagation%20techniques%20for%20different%20types%20plants.',\n",
              " 'https://extension.okstate.edu/fact-sheets/shade-tree-borers.html',\n",
              " 'https://extension.okstate.edu/fact-sheets/causa-y-efectos-de-la-acidez-del-suelo.html',\n",
              " 'https://extension.okstate.edu/fact-sheets/perennial-flowers-for-specific-uses-in-oklahoma.html']"
            ]
          },
          "metadata": {},
          "execution_count": 17
        }
      ]
    },
    {
      "cell_type": "code",
      "execution_count": null,
      "metadata": {
        "colab": {
          "base_uri": "https://localhost:8080/"
        },
        "id": "sKKTQmMvKbgE",
        "outputId": "912d00e2-e3a4-4178-dfc7-e35094bce176"
      },
      "outputs": [
        {
          "data": {
            "text/plain": [
              "6195"
            ]
          },
          "execution_count": 7,
          "metadata": {},
          "output_type": "execute_result"
        }
      ],
      "source": [
        "len(png)"
      ]
    },
    {
      "cell_type": "code",
      "execution_count": null,
      "metadata": {
        "colab": {
          "base_uri": "https://localhost:8080/"
        },
        "id": "zu7pdRhJEB4w",
        "outputId": "32941a90-59c4-4014-8534-2f6566957379"
      },
      "outputs": [
        {
          "data": {
            "text/plain": [
              "801"
            ]
          },
          "execution_count": 10,
          "metadata": {},
          "output_type": "execute_result"
        }
      ],
      "source": [
        "len(pdf)"
      ]
    },
    {
      "cell_type": "code",
      "execution_count": null,
      "metadata": {
        "id": "YOuy8ri-RC3z"
      },
      "outputs": [],
      "source": [
        "usda = []\n",
        "\n",
        "\n",
        "\n",
        "for i in links:\n",
        "    url = i\n",
        "\n",
        "    response = requests.get(url)\n",
        "    soup= BeautifulSoup(response.text, \"html.parser\")\n",
        "    j = 0\n",
        "\n",
        "\n",
        "\n",
        "    for link in soup.find_all(attrs={'href': re.compile(\"http\")}):\n",
        "        content=[]\n",
        "        content.append(link.get('href', []))\n",
        "        for urls in content:\n",
        "            if ('usda' in urls):\n",
        "              if ('extension' in urls):\n",
        "                pass\n",
        "              else:\n",
        "                j+=1\n",
        "                usda.append(link.get('href'))\n"
      ]
    },
    {
      "cell_type": "code",
      "source": [
        "len(usda)"
      ],
      "metadata": {
        "colab": {
          "base_uri": "https://localhost:8080/"
        },
        "id": "odtpudPoMRhz",
        "outputId": "db7806cb-3f2b-4c52-a4a2-5dc06dc7bd01"
      },
      "execution_count": null,
      "outputs": [
        {
          "output_type": "execute_result",
          "data": {
            "text/plain": [
              "91"
            ]
          },
          "metadata": {},
          "execution_count": 12
        }
      ]
    },
    {
      "cell_type": "code",
      "source": [
        "usda[0:91]"
      ],
      "metadata": {
        "colab": {
          "base_uri": "https://localhost:8080/"
        },
        "id": "K0e2goaUMU-H",
        "outputId": "ff414d85-54ad-4aa2-a8a1-0923c079b3ad"
      },
      "execution_count": null,
      "outputs": [
        {
          "output_type": "execute_result",
          "data": {
            "text/plain": [
              "['https://www.fsis.usda.gov/inspection/establishments/meat-poultry-and-egg-product-inspection-directory',\n",
              " 'https://www.aphis.usda.gov/animal_health/nahms/feedlot/downloads/feedlot2011/Feed11_dr_PartIV_1.pdf',\n",
              " 'https://nchfp.uga.edu/publications/publications_usda.html',\n",
              " 'https://www.fsa.usda.gov/programs-and-services/farm-loan-programs/farm-ownership-loans/index',\n",
              " 'https://www.fsa.usda.gov/programs-and-services/farm-loan-programs/farm-ownership-loans/index',\n",
              " 'https://www.fsa.usda.gov/programs-and-services/farm-loan-programs/farm-ownership-loans/index',\n",
              " 'https://www.nrcs.usda.gov/wps/portal/nrcs/main/national/programs/financial/eqip/',\n",
              " 'https://www.nass.usda.gov/Statistics_by_State/Oklahoma/Publications/Recent_Reports/2021/spr-acreage-2021.pdf',\n",
              " 'https://quickstats.nass.usda.gov',\n",
              " 'https://www.nal.usda.gov/fsrio/aflatoxins',\n",
              " 'https://www.ams.usda.gov/market-news/goat-reports',\n",
              " 'http://www.cnpp.usda.gov/DietaryGuidelines.htm',\n",
              " 'http://www.cnpp.usda.gov/DietaryGuidelines.htm',\n",
              " 'https://www.ers.usda.gov/data-products/rural-urban-continuum-codes/documentation/',\n",
              " 'https://www.nass.usda.gov/Statistics_by_State/Oklahoma/Publications/Recent_Reports/index.php',\n",
              " 'https://www.nass.usda.gov/Statistics_by_State/Oklahoma/',\n",
              " 'https://www.nrcs.usda.gov/wps/portal/nrcs/detail/ national/technical/econ/references/?cid=nrcs143_009751',\n",
              " 'https://www.ers.usda.gov/data-products/rural-urban-continuum-codes/documentation/',\n",
              " 'http://www.fsis.usda.gov/OApubsconsumerpubs',\n",
              " 'https://www.ams.usda.gov/grades-standards/olive-oil-and-olive-pomace-oil-grades-and-standards',\n",
              " 'https://www.ers.usda.gov/topics/food-markets-prices/processing-marketing/new-products/.',\n",
              " 'https://wicworks.fns.usda.gov/resources/nibbles-health-nutrition-newsletters-parents-young-children',\n",
              " 'https://prodwebnlb.rma.usda.gov/apps/prf',\n",
              " 'https://prodwebnlb.rma.usda.gov/apps/prf',\n",
              " 'https://prodwebnlb.rma.usda.gov/apps/prf',\n",
              " 'https://prodwebnlb.rma.usda.gov/apps/prf',\n",
              " 'https://www.rma.usda.gov/Fact-Sheets/National-Fact-Sheets/Pasture-Rangeland-Forage-Pilot-Insurance-Program',\n",
              " 'https://prodwebnlb.rma.usda.gov/apps/prf',\n",
              " 'https://www.nrcs.usda.gov/Internet/FSE_DOCUMENTS/nrcs142p2_041023.pdf',\n",
              " 'https://www.fns.usda.gov/tn/nibbles',\n",
              " 'https://www.fns.usda.gov/',\n",
              " 'https://ndb.nal.usda.gov/',\n",
              " 'https://www.nrcs.usda.gov//wps/portal/nrcs/detail/ok/contact/local/?cid=nrcs142p2_000584',\n",
              " 'https://www.nrcs.usda.gov/wps/portal/nrcs/main/ok/contact/local/',\n",
              " 'https://www.fsa.usda.gov/programs-and-services/conservation-programs/crp-grasslands/index',\n",
              " 'https://www.fsa.usda.gov/programs-and-services/disaster-assistance-program/livestock-forage/index',\n",
              " 'https://www.ers.usda.gov/publications/pub-details/?pubid=86989',\n",
              " 'https://quickstats.nass.usda.gov/',\n",
              " 'https://quickstats.nass.usda.gov',\n",
              " 'https://ndb.nal.usda.gov/',\n",
              " 'https://www.ers.usda.gov/data-products/county-typology-codes/documentation/',\n",
              " 'https://esis.sc.egov.usda.gov/Default.aspx',\n",
              " 'https://www.nrcs.usda.gov/wps/portal/nrcs/main/ok/contact/local/',\n",
              " 'https://www.nrcs.usda.gov/wps/portal/nrcs/main/ok/contact/local/',\n",
              " 'https://www.agcensus.usda.gov/Publications/2012/Online_Resources/Farm_and_Ranch_Irrigation_Survey/fris13_1_012_012.pdf',\n",
              " 'http://offices.sc.egov.usda.gov/locator/app?state=ok&agency=fsa',\n",
              " 'https://www.climatehubs.oce.usda.gov/dealing-drought',\n",
              " 'http://www.fsis.usda.gov/wps/portal/fsis/topics/data-collection-and-reports/chemistry/blue-books/ct_index',\n",
              " 'https://www.ams.usda.gov/mnreports/fvwtvpcn.pdf',\n",
              " 'http://www.fsis.usda.gov/',\n",
              " 'https://websoilsurvey.sc.egov.usda.gov/App/WebSoilSurvey.aspx',\n",
              " 'http://www.cnpp.usda.gov/DietaryGuidelines.htm',\n",
              " 'http://plants.usda.gov/core/profile?symbol=SOHA',\n",
              " 'https://www.nrcs.usda.gov/Internet/FSE_DOCUMENTS/stelprdb1044574.pdf',\n",
              " 'http://websoilsurvey.nrcs.usda.gov',\n",
              " 'https://plants.sc.egov.usda.gov/java/',\n",
              " 'http://websoilsurvey.sc.egov.usda.gov/App/HomePage.htm',\n",
              " 'http://www.nrcs.usda.gov/wps/portal/nrcs/detail/ok/contact/?cid=nrcs142p2_000584',\n",
              " 'http://www.ams.usda.gov/AMSv1.0/ams.fetchTemplateData.do?template=TemplateP&page=Cattle',\n",
              " 'https://www.nal.usda.gov/ric/small-farm-funding-resources',\n",
              " 'http://www.fsa.usda.gov/programs-and-services/farm-loan-programs/index',\n",
              " 'https://www.ams.usda.gov/',\n",
              " 'https://www.ams.usda.gov/',\n",
              " 'https://www.ams.usda.gov/',\n",
              " 'https://www.ams.usda.gov/',\n",
              " 'https://websoilsurvey.sc.egov.usda.gov/App/HomePage.htm',\n",
              " 'https://www.nrcs.usda.gov/wps/PA_NRCSConsumption/download/?cid=nrcseprd1903661&ext=pdf',\n",
              " 'https://www.nrcs.usda.gov/Internet/FSE_DOCUMENTS/nrcseprd1291222.pdf',\n",
              " 'https://efotg.sc.egov.usda.gov/#/',\n",
              " 'https://www.rma.usda.gov/en/Fact-Sheets/National-Fact-Sheets/Pasture-Rangeland-Forage-Pilot-Insurance-Program',\n",
              " 'http://www.rma.usda.gov/tools/agent.html',\n",
              " 'https://legacy.rma.usda.gov/policies/pasturerangeforage/',\n",
              " 'http://www.nass.usda.gov/QuickStats/PullData_US.jsp',\n",
              " 'https://www.ams.usda.gov/rules-regulations/organic/national-list',\n",
              " 'http://www.ams.usda.gov/AMSv1.0/LPSMarketNewsPage',\n",
              " 'http://www.ers.usda.gov/data-products/urban-influence-codes/documentation.aspx',\n",
              " 'http://naldc.nal.usda.gov/download/CAT10842840/PDF',\n",
              " 'https://www.ams.usda.gov/market-news/livestock-poultry-grain',\n",
              " 'https://www.aphis.usda.gov/animal_health/emergency_management/downloads/hpai/mortalitycompostingprotocol.pdf',\n",
              " 'http://www.nass.usda.gov/ok/',\n",
              " 'https://quickstats.nass.usda.gov/results/E0F5EB36-3313-3D7B-9E7F-E56A3365CF2B#9A9F55D7-E267-38C6-ACB9-DF106291B5A7',\n",
              " 'http://www.nass.usda.gov/ok/',\n",
              " 'https://websoilsurvey.sc.egov.usda.gov/App/HomePage.htm',\n",
              " 'https://www.nal.usda.gov/fnic/food-composition',\n",
              " 'http://www.nrcs.usda.gov/wps/portal/nrcs/soilsurvey/soils/survey/state/',\n",
              " 'https://www.nrcs.usda.gov/wps/portal/nrcs/main/national/technical/ecoscience/desc/',\n",
              " 'http://plants.usda.gov/gallery.html',\n",
              " 'http://www.cnpp.usda.gov/DietaryGuidelines.htm',\n",
              " 'https://www.fsis.usda.gov/wps/portal/fsis/topics/regulatory-compliance/compliance-guides-index/sanitation-performance-standards/sanitation-compliance-guide',\n",
              " 'http://www.ams.usda.gov/sites/default/files/media/Milk%20for%20Manufacturing%20Purposes%20and%20its%20Production%20and%20Processing.pdf',\n",
              " 'https://www.fsis.usda.gov/wps/portal/fsis/topics/regulations/directives/7000-series/7000-series']"
            ]
          },
          "metadata": {},
          "execution_count": 15
        }
      ]
    },
    {
      "cell_type": "code",
      "source": [
        "cornell = []\n",
        "\n",
        "\n",
        "\n",
        "for i in links:\n",
        "    url = i\n",
        "\n",
        "    response = requests.get(url)\n",
        "    soup= BeautifulSoup(response.text, \"html.parser\")\n",
        "    j = 0\n",
        "\n",
        "\n",
        "\n",
        "    for link in soup.find_all(attrs={'href': re.compile(\"http\")}):\n",
        "        content=[]\n",
        "        content.append(link.get('href', []))\n",
        "        for urls in content:\n",
        "            if ('cornell' in urls):\n",
        "              j+=1\n",
        "              cornell.append(link.get('href'))\n",
        "            else:\n",
        "              pass\n"
      ],
      "metadata": {
        "id": "y1YhAXDLLcDA"
      },
      "execution_count": null,
      "outputs": []
    },
    {
      "cell_type": "code",
      "execution_count": null,
      "metadata": {
        "id": "9_PG3i1Xmf3y",
        "colab": {
          "base_uri": "https://localhost:8080/"
        },
        "outputId": "3bc46f26-cd6b-4e53-98ba-1e5b30119b61"
      },
      "outputs": [
        {
          "output_type": "execute_result",
          "data": {
            "text/plain": [
              "['http://blogs.cornell.edu/whatscroppingup/2014/07/25/how-does-corn-planting-depth-affect-stand-establishment/',\n",
              " 'https://agcensus.library.cornell.edu/wp-content/uploads/2012-Farm-and-Ranch-Irrigation-Survey-fris13.pdf',\n",
              " 'http://gardening.cals.cornell.edu/',\n",
              " 'http://www.gaps.cornell.edu/index.html',\n",
              " 'http://www.gaps.cornell.edu/educationalmaterials.html']"
            ]
          },
          "metadata": {},
          "execution_count": 7
        }
      ],
      "source": [
        "cornell"
      ]
    },
    {
      "cell_type": "code",
      "execution_count": null,
      "metadata": {
        "id": "hroRiAKYmSFt"
      },
      "outputs": [],
      "source": [
        "usda_link = pd.DataFrame(usda)\n",
        "usda_link.to_csv('/content/drive/MyDrive/RAjobs/usda.csv')"
      ]
    },
    {
      "cell_type": "code",
      "execution_count": null,
      "metadata": {
        "id": "spjCdhoMme6R"
      },
      "outputs": [],
      "source": [
        "nass = []\n",
        "\n",
        "\n",
        "\n",
        "for i in links:\n",
        "    url = i\n",
        "\n",
        "    response = requests.get(url)\n",
        "    soup= BeautifulSoup(response.text, \"html.parser\")\n",
        "    j = 0\n",
        "\n",
        "\n",
        "\n",
        "    for link in soup.find_all(attrs={'href': re.compile(\"http\")}):\n",
        "        content=[]\n",
        "        content.append(link.get('href', []))\n",
        "        for urls in content:\n",
        "            if ('usda' in urls):\n",
        "                if ('nass' in urls):\n",
        "                  j+=1\n",
        "                  nass.append(link.get('href'))\n",
        "            else:\n",
        "                pass\n"
      ]
    },
    {
      "cell_type": "code",
      "execution_count": null,
      "metadata": {
        "colab": {
          "base_uri": "https://localhost:8080/"
        },
        "id": "nCphAL2DzfdQ",
        "outputId": "7f739052-91b1-425c-a36d-fa7dfaa4980d"
      },
      "outputs": [
        {
          "data": {
            "text/plain": [
              "10"
            ]
          },
          "execution_count": 20,
          "metadata": {},
          "output_type": "execute_result"
        }
      ],
      "source": [
        "len(nass)"
      ]
    },
    {
      "cell_type": "code",
      "execution_count": null,
      "metadata": {
        "colab": {
          "base_uri": "https://localhost:8080/"
        },
        "id": "ahIHF4DEzhca",
        "outputId": "44377025-6558-4e7f-8b0d-d8f9a6f50433"
      },
      "outputs": [
        {
          "name": "stdout",
          "output_type": "stream",
          "text": [
            "['https://www.nass.usda.gov/Statistics_by_State/Oklahoma/Publications/Recent_Reports/2021/spr-acreage-2021.pdf', 'https://quickstats.nass.usda.gov', 'https://www.nass.usda.gov/Statistics_by_State/Oklahoma/Publications/Recent_Reports/index.php', 'https://www.nass.usda.gov/Statistics_by_State/Oklahoma/', 'https://quickstats.nass.usda.gov/', 'https://quickstats.nass.usda.gov', 'http://www.nass.usda.gov/QuickStats/PullData_US.jsp', 'http://www.nass.usda.gov/ok/', 'https://quickstats.nass.usda.gov/results/E0F5EB36-3313-3D7B-9E7F-E56A3365CF2B#9A9F55D7-E267-38C6-ACB9-DF106291B5A7', 'http://www.nass.usda.gov/ok/']\n"
          ]
        }
      ],
      "source": [
        "print(nass)"
      ]
    },
    {
      "cell_type": "code",
      "execution_count": null,
      "metadata": {
        "id": "xpxZWR1_znYx"
      },
      "outputs": [],
      "source": [
        "report = []\n",
        "\n",
        "\n",
        "\n",
        "for i in links:\n",
        "    url = i\n",
        "\n",
        "    response = requests.get(url)\n",
        "    soup= BeautifulSoup(response.text, \"html.parser\")\n",
        "    j = 0\n",
        "\n",
        "\n",
        "\n",
        "    for link in soup.find_all(attrs={'href': re.compile(\"http\")}):\n",
        "        content=[]\n",
        "        content.append(link.get('href', []))\n",
        "        for urls in content:\n",
        "            if ('report' in urls):\n",
        "\n",
        "                j+=1\n",
        "                report.append(link.get('href'))\n",
        "            else:\n",
        "                pass"
      ]
    },
    {
      "cell_type": "code",
      "execution_count": null,
      "metadata": {
        "colab": {
          "base_uri": "https://localhost:8080/"
        },
        "id": "EpCXm4pUkrF2",
        "outputId": "b15201ea-2cee-47d7-b31f-5107483b595f"
      },
      "outputs": [
        {
          "data": {
            "text/plain": [
              "136"
            ]
          },
          "execution_count": 7,
          "metadata": {},
          "output_type": "execute_result"
        }
      ],
      "source": [
        "len(report)"
      ]
    },
    {
      "cell_type": "code",
      "execution_count": null,
      "metadata": {
        "colab": {
          "base_uri": "https://localhost:8080/"
        },
        "id": "vGpKcGYUkvAR",
        "outputId": "2530b707-1014-41a0-dcdc-57c604ebc079"
      },
      "outputs": [
        {
          "name": "stdout",
          "output_type": "stream",
          "text": [
            "['https://oklahoma.gov/tax/reporting-resources/publications.html?q=copos', 'https://kerrcenter.com/publication/heirloom-variety-trial-report-2010-sweet-potato/', 'https://extension.okstate.edu/fact-sheets/2021_vegetable_trial_report.html', 'https://www.facebook.com/sharer/sharer.php?u=https://extension.okstate.edu/fact-sheets/2021_vegetable_trial_report.html', 'https://twitter.com/intent/tweet?url=https://extension.okstate.edu/fact-sheets/2021_vegetable_trial_report.html', 'https://pinterest.com/pin/create/link/?url=https://extension.okstate.edu/fact-sheets/2021_vegetable_trial_report.html&media=https://extension.okstate.edu%20/fact-sheets/images/2021-vegetable-trial-report/thumbnail-2021-vegetable-trial-report.jpg&description=The%202021%20vegetable%20trial%20report%20results.', 'https://www.facebook.com/sharer/sharer.php?u=https://extension.okstate.edu/fact-sheets/2021_vegetable_trial_report.html', 'https://twitter.com/intent/tweet?url=https://extension.okstate.edu/fact-sheets/2021_vegetable_trial_report.html', 'https://pinterest.com/pin/create/link/?url=https://extension.okstate.edu/fact-sheets/2021_vegetable_trial_report.html&media=https://extension.okstate.edu%20/fact-sheets/images/2021-vegetable-trial-report/thumbnail-2021-vegetable-trial-report.jpg&description=The%202021%20vegetable%20trial%20report%20results.', 'https://a.cms.omniupdate.com/11/?skin=okstate&account=okstate&site=extension&action=de&path=/fact-sheets/2021_vegetable_trial_report.pcf', 'https://pinterest.com/pin/create/link/?url=https://extension.okstate.edu/fact-sheets/2020-2021-small-grains-variety-performance-tests.html&media=https://extension.okstate.edu%20/fact-sheets/images/2020-2021-small-grains-variety-performance-tests/thumb-single-wheat-sheaf-lays-against-a-lit-blue-background.jpg&description=At%20the%20time%20of%20writing%20this%20report,%202021%20Oklahoma%20wheat%20production%20is%20estimated%20to%20be%20approximately%20108%20million%20bushels,%20which%20is%20about%204%%20higher%20than%202020%20production%20and%202%%20lower%20than%202019%20production%20', 'https://pinterest.com/pin/create/link/?url=https://extension.okstate.edu/fact-sheets/2020-2021-small-grains-variety-performance-tests.html&media=https://extension.okstate.edu%20/fact-sheets/images/2020-2021-small-grains-variety-performance-tests/thumb-single-wheat-sheaf-lays-against-a-lit-blue-background.jpg&description=At%20the%20time%20of%20writing%20this%20report,%202021%20Oklahoma%20wheat%20production%20is%20estimated%20to%20be%20approximately%20108%20million%20bushels,%20which%20is%20about%204%%20higher%20than%202020%20production%20and%202%%20lower%20than%202019%20production%20', 'https://www.ams.usda.gov/market-news/goat-reports', 'https://extension.okstate.edu/fact-sheets/2020-oklahoma-replicated-agronomic-cotton-evaluation-trial-report.html', 'https://pinterest.com/pin/create/link/?url=https://extension.okstate.edu/fact-sheets/corn-performance-trials-in-oklahoma-panhandle-2021.html&media=https://extension.okstate.edu%20/fact-sheets/images/corn-performance-trials-in-oklahoma-panhandle-2021/thumbnail-corn-performance-trials-2021.jpg&description=A%20report%20on%20the%202021%20corn%20performance%20trials%20across%20the%20Oklahoma%20Panhandle.', 'https://pinterest.com/pin/create/link/?url=https://extension.okstate.edu/fact-sheets/corn-performance-trials-in-oklahoma-panhandle-2021.html&media=https://extension.okstate.edu%20/fact-sheets/images/corn-performance-trials-in-oklahoma-panhandle-2021/thumbnail-corn-performance-trials-2021.jpg&description=A%20report%20on%20the%202021%20corn%20performance%20trials%20across%20the%20Oklahoma%20Panhandle.', 'https://pinterest.com/pin/create/link/?url=https://extension.okstate.edu/fact-sheets/considering-water-quality-in-oklahoma.html&media=https://extension.okstate.edu%20/fact-sheets/images/considering-water-quality-in-oklahoma/thumbnail-considering-water-quality-in-oklahoma.jpg&description=Often%20referred%20to%20as%20%E2%80%9Ctap%20water%E2%80%9D%20drinking%20water%20from%20public%20water%20systems%20is%20an%20important%20resource.%20This%20current%20report%20seeks%20to%20evaluate%20the%20perceptions%20of%20water%20quality.', 'https://pinterest.com/pin/create/link/?url=https://extension.okstate.edu/fact-sheets/considering-water-quality-in-oklahoma.html&media=https://extension.okstate.edu%20/fact-sheets/images/considering-water-quality-in-oklahoma/thumbnail-considering-water-quality-in-oklahoma.jpg&description=Often%20referred%20to%20as%20%E2%80%9Ctap%20water%E2%80%9D%20drinking%20water%20from%20public%20water%20systems%20is%20an%20important%20resource.%20This%20current%20report%20seeks%20to%20evaluate%20the%20perceptions%20of%20water%20quality.', 'https://pinterest.com/pin/create/link/?url=https://extension.okstate.edu/fact-sheets/oklahoma-cropland-rental-rates-2020-21.html&media=https://extension.okstate.edu%20/fact-sheets/images/oklahoma-cropland-rental-rates-2020-21/thumbnail-oklahoma-cropland-rental-rates-2020-21.jpg&description=A%202020-2021%20survey%20reporting%20the%20rental%20agreements,%20rates%20and%20influencing%20factors%20of%20leasing%20farmland%20in%20Oklahoma.', 'https://pinterest.com/pin/create/link/?url=https://extension.okstate.edu/fact-sheets/oklahoma-cropland-rental-rates-2020-21.html&media=https://extension.okstate.edu%20/fact-sheets/images/oklahoma-cropland-rental-rates-2020-21/thumbnail-oklahoma-cropland-rental-rates-2020-21.jpg&description=A%202020-2021%20survey%20reporting%20the%20rental%20agreements,%20rates%20and%20influencing%20factors%20of%20leasing%20farmland%20in%20Oklahoma.', 'https://pinterest.com/pin/create/link/?url=https://extension.okstate.edu/fact-sheets/oklahoma-pasture-rental-rates-2020-21.html&media=https://extension.okstate.edu%20/fact-sheets/images/oklahoma-pasture-rental-rates-2020-21/thumbnail-oklahoma-pasture-rental-rates-2020-21.jpg&description=A%202020-2021%20survey%20reporting%20the%20rental%20agreements,%20rates%20and%20influencing%20factors%20of%20leasing%20pasture%20land%20in%20Oklahoma.', 'https://pinterest.com/pin/create/link/?url=https://extension.okstate.edu/fact-sheets/oklahoma-pasture-rental-rates-2020-21.html&media=https://extension.okstate.edu%20/fact-sheets/images/oklahoma-pasture-rental-rates-2020-21/thumbnail-oklahoma-pasture-rental-rates-2020-21.jpg&description=A%202020-2021%20survey%20reporting%20the%20rental%20agreements,%20rates%20and%20influencing%20factors%20of%20leasing%20pasture%20land%20in%20Oklahoma.', 'https://extension.okstate.edu/fact-sheets/2020-oklahoma-replicated-agronomic-cotton-evaluation-trial-report.html', 'https://www.facebook.com/sharer/sharer.php?u=https://extension.okstate.edu/fact-sheets/2020-oklahoma-replicated-agronomic-cotton-evaluation-trial-report.html', 'https://twitter.com/intent/tweet?url=https://extension.okstate.edu/fact-sheets/2020-oklahoma-replicated-agronomic-cotton-evaluation-trial-report.html', 'https://pinterest.com/pin/create/link/?url=https://extension.okstate.edu/fact-sheets/2020-oklahoma-replicated-agronomic-cotton-evaluation-trial-report.html&media=https://extension.okstate.edu%20/fact-sheets/images/2020-oklahoma-replicated-agronomic-cotton-evaluation-trial-report/thumbnail-2019-replicated-agronomic-cotton-evaluation-trial-report.jpg&description=An%20overview%20of%20data%20collection%20from%20Oklahoma%E2%80%99s%202020%20cotton%20season%20and%20an%20explanation%20as%20to%20why%20there%20was%20planting%20in%20regions%20where%20large%20increases%20in%20cotton%20acres%20were%20predicted.', 'https://www.facebook.com/sharer/sharer.php?u=https://extension.okstate.edu/fact-sheets/2020-oklahoma-replicated-agronomic-cotton-evaluation-trial-report.html', 'https://twitter.com/intent/tweet?url=https://extension.okstate.edu/fact-sheets/2020-oklahoma-replicated-agronomic-cotton-evaluation-trial-report.html', 'https://pinterest.com/pin/create/link/?url=https://extension.okstate.edu/fact-sheets/2020-oklahoma-replicated-agronomic-cotton-evaluation-trial-report.html&media=https://extension.okstate.edu%20/fact-sheets/images/2020-oklahoma-replicated-agronomic-cotton-evaluation-trial-report/thumbnail-2019-replicated-agronomic-cotton-evaluation-trial-report.jpg&description=An%20overview%20of%20data%20collection%20from%20Oklahoma%E2%80%99s%202020%20cotton%20season%20and%20an%20explanation%20as%20to%20why%20there%20was%20planting%20in%20regions%20where%20large%20increases%20in%20cotton%20acres%20were%20predicted.', 'https://a.cms.omniupdate.com/11/?skin=okstate&account=okstate&site=extension&action=de&path=/fact-sheets/2020-oklahoma-replicated-agronomic-cotton-evaluation-trial-report.pcf', 'https://extension.okstate.edu/fact-sheets/2020-vegetable-trial-report.html', 'https://www.facebook.com/sharer/sharer.php?u=https://extension.okstate.edu/fact-sheets/2020-vegetable-trial-report.html', 'https://twitter.com/intent/tweet?url=https://extension.okstate.edu/fact-sheets/2020-vegetable-trial-report.html', 'https://pinterest.com/pin/create/link/?url=https://extension.okstate.edu/fact-sheets/2020-vegetable-trial-report.html&media=https://extension.okstate.edu%20/fact-sheets/images/2020-vegetable-trial-report/thumbnail-2020-vegetable-trial-report.jpg&description=The%20Department%20of%20Horticulture%20and%20Landscape%20Architecture,%20cooperating%20departments%20and%20experimental%20farms%20conducted%20a%20series%20of%20experiments%20on%20field%20vegetable%20production.', 'https://www.facebook.com/sharer/sharer.php?u=https://extension.okstate.edu/fact-sheets/2020-vegetable-trial-report.html', 'https://twitter.com/intent/tweet?url=https://extension.okstate.edu/fact-sheets/2020-vegetable-trial-report.html', 'https://pinterest.com/pin/create/link/?url=https://extension.okstate.edu/fact-sheets/2020-vegetable-trial-report.html&media=https://extension.okstate.edu%20/fact-sheets/images/2020-vegetable-trial-report/thumbnail-2020-vegetable-trial-report.jpg&description=The%20Department%20of%20Horticulture%20and%20Landscape%20Architecture,%20cooperating%20departments%20and%20experimental%20farms%20conducted%20a%20series%20of%20experiments%20on%20field%20vegetable%20production.', 'https://a.cms.omniupdate.com/11/?skin=okstate&account=okstate&site=extension&action=de&path=/fact-sheets/2020-vegetable-trial-report.pcf', 'https://pinterest.com/pin/create/link/?url=https://extension.okstate.edu/fact-sheets/fed-cattle-price-discovery-issues-and-considerations.html&media=https://extension.okstate.edu%20/fact-sheets/images/fed-cattle-price-discovery-issues-and-considerations/thumbnail-fed-cattle-price-discovery-issues-and-considerations.jpg&description=This%20report%20was%20commissioned%20by%20the%20National%20Cattlemen%E2%80%99s%20Beef%20Association%20to%20provide%20guidance%20in%20support%20of%20cattle%20industry%20policy%20considerations,%20especially%20related%20to%20price%20discovery%20in%20fed%20cattle%20markets.%20The%20task%20force%20of%20agricultural%20economists%20that%20produced%20this%20report%20collective-ly%20have%20more%20than%20120%20years%20of%20experience%20as%20cattle%20industry%20economic%20analysts%20and%20researchers.%20In%20about%20three%20weeks%E2%80%99%20time,%20this%20task%20force%20assembled,%20considered,%20synthesized%20and%20summarized%20available%20research,%20information%20and%20knowledge%20about%20the%20economics%20of%20the%20cattle%20industry.%20', 'https://pinterest.com/pin/create/link/?url=https://extension.okstate.edu/fact-sheets/fed-cattle-price-discovery-issues-and-considerations.html&media=https://extension.okstate.edu%20/fact-sheets/images/fed-cattle-price-discovery-issues-and-considerations/thumbnail-fed-cattle-price-discovery-issues-and-considerations.jpg&description=This%20report%20was%20commissioned%20by%20the%20National%20Cattlemen%E2%80%99s%20Beef%20Association%20to%20provide%20guidance%20in%20support%20of%20cattle%20industry%20policy%20considerations,%20especially%20related%20to%20price%20discovery%20in%20fed%20cattle%20markets.%20The%20task%20force%20of%20agricultural%20economists%20that%20produced%20this%20report%20collective-ly%20have%20more%20than%20120%20years%20of%20experience%20as%20cattle%20industry%20economic%20analysts%20and%20researchers.%20In%20about%20three%20weeks%E2%80%99%20time,%20this%20task%20force%20assembled,%20considered,%20synthesized%20and%20summarized%20available%20research,%20information%20and%20knowledge%20about%20the%20economics%20of%20the%20cattle%20industry.%20', 'https://extension.okstate.edu/fact-sheets/vegetable-trial-reports-2010-2019.html', 'https://www.facebook.com/sharer/sharer.php?u=https://extension.okstate.edu/fact-sheets/vegetable-trial-reports-2010-2019.html', 'https://twitter.com/intent/tweet?url=https://extension.okstate.edu/fact-sheets/vegetable-trial-reports-2010-2019.html', 'https://pinterest.com/pin/create/link/?url=https://extension.okstate.edu/fact-sheets/vegetable-trial-reports-2010-2019.html&media=https://extension.okstate.edu%20/fact-sheets/images/vegetable-trial-reports-2010-2019/thumbnail-vegetable-trial-reports-2010-2019.jpg&description=', 'https://www.facebook.com/sharer/sharer.php?u=https://extension.okstate.edu/fact-sheets/vegetable-trial-reports-2010-2019.html', 'https://twitter.com/intent/tweet?url=https://extension.okstate.edu/fact-sheets/vegetable-trial-reports-2010-2019.html', 'https://pinterest.com/pin/create/link/?url=https://extension.okstate.edu/fact-sheets/vegetable-trial-reports-2010-2019.html&media=https://extension.okstate.edu%20/fact-sheets/images/vegetable-trial-reports-2010-2019/thumbnail-vegetable-trial-reports-2010-2019.jpg&description=', 'https://a.cms.omniupdate.com/11/?skin=okstate&account=okstate&site=extension&action=de&path=/fact-sheets/vegetable-trial-reports-2010-2019.pcf', 'http://www.annualcreditreport.com', 'http://oprec.okstate.edu/variety-performance-trial-reports/sorghum-trial-reports', 'https://pinterest.com/pin/create/link/?url=https://extension.okstate.edu/fact-sheets/oklahoma-pasture-rental-rates-2018-2019.html&media=https://extension.okstate.edu%20/fact-sheets/images/oklahoma-pasture-rental-rates-2018-2019/thumbnail-oklahoma-pasture-rental-rates-2018-2019.jpg&description=A%202018-2019%20survey%20reporting%20the%20rental%20agreements,%20rates%20and%20influencing%20factors%20of%20leasing%20pasture%20land%20in%20Oklahoma.', 'https://pinterest.com/pin/create/link/?url=https://extension.okstate.edu/fact-sheets/oklahoma-pasture-rental-rates-2018-2019.html&media=https://extension.okstate.edu%20/fact-sheets/images/oklahoma-pasture-rental-rates-2018-2019/thumbnail-oklahoma-pasture-rental-rates-2018-2019.jpg&description=A%202018-2019%20survey%20reporting%20the%20rental%20agreements,%20rates%20and%20influencing%20factors%20of%20leasing%20pasture%20land%20in%20Oklahoma.', 'https://pinterest.com/pin/create/link/?url=https://extension.okstate.edu/fact-sheets/oklahoma-cropland-rental-rates-2018-19.html&media=https://extension.okstate.edu%20/fact-sheets/images/oklahoma-cropland-rental-rates-2018-19/thumbnail-oklahoma-cropland-rental-rates-2018-19.jpg&description=A%202018-2019%20survey%20reporting%20the%20rental%20agreements,%20rates%20and%20influencing%20factors%20of%20leasing%20farmland%20in%20Oklahoma.', 'https://pinterest.com/pin/create/link/?url=https://extension.okstate.edu/fact-sheets/oklahoma-cropland-rental-rates-2018-19.html&media=https://extension.okstate.edu%20/fact-sheets/images/oklahoma-cropland-rental-rates-2018-19/thumbnail-oklahoma-cropland-rental-rates-2018-19.jpg&description=A%202018-2019%20survey%20reporting%20the%20rental%20agreements,%20rates%20and%20influencing%20factors%20of%20leasing%20farmland%20in%20Oklahoma.', 'https://pinterest.com/pin/create/link/?url=https://extension.okstate.edu/fact-sheets/wheat-research-at-osu-2018.html&media=https://extension.okstate.edu%20/fact-sheets/images/wheat-research-at-osu-2018/thumbnails-wheat-research-at-osu-2018.jpg&description=Updates,%20improvements%20and%20developments%20from%20the%202018%20OSU%20wheat%20research%20report.', 'https://pinterest.com/pin/create/link/?url=https://extension.okstate.edu/fact-sheets/wheat-research-at-osu-2018.html&media=https://extension.okstate.edu%20/fact-sheets/images/wheat-research-at-osu-2018/thumbnails-wheat-research-at-osu-2018.jpg&description=Updates,%20improvements%20and%20developments%20from%20the%202018%20OSU%20wheat%20research%20report.', 'https://extension.okstate.edu/fact-sheets/the-financial-puzzle-credit-reports-and-scores.html', 'https://www.facebook.com/sharer/sharer.php?u=https://extension.okstate.edu/fact-sheets/the-financial-puzzle-credit-reports-and-scores.html', 'https://twitter.com/intent/tweet?url=https://extension.okstate.edu/fact-sheets/the-financial-puzzle-credit-reports-and-scores.html', 'https://pinterest.com/pin/create/link/?url=https://extension.okstate.edu/fact-sheets/the-financial-puzzle-credit-reports-and-scores.html&media=https://extension.okstate.edu%20/fact-sheets/images/the-financial-puzzle-credit-reports-and-scores/thumbnail-the-financial-puzzle-credit-reports-and-scores.jpg&description=Learn%20the%20importance%20of%20opening%20a%20credit%20account%20to%20help%20maintain%20a%20healthy%20credit%20score%20and%20understand%20what%20the%20credit%20reports%20and%20scores%20mean.', 'http://www.annualcreditreport.com', 'http://www.annualcreditreport.com', 'http://www.annualcreditreport.com/', 'http://www.annualcreditreport.com/', 'http://www.annualcreditreport.com/', 'https://www.facebook.com/sharer/sharer.php?u=https://extension.okstate.edu/fact-sheets/the-financial-puzzle-credit-reports-and-scores.html', 'https://twitter.com/intent/tweet?url=https://extension.okstate.edu/fact-sheets/the-financial-puzzle-credit-reports-and-scores.html', 'https://pinterest.com/pin/create/link/?url=https://extension.okstate.edu/fact-sheets/the-financial-puzzle-credit-reports-and-scores.html&media=https://extension.okstate.edu%20/fact-sheets/images/the-financial-puzzle-credit-reports-and-scores/thumbnail-the-financial-puzzle-credit-reports-and-scores.jpg&description=Learn%20the%20importance%20of%20opening%20a%20credit%20account%20to%20help%20maintain%20a%20healthy%20credit%20score%20and%20understand%20what%20the%20credit%20reports%20and%20scores%20mean.', 'https://a.cms.omniupdate.com/11/?skin=okstate&account=okstate&site=extension&action=de&path=/fact-sheets/the-financial-puzzle-credit-reports-and-scores.pcf', 'https://pinterest.com/pin/create/link/?url=https://extension.okstate.edu/fact-sheets/contribution-of-agriculture-to-oklahomas-economy-2015.html&media=https://extension.okstate.edu%20/fact-sheets/images/contribution-of-agriculture-to-oklahomas-economy-2015/thumbnail-contribution-of-agriculture-to-oklahomas-economy-2015.jpg&description=This%20report%20aims%20to%20document%20the%20contribution%20agriculture%20makes%20to%20the%20Oklahoma%20economy%20in%202015.', 'https://pinterest.com/pin/create/link/?url=https://extension.okstate.edu/fact-sheets/contribution-of-agriculture-to-oklahomas-economy-2015.html&media=https://extension.okstate.edu%20/fact-sheets/images/contribution-of-agriculture-to-oklahomas-economy-2015/thumbnail-contribution-of-agriculture-to-oklahomas-economy-2015.jpg&description=This%20report%20aims%20to%20document%20the%20contribution%20agriculture%20makes%20to%20the%20Oklahoma%20economy%20in%202015.', 'http://www.fsis.usda.gov/wps/portal/fsis/topics/data-collection-and-reports/chemistry/blue-books/ct_index', 'https://www.ams.usda.gov/mnreports/fvwtvpcn.pdf', 'https://pinterest.com/pin/create/link/?url=https://extension.okstate.edu/fact-sheets/price-risk-management-what-to-expect-proof-that-oklahoma-wheat-producers-do-a-good-job-of-marketing.html&media=https://extension.okstate.edu%20/fact-sheets/images/price-risk-management-what-to-expect-proof-that-oklahoma-wheat-producers-do-a-good-job-of-marketing/thumbnail-price-risk-management-what-to-expect-proof-that-oklahoma-wheat-producers-do-a-good-job-of-marketing.jpg&description=A%20research%20report%20to%20understand%20the%20marketing%20methods%20and%20timing%20of%20sales%20Oklahoma%20wheat%20producers%20use%20for%20their%20business.', 'https://pinterest.com/pin/create/link/?url=https://extension.okstate.edu/fact-sheets/price-risk-management-what-to-expect-proof-that-oklahoma-wheat-producers-do-a-good-job-of-marketing.html&media=https://extension.okstate.edu%20/fact-sheets/images/price-risk-management-what-to-expect-proof-that-oklahoma-wheat-producers-do-a-good-job-of-marketing/thumbnail-price-risk-management-what-to-expect-proof-that-oklahoma-wheat-producers-do-a-good-job-of-marketing.jpg&description=A%20research%20report%20to%20understand%20the%20marketing%20methods%20and%20timing%20of%20sales%20Oklahoma%20wheat%20producers%20use%20for%20their%20business.', 'https://pinterest.com/pin/create/link/?url=https://extension.okstate.edu/fact-sheets/price-risk-management-what-to-expect-marketing-efficiency-and-efficient-marketing.html&media=https://extension.okstate.edu%20/fact-sheets/images/price-risk-management-what-to-expect-marketing-efficiency-and-efficient-marketing/thumbnail-price-risk-management-what-to-expect-marketing-efficiency-and-efficient-marketing.jpg&description=A%20research%20report%20to%20aid%20in%20the%20understanding%20of%20price%20risk%20management%20and%20the%20expectations%20of%20yourself%20and%20price%20analysts%20for%20marketing%20decisions.%20', 'https://pinterest.com/pin/create/link/?url=https://extension.okstate.edu/fact-sheets/price-risk-management-what-to-expect-marketing-efficiency-and-efficient-marketing.html&media=https://extension.okstate.edu%20/fact-sheets/images/price-risk-management-what-to-expect-marketing-efficiency-and-efficient-marketing/thumbnail-price-risk-management-what-to-expect-marketing-efficiency-and-efficient-marketing.jpg&description=A%20research%20report%20to%20aid%20in%20the%20understanding%20of%20price%20risk%20management%20and%20the%20expectations%20of%20yourself%20and%20price%20analysts%20for%20marketing%20decisions.%20', 'http://www.epa.gov/climatechange/ghgemissions/usinventoryreport.html', 'https://www1.eere.energy.gov/buildings/publications/pdfs/ssl/nichefinalreport_october2008.pdf', 'https://www1.eere.energy.gov/buildings/publications/pdfs/ssl/report_led_november_2002a_1.pdf', 'http://www.deq.state.ok.us/mainlinks/reports.htm', 'https://pinterest.com/pin/create/link/?url=https://extension.okstate.edu/fact-sheets/economic-effect-of-bovine-respiratory-disease-on-feedlot-cattle-during-backgrounding-and-finishing-phases.html&media=https://extension.okstate.edu%20/fact-sheets/images/economic-effect-of-bovine-respiratory-disease-on-feedlot-cattle-during-backgrounding-and-finishing-phases/thumbnail-economic-effect-of-bovine-respiratory-disease-on-feedlot-cattle-during-backgrounding-and-finishing-phases.jpg&description=This%20research%20report%20discusses%20the%20economic%20impact%20of%20Bovine%20Respiratory%20Disease%20in%20feedlot%20cattle,%20and%20the%20effectiveness%20of%20serum%20Hp.', 'https://pinterest.com/pin/create/link/?url=https://extension.okstate.edu/fact-sheets/economic-effect-of-bovine-respiratory-disease-on-feedlot-cattle-during-backgrounding-and-finishing-phases.html&media=https://extension.okstate.edu%20/fact-sheets/images/economic-effect-of-bovine-respiratory-disease-on-feedlot-cattle-during-backgrounding-and-finishing-phases/thumbnail-economic-effect-of-bovine-respiratory-disease-on-feedlot-cattle-during-backgrounding-and-finishing-phases.jpg&description=This%20research%20report%20discusses%20the%20economic%20impact%20of%20Bovine%20Respiratory%20Disease%20in%20feedlot%20cattle,%20and%20the%20effectiveness%20of%20serum%20Hp.', 'https://extension.okstate.edu/fact-sheets/understanding-your-irrigation-water-test-report.html', 'https://www.facebook.com/sharer/sharer.php?u=https://extension.okstate.edu/fact-sheets/understanding-your-irrigation-water-test-report.html', 'https://twitter.com/intent/tweet?url=https://extension.okstate.edu/fact-sheets/understanding-your-irrigation-water-test-report.html', 'https://pinterest.com/pin/create/link/?url=https://extension.okstate.edu/fact-sheets/understanding-your-irrigation-water-test-report.html&media=https://extension.okstate.edu%20/fact-sheets/images/understanding-your-irrigation-water-test-report/thumbnail-understanding-your-irrigation-water-test-report.jpg&description=The%20irrigation%20water%20test%20provides%20crop%20owners%20a%20comprehensive%20analysis%20of%20water%20suitability%20and%20the%20first%20step%20to%20irrigation%20development.', 'https://www.facebook.com/sharer/sharer.php?u=https://extension.okstate.edu/fact-sheets/understanding-your-irrigation-water-test-report.html', 'https://twitter.com/intent/tweet?url=https://extension.okstate.edu/fact-sheets/understanding-your-irrigation-water-test-report.html', 'https://pinterest.com/pin/create/link/?url=https://extension.okstate.edu/fact-sheets/understanding-your-irrigation-water-test-report.html&media=https://extension.okstate.edu%20/fact-sheets/images/understanding-your-irrigation-water-test-report/thumbnail-understanding-your-irrigation-water-test-report.jpg&description=The%20irrigation%20water%20test%20provides%20crop%20owners%20a%20comprehensive%20analysis%20of%20water%20suitability%20and%20the%20first%20step%20to%20irrigation%20development.', 'https://a.cms.omniupdate.com/11/?skin=okstate&account=okstate&site=extension&action=de&path=/fact-sheets/understanding-your-irrigation-water-test-report.pcf', 'https://extension.okstate.edu/fact-sheets/understanding-your-household-water-test-report.html', 'https://www.facebook.com/sharer/sharer.php?u=https://extension.okstate.edu/fact-sheets/understanding-your-household-water-test-report.html', 'https://twitter.com/intent/tweet?url=https://extension.okstate.edu/fact-sheets/understanding-your-household-water-test-report.html', 'https://pinterest.com/pin/create/link/?url=https://extension.okstate.edu/fact-sheets/understanding-your-household-water-test-report.html&media=https://extension.okstate.edu%20/fact-sheets/images/understanding-your-household-water-test-report/thumbnail-understanding-your-household-water-test-report.jpg&description=The%20household%20water%20test%20provides%20home%20owners%20evaluate%20water%20quality%20and%20determine%20treatment%20needs%20and%20costs.', 'https://www.facebook.com/sharer/sharer.php?u=https://extension.okstate.edu/fact-sheets/understanding-your-household-water-test-report.html', 'https://twitter.com/intent/tweet?url=https://extension.okstate.edu/fact-sheets/understanding-your-household-water-test-report.html', 'https://pinterest.com/pin/create/link/?url=https://extension.okstate.edu/fact-sheets/understanding-your-household-water-test-report.html&media=https://extension.okstate.edu%20/fact-sheets/images/understanding-your-household-water-test-report/thumbnail-understanding-your-household-water-test-report.jpg&description=The%20household%20water%20test%20provides%20home%20owners%20evaluate%20water%20quality%20and%20determine%20treatment%20needs%20and%20costs.', 'https://a.cms.omniupdate.com/11/?skin=okstate&account=okstate&site=extension&action=de&path=/fact-sheets/understanding-your-household-water-test-report.pcf', 'https://pinterest.com/pin/create/link/?url=https://extension.okstate.edu/fact-sheets/native-woodborers-and-emerald-ash-borer-lookalikes.html&media=https://extension.okstate.edu%20/fact-sheets/images/native-woodborers-and-emerald-ash-borer-lookalikes/thumbnail-native-woodborers-and-emerald-ash-borer-lookalikes.jpg&description=A%20description%20of%20what%20native%20ash%20borers%20are%20and%20the%20commonly%20found%20look-alikes%20to%20aid%20in%20identification%20and%20reporting%20of%20this%20invasive%20species.', 'https://pinterest.com/pin/create/link/?url=https://extension.okstate.edu/fact-sheets/native-woodborers-and-emerald-ash-borer-lookalikes.html&media=https://extension.okstate.edu%20/fact-sheets/images/native-woodborers-and-emerald-ash-borer-lookalikes/thumbnail-native-woodborers-and-emerald-ash-borer-lookalikes.jpg&description=A%20description%20of%20what%20native%20ash%20borers%20are%20and%20the%20commonly%20found%20look-alikes%20to%20aid%20in%20identification%20and%20reporting%20of%20this%20invasive%20species.', 'http://www.drugabuse.gov/publications/research-reports/prescription-drugs/trends-in-prescription-drug-abuse/older-adults', 'http://forestryimpacts.net/reports/southern-region/Forest_Econ_Fact_Sheet_2014.pdf', 'https://extension.okstate.edu/fact-sheets/livestock-and-poultry-drinking-water-quality-understanding-your-water-test-report.html', 'https://www.facebook.com/sharer/sharer.php?u=https://extension.okstate.edu/fact-sheets/livestock-and-poultry-drinking-water-quality-understanding-your-water-test-report.html', 'https://twitter.com/intent/tweet?url=https://extension.okstate.edu/fact-sheets/livestock-and-poultry-drinking-water-quality-understanding-your-water-test-report.html', 'https://pinterest.com/pin/create/link/?url=https://extension.okstate.edu/fact-sheets/livestock-and-poultry-drinking-water-quality-understanding-your-water-test-report.html&media=https://extension.okstate.edu%20/fact-sheets/images/livestock-and-poultry-drinking-water-quality-understanding-your-water-test-report/thumbnail-livestock-and-poultry-drinking-water-quality-understanding-your-water-test-report.jpg&description=How%20to%20interpret%20the%20results%20of%20water%20testing%20and%20the%20importance%20behind%20it%20for%20poultry%20and%20other%20livestock%20species.%20', 'https://www.facebook.com/sharer/sharer.php?u=https://extension.okstate.edu/fact-sheets/livestock-and-poultry-drinking-water-quality-understanding-your-water-test-report.html', 'https://twitter.com/intent/tweet?url=https://extension.okstate.edu/fact-sheets/livestock-and-poultry-drinking-water-quality-understanding-your-water-test-report.html', 'https://pinterest.com/pin/create/link/?url=https://extension.okstate.edu/fact-sheets/livestock-and-poultry-drinking-water-quality-understanding-your-water-test-report.html&media=https://extension.okstate.edu%20/fact-sheets/images/livestock-and-poultry-drinking-water-quality-understanding-your-water-test-report/thumbnail-livestock-and-poultry-drinking-water-quality-understanding-your-water-test-report.jpg&description=How%20to%20interpret%20the%20results%20of%20water%20testing%20and%20the%20importance%20behind%20it%20for%20poultry%20and%20other%20livestock%20species.%20', 'https://a.cms.omniupdate.com/11/?skin=okstate&account=okstate&site=extension&action=de&path=/fact-sheets/livestock-and-poultry-drinking-water-quality-understanding-your-water-test-report.pcf', 'https://www.fcc.gov/economics-analytics/industry-analysis-division/iad-data-statistical-reports', 'https://www.fcc.gov/economics-analytics/industry-analysis-division/iad-data-statistical-reports', 'https://www.fcc.gov/economics-analytics/industry-analysis-division/iad-data-statistical-reports', 'http://www.annualcreditreport.com/', 'http://www.hortla.okstate.edu/outreach/vegetables/trial-reports', 'http://www.schoolreportcard.org', 'https://pinterest.com/pin/create/link/?url=https://extension.okstate.edu/fact-sheets/comparison-of-county-government-finances-by-size-groupings.html&media=https://extension.okstate.edu%20/fact-sheets/images/comparison-of-county-government-finances-by-size-groupings/thumbnail-comparison-of-county-government-finances-by-size-groupings.jpg&description=Oklahoma%20State%20University%20Extension%20economic%20and%20institutional%20finance%20report%20comparing%20county%20government%20offices%20by%20size%20groups.', 'https://pinterest.com/pin/create/link/?url=https://extension.okstate.edu/fact-sheets/comparison-of-county-government-finances-by-size-groupings.html&media=https://extension.okstate.edu%20/fact-sheets/images/comparison-of-county-government-finances-by-size-groupings/thumbnail-comparison-of-county-government-finances-by-size-groupings.jpg&description=Oklahoma%20State%20University%20Extension%20economic%20and%20institutional%20finance%20report%20comparing%20county%20government%20offices%20by%20size%20groups.', 'https://pinterest.com/pin/create/link/?url=https://extension.okstate.edu/fact-sheets/price-comparison-of-alternative-marketing-arrangements-for-fed-cattle-2001-2013.html&media=https://extension.okstate.edu%20/fact-sheets/images/price-comparison-of-alternative-marketing-arrangements-for-fed-cattle-2001-2013/thumbnail-price-comparison-of-alternative-marketing-arrangements-for-fed-cattle-2001-2013.jpg&description=Fed%20cattle%20price%20comparisons%20by%20alternative%20marketing%20arrangements%20during%20the%20twelve-year%20(2001-2013)%20period%20of%20implementing%20mandatory%20price%20reporting.', 'https://pinterest.com/pin/create/link/?url=https://extension.okstate.edu/fact-sheets/price-comparison-of-alternative-marketing-arrangements-for-fed-cattle-2001-2013.html&media=https://extension.okstate.edu%20/fact-sheets/images/price-comparison-of-alternative-marketing-arrangements-for-fed-cattle-2001-2013/thumbnail-price-comparison-of-alternative-marketing-arrangements-for-fed-cattle-2001-2013.jpg&description=Fed%20cattle%20price%20comparisons%20by%20alternative%20marketing%20arrangements%20during%20the%20twelve-year%20(2001-2013)%20period%20of%20implementing%20mandatory%20price%20reporting.', 'https://extension.okstate.edu/fact-sheets/current-report-oklahoma-farm-and-ranch-custom-rates-2015-2016.html', 'https://www.facebook.com/sharer/sharer.php?u=https://extension.okstate.edu/fact-sheets/current-report-oklahoma-farm-and-ranch-custom-rates-2015-2016.html', 'https://twitter.com/intent/tweet?url=https://extension.okstate.edu/fact-sheets/current-report-oklahoma-farm-and-ranch-custom-rates-2015-2016.html', 'https://pinterest.com/pin/create/link/?url=https://extension.okstate.edu/fact-sheets/current-report-oklahoma-farm-and-ranch-custom-rates-2015-2016.html&media=https://extension.okstate.edu%20/fact-sheets/images/current-report-oklahoma-farm-and-ranch-custom-rates-2015-2016/thumbnail-current-report-oklahoma-farm-and-ranch-custom-rates-2015-2016.jpg&description=A%20summary%20of%20data%20collected%20from%20Oklahoma%20farmers,%20ranchers%20and%20custom%20operators%20during%20the%20summer%20and%20fall%20of%202015.', 'https://www.facebook.com/sharer/sharer.php?u=https://extension.okstate.edu/fact-sheets/current-report-oklahoma-farm-and-ranch-custom-rates-2015-2016.html', 'https://twitter.com/intent/tweet?url=https://extension.okstate.edu/fact-sheets/current-report-oklahoma-farm-and-ranch-custom-rates-2015-2016.html', 'https://pinterest.com/pin/create/link/?url=https://extension.okstate.edu/fact-sheets/current-report-oklahoma-farm-and-ranch-custom-rates-2015-2016.html&media=https://extension.okstate.edu%20/fact-sheets/images/current-report-oklahoma-farm-and-ranch-custom-rates-2015-2016/thumbnail-current-report-oklahoma-farm-and-ranch-custom-rates-2015-2016.jpg&description=A%20summary%20of%20data%20collected%20from%20Oklahoma%20farmers,%20ranchers%20and%20custom%20operators%20during%20the%20summer%20and%20fall%20of%202015.', 'https://a.cms.omniupdate.com/11/?skin=okstate&account=okstate&site=extension&action=de&path=/fact-sheets/current-report-oklahoma-farm-and-ranch-custom-rates-2015-2016.pcf', 'https://pinterest.com/pin/create/link/?url=https://extension.okstate.edu/fact-sheets/oklahoma-pasture-rental-rates-2016-2017.html&media=https://extension.okstate.edu%20/fact-sheets/images/oklahoma-pasture-rental-rates-2016-2017/thumbnail-oklahoma-pasture-rental-rates-2016-2017.jpg&description=A%202016-2017%20survey%20reporting%20the%20rental%20agreements,%20rates%20and%20influencing%20factors%20of%20leasing%20pasture%20land%20in%20Oklahoma.', 'https://pinterest.com/pin/create/link/?url=https://extension.okstate.edu/fact-sheets/oklahoma-pasture-rental-rates-2016-2017.html&media=https://extension.okstate.edu%20/fact-sheets/images/oklahoma-pasture-rental-rates-2016-2017/thumbnail-oklahoma-pasture-rental-rates-2016-2017.jpg&description=A%202016-2017%20survey%20reporting%20the%20rental%20agreements,%20rates%20and%20influencing%20factors%20of%20leasing%20pasture%20land%20in%20Oklahoma.', 'https://pinterest.com/pin/create/link/?url=https://extension.okstate.edu/fact-sheets/oklahoma-cropland-rental-rates-2016-17.html&media=https://extension.okstate.edu%20/fact-sheets/images/oklahoma-cropland-rental-rates-2016-17/thumbnail-oklahoma-cropland-rental-rates-2016-17.jpg&description=A%202016-2017%20survey%20reporting%20the%20rental%20agreement,%20rates%20and%20influencing%20factors%20of%20leasing%20farmland%20in%20Oklahoma.', 'https://pinterest.com/pin/create/link/?url=https://extension.okstate.edu/fact-sheets/oklahoma-cropland-rental-rates-2016-17.html&media=https://extension.okstate.edu%20/fact-sheets/images/oklahoma-cropland-rental-rates-2016-17/thumbnail-oklahoma-cropland-rental-rates-2016-17.jpg&description=A%202016-2017%20survey%20reporting%20the%20rental%20agreement,%20rates%20and%20influencing%20factors%20of%20leasing%20farmland%20in%20Oklahoma.', 'http://www.rwjf.org/content/dam/farm/reports/issue_briefs/2013/rwjf404796', 'https://pinterest.com/pin/create/link/?url=https://extension.okstate.edu/fact-sheets/2010-vegetable-weed-control-studies.html&media=https://extension.okstate.edu%20/fact-sheets/images/2010-vegetable-weed-control-studies/thumbnail-2010-vegetable-weed-control-studies.jpg&description=The%20Department%20of%20Horticulture%20and%20Landscape%20Architecture,%20cooperating%20departments%20and%20experimental%20farms%20conducted%20a%20series%20of%20experiments%20on%20field%20vegetable%20production.%20Data%20were%20recorded%20on%20a%20majority%20of%20aspects%20of%20each%20study,%20and%20can%20include%20crop%20culture,%20crop%20responses%20and%20yield%20data.%20This%20report%20presents%20those%20data,%20thus%20providing%20up-to-date%20information%20on%20field%20research%20completed%20in%20Oklahoma%20during%202010.', 'https://pinterest.com/pin/create/link/?url=https://extension.okstate.edu/fact-sheets/2010-vegetable-weed-control-studies.html&media=https://extension.okstate.edu%20/fact-sheets/images/2010-vegetable-weed-control-studies/thumbnail-2010-vegetable-weed-control-studies.jpg&description=The%20Department%20of%20Horticulture%20and%20Landscape%20Architecture,%20cooperating%20departments%20and%20experimental%20farms%20conducted%20a%20series%20of%20experiments%20on%20field%20vegetable%20production.%20Data%20were%20recorded%20on%20a%20majority%20of%20aspects%20of%20each%20study,%20and%20can%20include%20crop%20culture,%20crop%20responses%20and%20yield%20data.%20This%20report%20presents%20those%20data,%20thus%20providing%20up-to-date%20information%20on%20field%20research%20completed%20in%20Oklahoma%20during%202010.']\n"
          ]
        }
      ],
      "source": [
        "print(report)"
      ]
    },
    {
      "cell_type": "code",
      "execution_count": null,
      "metadata": {
        "colab": {
          "base_uri": "https://localhost:8080/"
        },
        "id": "g4ANjCi-xz2D",
        "outputId": "c8e1749e-a57c-4fbb-cd82-79c04d4f1b9a"
      },
      "outputs": [
        {
          "output_type": "execute_result",
          "data": {
            "text/plain": [
              "69845"
            ]
          },
          "metadata": {},
          "execution_count": 15
        }
      ],
      "source": [
        "len(link1)"
      ]
    },
    {
      "cell_type": "code",
      "execution_count": null,
      "metadata": {
        "id": "DE4zvI7Ix4fd"
      },
      "outputs": [],
      "source": [
        "\n",
        "extension = []\n",
        "\n",
        "\n",
        "\n",
        "for i in links:\n",
        "    url = i\n",
        "\n",
        "    response = requests.get(url)\n",
        "    soup= BeautifulSoup(response.text, \"html.parser\")\n",
        "    j = 0\n",
        "\n",
        "\n",
        "\n",
        "    for link in soup.find_all(attrs={'href': re.compile(\"http\")}):\n",
        "        content=[]\n",
        "        content.append(link.get('href', []))\n",
        "        for urls in content:\n",
        "            if ('extension' in urls):\n",
        "\n",
        "                j+=1\n",
        "                extension.append(link.get('href'))\n",
        "            else:\n",
        "                pass"
      ]
    },
    {
      "cell_type": "code",
      "execution_count": null,
      "metadata": {
        "id": "rFHIcb9pHrTe"
      },
      "outputs": [],
      "source": [
        "\n",
        "for i in link1:\n",
        "    try:\n",
        "      page = urllib2.urlopen(i)\n",
        "    except urllib.error.URLError:\n",
        "        continue\n",
        "    except ConnectionError:\n",
        "        continue\n",
        "    html_content = page.read()\n",
        "    file = open('file_text.txt', 'wb')\n",
        "    file.write(html_content)\n",
        "    file.close()"
      ]
    }
  ],
  "metadata": {
    "accelerator": "GPU",
    "colab": {
      "machine_shape": "hm",
      "provenance": [],
      "gpuClass": "premium"
    },
    "gpuClass": "premium",
    "kernelspec": {
      "display_name": "Python 3",
      "name": "python3"
    },
    "language_info": {
      "name": "python"
    }
  },
  "nbformat": 4,
  "nbformat_minor": 0
}