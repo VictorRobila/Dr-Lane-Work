{
 "cells": [
  {
   "cell_type": "code",
   "execution_count": 6,
   "id": "0513dee4",
   "metadata": {},
   "outputs": [],
   "source": [
    "import json \n",
    "\n",
    "# data manipulation\n",
    "import pandas as pd \n",
    "\n",
    "# normalize nested JSON files\n",
    "from pandas.io.json import json_normalize"
   ]
  },
  {
   "cell_type": "code",
   "execution_count": 7,
   "id": "b20de7fd",
   "metadata": {},
   "outputs": [],
   "source": [
    "#f = open('OSU-Out-with-Thumbnails.json')\n",
    "json_file_path = \"OSU-Out-with-Thumbnails.json\"\n",
    "with open(json_file_path, 'r') as json_file:\n",
    "    \n",
    "    data = json.load(json_file)"
   ]
  },
  {
   "cell_type": "code",
   "execution_count": 9,
   "id": "ef5ac38c",
   "metadata": {},
   "outputs": [],
   "source": [
    "links = [x['link'] for x in data]\n"
   ]
  },
  {
   "cell_type": "code",
   "execution_count": null,
   "id": "93d1d0ba",
   "metadata": {},
   "outputs": [],
   "source": []
  },
  {
   "cell_type": "code",
   "execution_count": null,
   "id": "3273e4a6",
   "metadata": {},
   "outputs": [],
   "source": []
  }
 ],
 "metadata": {
  "kernelspec": {
   "display_name": "Python 3 (ipykernel)",
   "language": "python",
   "name": "python3"
  },
  "language_info": {
   "codemirror_mode": {
    "name": "ipython",
    "version": 3
   },
   "file_extension": ".py",
   "mimetype": "text/x-python",
   "name": "python",
   "nbconvert_exporter": "python",
   "pygments_lexer": "ipython3",
   "version": "3.9.7"
  }
 },
 "nbformat": 4,
 "nbformat_minor": 5
}
