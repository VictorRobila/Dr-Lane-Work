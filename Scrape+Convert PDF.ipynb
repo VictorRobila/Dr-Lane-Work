{
 "cells": [
  {
   "cell_type": "code",
   "execution_count": 12,
   "id": "500cfb7d",
   "metadata": {},
   "outputs": [
    {
     "name": "stderr",
     "output_type": "stream",
     "text": [
      "[nltk_data] Downloading package stopwords to /home/victor/nltk_data...\n",
      "[nltk_data]   Package stopwords is already up-to-date!\n",
      "[nltk_data] Downloading package punkt to /home/victor/nltk_data...\n",
      "[nltk_data]   Unzipping tokenizers/punkt.zip.\n"
     ]
    },
    {
     "data": {
      "text/plain": [
       "True"
      ]
     },
     "execution_count": 12,
     "metadata": {},
     "output_type": "execute_result"
    }
   ],
   "source": [
    "# This is a quick bit of code that converts a pdf (when given the link) to a list of tokens\n",
    "\n",
    "\n",
    "import PyPDF2, urllib.request , nltk , textract\n",
    "from io import BytesIO\n",
    "from nltk.tokenize import word_tokenize\n",
    "from nltk.corpus import stopwords\n",
    "\n",
    "nltk.download('stopwords')  \n",
    "nltk.download('punkt')\n"
   ]
  },
  {
   "cell_type": "code",
   "execution_count": 20,
   "id": "2f343563",
   "metadata": {},
   "outputs": [],
   "source": [
    "wFile=urllib.request.urlopen('https://extension.okstate.edu/fact-sheets/print-publications/fapc-food-and-agricultural-products-center/custom-beef-processing-expected-yields-fapc-245.pdf')"
   ]
  },
  {
   "cell_type": "code",
   "execution_count": 21,
   "id": "594455a0",
   "metadata": {},
   "outputs": [
    {
     "name": "stderr",
     "output_type": "stream",
     "text": [
      "Xref table not zero-indexed. ID numbers for objects will be corrected.\n"
     ]
    }
   ],
   "source": [
    "pdfreader = PyPDF2.PdfFileReader(BytesIO(wFile.read()))"
   ]
  },
  {
   "cell_type": "code",
   "execution_count": 30,
   "id": "d6d7db28",
   "metadata": {},
   "outputs": [],
   "source": [
    "pageObj = pdfreader.getPage(0)\n",
    "page1 = pageObj.extractText()"
   ]
  },
  {
   "cell_type": "code",
   "execution_count": 31,
   "id": "287160f9",
   "metadata": {},
   "outputs": [],
   "source": [
    "punctuations = ['(',')',';',':','[',']',',','...','.']\n",
    "tokens = word_tokenize(page1)\n",
    "stop_words = stopwords.words('english')\n",
    "keywords = [word for word in tokens if not word in stop_words and not word in punctuations]"
   ]
  },
  {
   "cell_type": "code",
   "execution_count": 32,
   "id": "9fc18e94",
   "metadata": {
    "scrolled": true
   },
   "outputs": [
    {
     "name": "stdout",
     "output_type": "stream",
     "text": [
      "['Division', 'of', 'Agricultural', 'Sciences', 'and', 'Natural', 'Resources', '•', 'Oklahoma', 'State', 'UniversityFAPC-245', 'Oklahoma', 'Cooperative', 'Extension', 'Fact', 'Sheets', 'are', 'also', 'available', 'on', 'our', 'website', 'at', ':', 'extension.okstate.eduOklahoma', 'Cooperative', 'Extension', 'Service', 'September', '2022', 'Joel', 'Jackson', 'Meat', 'Pilot', 'Manager', ',', 'FAPC', 'Recent', 'meat', 'shortages', 'have', 'resulted', 'in', 'an', 'increase', 'of', 'first-time', 'custom', 'slaughter', 'customers', '.', 'There', 'are', 'significant', 'differences', 'in', 'finished', 'product', 'weight', 'based', 'off', 'multiple', 'factors', '.', 'The', 'following', 'information', 'will', 'give', 'customers', 'an', 'idea', 'of', 'what', 'they', 'can', 'expect', 'when', 'picking', 'up', 'their', 'custom', 'processed', 'meat', '.', 'All', 'Cattle', 'Are', 'Not', 'Created', 'Equally', '!', 'The', 'first', 'difference', 'that', 'people', 'may', 'notice', 'is', 'simply', 'size', 'or', 'weight', '.', 'This', 'may', 'be', 'due', 'to', 'age', ',', 'ration', '(', 'pasture', ',', 'grain', 'fed', ',', 'combination', 'etc', '.', ')', 'breed', 'and', 'genetics', '.', 'The', 'live', 'weight', 'percentage', 'of', 'boneless', 'and', 'lean', 'cuts', 'will', 'not', 'be', 'the', 'same', 'with', 'a', '600lb', 'calf', 'vs.', 'a', '1,200lb', 'steer', '.', 'Animals', 'may', 'be', 'lighter', 'muscled', 'or', 'heavier', 'muscled', 'in', 'relation', 'to', 'the', 'frame', '(', 'skeleton', ')', '.', 'Aging', 'Aging', 'is', 'an', 'important', 'step', 'in', 'providing', 'the', 'best', 'product', 'and', 'customer', 'experience', '.', 'The', 'most', 'common', 'method', 'is', 'to', 'hang', '(', 'dry', 'age', ')', 'all', 'beef', 'carcasses', 'for', 'a', 'minimum', 'of', '14', 'days', 'before', 'processing', '.', 'This', 'allows', 'for', 'a', 'significant', 'increase', 'of', 'tenderness', 'along', 'with', 'an', 'overall', 'better', 'eating', 'experience', '.', 'This', 'comes', 'with', 'a', 'cost', 'in', 'terms', 'of', 'moisture', 'loss', '(', 'shrink', ')', '.', 'A', 'carcass', 'can', 'lose', 'on', 'average', '5-7', '%', 'of', 'the', 'total', 'weight', 'from', 'aging', ';', 'which', 'may', 'not', 'sound', 'like', 'much', 'but', 'it', 'relates', 'to', '30-', '40lbs', 'on', 'a', '600lb', 'carcass', '.', 'Aging', 'beyond', '14', 'days', 'may', 'result', 'in', 'a', '“', 'beefy', '”', 'flavor', 'that', 'is', 'desired', 'by', 'some', 'customers', ',', 'but', 'extended', 'aging', 'results', 'in', 'increased', 'moisture', 'loss', 'and', 'trim', '-', 'ming', 'of', 'finished', 'cuts', '.', 'Quantity', 'vs.', 'Quality', 'Most', 'processors', 'strive', 'to', 'provide', 'the', 'best', 'quality', 'product', 'possible', '.', 'Custom', 'processing', 'sheets', 'allow', 'a', 'processor', 'to', 'pro', '-', 'duce', 'the', 'specific', 'cuts', 'the', 'customer', 'requests', '.', 'The', 'processor', 'may', 'trim', 'fat', ',', 'debone', 'and', 'remove', 'connective', 'tissue', '(', 'gristle', ')', 'as', 'needed', '.', 'All', 'of', 'these', 'factors', 'may', 'reduce', 'the', 'total', 'pounds', 'of', 'finished', 'product', 'but', 'result', 'in', 'a', 'higher', 'quality', 'product', '.', 'Fat', 'Fat', 'enhances', 'flavor', ',', 'palatability', 'and', 'even', 'the', 'percep', '-', 'tion', 'of', 'tenderness', '.', 'Commodity', 'beef', 'that', 'is', 'often', 'available', 'at', 'your', 'local', 'grocery', 'store', 'is', 'likely', 'sourced', 'from', 'a', 'variety', 'of', 'breeds', 'that', 'are', 'fed', 'and', 'finished', 'to', 'a', 'weight', 'of', '1,100-', '1,400lbs', 'on', 'average', '.', 'An', 'animal', '’', 's', 'ability', 'to', 'put', 'on', 'fat', 'is', 'de', '-Custom', 'Beef', 'Processing', ':', 'Expected', 'Yields', 'pendent', 'on', 'time', ',', 'quality', 'ration', 'and', 'genetics', '.', 'Excessive', 'fat', 'will', 'be', 'trimmed', 'off', 'of', 'finished', 'cuts', '.', 'Although', 'trimming', 'is', 'not', 'beneficial', 'to', 'yields', ',', 'a', 'fatter', 'carcass', 'will', 'lose', 'less', 'moisture', '(', 'pounds', ')', 'during', 'aging', '.', 'Average', 'Yield', 'Examples', 'A', '1,200lb', 'grain', 'fed', 'steer', 'should', 'result', 'in', 'roughly', 'a', '756lb', 'carcass', '(', '≈60-63', '%', 'dressing', 'percentage', ')', '.', 'Aging', '14', 'days', 're', '-', 'sults', 'in', 'a', '710lb', 'carcass', 'ready', 'to', 'cut', '(', '6', '%', 'shrink', ')', '.', 'Depending', 'on', 'how', 'fat', 'the', 'animal', 'was', 'and', 'the', 'percentage', 'of', 'bone-in', 'and', 'boneless', 'cuts', ',', 'a', 'customer', 'can', 'expect', 'to', 'yield', '50-65', '%', 'of', 'the', '710lb', 'aged', 'carcass', 'or', '355–460lbs', 'of', 'finished', 'product', '.', 'A', '600lb', 'calf', 'should', 'result', 'in', 'a', 'roughly', '330lb', 'carcass', '(', '≈55', '%', 'dressing', 'percentage', ')', '.', 'Aging', '14', 'days', 'results', 'in', 'a', '307lb', 'carcass', 'ready', 'to', 'cut', '(', '7', '%', 'shrink', ')', '.', 'Since', 'younger', 'cattle', 'will', 'likely', 'not', 'have', 'as', 'much', 'fat', 'as', 'an', 'older', 'animal', ',', 'one', 'can', 'expect', 'a', 'higher', 'moisture', 'loss', 'and', 'increased', 'trimming', '.', 'Depending', 'on', 'the', 'percentage', 'of', 'bone-in', 'and', 'boneless', 'cuts', ',', 'one', 'can', 'expect', 'to', 'yield', '45-60', '%', 'of', 'the', 'aged', 'carcass', 'or', '140', '–', '185lbs', 'of', 'finished', 'product', '.', 'This', 'is', 'often', 'a', 'result', 'of', 'less', 'muscle', 'in', 'relation', 'to', 'the', 'skeleton', '.', 'Common', 'Cuts', 'Depending', 'on', 'desired', 'cut', 'or', 'thickness', ',', 'a', 'customer', 'can', 'expect', 'the', 'following', 'grilling', 'steaks', 'from', 'one', 'steer', 'or', 'calf', ':', '•', '20-26', 'Ribeye', 'Steaks', '•', '22-28', 'T-Bone/Porterhouse', 'Steaks', '•', '6-8', 'Filets', '•', '10-14', 'Sirloin', 'Steaks', 'The', 'remainder', 'of', 'the', 'carcass', 'is', 'often', 'divided', 'into', 'roasts', ',', 'steaks', ',', 'stew', 'meat', ',', 'and', 'ground', 'beef', '.', 'Summary', 'As', 'stated', 'above', ',', 'several', 'factors', 'can', 'influence', 'yield', ',', 'qual', '-', 'ity', 'and', 'eating', 'experience', 'of', 'meat', 'from', 'a', 'custom', 'slaughtered', 'animal', '.', 'Knowing', 'these', 'variables', 'can', 'help', 'processors', 'and', 'customers', 'develop', 'a', 'good', 'working', 'relationship', '.', '*', 'The', 'goal', 'of', 'OSU', '’', 's', 'Cowboy', 'Meats', 'is', 'to', 'provide', 'our', 'customers', 'with', 'a', 'safe', 'and', 'wholesome', 'product', 'while', 'producing', 'the', 'best', 'quality', 'products', 'from', 'your', 'livestock', '.', 'If', 'you', 'have', 'any', 'questions', 'or', 'wish', 'to', 'schedule', 'an', 'appointment', ',', 'please', 'call', '(', '405', ')', '744-MEAT', '.']\n"
     ]
    }
   ],
   "source": [
    "words = list()\n",
    "\n",
    "for idx, token in enumerate(tokens):\n",
    "    words.append(token)\n",
    "\n",
    "print(words)\n"
   ]
  }
 ],
 "metadata": {
  "kernelspec": {
   "display_name": "Python 3 (ipykernel)",
   "language": "python",
   "name": "python3"
  },
  "language_info": {
   "codemirror_mode": {
    "name": "ipython",
    "version": 3
   },
   "file_extension": ".py",
   "mimetype": "text/x-python",
   "name": "python",
   "nbconvert_exporter": "python",
   "pygments_lexer": "ipython3",
   "version": "3.7.13"
  }
 },
 "nbformat": 4,
 "nbformat_minor": 5
}
