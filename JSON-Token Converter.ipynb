{
 "cells": [
  {
   "cell_type": "code",
   "execution_count": 1,
   "id": "500cfb7d",
   "metadata": {},
   "outputs": [
    {
     "name": "stderr",
     "output_type": "stream",
     "text": [
      "[nltk_data] Downloading package stopwords to /home/victor/nltk_data...\n",
      "[nltk_data]   Package stopwords is already up-to-date!\n",
      "[nltk_data] Downloading package punkt to /home/victor/nltk_data...\n",
      "[nltk_data]   Package punkt is already up-to-date!\n"
     ]
    },
    {
     "data": {
      "text/plain": [
       "True"
      ]
     },
     "execution_count": 1,
     "metadata": {},
     "output_type": "execute_result"
    }
   ],
   "source": [
    "# This is a quick bit of code that converts a pdf (when given the link) to a list of tokens\n",
    "\n",
    "\n",
    "import PyPDF2, urllib.request , nltk , textract\n",
    "from io import BytesIO\n",
    "import json\n",
    "import weasyprint\n",
    "import pandas as pd\n",
    "from pandas.io.json import json_normalize\n",
    "from nltk.tokenize import word_tokenize\n",
    "from nltk.corpus import stopwords\n",
    "import os\n",
    "import requests\n",
    "from urllib.parse import urljoin\n",
    "from bs4 import BeautifulSoup\n",
    "\n",
    "nltk.download('stopwords')  \n",
    "nltk.download('punkt')\n"
   ]
  },
  {
   "cell_type": "code",
   "execution_count": 2,
   "id": "78ef9200",
   "metadata": {},
   "outputs": [],
   "source": [
    "#f = open('OSU-Out-with-Thumbnails.json')\n",
    "json_file_path = \"OKU-fact-sheets-out.json\"\n",
    "with open(json_file_path, 'r') as json_file:\n",
    "    \n",
    "    data = json.load(json_file)"
   ]
  },
  {
   "cell_type": "code",
   "execution_count": 5,
   "id": "1f5d2db3",
   "metadata": {},
   "outputs": [
    {
     "name": "stdout",
     "output_type": "stream",
     "text": [
      "['https://extension.okstate.edu/fact-sheets/custom-beef-processing-expected-yields.html', 'https://extension.okstate.edu/fact-sheets/an-introduction-to-mental-health-challenges-for-rural-americans.html', 'https://extension.okstate.edu/fact-sheets/food-business-license-and-permit-costs-in-oklahoma-the-good-the-bad-and-the-mundane.html', 'https://extension.okstate.edu/fact-sheets/propagation-of-ornamental-plants-for-oklahoma.html', 'https://extension.okstate.edu/fact-sheets/cow-calf-production-record-software.html', 'https://extension.okstate.edu/fact-sheets/2021-2022-small-grains-variety-performance-tests.html', 'https://extension.okstate.edu/fact-sheets/shade-tree-borers.html', 'https://extension.okstate.edu/fact-sheets/machinery-ownership-versus-custom-harvest.html', 'https://extension.okstate.edu/fact-sheets/mobile-slaughter-units-regulatory-overview-for-oklahoma-non-poultry.html', 'https://extension.okstate.edu/fact-sheets/copper-sulfate-applications-for-filamentous-algae.html', 'https://extension.okstate.edu/fact-sheets/sales-tax-rules-for-farmers-markets-and-on-farm-sales-the-exemption-ends-at-the-farm-gate.html', 'https://extension.okstate.edu/fact-sheets/oklahoma-quality-beef-network-vac-45-program-requirements.html', 'https://extension.okstate.edu/fact-sheets/perennial-flowers-for-specific-uses-in-oklahoma.html', 'https://extension.okstate.edu/fact-sheets/economic-contribution-of-forest-sector-in-oklahoma-in-2020.html', 'https://extension.okstate.edu/fact-sheets/feed-additives-for-beef-cattle-production.html', 'https://extension.okstate.edu/fact-sheets/regulatory-landscape-for-the-direct-marketing-of-meat-and-poultry-in-ok.html', 'https://extension.okstate.edu/fact-sheets/beneficial-insects.html', 'https://extension.okstate.edu/fact-sheets/implants-and-their-use-in-beef-cattle-production.html', 'https://extension.okstate.edu/fact-sheets/parenting-trans-and-nonbinary-youth.html', 'https://extension.okstate.edu/fact-sheets/3-d-printed-parts-for-food-contact.html', 'https://extension.okstate.edu/fact-sheets/ornamental-grasses-and-grass-like-plants-for-oklahoma.html', 'https://extension.okstate.edu/fact-sheets/converting-introduced-grasses-to-rangeland.html', 'https://extension.okstate.edu/fact-sheets/the-management-of-double-crop-corn-system.html', 'https://extension.okstate.edu/fact-sheets/2022-annual-summary.html', 'https://extension.okstate.edu/fact-sheets/complex-carbohydrates-for-energy-and-fiber.html', 'https://extension.okstate.edu/fact-sheets/food-safety-during-pregnancy.html', 'https://extension.okstate.edu/fact-sheets/fall-forage-production-and-first-hollow-stem-date-for-wheat-varieties-during-the-2021-2022-crop-year.html', 'https://extension.okstate.edu/fact-sheets/hair-sheep-record-keeping-software.html', 'https://extension.okstate.edu/fact-sheets/enjoy-colorful-fruits-and-vegetables-for-vital-vitamins.html', 'https://extension.okstate.edu/fact-sheets/wool-sheep-record-keeping-software.html', 'https://extension.okstate.edu/fact-sheets/iron-is-important-during-pregnancy.html', 'https://extension.okstate.edu/fact-sheets/calcium-and-vitamin-d-the-bone-builders.html', 'https://extension.okstate.edu/fact-sheets/grasshoppers-of-the-cherokee-nation-in-northeast-oklahoma.html', 'https://extension.okstate.edu/fact-sheets/new-food-labeling-standards-bioengineered-foods.html', 'https://extension.okstate.edu/fact-sheets/alcohol-during-pregnancy.html', 'https://extension.okstate.edu/fact-sheets/introduction-to-vegetable-grafting.html', 'https://extension.okstate.edu/fact-sheets/pregnancy-weight-gain-for-underweight-moms.html', 'https://extension.okstate.edu/fact-sheets/common-concerns-during-pregnancy-heartburn-and-indigestion.html', 'https://extension.okstate.edu/fact-sheets/oklahoma-proven-plant-selections-for-oklahoma.html', 'https://extension.okstate.edu/fact-sheets/2020-annual-summary-research-at-the-department-of-animal-and-food-sciences.html', 'https://extension.okstate.edu/fact-sheets/deciding-what-to-eat-when-you-are-pregnant.html', 'https://extension.okstate.edu/fact-sheets/sweet-potato-production.html', 'https://extension.okstate.edu/fact-sheets/healthy-weight-gain-in-pregnancy.html', 'https://extension.okstate.edu/fact-sheets/homemade-food-freedom-act-fapc-242.html', 'https://extension.okstate.edu/fact-sheets/drugs-and-smoking-during-pregnancy-t2402.html', 'https://extension.okstate.edu/fact-sheets/small-flock-biosecurity-for-prevention-of-avian-influenza.html', 'https://extension.okstate.edu/fact-sheets/common-concerns-during-pregnancy-morning-sickness.html', 'https://extension.okstate.edu/fact-sheets/being-active-during-pregnancy.html', 'https://extension.okstate.edu/fact-sheets/southern-pea-production.html', 'https://extension.okstate.edu/fact-sheets/oklahoma-farm-and-ranch-custom-rates-2021-2022.html', 'https://extension.okstate.edu/fact-sheets/farm-and-ranch-financial-trends-worksheet.html', 'https://extension.okstate.edu/fact-sheets/promoting-healthy-sleeping-habits-in-children-and-adolescents.html', 'https://extension.okstate.edu/fact-sheets/2021_vegetable_trial_report.html', 'https://extension.okstate.edu/fact-sheets/true-cheat-control-in-oklahoma-winter-wheat.html', 'https://extension.okstate.edu/fact-sheets/evaluating-financial-performance-and-position.html', 'https://extension.okstate.edu/fact-sheets/fish-kills.html', 'https://extension.okstate.edu/fact-sheets/aquatic-weeds-problem-solving-steps.html', 'https://extension.okstate.edu/fact-sheets/hydration-and-athletes.html', 'https://extension.okstate.edu/fact-sheets/supplementing-beef-cows.html', 'https://extension.okstate.edu/fact-sheets/nitrification-and-maintenance-in-media-bed-aquaponics.html', 'https://extension.okstate.edu/fact-sheets/nutrition-and-heart-health-in-the-fire-service.html', 'https://extension.okstate.edu/fact-sheets/beginning-honey-beekeeping-equipment-and-associated-costs.html', 'https://extension.okstate.edu/fact-sheets/the-exotic-invasive-chinese-tallow.html', 'https://extension.okstate.edu/fact-sheets/green-stem-syndrome-in-soybean.html', 'https://extension.okstate.edu/fact-sheets/mixed-species-grazing-a-potential-opportunity-to-improve-rangeland-productivity-and-increase-profits.html', 'https://extension.okstate.edu/fact-sheets/protein-concentration-of-winter-wheat-varieties-in-oklahoma-2020-2021.html', 'https://extension.okstate.edu/fact-sheets/overview-of-opportunities-for-beginning-farmers-and-ranchers.html', 'https://extension.okstate.edu/fact-sheets/2021-oklahoma-cotton-harvest-aid-guide.html', 'https://extension.okstate.edu/fact-sheets/impacts-of-winter-and-summer-crop-selection-on-the-performance-of-double-crop-systems.html', 'https://extension.okstate.edu/fact-sheets/liabilities-schedule.html', 'https://extension.okstate.edu/fact-sheets/economically-optimal-planting-of-dual-purpose-wheat.html', 'https://extension.okstate.edu/fact-sheets/algae-control-for-greenhouse-production.html', 'https://extension.okstate.edu/fact-sheets/should-i-buy-or-retain-stockers-to-graze-wheat-pasture.html', 'https://extension.okstate.edu/fact-sheets/soilless-growing-mediums.html', 'https://extension.okstate.edu/fact-sheets/slaughterhouse-water-use-and-wastewater-characteristics-fapc-240.html', 'https://extension.okstate.edu/fact-sheets/organizational-branding-101.html', 'https://extension.okstate.edu/fact-sheets/oklahoma-lawn-and-garden-soil-test-summary-2015-2019-cr-6467.html', 'https://extension.okstate.edu/fact-sheets/us-and-oklahoma-covid-impacts-on-food-shopper-buying-patterns.html', 'https://extension.okstate.edu/fact-sheets/a-strategy-for-building-a-beef-cow-herd-agec-269.html', 'https://extension.okstate.edu/fact-sheets/sustainable-food-packaging-options.html', 'https://extension.okstate.edu/fact-sheets/native-plant-index-unfamiliar-oklahoma-flora-of-horticultural-interest-hla-6469.html', 'https://extension.okstate.edu/fact-sheets/aflatoxins-in-wildlife-feed-know-how-to-protect-wildlife.html', 'https://extension.okstate.edu/fact-sheets/sesame-seed-oil-properties.html', 'https://extension.okstate.edu/fact-sheets/owner-equity-section.html', 'https://extension.okstate.edu/fact-sheets/a-resource-guide-for-beginning-farmers-in-oklahoma.html', 'https://extension.okstate.edu/fact-sheets/2020-2021-small-grains-variety-performance-tests.html', 'https://extension.okstate.edu/fact-sheets/key-to-female-bumble-bees-of-oklahoma.html', 'https://extension.okstate.edu/fact-sheets/oklahoma-sheep-and-goat-auction-directory.html', 'https://extension.okstate.edu/fact-sheets/understanding-your-lawn-and-garden-soil-test.html', 'https://extension.okstate.edu/fact-sheets/oklahoma-craft-brewery-involvement-in-communities.html', 'https://extension.okstate.edu/fact-sheets/utilizing-heat-units-in-oklahoma-cotton-production.html', 'https://extension.okstate.edu/fact-sheets/soil-moisture-sensing-systems-for-improving-irrigation-scheduling.html', 'https://extension.okstate.edu/fact-sheets/grasshoppers-of-the-choctaw-nation-in-southeast-oklahoma.html', 'https://extension.okstate.edu/fact-sheets/mask-mandates-and-retail-consumer-spending-a-comparison-of-oklahoma-communities-during-covid-19.html', 'https://extension.okstate.edu/fact-sheets/schedule-of-assets.html', 'https://extension.okstate.edu/fact-sheets/agritourism-operators-marketing-preferences.html', 'https://extension.okstate.edu/fact-sheets/what-you-need-to-know-about-the-endangered-species-act.html', 'https://extension.okstate.edu/fact-sheets/smallseed-falseflax-management-in-winter-wheat-pss-2796.html', 'https://extension.okstate.edu/fact-sheets/evaluation-of-rainfall-index-pasture-rangeland-and-forage-crop-insurance-program-and-guidelines-for-producers.html', 'https://extension.okstate.edu/fact-sheets/landscaping-to-attract-butterflies-and-moths.html', 'https://extension.okstate.edu/fact-sheets/sampling-for-pinewood-nematodes.html', 'https://extension.okstate.edu/fact-sheets/management-of-insect-and-mite-pests-in-small-grains.html', 'https://extension.okstate.edu/fact-sheets/landscape-maintenance-schedule.html', 'https://extension.okstate.edu/fact-sheets/finishing-beef-cattle-on-the-farm.html', 'https://extension.okstate.edu/fact-sheets/oklahoma-prescribed-burning-handbook.html', 'https://extension.okstate.edu/fact-sheets/corn-performance-trials-in-oklahoma-panhandle-2021.html', 'https://extension.okstate.edu/fact-sheets/weight-management.html', 'https://extension.okstate.edu/fact-sheets/nutrition-for-older-adults-diet-and-health-guidelines-for-weight-loss.html', 'https://extension.okstate.edu/fact-sheets/diet-and-high-blood-pressure.html', 'https://extension.okstate.edu/fact-sheets/journey-through-health-immune-system.html', 'https://extension.okstate.edu/fact-sheets/carbohydrates-in-the-diet.html', 'https://extension.okstate.edu/fact-sheets/diet-and-heart-disease.html', 'https://extension.okstate.edu/fact-sheets/journey-through-health-eyes.html', 'https://extension.okstate.edu/fact-sheets/nutrition-for-older-adults-constipation-and-nutrition.html', 'https://extension.okstate.edu/fact-sheets/protein-and-the-body.html', 'https://extension.okstate.edu/fact-sheets/journey-through-health-stomach.html', 'https://extension.okstate.edu/fact-sheets/research-summary-quail-population-and-nesting-characteristics-in-western-oklahoma.html', 'https://extension.okstate.edu/fact-sheets/patch-burning-integrating-fire-and-grazing-to-promote-heterogeneity.html', 'https://extension.okstate.edu/fact-sheets/nutrition-for-older-adults-diet-and-health-guidelines-to-lower-the-risk-of-high-blood-pressure.html', 'https://extension.okstate.edu/fact-sheets/nutrition-for-older-adults-usda-myplate-food-groups.html', 'https://extension.okstate.edu/fact-sheets/nutrition-for-older-adults-usda-myplate-daily-checklist.html', 'https://extension.okstate.edu/fact-sheets/nutrition-for-older-adults-strength-coordination-range-of-motion-and-nutrition.html', 'https://extension.okstate.edu/fact-sheets/calibrating-a-low-pressure-ground-sprayer-boom-mounted-nozzles.html', 'https://extension.okstate.edu/fact-sheets/journey-through-health-muscles.html', 'https://extension.okstate.edu/fact-sheets/journey-through-health-mouth-teeth-and-gums.html', 'https://extension.okstate.edu/fact-sheets/understanding-grain-sorghum-irrigation-requirements-in-oklahoma.html', 'https://extension.okstate.edu/fact-sheets/pear-rust.html', 'https://extension.okstate.edu/fact-sheets/2021-tomato-variety-suggestions.html', 'https://extension.okstate.edu/fact-sheets/considering-water-quality-in-oklahoma.html', 'https://extension.okstate.edu/fact-sheets/cucumber-production.html', 'https://extension.okstate.edu/fact-sheets/mites-in-small-grains.html', 'https://extension.okstate.edu/fact-sheets/oklahoma-cropland-rental-rates-2020-21.html', 'https://extension.okstate.edu/fact-sheets/oklahoma-pasture-rental-rates-2020-21.html', 'https://extension.okstate.edu/fact-sheets/melon-production.html', 'https://extension.okstate.edu/fact-sheets/using-drones-with-infrared-capabilities-to-monitor-fire-behavior.html', 'https://extension.okstate.edu/fact-sheets/grain-sorghum-performance-trials-in-oklahoma.html', 'https://extension.okstate.edu/fact-sheets/financial-statement-analysis-for-agricultural-cooperatives.html', 'https://extension.okstate.edu/fact-sheets/using-prescribed-fire-in-oklahoma.html', 'https://extension.okstate.edu/fact-sheets/developing-an-income-statement.html', 'https://extension.okstate.edu/fact-sheets/2020-oklahoma-replicated-agronomic-cotton-evaluation-trial-report.html', 'https://extension.okstate.edu/fact-sheets/non-chemical-methods-for-controlling-diseases-in-the-home-landscape-and-garden.html', 'https://extension.okstate.edu/fact-sheets/building-a-vertical-hydroponic-tower.html', 'https://extension.okstate.edu/fact-sheets/pine-wilt-disease.html', 'https://extension.okstate.edu/fact-sheets/fungi-used-for-pest-management-in-crop-production.html', 'https://extension.okstate.edu/fact-sheets/leaf-curl-of-peaches-and-nectarines.html', 'https://extension.okstate.edu/fact-sheets/soil-solarization-for-control-of-soilborne-diseases.html', 'https://extension.okstate.edu/fact-sheets/oklahoma-garden-planning-guide.html', 'https://extension.okstate.edu/fact-sheets/2020-vegetable-trial-report.html', 'https://extension.okstate.edu/fact-sheets/managing-double-crop-soybean-inputs.html', 'https://extension.okstate.edu/fact-sheets/greenhouse-growth-media-sampling-testing-and-interpretations.html', 'https://extension.okstate.edu/fact-sheets/simple-budgeting-and-pricing-calculations-for-backyard-hens.html', 'https://extension.okstate.edu/fact-sheets/building-a-pond.html', 'https://extension.okstate.edu/fact-sheets/guidelines-for-plant-identification.html', 'https://extension.okstate.edu/fact-sheets/wheat-grazeout-versus-harvest-for-grain.html', 'https://extension.okstate.edu/fact-sheets/bringing-home-a-second-baby-1-getting-ready.html', 'https://extension.okstate.edu/fact-sheets/small-grain-aphids-in-oklahoma-and-their-management.html', 'https://extension.okstate.edu/fact-sheets/guide-for-identification-and-management-o-diseases-of-cucurbit-vegetable-crops.html', 'https://extension.okstate.edu/fact-sheets/survey-of-pond-problems.html', 'https://extension.okstate.edu/fact-sheets/wildflower-gardening-in-oklahoma.html', 'https://extension.okstate.edu/fact-sheets/safety-education-is-critical-for-grain-fumigators.html', 'https://extension.okstate.edu/fact-sheets/calendar-for-land-and-pond-management-practices.html', 'https://extension.okstate.edu/fact-sheets/commercial-pecan-insect-and-disease-control.html', 'https://extension.okstate.edu/fact-sheets/family-caregiver-tips-am-i-a-caregiver.html', 'https://extension.okstate.edu/fact-sheets/weed-management-in-small-fruit-crops-pdf-only.html', 'https://extension.okstate.edu/fact-sheets/bringing-home-a-second-baby-2-welcome.html', 'https://extension.okstate.edu/fact-sheets/plants-in-the-classroom-the-story-of-oklahoma-turfgrass.html', 'https://extension.okstate.edu/fact-sheets/fed-cattle-price-discovery-issues-and-considerations.html', 'https://extension.okstate.edu/fact-sheets/properties-of-high-oleic-seed-oils.html', 'https://extension.okstate.edu/fact-sheets/mindful-conversations-using-mindfulness-in-talking-with-aging-loved-ones.html', 'https://extension.okstate.edu/fact-sheets/how-to-identify-credible-sources-of-health-information-in-the-digital-age.html', 'https://extension.okstate.edu/fact-sheets/selecting-evergreen-trees.html', 'https://extension.okstate.edu/fact-sheets/drug-disposal-options-for-rural-communities.html', 'https://extension.okstate.edu/fact-sheets/basic-plant-care-understanding-your-plants-needs.html', 'https://extension.okstate.edu/fact-sheets/the-health-risk-of-fad-diets.html', 'https://extension.okstate.edu/fact-sheets/the-effects-of-wind-speed-and-water-pressure-on-home-sprinkler-systems.html', 'https://extension.okstate.edu/fact-sheets/dating-again-tips-for-starting-over-in-midlife.html', 'https://extension.okstate.edu/fact-sheets/hemp-seed-oil-properties.html', 'https://extension.okstate.edu/fact-sheets/poison-ivy-poison-oak-and-similar-plant-identification.html', 'https://extension.okstate.edu/fact-sheets/top-ten-recommendations-for-oklahoma-agritourism-facebook-marketing.html', 'https://extension.okstate.edu/fact-sheets/from-seed-to-sip-a-small-batch-hop-experiment.html', 'https://extension.okstate.edu/fact-sheets/managing-alfalfa-weevil-insecticide-resistance.html', 'https://extension.okstate.edu/fact-sheets/dating-for-online-beginners-tips-for-staying-safe.html', 'https://extension.okstate.edu/fact-sheets/budgets-their-use-in-farm-management.html', 'https://extension.okstate.edu/fact-sheets/culinary-herbs-for-oklahoma-gardens.html', 'https://extension.okstate.edu/fact-sheets/addressing-drainage-issues-in-the-urban-landscape.html', 'https://extension.okstate.edu/fact-sheets/developing-a-balance-sheet.html', 'https://extension.okstate.edu/fact-sheets/oklahomas-bird-grasshoppers.html', 'https://extension.okstate.edu/fact-sheets/producing-grazeable-cover-crops-during-summer-fallow-in-winter-wheat.html', 'https://extension.okstate.edu/fact-sheets/plants-in-the-classroom-the-story-of-oklahoma-pecans.html', 'https://extension.okstate.edu/fact-sheets/activity-of-oklahoma-agritourism-facebook-pages.html', 'https://extension.okstate.edu/fact-sheets/alfalfa-aphids-in-oklahoma.html', 'https://extension.okstate.edu/fact-sheets/water-efficient-landscapes-for-oklahoma.html', 'https://extension.okstate.edu/fact-sheets/weaning-and-management-of-weanling-horses.html', 'https://extension.okstate.edu/fact-sheets/protein-concentration-of-winter-wheat-varieties-in-oklahoma-2019-2020.html', 'https://extension.okstate.edu/fact-sheets/protein-content-of-winter-wheat-varieties-in-oklahoma-2018-2019.html', 'https://extension.okstate.edu/fact-sheets/oklahoma-alfalfa-management-calendar-for-insects-and-diseases.html', 'https://extension.okstate.edu/fact-sheets/an-introduction-to-finishing-beef.html', 'https://extension.okstate.edu/fact-sheets/do-home-computers-internet-access-affect-student-performance.html', 'https://extension.okstate.edu/fact-sheets/cow-calf-standardized-performance-analysis-spa.html', 'https://extension.okstate.edu/fact-sheets/agronomic-calendar-for-oklahoma-alfalfa-growers.html', 'https://extension.okstate.edu/fact-sheets/2019-2020-small-grains-variety-performance-tests.html', 'https://extension.okstate.edu/fact-sheets/scouting-for-the-alfalfa-weevil-in-oklahoma.html', 'https://extension.okstate.edu/fact-sheets/managing-deer-damage-to-crop-fields-in-oklahoma.html', 'https://extension.okstate.edu/fact-sheets/developing-a-cash-flow-plan.html', 'https://extension.okstate.edu/fact-sheets/cow-calf-standardized-performance-analysis-spa-1.html', 'https://extension.okstate.edu/fact-sheets/wheat-allergy-celiac-disease-and-non-celiac-gluten-sensitivity.html', 'https://extension.okstate.edu/fact-sheets/aquatic-herbicides-essential-information-for-new-applicators.html', 'https://extension.okstate.edu/fact-sheets/nurturing-your-babys-social-and-emotional-growth.html', 'https://extension.okstate.edu/fact-sheets/protecting-small-poultry-flocks-from-predators.html', 'https://extension.okstate.edu/fact-sheets/soybean-production-guide.html', 'https://extension.okstate.edu/fact-sheets/using-enterprise-budgets-in-farm-financial-planning.html', 'https://extension.okstate.edu/fact-sheets/management-of-insects-and-mites-in-tree-nurseries.html', 'https://extension.okstate.edu/fact-sheets/automatic-pneumatic-cutter.html', 'https://extension.okstate.edu/fact-sheets/understanding-the-oklahoma-home-bakery-act.html', 'https://extension.okstate.edu/fact-sheets/aging-in-place-tips-for-staying-in-your-home.html', 'https://extension.okstate.edu/fact-sheets/oklahoma-economic-pulse-survey-results.html', 'https://extension.okstate.edu/fact-sheets/mask-wearing-beliefs-in-the-state-of-oklahoma-and-surrounding-region.html', 'https://extension.okstate.edu/fact-sheets/commercial-management-of-turfgrass-insects-and-mites.html', 'https://extension.okstate.edu/fact-sheets/home-tree-fruit-production-and-pest-management.html', 'https://extension.okstate.edu/fact-sheets/weed-management-in-cotton-planted-into-wheat-residue.html', 'https://extension.okstate.edu/fact-sheets/coronavirus-sars-cov-2-and-the-covid-19-pandemic-what-is-it-and-how-does-it-spread.html', 'https://extension.okstate.edu/fact-sheets/management-strategies-for-double-crop-soybean.html', 'https://extension.okstate.edu/fact-sheets/what-do-eastern-oklahomans-think-of-black-bears.html', 'https://extension.okstate.edu/fact-sheets/what-if-engenia-fexapan-or-xtendimax-are-not-an-option-for-cotton-weed-control.html', 'https://extension.okstate.edu/fact-sheets/what-if-engenia-fexapan-or-xtendimax-are-not-an-option-for-soybean-weed-control.html', 'https://extension.okstate.edu/fact-sheets/watermelon-diseases.html', 'https://extension.okstate.edu/fact-sheets/-test/all-snippets-b.html', 'https://extension.okstate.edu/fact-sheets/how-parents-can-heal-from-childhood-adversity-paces-for-parents.html', 'https://extension.okstate.edu/fact-sheets/deferred-taxes.html', 'https://extension.okstate.edu/fact-sheets/baby-paces.html', 'https://extension.okstate.edu/fact-sheets/paces-for-children-overcoming-adversity-and-building-resilience.html', 'https://extension.okstate.edu/fact-sheets/duties-and-responsibilities-of-elected-county-officials.html', 'https://extension.okstate.edu/fact-sheets/the-impact-of-adverse-and-protective-childhood-experiences.html', 'https://extension.okstate.edu/fact-sheets/fire-effects-fencing.html', 'https://extension.okstate.edu/fact-sheets/safety-in-the-home-when-caring-for-older-adults.html', 'https://extension.okstate.edu/fact-sheets/eating-and-keeping-food-safe-during-summer-and-winter-storms.html', 'https://extension.okstate.edu/fact-sheets/economic-damages-to-the-u-s-beef-cattle-industry-due-to-covid-19.html', 'https://extension.okstate.edu/fact-sheets/oklahoma-crabgrass-variety-performance-tests-2018-2019-forage-years.html', 'https://extension.okstate.edu/fact-sheets/required-training-for-paraquat-applicators.html', 'https://extension.okstate.edu/fact-sheets/cowculator-v2-0-beef-cow-nutrition-evaluation-software.html', 'https://extension.okstate.edu/fact-sheets/drought-tolerant-plant-selections-for-oklahoma.html', 'https://extension.okstate.edu/fact-sheets/the-potential-of-grazing-grain-sorghum-residue-following-harvest.html', 'https://extension.okstate.edu/fact-sheets/oklahoma-bermudagrass-variety-performance-tests-2019-forage-year.html', 'https://extension.okstate.edu/fact-sheets/tips-for-managing-nuisance-armadillo.html', 'https://extension.okstate.edu/fact-sheets/family-caregiving-tips-where-do-i-start.html', 'https://extension.okstate.edu/fact-sheets/wheat-management-calendar-fall-management-decisions.html', 'https://extension.okstate.edu/fact-sheets/drought-management-strategies.html', 'https://extension.okstate.edu/fact-sheets/valuation-of-raised-breeding-livestock.html', 'https://extension.okstate.edu/fact-sheets/weed-control-in-pecans-apples-and-peaches.html', 'https://extension.okstate.edu/fact-sheets/meshing-soybean-weed-management-with-agronomic-practices-in-oklahoma.html', 'https://extension.okstate.edu/fact-sheets/testing-services-and-price-list.html', 'https://extension.okstate.edu/fact-sheets/prescribed-fire-understanding-liability-laws-and-risk.html', 'https://extension.okstate.edu/fact-sheets/family-caregiving-tips-cooking-for-your-loved-one.html', 'https://extension.okstate.edu/fact-sheets/irrigated-agriculture-in-oklahoma.html', 'https://extension.okstate.edu/fact-sheets/the-role-of-the-board-chair.html', 'https://extension.okstate.edu/fact-sheets/horseweed-management-in-oklahoma-winter-wheat.html', 'https://extension.okstate.edu/fact-sheets/commercial-peach-nectarine-insect-and-disease-control.html', 'https://extension.okstate.edu/fact-sheets/waste-management-for-alligator-farming-and-ranching.html', 'https://extension.okstate.edu/fact-sheets/sustainable-landscapes-creating-a-hugelkultur-for-gardening-with-stormwater-management-benefits.html', 'https://extension.okstate.edu/fact-sheets/why-peanut-oil-is-good-for-frying-food.html', 'https://extension.okstate.edu/fact-sheets/the-need-for-board-diversity-in-agricultural-cooperatives.html', 'https://extension.okstate.edu/fact-sheets/cooperative-equity-management-systems.html', 'https://extension.okstate.edu/fact-sheets/vegetable-trial-reports-2010-2019.html', 'https://extension.okstate.edu/fact-sheets/understanding-cooperative-equity.html', 'https://extension.okstate.edu/fact-sheets/aligning-the-cooperative-board.html', 'https://extension.okstate.edu/fact-sheets/how-to-purchase-olive-oil.html', 'https://extension.okstate.edu/fact-sheets/thistles-in-oklahoma-and-their-identification.html', 'https://extension.okstate.edu/fact-sheets/helping-children-of-divorce-understand-their-feelings.html', 'https://extension.okstate.edu/fact-sheets/yellow-grub-a-common-fish-parasite.html', 'https://extension.okstate.edu/fact-sheets/container-gardening.html', 'https://extension.okstate.edu/fact-sheets/stored-grain-insect-pests-that-feed-inside-kernels-and-seeds.html', 'https://extension.okstate.edu/fact-sheets/parenting-with-natural-and-logical-consequences.html', 'https://extension.okstate.edu/fact-sheets/copper-sulfate-an-often-overused-chemical-in-pond-management.html', 'https://extension.okstate.edu/fact-sheets/some-properties-of-scrim-lumber-manufactured-from-eastern-redcedar.html', 'https://extension.okstate.edu/fact-sheets/valuing-food-safety-in-fresh-produce-do-consumers-care-and-will-they-pay.html', 'https://extension.okstate.edu/fact-sheets/to-be-or-not-to-be-that-is-the-gluten-free-marketing-question.html', 'https://extension.okstate.edu/fact-sheets/filler-identification-and-selection-for-liquid-foods.html', 'https://extension.okstate.edu/fact-sheets/cross-laminated-timber-clt-as-a-value-added-product.html', 'https://extension.okstate.edu/fact-sheets/re-adjusting-finances-t-6612.html', 'https://extension.okstate.edu/fact-sheets/identification-of-grasses.html', 'https://extension.okstate.edu/fact-sheets/nutrition-for-older-adults-planning-healthful-meals-with-the-usda-daily-food-plan.html', 'https://extension.okstate.edu/fact-sheets/nutrition-for-older-adults-diet-and-health-guidelines-to-lower-the-risk-of-osteoporosis.html', 'https://extension.okstate.edu/fact-sheets/nutrition-for-older-adults-diet-and-health-guidelines-to-lower-the-risk-of-medicine-and-nutrient-interactions.html', 'https://extension.okstate.edu/fact-sheets/wheat-research-at-osu-2016.html', 'https://extension.okstate.edu/fact-sheets/smoke-management-for-prescribed-burning.html', 'https://extension.okstate.edu/fact-sheets/usda-myplate-daily-checklist.html', 'https://extension.okstate.edu/fact-sheets/nutrition-for-physical-activity-and-athletics.html', 'https://extension.okstate.edu/fact-sheets/drug-nutrient-interactions.html', 'https://extension.okstate.edu/fact-sheets/vitamin-and-mineral-supplements.html', 'https://extension.okstate.edu/fact-sheets/nutrition-in-later-years.html', 'https://extension.okstate.edu/fact-sheets/vitamins-and-the-body.html', 'https://extension.okstate.edu/fact-sheets/dietary-fiber.html', 'https://extension.okstate.edu/fact-sheets/irrigation.html', 'https://extension.okstate.edu/fact-sheets/healthy-foods-for-busy-days.html', 'https://extension.okstate.edu/fact-sheets/group-relamping-for-cost-savings-and-better-lighting-quality.html', 'https://extension.okstate.edu/fact-sheets/dish-gardens.html', 'https://extension.okstate.edu/fact-sheets/cover-crops-for-weed-management-in-oklahoma.html', 'https://extension.okstate.edu/fact-sheets/pumpkin-and-squash-diseases.html', 'https://extension.okstate.edu/fact-sheets/making-sense-of-heart-disease-risk-factors.html', 'https://extension.okstate.edu/fact-sheets/optimum-planting-depth-for-uniform-germination-and-emergence-of-corn.html', 'https://extension.okstate.edu/fact-sheets/movement-of-odors-off-farm.html', 'https://extension.okstate.edu/fact-sheets/utilizing-livestock-risk-protection-lrp-for-feeder-cattle.html', 'https://extension.okstate.edu/fact-sheets/cotton-harvest-aid-considerations-for-small-grains.html', 'https://extension.okstate.edu/fact-sheets/helping-children-deal-with-stress-after-divorce.html', 'https://extension.okstate.edu/fact-sheets/2019-oklahoma-cotton-harvest-aid-guide.html', 'https://extension.okstate.edu/fact-sheets/healthy-caregiving.html', 'https://extension.okstate.edu/fact-sheets/2018-2019-small-grains-variety-performance-tests.html', 'https://extension.okstate.edu/fact-sheets/2018-2019-winter-canola-performance-trial-results.html', 'https://extension.okstate.edu/fact-sheets/industrial-hemp-production-risk-management.html', 'https://extension.okstate.edu/fact-sheets/site-disturbance-and-tree-decline.html', 'https://extension.okstate.edu/fact-sheets/developing-cash-lease-agreements-for-farmland.html', 'https://extension.okstate.edu/fact-sheets/transitioning-through-divorce-the-six-types-of-divorce.html', 'https://extension.okstate.edu/fact-sheets/untitled.html', 'https://extension.okstate.edu/fact-sheets/caregiving-101.html', 'https://extension.okstate.edu/fact-sheets/vegetable-varieties-for-the-home-garden-in-oklahoma.html', 'https://extension.okstate.edu/fact-sheets/co-parenting-using-i-messages.html', 'https://extension.okstate.edu/fact-sheets/plant-growth-regulators-in-cotton.html', 'https://extension.okstate.edu/fact-sheets/co-parenting-investing-in-yourself.html', 'https://extension.okstate.edu/fact-sheets/co-parenting-taking-the-high-road-after-divorce.html', 'https://extension.okstate.edu/fact-sheets/co-parenting-dating-when-you-have-children.html', 'https://extension.okstate.edu/fact-sheets/management-of-insect-and-mite-pests-in-soybean.html', 'https://extension.okstate.edu/fact-sheets/family-caregiving-tips-creating-a-care-team.html', 'https://extension.okstate.edu/fact-sheets/enterprise-budget-summaries.html', 'https://extension.okstate.edu/fact-sheets/enterprise-budget-samples.html', 'https://extension.okstate.edu/fact-sheets/diesel-fuels-derived-from-renewable-sources.html', 'https://extension.okstate.edu/fact-sheets/oil-and-oilseed-processing-i.html', 'https://extension.okstate.edu/fact-sheets/field-key-to-larvae-in-corn.html', 'https://extension.okstate.edu/fact-sheets/farmers-in-transition-finding-a-new-career.html', 'https://extension.okstate.edu/fact-sheets/is-rainfall-index-pasture-rangeland-and-forage-insurance-right-for-you.html', 'https://extension.okstate.edu/fact-sheets/understanding-cotton-irrigation-requirements-in-oklahoma.html', 'https://extension.okstate.edu/fact-sheets/nutrient-loss-and-water-quality.html', 'https://extension.okstate.edu/fact-sheets/minimizing-impacts-to-wildlife-from-livestock-infrastructure.html', 'https://extension.okstate.edu/fact-sheets/be-safe-from-choking.html', 'https://extension.okstate.edu/fact-sheets/snacks-that-help-your-child-learn-play-and-grow.html', 'https://extension.okstate.edu/fact-sheets/considerations-for-cotton-planting-and-early-season-growth.html', 'https://extension.okstate.edu/fact-sheets/production-and-management-of-old-world-bluestems.html', 'https://extension.okstate.edu/fact-sheets/dealing-with-difficult-customers.html', 'https://extension.okstate.edu/fact-sheets/lets-move-more.html', 'https://extension.okstate.edu/fact-sheets/field-key-to-larvae-in-pecans.html', 'https://extension.okstate.edu/fact-sheets/alfalfa-stand-establishment.html', 'https://extension.okstate.edu/fact-sheets/probate.html', 'https://extension.okstate.edu/fact-sheets/oklahoma-bermudagrass-variety-performance-tests-2016-2018-forage-years.html', 'https://extension.okstate.edu/fact-sheets/making-mealtime-pleasant.html', 'https://extension.okstate.edu/fact-sheets/feeding-choosy-eaters.html', 'https://extension.okstate.edu/fact-sheets/trusts-uses-and-considerations.html', 'https://extension.okstate.edu/fact-sheets/harvest-aid-weed-management-in-wheat.html', 'https://extension.okstate.edu/fact-sheets/developing-an-estate-plan.html', 'https://extension.okstate.edu/fact-sheets/keep-food-safe.html', 'https://extension.okstate.edu/fact-sheets/portions-for-preschoolers.html', 'https://extension.okstate.edu/fact-sheets/wills-requirements-and-considerations.html', 'https://extension.okstate.edu/fact-sheets/why-milk-matters.html', 'https://extension.okstate.edu/fact-sheets/estate-planning-a-simplified-guide-for-oklahoma-farm-and-ranch-families.html', 'https://extension.okstate.edu/fact-sheets/old_fall-forage-production-and-date-of-first-hollow-stem-in-winter-wheat-varieties-during-the-2018-2019-crop-year.html', 'https://extension.okstate.edu/fact-sheets/the-truth-about-juice.html', 'https://extension.okstate.edu/fact-sheets/why-breakfast.html', 'https://extension.okstate.edu/fact-sheets/squash-and-pumpkin-production.html', 'https://extension.okstate.edu/fact-sheets/top-tips-for-getting-your-child-to-eat-vegetables.html', 'https://extension.okstate.edu/fact-sheets/reproductive-management-of-the-mare.html', 'https://extension.okstate.edu/fact-sheets/improving-garden-soil-fertility.html', 'https://extension.okstate.edu/fact-sheets/starting-pecan-trees.html', 'https://extension.okstate.edu/fact-sheets/agronomic-considerations-for-industrial-hemp-production.html', 'https://extension.okstate.edu/fact-sheets/management-of-insect-and-mite-pests-in-sunflowers.html', 'https://extension.okstate.edu/fact-sheets/management-of-insect-pests-in-rangeland-and-pasture.html', 'https://extension.okstate.edu/fact-sheets/selecting-alfalfa-varieties.html', 'https://extension.okstate.edu/fact-sheets/pre-plant-nitrogen-response-in-irrigated-corn.html', 'https://extension.okstate.edu/fact-sheets/saved_fall-forage-production-and-date-of-first-hollow-stem-in-winter-wheat-varieties-during-the-2018-2019-crop-year.html', 'https://extension.okstate.edu/fact-sheets/options-for-expiring-conservation-reserve-program-crp-land.html', 'https://extension.okstate.edu/fact-sheets/septic-system-trends-in-oklahoma.html', 'https://extension.okstate.edu/fact-sheets/influence-of-ph-on-winter-canola-production-in-oklahoma.html', 'https://extension.okstate.edu/fact-sheets/influence-of-hybrids-on-cold-soil-germination-in-grain-sorghum.html', 'https://extension.okstate.edu/fact-sheets/management-of-insect-and-mite-pests-in-sorghum.html', 'https://extension.okstate.edu/fact-sheets/broken-management-of-insect-and-mite-pests-in-sorghum.html', 'https://extension.okstate.edu/fact-sheets/foliar-fungicides-and-wheat-production-in-oklahoma-march-2016.html', 'https://extension.okstate.edu/fact-sheets/septic-systems-what-to-do-after-severe-weather.html', 'https://extension.okstate.edu/fact-sheets/management-of-insect-and-mite-pests-in-corn.html', 'https://extension.okstate.edu/fact-sheets/emerging-allergens-in-bakery-gluten-free-ingredients-lupine-and-cricket-flour.html', 'https://extension.okstate.edu/fact-sheets/quicken-for-farm-and-ranch-financial-records.html', 'https://extension.okstate.edu/fact-sheets/selecting-an-appropriate-bermudagrass-variety-for-pastures.html', 'https://extension.okstate.edu/fact-sheets/storing-oklahoma-winter-canola.html', 'https://extension.okstate.edu/fact-sheets/the-pond-owners-plea.html', 'https://extension.okstate.edu/fact-sheets/farmers-in-transition-taking-charge-in-stressful-times.html', 'https://extension.okstate.edu/fact-sheets/managing-pressure-in-the-home-irrigation-system.html', 'https://extension.okstate.edu/fact-sheets/organic-matter-in-no-till-production-systems.html', 'https://extension.okstate.edu/fact-sheets/the-importance-of-sampling-depth-for-soil-health-assessment.html', 'https://extension.okstate.edu/fact-sheets/the-livestock-forage-program-disaster-assistance.html', 'https://extension.okstate.edu/fact-sheets/using-harvest-aids-in-grain-sorghum-production.html', 'https://extension.okstate.edu/fact-sheets/fsma-preventive-controls-for-human-food-what-are-the-costs-to-my-food-business.html', 'https://extension.okstate.edu/fact-sheets/successful-pond-profile-noble-county.html', 'https://extension.okstate.edu/fact-sheets/managing-someone-elses-finances.html', 'https://extension.okstate.edu/fact-sheets/oklahoma-pasture-rental-rates-2018-2019.html', 'https://extension.okstate.edu/fact-sheets/oklahoma-cropland-rental-rates-2018-19.html', 'https://extension.okstate.edu/fact-sheets/using-water-to-calibrate-sprayers-for-fertilizers-and-other-liquid-solutions.html', 'https://extension.okstate.edu/fact-sheets/the-invasive-callery-pear.html', 'https://extension.okstate.edu/fact-sheets/journey-through-health-kidneys.html', 'https://extension.okstate.edu/fact-sheets/nutrition-for-older-adults-diet-and-health-guidelines-to-lower-risk-of-diabetes.html', 'https://extension.okstate.edu/fact-sheets/what-is-gambling-disorder.html', 'https://extension.okstate.edu/fact-sheets/journey-through-health-intestines.html', 'https://extension.okstate.edu/fact-sheets/wheat-research-at-osu-2018.html', 'https://extension.okstate.edu/fact-sheets/journey-through-health-heart-and-blood-vessels.html', 'https://extension.okstate.edu/fact-sheets/overview-of-the-agricultural-improvement-act-of-2018.html', 'https://extension.okstate.edu/fact-sheets/journey-through-health-brain.html', 'https://extension.okstate.edu/fact-sheets/livestock-branding-in-oklahoma.html', 'https://extension.okstate.edu/fact-sheets/research-summary-the-science-of-scent-and-implications-for-northern-bobwhite.html', 'https://extension.okstate.edu/fact-sheets/herbicide-programs-for-italian-ryegrass-control-in-winter-wheat.html', 'https://extension.okstate.edu/fact-sheets/journey-through-health-bones.html', 'https://extension.okstate.edu/fact-sheets/journey-through-health-pancreas.html', 'https://extension.okstate.edu/fact-sheets/okra-production.html', 'https://extension.okstate.edu/fact-sheets/research-summary-evaluation-of-northern-bobwhite-and-scaled-quail-in-western-oklahoma.html', 'https://extension.okstate.edu/fact-sheets/nutrition-for-older-adults-diet-and-health-guidelines-to-lower-the-risk-of-heart-disease.html', 'https://extension.okstate.edu/fact-sheets/alfalfa-autotoxicity-a-good-reason-to-rotate-alfalfa-fields.html', 'https://extension.okstate.edu/fact-sheets/cable-yarding-in-timber-harvesting.html', 'https://extension.okstate.edu/fact-sheets/eastern-redcedar-as-value-added-product-made-in-oklahoma.html', 'https://extension.okstate.edu/fact-sheets/poultry-litter-spreader-truck-operation-and-calibration.html', 'https://extension.okstate.edu/fact-sheets/fundamental-aspects-of-heat-treated-wood.html', 'https://extension.okstate.edu/fact-sheets/green-composite-panels-manufactured-from-eastern-redcedar.html', 'https://extension.okstate.edu/fact-sheets/basics-of-formaldehyde-emission-from-wood-composite-panels.html', 'https://extension.okstate.edu/fact-sheets/grain-protectants-and-top-dress-treatments-for-stored-grains.html', 'https://extension.okstate.edu/fact-sheets/crowdsourcing-in-the-food-industry.html', 'https://extension.okstate.edu/fact-sheets/canola-oil-properties.html', 'https://extension.okstate.edu/fact-sheets/basics-of-headrig-and-curve-sawing-in-lumber-manufacture.html', 'https://extension.okstate.edu/fact-sheets/construction-of-table-gardens.html', 'https://extension.okstate.edu/fact-sheets/managing-crabgrass-in-a-continuous-grazeout-wheat-system.html', 'https://extension.okstate.edu/fact-sheets/identifying-and-correcting-iron-deficiencies-in-ornamentals.html', 'https://extension.okstate.edu/fact-sheets/herbicide-mixing-order.html', 'https://extension.okstate.edu/fact-sheets/talk-read-and-sing-with-your-child-every-day.html', 'https://extension.okstate.edu/fact-sheets/helping-your-young-child-deal-with-anger.html', 'https://extension.okstate.edu/fact-sheets/fostering-your-childs-self-regulation.html', 'https://extension.okstate.edu/fact-sheets/customer-service-basics.html', 'https://extension.okstate.edu/fact-sheets/what-drives-small-town-population-growth-in-oklahoma.html', 'https://extension.okstate.edu/fact-sheets/oklahoma-horse-industry-trends.html', 'https://extension.okstate.edu/fact-sheets/children-adolescents-with-mental-health-disorders-how-adults-can-help.html', 'https://extension.okstate.edu/fact-sheets/homeowner-garden-design-series-creating-outdoor-rooms.html', 'https://extension.okstate.edu/fact-sheets/management-of-insects-and-mites-in-greenhouse-floral-crops.html', 'https://extension.okstate.edu/fact-sheets/disaster-losses-and-related-tax-rules.html', 'https://extension.okstate.edu/fact-sheets/co-parenting-the-unique-role-of-fathers.html', 'https://extension.okstate.edu/fact-sheets/2017-2018-small-grains-variety-performance-tests.html', 'https://extension.okstate.edu/fact-sheets/national-weather-service-climate-outlooks-serving-agriculture.html', 'https://extension.okstate.edu/fact-sheets/rainfastness-for-fallow-and-in-season-winter-wheat-herbicides-with-postemergence-activity.html', 'https://extension.okstate.edu/fact-sheets/fire-prescriptions-for-maintenance-and-restoration-of-native-plant-communities.html', 'https://extension.okstate.edu/fact-sheets/understanding-soil-water-content-and-thresholds-for-irrigation-management.html', 'https://extension.okstate.edu/fact-sheets/defining-cutout-in-cotton.html', 'https://extension.okstate.edu/fact-sheets/protein-content-of-winter-wheat-varieties-in-oklahoma-2017-2018.html', 'https://extension.okstate.edu/fact-sheets/a-practical-guide-to-food-plots-in-the-southern-great-plains.html', 'https://extension.okstate.edu/fact-sheets/frequently-asked-wildlife-management-questions.html', 'https://extension.okstate.edu/fact-sheets/frequently-asked-questions-for-wildlife-damage-and-disease.html', 'https://extension.okstate.edu/fact-sheets/frequently-asked-farm-pond-questions.html', 'https://extension.okstate.edu/fact-sheets/tracking-drought-using-soil-moisture-information.html', 'https://extension.okstate.edu/fact-sheets/selecting-deciduous-trees-for-oklahoma.html', 'https://extension.okstate.edu/fact-sheets/the-craft-beer-brewery-boom-in-oklahoma.html', 'https://extension.okstate.edu/fact-sheets/pull-factors-a-measure-of-retail-sales-success-estimates-for-77-oklahoma-cities-2018.html', 'https://extension.okstate.edu/fact-sheets/drill-condition-and-wheat-emergence-in-oklahoma-a-survey-2.html', 'https://extension.okstate.edu/fact-sheets/tax-consequences-of-weather-related-sale-of-livestock.html', 'https://extension.okstate.edu/fact-sheets/feeding-your-baby-your-babys-first-food-infant-formula.html', 'https://extension.okstate.edu/fact-sheets/feeding-your-baby-your-babys-first-food-breastmilk.html', 'https://extension.okstate.edu/fact-sheets/split-versus-single-applications-of-fungicides-to-control-foliar-wheat-diseases.html', 'https://extension.okstate.edu/fact-sheets/wildfire-preparing-the-ranch-and-farm.html', 'https://extension.okstate.edu/fact-sheets/feeding-your-baby-tips-for-successful-breastfeeding.html', 'https://extension.okstate.edu/fact-sheets/feeding-your-baby-breastfeeding-for-the-working-mom.html', 'https://extension.okstate.edu/fact-sheets/feeding-your-baby-after-the-baby-daily-food-choices-for-the-breastfeeding-mom.html', 'https://extension.okstate.edu/fact-sheets/how-does-soil-ph-impact-herbicides.html', 'https://extension.okstate.edu/fact-sheets/applying-nitrogen-rich-strips.html', 'https://extension.okstate.edu/fact-sheets/impact-of-grazing-on-wheat-grain-yield.html', 'https://extension.okstate.edu/fact-sheets/couples-and-money-lets-talk-about-it.html', 'https://extension.okstate.edu/fact-sheets/planning-for-the-future.html', 'https://extension.okstate.edu/fact-sheets/stallion-behavior-and-management.html', 'https://extension.okstate.edu/fact-sheets/leptospirosis.html', 'https://extension.okstate.edu/fact-sheets/nutritional-considerations-for-broodmares.html', 'https://extension.okstate.edu/fact-sheets/life-insurance.html', 'https://extension.okstate.edu/fact-sheets/the-financial-puzzle-goals-choices-and-plans.html', 'https://extension.okstate.edu/fact-sheets/what-soil-forage-or-water-test-do-you-need.html', 'https://extension.okstate.edu/fact-sheets/wheat-variety-comparison.html', 'https://extension.okstate.edu/fact-sheets/the-financial-puzzle-using-credit-wisely.html', 'https://extension.okstate.edu/fact-sheets/the-basics-of-long-term-care-insurance.html', 'https://extension.okstate.edu/fact-sheets/the-financial-puzzle-credit-reports-and-scores.html', 'https://extension.okstate.edu/fact-sheets/using-the-plate-meters-for-estimating-dry-forage-yield.html', 'https://extension.okstate.edu/fact-sheets/moving-to-the-country.html', 'https://extension.okstate.edu/fact-sheets/respiratory-diseases-in-horses-what-you-can-do-to-prevent-them.html', 'https://extension.okstate.edu/fact-sheets/selecting-shrubs-for-the-landscape.html', 'https://extension.okstate.edu/fact-sheets/are-herbicides-safe-to-use-in-my-pond.html', 'https://extension.okstate.edu/fact-sheets/background-metal-concentrations-in-oklahoma-soils.html', 'https://extension.okstate.edu/fact-sheets/oklahoma-agricultural-soil-test-summary-2014-2017.html', 'https://extension.okstate.edu/fact-sheets/understanding-motor-and-gear-drive-nameplate-information-for-irrigation-pump-evaluations.html', 'https://extension.okstate.edu/fact-sheets/integrated-management-of-invasive-thistles-in-oklahoma.html', 'https://extension.okstate.edu/fact-sheets/management-after-wildfire.html', 'https://extension.okstate.edu/fact-sheets/usda-program-recordkeeping-requirements.html', 'https://extension.okstate.edu/fact-sheets/grass-carp-for-pond-weed-management.html', 'https://extension.okstate.edu/fact-sheets/absentee-rural-land-ownership.html', 'https://extension.okstate.edu/fact-sheets/selecting-forages-for-nutrient-removal-from-animal-manure.html', 'https://extension.okstate.edu/fact-sheets/procedures-used-by-osu-soil-water-and-forage-analytical-laboratory.html', 'https://extension.okstate.edu/fact-sheets/prevention-of-west-nile-virus-infection-in-horses.html', 'https://extension.okstate.edu/fact-sheets/maturity-classification-of-wheat-varieties.html', 'https://extension.okstate.edu/fact-sheets/improve-fishing-in-your-pond.html', 'https://extension.okstate.edu/fact-sheets/neighborhood-and-urban-pond-management.html', 'https://extension.okstate.edu/fact-sheets/potential-impacts-of-oklahomas-capital-gains-exemption-and-sb-1086.html', 'https://extension.okstate.edu/fact-sheets/meat-goat-showmanship.html', 'https://extension.okstate.edu/fact-sheets/farm-and-ranch-stress-test-2.html', 'https://extension.okstate.edu/fact-sheets/forestry-important-to-oklahomas-economy.html', 'https://extension.okstate.edu/fact-sheets/equine-purchase-examinations.html', 'https://extension.okstate.edu/fact-sheets/rural-urban-interface-problems-and-opportunities.html', 'https://extension.okstate.edu/fact-sheets/aeration-management-knowing-when-to-run-aeration-fans.html', 'https://extension.okstate.edu/fact-sheets/statewide-estimates-of-potential-groundwater-recharge.html', 'https://extension.okstate.edu/fact-sheets/impact-of-revised-section-199a-on-grain-producers.html', 'https://extension.okstate.edu/fact-sheets/oklahoma-forage-and-pasture-fertility-guide.html', 'https://extension.okstate.edu/fact-sheets/selecting-a-financial-advisor.html', 'https://extension.okstate.edu/fact-sheets/limit-feeding-concentrate-diets-to-beef-cows-as-an-alternative-to-feeding-hay.html', 'https://extension.okstate.edu/fact-sheets/canine-bite-prevention.html', 'https://extension.okstate.edu/fact-sheets/sand-plums-for-home-and-commercial-production.html', 'https://extension.okstate.edu/fact-sheets/help-i-think-i-have-bed-bugs-3.html', 'https://extension.okstate.edu/fact-sheets/musk-thistle-management-action-list.html', 'https://extension.okstate.edu/fact-sheets/oklahoma-farm-and-ranch-custom-rates-2017-2018.html', 'https://extension.okstate.edu/fact-sheets/new-soybean-and-cotton-herbicide-technology-considerations.html', 'https://extension.okstate.edu/fact-sheets/drought-and-its-impact-on-agricultural-water-resources-in-oklahoma.html', 'https://extension.okstate.edu/fact-sheets/grain-drill-fertilizer-calibration.html', 'https://extension.okstate.edu/fact-sheets/weedy-mustards-of-oklahoma.html', 'https://extension.okstate.edu/fact-sheets/2018-midwest-small-fruit-and-grape-spray-guide.html', 'https://extension.okstate.edu/fact-sheets/a-guide-to-plants-important-for-quail-in-oklahoma.html', 'https://extension.okstate.edu/fact-sheets/supplementing-vitamin-a-to-beef-cattle.html', 'https://extension.okstate.edu/fact-sheets/calving-time-management-for-beef-cows-and-heifers.html', 'https://extension.okstate.edu/fact-sheets/big-data-and-opportunities-for-agricultural-and-food-industries.html', 'https://extension.okstate.edu/fact-sheets/shortenings.html', 'https://extension.okstate.edu/fact-sheets/margarines-and-spreads.html', 'https://extension.okstate.edu/fact-sheets/fsma-and-facilities-solely-engaged-in-the-storage-of-unexposed-packaged-human-food.html', 'https://extension.okstate.edu/fact-sheets/are-you-sweeping-your-grain-bin-safely.html', 'https://extension.okstate.edu/fact-sheets/salinity-management-in-home-lawns.html', 'https://extension.okstate.edu/fact-sheets/gourmet-and-specialty-oils.html', 'https://extension.okstate.edu/fact-sheets/preparing-grain-bins-and-flat-storages-prior-to-harvest-or-incoming-product-storage.html', 'https://extension.okstate.edu/fact-sheets/measuring-depth-to-groundwater-in-irrigation-wells.html', 'https://extension.okstate.edu/fact-sheets/key-facts-for-prospective-aquaponics-producers.html', 'https://extension.okstate.edu/fact-sheets/aeration-system-maintenance.html', 'https://extension.okstate.edu/fact-sheets/stocker-lease-agreements.html', 'https://extension.okstate.edu/fact-sheets/wheat-and-flour-quality-for-varieties-tested-in-the-2015-osu-wheat-variety-performance-tests.html', 'https://extension.okstate.edu/fact-sheets/evaluation-of-phosphorus-fertilizer-recommendations-in-no-till-winter-wheat.html', 'https://extension.okstate.edu/fact-sheets/determining-winter-canola-maturity-for-harvest.html', 'https://extension.okstate.edu/fact-sheets/gallagher.html', 'https://extension.okstate.edu/fact-sheets/sustainable-landscapes-designing-a-rain-garden-for-residential-property.html', 'https://extension.okstate.edu/fact-sheets/basic-septic-system-rules-for-oklahoma.html', 'https://extension.okstate.edu/fact-sheets/factors-affecting-wheat-germination-and-emergence-in-hot-soils.html', 'https://extension.okstate.edu/fact-sheets/osu-soil-test-interpretations.html', 'https://extension.okstate.edu/fact-sheets/contribution-of-agriculture-to-oklahomas-economy-2015.html', 'https://extension.okstate.edu/fact-sheets/types-of-aeration-systems-which-type-is-right-for-you.html', 'https://extension.okstate.edu/fact-sheets/guide-to-the-twelve-most-important-oklahoma-mosquitoes-of-concern-for-pest-control-specialists.html', 'https://extension.okstate.edu/fact-sheets/dual-purpose-wheat-management-for-forage-and-grain-production.html', 'https://extension.okstate.edu/fact-sheets/aphids-in-winter-canola-and-their-management.html', 'https://extension.okstate.edu/fact-sheets/homeowner-garden-design-series-pre-design-planning-worksheet.html', 'https://extension.okstate.edu/fact-sheets/weather-and-climate-national-weather-service-forecasts-serving-agriculture.html', 'https://extension.okstate.edu/fact-sheets/ranch-calculator.html', 'https://extension.okstate.edu/fact-sheets/what-consumers-need-to-know-about-the-use-of-antibiotics-in-food-animal-production.html', 'https://extension.okstate.edu/fact-sheets/diagnostic-service-to-test-for-herbicide-resistant-weeds-in-oklahoma.html', 'https://extension.okstate.edu/fact-sheets/pruning-hydroponic-crops.html', 'https://extension.okstate.edu/fact-sheets/prescribed-burning-spotfires-and-escapes.html', 'https://extension.okstate.edu/fact-sheets/2016-2017-winter-canola-performance-trials.html', 'https://extension.okstate.edu/fact-sheets/low-cost-pecan-sanitizer-plans-for-small-scale-producers.html', 'https://extension.okstate.edu/fact-sheets/management-of-insect-and-mite-pests-in-canola.html', 'https://extension.okstate.edu/fact-sheets/centerfield-herbicide-tolerant-hard-red-winter-wheat.html', 'https://extension.okstate.edu/fact-sheets/protein-content-of-winter-wheat-varieties-in-oklahoma.html', 'https://extension.okstate.edu/fact-sheets/sanitary-pump-selection.html', 'https://extension.okstate.edu/fact-sheets/master-gardeners-manual.html', 'https://extension.okstate.edu/fact-sheets/selecting-and-purchasing-food-process-equipment.html', 'https://extension.okstate.edu/fact-sheets/carbon-footprinting-in-the-food-industry.html', 'https://extension.okstate.edu/fact-sheets/dietary-calcium.html', 'https://extension.okstate.edu/fact-sheets/process-and-facility-sanitation.html', 'https://extension.okstate.edu/fact-sheets/understanding-seeding-methods-and-amounts-for-winter-wheat-and-canola.html', 'https://extension.okstate.edu/fact-sheets/metal-detectors-for-food-processing.html', 'https://extension.okstate.edu/fact-sheets/estimating-wheat-grain-yield-potential-2.html', 'https://extension.okstate.edu/fact-sheets/estimating-water-requirements-for-mature-beef-cows.html', 'https://extension.okstate.edu/fact-sheets/container-cleaning-in-food-processing-operations.html', 'https://extension.okstate.edu/fact-sheets/dietary-sugar-and-alternative-sweeteners.html', 'https://extension.okstate.edu/fact-sheets/planning-the-engineering-design-of-a-food-processing-facility.html', 'https://extension.okstate.edu/fact-sheets/nanotechnology-and-opportunities-for-agriculture-and-food-systems.html', 'https://extension.okstate.edu/fact-sheets/osu-center-for-pet-and-animal-food-palatability-studies.html', 'https://extension.okstate.edu/fact-sheets/dietary-salt-and-sodium.html', 'https://extension.okstate.edu/fact-sheets/water-use-in-the-food-industry.html', 'https://extension.okstate.edu/fact-sheets/steam-basics-for-food-processors.html', 'https://extension.okstate.edu/fact-sheets/selecting-and-purchasing-used-food-processing-equipment.html', 'https://extension.okstate.edu/fact-sheets/sanitary-fittings-and-tubing-for-food-processors.html', 'https://extension.okstate.edu/fact-sheets/dehydrator-exhaust-recirculation-for-energy-savings.html', 'https://extension.okstate.edu/fact-sheets/nutrition-misinformation.html', 'https://extension.okstate.edu/fact-sheets/carbon-strategy-for-the-food-industry.html', 'https://extension.okstate.edu/fact-sheets/eastern-redcedar-encroachment-and-water-update-of-2010-research.html', 'https://extension.okstate.edu/fact-sheets/consumer-broadleaf-weed-control-for-lawns-in-oklahoma.html', 'https://extension.okstate.edu/fact-sheets/trans-fats-health-and-nutritional-labeling-of-foods.html', 'https://extension.okstate.edu/fact-sheets/lawn-management-in-oklahoma.html', 'https://extension.okstate.edu/fact-sheets/foods-health-and-omega-3-oils.html', 'https://extension.okstate.edu/fact-sheets/food-product-labeling-basics.html', 'https://extension.okstate.edu/fact-sheets/market-research-study-organic-fruit-vegetable-and-herb-production.html', 'https://extension.okstate.edu/fact-sheets/food-processing-using-a-co-packer.html', 'https://extension.okstate.edu/fact-sheets/diet-and-osteoporosis.html', 'https://extension.okstate.edu/fact-sheets/food-pathogens-of-concern-listeria-monocytogenes.html', 'https://extension.okstate.edu/fact-sheets/evaluation-of-hard-white-winter-wheat-breeder-lines-for-alkaline-asian-noodles.html', 'https://extension.okstate.edu/fact-sheets/spring-planted-oat-for-grazing-or-hay-production.html', 'https://extension.okstate.edu/fact-sheets/falls-and-older-adults.html', 'https://extension.okstate.edu/fact-sheets/food-allergies-and-food-intolerances.html', 'https://extension.okstate.edu/fact-sheets/diet-and-diabetes.html', 'https://extension.okstate.edu/fact-sheets/an-evaluation-of-alternative-feed-delivery-systems-for-cattle.html', 'https://extension.okstate.edu/fact-sheets/helpful-tips-for-improving-the-visual-appeal-of-marketing-materials.html', 'https://extension.okstate.edu/fact-sheets/ecology-and-management-of-the-rio-grande-wild-turkey-in-oklahoma.html', 'https://extension.okstate.edu/fact-sheets/formulating-food-products-without-trans-fats.html', 'https://extension.okstate.edu/fact-sheets/trans-free-fat-alternatives.html', 'https://extension.okstate.edu/fact-sheets/market-research-study-organic-free-range-and-pasture-poultry.html', 'https://extension.okstate.edu/fact-sheets/solar-dehydrator-construction-plans.html', 'https://extension.okstate.edu/fact-sheets/cooperative-management-series-conducting-customer-satisfaction-surveys.html', 'https://extension.okstate.edu/fact-sheets/land-application-of-biosolids.html', 'https://extension.okstate.edu/fact-sheets/cash-farm-lease-form.html', 'https://extension.okstate.edu/fact-sheets/maintain-your-septic-system-for-a-healthy-illinois-river.html', 'https://extension.okstate.edu/fact-sheets/light-and-fading-choose-lighting-to-limit-fading-in-your-home.html', 'https://extension.okstate.edu/fact-sheets/causes-of-fertilizer-price-volatility.html', 'https://extension.okstate.edu/fact-sheets/safe-and-sustainable-lighting.html', 'https://extension.okstate.edu/fact-sheets/storing-moist-wheat-at-commercial-elevators-in-oklahoma.html', 'https://extension.okstate.edu/fact-sheets/marketing-puzzle-futures-option-contracts.html', 'https://extension.okstate.edu/fact-sheets/rental-agreements-for-farm-buildings-and-livestock-facilities.html', 'https://extension.okstate.edu/fact-sheets/sampling-animal-manure.html', 'https://extension.okstate.edu/fact-sheets/light-pollution.html', 'https://extension.okstate.edu/fact-sheets/beef-cow-rental-arrangements-for-your-farm.html', 'https://extension.okstate.edu/fact-sheets/cooperative-management-series-evaluating-investment-opportunities.html', 'https://extension.okstate.edu/fact-sheets/protect-the-illinois-river-from-nutrient-pollution.html', 'https://extension.okstate.edu/fact-sheets/fibra-alimentaria.html', 'https://extension.okstate.edu/fact-sheets/understanding-fertilizer-price-risk.html', 'https://extension.okstate.edu/fact-sheets/cooperative-management-series-evaluating-cooperative-managers.html', 'https://extension.okstate.edu/fact-sheets/protect-the-illinois-river-from-the-threat-of-trash.html', 'https://extension.okstate.edu/fact-sheets/xeriscape-garden-plants.html', 'https://extension.okstate.edu/fact-sheets/sunlight-and-health-issues.html', 'https://extension.okstate.edu/fact-sheets/crop-share-farm-lease-form.html', 'https://extension.okstate.edu/fact-sheets/fiber-bulk-of-life.html', 'https://extension.okstate.edu/fact-sheets/cooperative-management-series-effective-decision-making-in-the-board-room.html', 'https://extension.okstate.edu/fact-sheets/price-premiums-of-the-2010-oklahoma-quality-beef-network.html', 'https://extension.okstate.edu/fact-sheets/manufacturing-traditional-windows-in-oklahoma-a-case-study.html', 'https://extension.okstate.edu/fact-sheets/cooperative-management-series-effective-board-meetings.html', 'https://extension.okstate.edu/fact-sheets/simple-irrigation-checkup-for-home-sprinkler-systems.html', 'https://extension.okstate.edu/fact-sheets/riparian-area-management-handbook.html', 'https://extension.okstate.edu/fact-sheets/deqosu-soil-classification-manual.html', 'https://extension.okstate.edu/fact-sheets/introduction-to-groundwater-hydrology-and-management.html', 'https://extension.okstate.edu/fact-sheets/turf-irrigation-water-quality-a-concise-guide.html', 'https://extension.okstate.edu/fact-sheets/white-tailed-deer-habitat-evaluation-and-management-guide.html', 'https://extension.okstate.edu/fact-sheets/cooperative-management-series-directors-legal-handbook.html', 'https://extension.okstate.edu/fact-sheets/price-risk-management-what-to-expect-proof-that-oklahoma-wheat-producers-do-a-good-job-of-marketing.html', 'https://extension.okstate.edu/fact-sheets/price-risk-management-what-to-expect-marketing-efficiency-and-efficient-marketing.html', 'https://extension.okstate.edu/fact-sheets/fertility-testing-rams-increases-profits-pdf-only.html', 'https://extension.okstate.edu/fact-sheets/using-lagoon-effluent-as-fertilizer.html', 'https://extension.okstate.edu/fact-sheets/minerals-for-horses-calcium-and-phosphorus.html', 'https://extension.okstate.edu/fact-sheets/cooperative-management-series-director-roles-and-responsibilities.html', 'https://extension.okstate.edu/fact-sheets/sustainable-security-light.html', 'https://extension.okstate.edu/fact-sheets/cooperative-management-series-customer-segmentation-in-agricultural-cooperatives.html', 'https://extension.okstate.edu/fact-sheets/give-the-illinois-river-a-hand-by-preventing-urban-storm-water-pollution.html', 'https://extension.okstate.edu/fact-sheets/fixed-and-flexible-cash-rental-arrangements-for-your-farm.html', 'https://extension.okstate.edu/fact-sheets/minimizing-stormwater-runoff-by-disconnecting-residential-downspouts.html', 'https://extension.okstate.edu/fact-sheets/components-and-ratios-of-pre-mix-herbicides-for-use-in-corn-and-grain-sorghum.html', 'https://extension.okstate.edu/fact-sheets/rock-gardening-in-oklahoma.html', 'https://extension.okstate.edu/fact-sheets/review-and-operational-guidelines-for-portable-ultrasonic-flowmeters.html', 'https://extension.okstate.edu/fact-sheets/farm-building-or-livestock-facility-lease-form.html', 'https://extension.okstate.edu/fact-sheets/grading-cheaty-wheat.html', 'https://extension.okstate.edu/fact-sheets/farm-machinery-lease-for-non-commercial-transactions-form.html', 'https://extension.okstate.edu/fact-sheets/lawn-care-safety-and-basic-maintenance-tips-for-teens.html', 'https://extension.okstate.edu/fact-sheets/bob-white-quail.html', 'https://extension.okstate.edu/fact-sheets/purchasing-and-leasing-farm-equipment.html', 'https://extension.okstate.edu/fact-sheets/agronomic-management-practices-for-controlling-sugarcane-aphids.html', 'https://extension.okstate.edu/fact-sheets/phosphorus-removal-structures.html', 'https://extension.okstate.edu/fact-sheets/fire-myths-and-facts.html', 'https://extension.okstate.edu/fact-sheets/the-impact-of-consuming-beef-on-greenhouse-gas-emissions.html', 'https://extension.okstate.edu/fact-sheets/beef-cow-lease-worksheets-excel-file.html', 'https://extension.okstate.edu/fact-sheets/responsible-lawn-care-protection-for-your-creek-or-lake.html', 'https://extension.okstate.edu/fact-sheets/selecting-lighting-dimmers-for-your-home.html', 'https://extension.okstate.edu/fact-sheets/basic-lighting-for-rural-facilities.html', 'https://extension.okstate.edu/fact-sheets/ecology-and-management-of-the-greater-prairie-chicken.html', 'https://extension.okstate.edu/fact-sheets/does-preconditioning-pay-a-benefit-cost-decision-tool.html', 'https://extension.okstate.edu/fact-sheets/parliamentary-procedure-quick-reference-guide-to-motions.html', 'https://extension.okstate.edu/fact-sheets/crop-share-rental-arrangements-for-your-farm.html', 'https://extension.okstate.edu/fact-sheets/steam-kettle-hookup.html', 'https://extension.okstate.edu/fact-sheets/oklahoma-quality-beef-network-oqbn-2015-summary.html', 'https://extension.okstate.edu/fact-sheets/oklahoma-quality-beef-network-oqbn-2014-summary.html', 'https://extension.okstate.edu/fact-sheets/conservation-tillage-in-oklahoma-perceptions-and-demographics-of-producers.html', 'https://extension.okstate.edu/fact-sheets/financial-performance-analysis-for-directors.html', 'https://extension.okstate.edu/fact-sheets/grapevine-disease-testing-services.html', 'https://extension.okstate.edu/fact-sheets/electric-lighting-vision-and-aging-eyes.html', 'https://extension.okstate.edu/fact-sheets/endurance-hard-red-winter-wheat.html', 'https://extension.okstate.edu/fact-sheets/pasture-lease-form.html', 'https://extension.okstate.edu/fact-sheets/cooperative-management-series-parliamentary-procedure-in-the-board-room.html', 'https://extension.okstate.edu/fact-sheets/light-at-night.html', 'https://extension.okstate.edu/fact-sheets/light-and-color.html', 'https://extension.okstate.edu/fact-sheets/nitrogen-rich-strips-for-wheat-corn-and-other-crops.html', 'https://extension.okstate.edu/fact-sheets/cooperative-management-series-evaluating-the-board.html', 'https://extension.okstate.edu/fact-sheets/dieta-y-osteoporosis.html', 'https://extension.okstate.edu/fact-sheets/burning-in-the-growing-season.html', 'https://extension.okstate.edu/fact-sheets/livestock-rental-lease-form.html', 'https://extension.okstate.edu/fact-sheets/hydraulic-fracturing-and-domestic-water-issues.html', 'https://extension.okstate.edu/fact-sheets/effectiveness-of-in-furrow-pelletized-lime-for-winter-wheat-grown-in-low-soil-ph.html', 'https://extension.okstate.edu/fact-sheets/whose-water-is-it-anyway.html', 'https://extension.okstate.edu/fact-sheets/sorghum-kernel-damage.html', 'https://extension.okstate.edu/fact-sheets/managing-phosphorus-from-animal-manure.html', 'https://extension.okstate.edu/fact-sheets/water-conservation-garden.html', 'https://extension.okstate.edu/fact-sheets/oklahoma-farm-and-ranch-employment-handbook.html', 'https://extension.okstate.edu/fact-sheets/snags-cavity-trees-and-downed-logs.html', 'https://extension.okstate.edu/fact-sheets/rural-broadband-success-story-panhandle-telephone-progressive-thinking-in-a-rural-area.html', 'https://extension.okstate.edu/fact-sheets/wind-energy-leasing-handbook.html', 'https://extension.okstate.edu/fact-sheets/dual-purpose-wheat-improving-grazing-management-using-a-smartphone-app.html', 'https://extension.okstate.edu/fact-sheets/oklahoma-candy-onion-production-projected-net-income-price-risk-and-yield-risk.html', 'https://extension.okstate.edu/fact-sheets/the-evolution-of-reference-strips-in-oklahoma.html', 'https://extension.okstate.edu/fact-sheets/bed-bugs-reduce-risk-while-thrift-shopping.html', 'https://extension.okstate.edu/fact-sheets/cause-and-effects-of-soil-acidity.html', 'https://extension.okstate.edu/fact-sheets/xeriscape-demonstration-garden-edmond-oklahoma.html', 'https://extension.okstate.edu/fact-sheets/plan-grazing-management-using-the-oklahoma-grazing-stick.html', 'https://extension.okstate.edu/fact-sheets/plant-disease-insect-diagnostic-laboratory.html', 'https://extension.okstate.edu/fact-sheets/on-site-wastewater-treatment-systems-permitted-in-oklahoma.html', 'https://extension.okstate.edu/fact-sheets/ruby-lee-wheat.html', 'https://extension.okstate.edu/fact-sheets/emergency-water-supplies.html', 'https://extension.okstate.edu/fact-sheets/alfalfa-production-guide-for-the-southern-great-plains.html', 'https://extension.okstate.edu/fact-sheets/water-use-by-eastern-redcedar.html', 'https://extension.okstate.edu/fact-sheets/understanding-the-different-kinds-of-water-addressed-by-oklahomas-water-law.html', 'https://extension.okstate.edu/fact-sheets/corn-kernel-damage.html', 'https://extension.okstate.edu/fact-sheets/planning-food-for-summer-and-winter-storm-emergencies.html', 'https://extension.okstate.edu/fact-sheets/lawn-watering-tips.html', 'https://extension.okstate.edu/fact-sheets/billings-hard-red-winter-wheat.html', 'https://extension.okstate.edu/fact-sheets/recirculating-aquaculture-systems-questions-to-ask-before-you-invest.html', 'https://extension.okstate.edu/fact-sheets/sandbur-control-in-bermudagrass-pasture.html', 'https://extension.okstate.edu/fact-sheets/outdoor-water-conservation-water-saving-design-ideas-for-oklahoma-landscapes.html', 'https://extension.okstate.edu/fact-sheets/iba-wheat.html', 'https://extension.okstate.edu/fact-sheets/nutrition-for-older-adults-nutrition-needs-with-aging.html', 'https://extension.okstate.edu/fact-sheets/evaluating-the-impacts-of-oil-and-gas-activityhydraulic-fracturing-in-selected-oklahoma-counties.html', 'https://extension.okstate.edu/fact-sheets/nutrition-for-older-adults-medicines-and-nutrition.html', 'https://extension.okstate.edu/fact-sheets/aerobic-treatment-system.html', 'https://extension.okstate.edu/fact-sheets/turfgrass-management-in-oklahoma.html', 'https://extension.okstate.edu/fact-sheets/augmentation-biological-control-practices-for-the-home-landscape.html', 'https://extension.okstate.edu/fact-sheets/activity-and-pregnancy.html', 'https://extension.okstate.edu/fact-sheets/nutrition-for-older-adults-for-caregivers-mental-decline-and-nutrition.html', 'https://extension.okstate.edu/fact-sheets/pollution-prevention-at-exploration-and-production-sites-in-oklahoma.html', 'https://extension.okstate.edu/fact-sheets/nutrition-for-older-adults-diet-and-health-guidelines-for-food-intolerances.html', 'https://extension.okstate.edu/fact-sheets/keep-your-septic-system-in-working-order.html', 'https://extension.okstate.edu/fact-sheets/managing-for-small-mammal-diversity.html', 'https://extension.okstate.edu/fact-sheets/hydroponics.html', 'https://extension.okstate.edu/fact-sheets/how-weather-variables-affect-gamebirds-in-the-southern-great-plains.html', 'https://extension.okstate.edu/fact-sheets/caring-for-the-older-horse.html', 'https://extension.okstate.edu/fact-sheets/impacts-of-lead-ammunition-and-sinkers-on-wildlife.html', 'https://extension.okstate.edu/fact-sheets/ok-bullet-hard-red-winter-wheat.html', 'https://extension.okstate.edu/fact-sheets/nutrition-for-older-adults-cooking-tips-for-one-or-two.html', 'https://extension.okstate.edu/fact-sheets/interpreting-soil-salinity-analyses.html', 'https://extension.okstate.edu/fact-sheets/nutrition-for-older-adults-digestion-food-intolerance-and-nutrition.html', 'https://extension.okstate.edu/fact-sheets/alcohol-and-pregnancy.html', 'https://extension.okstate.edu/fact-sheets/on-farm-ethanol-production-regulatory-guide.html', 'https://extension.okstate.edu/fact-sheets/agribusiness-management-series-oklahoma-canola-systems-vs-continuous-wheat-budget-comparison.html', 'https://extension.okstate.edu/fact-sheets/economic-effect-of-bovine-respiratory-disease-on-feedlot-cattle-during-backgrounding-and-finishing-phases.html', 'https://extension.okstate.edu/fact-sheets/plant-selection-factors.html', 'https://extension.okstate.edu/fact-sheets/all-you-need-to-know-about-mulch.html', 'https://extension.okstate.edu/fact-sheets/fusarium-head-blight-head-scab-of-wheat-questions-and-answers.html', 'https://extension.okstate.edu/fact-sheets/wheat-research-at-osu-2015.html', 'https://extension.okstate.edu/fact-sheets/nutrition-for-older-adults-chewing-swallowing-and-nutrition.html', 'https://extension.okstate.edu/fact-sheets/nutrition-for-older-adults-dietary-and-health-guidelines-to-lower-the-risk-of-cancer.html', 'https://extension.okstate.edu/fact-sheets/oklahoma-homeowners-handbook-for-soil-and-nutrient-management.html', 'https://extension.okstate.edu/fact-sheets/minerals-and-the-body.html', 'https://extension.okstate.edu/fact-sheets/understanding-your-irrigation-water-test-report.html', 'https://extension.okstate.edu/fact-sheets/understanding-your-household-water-test-report.html', 'https://extension.okstate.edu/fact-sheets/johnsongrass-in-pastures-weed-or-forage.html', 'https://extension.okstate.edu/fact-sheets/electrical-conductivity-and-ph-guide-for-hydroponics.html', 'https://extension.okstate.edu/fact-sheets/app-rxburntracker.html', 'https://extension.okstate.edu/fact-sheets/cottontail-rabbits.html', 'https://extension.okstate.edu/fact-sheets/using-pesticides-be-safe-and-clean-maintain-your-personal-protective-equipment-and-clothes.html', 'https://extension.okstate.edu/fact-sheets/small-fruit-fertilization-and-maintenance-schedule.html', 'https://extension.okstate.edu/fact-sheets/what-is-landscape-architecture.html', 'https://extension.okstate.edu/fact-sheets/tree-planting-guide.html', 'https://extension.okstate.edu/fact-sheets/nutrition-for-older-adults-appetite-and-nutrition.html', 'https://extension.okstate.edu/fact-sheets/phosphorus-and-water-quality.html', 'https://extension.okstate.edu/fact-sheets/midges-mosquitoes-and-ponds.html', 'https://extension.okstate.edu/fact-sheets/no-till-cropping-systems-in-oklahoma.html', 'https://extension.okstate.edu/fact-sheets/recycling-yard-waste-dont-bag-it.html', 'https://extension.okstate.edu/fact-sheets/considerations-when-rotating-wheat-behind-corn.html', 'https://extension.okstate.edu/fact-sheets/mourning-doves.html', 'https://extension.okstate.edu/fact-sheets/pasture-recovery-following-drought.html', 'https://extension.okstate.edu/fact-sheets/songbirds.html', 'https://extension.okstate.edu/fact-sheets/nitrous-oxide-emissions-from-soil.html', 'https://extension.okstate.edu/fact-sheets/sulfur-requirements-of-oklahoma-crops.html', 'https://extension.okstate.edu/fact-sheets/seasonal-landscape-maintenance.html', 'https://extension.okstate.edu/fact-sheets/paying-for-college.html', 'https://extension.okstate.edu/fact-sheets/cool-season-lawn-management-calendar.html', 'https://extension.okstate.edu/fact-sheets/oat-kernel-damage.html', 'https://extension.okstate.edu/fact-sheets/land-application-of-biosolids-in-oklahoma-soils.html', 'https://extension.okstate.edu/fact-sheets/understanding-long-term-care.html', 'https://extension.okstate.edu/fact-sheets/white-tailed-deer.html', 'https://extension.okstate.edu/fact-sheets/what-is-an-entrepreneurial-community.html', 'https://extension.okstate.edu/fact-sheets/nutrition-for-older-adults-water-and-dehydration.html', 'https://extension.okstate.edu/fact-sheets/factors-influencing-cotton-producers-choice-of-marketing-outlet.html', 'https://extension.okstate.edu/fact-sheets/diagnosing-nutrient-deficiencies-in-canola.html', 'https://extension.okstate.edu/fact-sheets/evaluating-hay-quality-based-on-sight-smell-and-feel-hay-judging.html', 'https://extension.okstate.edu/fact-sheets/pushmataha-forest-habitat-research-area.html', 'https://extension.okstate.edu/fact-sheets/glyphosate-use-as-a-pre-harvest-treatment-not-a-risk-to-food-safety.html', 'https://extension.okstate.edu/fact-sheets/agribusiness-management-series-the-effect-of-grazing-past-first-hollow-stem-on-wheat-and-stocker-profits.html', 'https://extension.okstate.edu/fact-sheets/selection-and-care-of-christmas-trees.html', 'https://extension.okstate.edu/fact-sheets/septic-system-basics-for-home-builders.html', 'https://extension.okstate.edu/fact-sheets/wheat-kernel-damage.html', 'https://extension.okstate.edu/fact-sheets/reclaiming-slick-spots-and-salty-soils.html', 'https://extension.okstate.edu/fact-sheets/nutrition-for-older-adults-vitamin-and-mineral-supplements.html', 'https://extension.okstate.edu/fact-sheets/fertilization-based-on-sufficiency-build-up-and-maintenance-concept.html', 'https://extension.okstate.edu/fact-sheets/native-woodborers-and-emerald-ash-borer-lookalikes.html', 'https://extension.okstate.edu/fact-sheets/water-quality-testing-and-fish-health.html', 'https://extension.okstate.edu/fact-sheets/assessing-drought-damage-in-perennial-grass-pastures.html', 'https://extension.okstate.edu/fact-sheets/starter-fertilizer-for-winter-canola-in-oklahoma.html', 'https://extension.okstate.edu/fact-sheets/nutrition-for-older-adults-vision-and-nutrition.html', 'https://extension.okstate.edu/fact-sheets/understanding-streams.html', 'https://extension.okstate.edu/fact-sheets/wild-turkey.html', 'https://extension.okstate.edu/fact-sheets/protecting-open-lands-in-farms-and-ranches-from-development-through-conservation-easements.html', 'https://extension.okstate.edu/fact-sheets/quality-deer-management-in-oklahoma.html', 'https://extension.okstate.edu/fact-sheets/habitat-evaluation-guide-for-the-lesser-prairie-chicken.html', 'https://extension.okstate.edu/fact-sheets/cotton-yield-goal-nitrogen-rate-recommendation.html', 'https://extension.okstate.edu/fact-sheets/alum-treated-poultry-litter-as-a-fertilizer-source.html', 'https://extension.okstate.edu/fact-sheets/using-broadband-to-advertise-panama-tours-from-oklahoma.html', 'https://extension.okstate.edu/fact-sheets/deliver-awnless-hard-red-winter-wheat.html', 'https://extension.okstate.edu/fact-sheets/duster-hard-red-winter-wheat.html', 'https://extension.okstate.edu/fact-sheets/wildfires-in-oklahoma.html', 'https://extension.okstate.edu/fact-sheets/importance-of-herbicide-application-timing-on-winter-canola.html', 'https://extension.okstate.edu/fact-sheets/on-farm-biodiesel-production-regulatory-guide.html', 'https://extension.okstate.edu/fact-sheets/choosing-which-cotton-varieties-to-grow.html', 'https://extension.okstate.edu/fact-sheets/water-wise-landscape-principles-for-oklahoma-2.html', 'https://extension.okstate.edu/fact-sheets/profile-and-challenges-of-the-emerging-oklahoma-grape-industry.html', 'https://extension.okstate.edu/fact-sheets/senior-cohousing-creating-connections-and-maintaining-autonomy.html', 'https://extension.okstate.edu/fact-sheets/the-history-of-the-greenseeker-sensor.html', 'https://extension.okstate.edu/fact-sheets/types-of-on-farm-demonstrations.html', 'https://extension.okstate.edu/fact-sheets/soil-based-septic-system-decisions-in-oklahoma.html', 'https://extension.okstate.edu/fact-sheets/banker-plants-for-control-of-greenhouse-pests.html', 'https://extension.okstate.edu/fact-sheets/poultry-litter-nutrient-management-a-guide-for-producers-and-applicators.html', 'https://extension.okstate.edu/fact-sheets/fingerlings-for-pond-stocking.html', 'https://extension.okstate.edu/fact-sheets/septic-system-basics-for-realtors.html', 'https://extension.okstate.edu/fact-sheets/the-financial-puzzle-putting-the-pieces-together.html', 'https://extension.okstate.edu/fact-sheets/distinguishing-between-greater-and-lesser-prairie-chicken.html', 'https://extension.okstate.edu/fact-sheets/handle-with-care-medication-safety-for-older-adults.html', 'https://extension.okstate.edu/fact-sheets/checklist-of-prairie-shrubland-forest-understory-plants-of-oklahoma-characteristics-and-value-to-deer-quail-turkey-cattle.html', 'https://extension.okstate.edu/fact-sheets/fate-of-precipitation-falling-on-oklahoma-cropland.html', 'https://extension.okstate.edu/fact-sheets/poinsettia-care.html', 'https://extension.okstate.edu/fact-sheets/prescribed-burn-equipment.html', 'https://extension.okstate.edu/fact-sheets/senior-cohousing.html', 'https://extension.okstate.edu/fact-sheets/what-is-it-and-what-can-it-do-for-my-business-2.html', 'https://extension.okstate.edu/fact-sheets/agribusiness-management-series-valuing-poultry-litter-in-meeting-soil-fertility-requirements.html', 'https://extension.okstate.edu/fact-sheets/handle-with-care-a-checklist-to-help-older-adults-reduce-falls-risk.html', 'https://extension.okstate.edu/fact-sheets/short-and-long-term-impacts-of-application-of-water-base-drilling-mud-wbm-on-crop-yields-and-soil-properties.html', 'https://extension.okstate.edu/fact-sheets/nutrition-for-older-adults-taste-smell-and-nutrition.html', 'https://extension.okstate.edu/fact-sheets/economic-importance-of-forestry-in-oklahoma-in-2012.html', 'https://extension.okstate.edu/fact-sheets/recycling-yard-waste-dont-bag-it-lawn-care-plan.html', 'https://extension.okstate.edu/fact-sheets/tools-for-rangeland-management-and-assessment-ecological-site-descriptions.html', 'https://extension.okstate.edu/fact-sheets/tools-for-rangeland-management-and-assessment-web-soil-survey.html', 'https://extension.okstate.edu/fact-sheets/identifying-rust-diseases-of-wheat-and-barley.html', 'https://extension.okstate.edu/fact-sheets/led-grow-lights-for-plant-production.html', 'https://extension.okstate.edu/fact-sheets/nutrition-for-older-adults-social-and-emotional-changes-and-nutrition.html', 'https://extension.okstate.edu/fact-sheets/arthropod-pest-management-in-greenhouses-and-interiorscapes.html', 'https://extension.okstate.edu/fact-sheets/using-poultry-litter-as-fertilizer.html', 'https://extension.okstate.edu/fact-sheets/nutrition-for-older-adults-shopping-tips.html', 'https://extension.okstate.edu/fact-sheets/toxic-blue-green-algal-blooms.html', 'https://extension.okstate.edu/fact-sheets/the-water-conservation-garden.html', 'https://extension.okstate.edu/fact-sheets/northern-bobwhite-habitat-requirements-and-evaluation-guide.html', 'https://extension.okstate.edu/fact-sheets/garrison-wheat.html', 'https://extension.okstate.edu/fact-sheets/edge-and-other-wildlife-concepts.html', 'https://extension.okstate.edu/fact-sheets/mycorrhizal-fungi.html', 'https://extension.okstate.edu/fact-sheets/rural-broadband-success-story-sallisaw-a-fiber-optic-network-for-the-ages.html', 'https://extension.okstate.edu/fact-sheets/using-broadband-to-further-a-career-earning-a-degree-from-home.html', 'https://extension.okstate.edu/fact-sheets/dove-field-management.html', 'https://extension.okstate.edu/fact-sheets/gray-and-fox-squirrels.html', 'https://extension.okstate.edu/fact-sheets/doublestop-cl-plus.html', 'https://extension.okstate.edu/fact-sheets/screening-potential-tenants-for-agricultural-land.html', 'https://extension.okstate.edu/fact-sheets/conservation-biological-control-for-the-home-landscape.html', 'https://extension.okstate.edu/fact-sheets/turf-irrigation-water-quality-a-reference-guide.html', 'https://extension.okstate.edu/fact-sheets/using-camera-surveys-to-estimate-white-tailed-deer-populations.html', 'https://extension.okstate.edu/fact-sheets/the-hobby-greenhouse-2.html', 'https://extension.okstate.edu/fact-sheets/livestock-and-poultry-drinking-water-quality-understanding-your-water-test-report.html', 'https://extension.okstate.edu/fact-sheets/simple-irrigation-audit-for-home-lawns-in-oklahoma.html', 'https://extension.okstate.edu/fact-sheets/winter-canola-cultivar-comparison-chart.html', 'https://extension.okstate.edu/fact-sheets/biodiversity-and-ecosystem-management.html', 'https://extension.okstate.edu/fact-sheets/oklahoma-soil-fertility-handbook-full.html', 'https://extension.okstate.edu/fact-sheets/marketing-cull-beef-cows-does-body-condition-score-matter.html', 'https://extension.okstate.edu/fact-sheets/broadband-infrastructure-and-adoption-in-oklahoma-2015-edition.html', 'https://extension.okstate.edu/fact-sheets/nutrient-requirements-of-beef-cattle.html', 'https://extension.okstate.edu/fact-sheets/electronic-medical-records-what-are-they.html', 'https://extension.okstate.edu/fact-sheets/oklahomas-recovery-from-the-great-recession-trends-in-rural-vs-urban-areas.html', 'https://extension.okstate.edu/fact-sheets/sampling-for-sorghum-headworms-in-oklahoma-using-the-headworm-decision-support-system.html', 'https://extension.okstate.edu/fact-sheets/terrariums.html', 'https://extension.okstate.edu/fact-sheets/management-of-cows-with-limited-forage-availability.html', 'https://extension.okstate.edu/fact-sheets/effect-of-planting-date-and-seed-treatment-on-diseases-and-insect-pests-of-wheat.html', 'https://extension.okstate.edu/fact-sheets/aeration-system-design-for-cone-bottom-round-bins.html', 'https://extension.okstate.edu/fact-sheets/signs-and-symptoms-of-emerald-ash-borer.html', 'https://extension.okstate.edu/fact-sheets/sod-seeding-small-grains-into-bermudagrass-pasture.html', 'https://extension.okstate.edu/fact-sheets/that-is-a-good-question-salmonella-and-poultry.html', 'https://extension.okstate.edu/fact-sheets/anaerobic-digestion-of-animal-manures-understanding-the-basic-processes.html', 'https://extension.okstate.edu/fact-sheets/algal-blooms-in-oklahoma-lake-warnings.html', 'https://extension.okstate.edu/fact-sheets/the-economic-value-of-sportfishing-trips-to-oklahoma-lakes.html', 'https://extension.okstate.edu/fact-sheets/wills-and-trusts.html', 'https://extension.okstate.edu/fact-sheets/application-of-poultry-litter-to-pine-forests.html', 'https://extension.okstate.edu/fact-sheets/program-to-estimate-feedlot-cost-of-gain-flcalc-revision-3.html', 'https://extension.okstate.edu/fact-sheets/broiler-production-considerations-for-potential-growers.html', 'https://extension.okstate.edu/fact-sheets/optimizing-water-intake.html', 'https://extension.okstate.edu/fact-sheets/program-to-estimate-feedlot-breakeven-purchase-price-beflcalc.html', 'https://extension.okstate.edu/fact-sheets/limit-feeding-light-weight-cattle-high-nutrient-density-diets-programmed-feeding-for-calves-progfed2-revision-2.html', 'https://extension.okstate.edu/fact-sheets/household-pest-control.html', 'https://extension.okstate.edu/fact-sheets/private-applicator-pesticide-recordkeeping-requirements-for-livestock-production.html', 'https://extension.okstate.edu/fact-sheets/managing-persistently-infected-bovine-viral-diarrhea-virus-in-beef-cattle-pi-bvdv-2.html', 'https://extension.okstate.edu/fact-sheets/solid-state-anaerobic-digestion.html', 'https://extension.okstate.edu/fact-sheets/quicken-or-quickbooks-whats-the-best-choice-for-agricultural-producers.html', 'https://extension.okstate.edu/fact-sheets/water-quality-series-rinsing-and-disposing-of-pesticide-containers.html', 'https://extension.okstate.edu/fact-sheets/managing-storm-damaged-trees.html', 'https://extension.okstate.edu/fact-sheets/body-condition-scoring-of-cows.html', 'https://extension.okstate.edu/fact-sheets/the-marketing-puzzle.html', 'https://extension.okstate.edu/fact-sheets/spider-syndrome.html', 'https://extension.okstate.edu/fact-sheets/know-your-customers-oklahoma-agritourism-visitor-characteristics-and-opinions-about-a-new-liability-law.html', 'https://extension.okstate.edu/fact-sheets/2017-oklahoma-canola-economics-appear-favorable.html', 'https://extension.okstate.edu/fact-sheets/teaching-children-about-emotions.html', 'https://extension.okstate.edu/fact-sheets/the-volunteer-teacher-series-the-effective-volunteer-teacher.html', 'https://extension.okstate.edu/fact-sheets/deep-fat-frying-basics-for-food-services.html', 'https://extension.okstate.edu/fact-sheets/foot-rot-control.html', 'https://extension.okstate.edu/fact-sheets/ipm-in-the-greenhouse-series-integrated-pest-management-in-commercial-greenhouses-an-overview-of-principles-and-practices.html', 'https://extension.okstate.edu/fact-sheets/soil-test-interpretations-for-vegetable-crops.html', 'https://extension.okstate.edu/fact-sheets/eastern-redcedar-control-and-management-best-management-practices-to-restore-oklahomas-ecosystems.html', 'https://extension.okstate.edu/fact-sheets/algal-blooms-in-oklahoma-economic-impacts.html', 'https://extension.okstate.edu/fact-sheets/aquaculture-realities-and-potentials-when-getting-started.html', 'https://extension.okstate.edu/fact-sheets/agricultural-irrigation-with-reclaimed-water-oklahoma-regulation.html', 'https://extension.okstate.edu/fact-sheets/managing-soil-compaction.html', 'https://extension.okstate.edu/fact-sheets/solar-electric-systems-for-homeowners.html', 'https://extension.okstate.edu/fact-sheets/field-key-to-larvae-in-soybeans.html', 'https://extension.okstate.edu/fact-sheets/economics-of-aquaponics.html', 'https://extension.okstate.edu/fact-sheets/guide-to-effective-weed-control.html', 'https://extension.okstate.edu/fact-sheets/field-key-to-larvae-in-sorghums.html', 'https://extension.okstate.edu/fact-sheets/field-key-to-beetles-in-pines.html', 'https://extension.okstate.edu/fact-sheets/kiwifruit-production-in-oklahoma.html', 'https://extension.okstate.edu/fact-sheets/using-genomics-part-ii-risk-management-of-genetic-defects.html', 'https://extension.okstate.edu/fact-sheets/growth-promotants-reduce-beefs-environmental-impact.html', 'https://extension.okstate.edu/fact-sheets/the-internet-as-a-marketing-tool.html', 'https://extension.okstate.edu/fact-sheets/managing-fertilizer-price-risk.html', 'https://extension.okstate.edu/fact-sheets/understanding-general-stream-adjudications.html', 'https://extension.okstate.edu/fact-sheets/agricultural-pesticide-storage.html', 'https://extension.okstate.edu/fact-sheets/carbon-footprint-comparison-between-grass-and-grain-finished-beef.html', 'https://extension.okstate.edu/fact-sheets/value-of-animal-waster-calculator.html', 'https://extension.okstate.edu/fact-sheets/common-internal-parasites-of-the-horse.html', 'https://extension.okstate.edu/fact-sheets/alfalfa-stem-nematode.html', 'https://extension.okstate.edu/fact-sheets/principles-of-small-scale-aquaponics.html', 'https://extension.okstate.edu/fact-sheets/commercial-grape-insect-and-disease-control.html', 'https://extension.okstate.edu/fact-sheets/field-key-to-larvae-in-peanuts.html', 'https://extension.okstate.edu/fact-sheets/managing-pecans-in-the-home-landscape.html', 'https://extension.okstate.edu/fact-sheets/oklahoma-agricultural-linked-deposit-loans.html', 'https://extension.okstate.edu/fact-sheets/food-intake-in-later-years.html', 'https://extension.okstate.edu/fact-sheets/some-ideas-about-crossbreeding-sheep.html', 'https://extension.okstate.edu/fact-sheets/body-condition-of-horses.html', 'https://extension.okstate.edu/fact-sheets/goal-setting-for-farm-and-ranch-families.html', 'https://extension.okstate.edu/fact-sheets/field-key-to-larvae-in-cotton.html', 'https://extension.okstate.edu/fact-sheets/beef-showmanship.html', 'https://extension.okstate.edu/fact-sheets/dna-sample-collection.html', 'https://extension.okstate.edu/fact-sheets/anaerobic-digestion-of-animal-manures-types-of-digesters.html', 'https://extension.okstate.edu/fact-sheets/keep-your-pond-in-good-condition.html', 'https://extension.okstate.edu/fact-sheets/water-gardens.html', 'https://extension.okstate.edu/fact-sheets/detection-conservation-and-augmentation-of-naturally-occurring-beneficial-nematodes-for-natural-pest-suppression.html', 'https://extension.okstate.edu/fact-sheets/pepper-production.html', 'https://extension.okstate.edu/fact-sheets/consolidated-financial-statements.html', 'https://extension.okstate.edu/fact-sheets/first-time-horse-ownership-selecting-horses-and-budgeting-horse-interests.html', 'https://extension.okstate.edu/fact-sheets/2015-commercial-sources-of-buffalograss-seed-sod-and-plugs.html', 'https://extension.okstate.edu/fact-sheets/beef-production-and-carbon-sequestration.html', 'https://extension.okstate.edu/fact-sheets/fireplace-ashes-for-lawn-and-garden-use.html', 'https://extension.okstate.edu/fact-sheets/getting-your-records-in-order-organizing-household-records.html', 'https://extension.okstate.edu/fact-sheets/the-effects-of-adding-grain-and-supplements-to-commercially-available-grain-mixes-for-horses.html', 'https://extension.okstate.edu/fact-sheets/oklahoma-agricultural-crop-versus-pasture-land-values.html', 'https://extension.okstate.edu/fact-sheets/basics-of-softwood-sawmilling.html', 'https://extension.okstate.edu/fact-sheets/on-farm-mortality-composting-of-livestock-carcasses.html', 'https://extension.okstate.edu/fact-sheets/managing-acid-soils-for-wheat-production.html', 'https://extension.okstate.edu/fact-sheets/recommended-vaccination-schedules-for-a-comprehensive-dairy-herd-health-program.html', 'https://extension.okstate.edu/fact-sheets/field-key-to-larvae-in-alfalfa.html', 'https://extension.okstate.edu/fact-sheets/adopting-a-county-sales-tax.html', 'https://extension.okstate.edu/fact-sheets/spring-2014-us-creeping-bentgrass-sod-source-directory.html', 'https://extension.okstate.edu/fact-sheets/pest-management-needs-assessment-for-oklahoma-canola-producers.html', 'https://extension.okstate.edu/fact-sheets/impact-of-sensor-based-nitrogen-management-on-yield-and-soil-quality.html', 'https://extension.okstate.edu/fact-sheets/general-information-for-the-potential-camelid-owner.html', 'https://extension.okstate.edu/fact-sheets/2014-spring-oklahoma-turf-sod-source-directory.html', 'https://extension.okstate.edu/fact-sheets/reducing-mortality-of-grassland-wildlife-during-haying-and-wheat-harvesting-operations.html', 'https://extension.okstate.edu/fact-sheets/price-premiums-from-the-oklahoma-quality-beef-network-2001-2003.html', 'https://extension.okstate.edu/fact-sheets/measuring-community-retail-activity.html', 'https://extension.okstate.edu/fact-sheets/preventing-bed-bugs.html', 'https://extension.okstate.edu/fact-sheets/using-google-earthtm-for-mapping-and-assessing-grazeable-land.html', 'https://extension.okstate.edu/fact-sheets/nutrition-for-older-adults-factors-which-affect-food-intake.html', 'https://extension.okstate.edu/fact-sheets/reseeding-marginal-cropland-to-perennial-grasses-forbs-and-legumes.html', 'https://extension.okstate.edu/fact-sheets/economic-impact-of-conservation-dollars-in-oklahoma.html', 'https://extension.okstate.edu/fact-sheets/benefits-and-concerns-associated-with-aerobic-treatment-systems.html', 'https://extension.okstate.edu/fact-sheets/crop-insurance-limitation-to-adoption-of-irrigated-grain-sorghum.html', 'https://extension.okstate.edu/fact-sheets/energy-saving-scams.html', 'https://extension.okstate.edu/fact-sheets/fescue-toxicity-and-horses.html', 'https://extension.okstate.edu/fact-sheets/stem-and-pod-diseases-of-soybean.html', 'https://extension.okstate.edu/fact-sheets/buyer-preferences-for-feeder-calf-traits.html', 'https://extension.okstate.edu/fact-sheets/controlling-weeds-in-home-lawns.html', 'https://extension.okstate.edu/fact-sheets/spreadsheet-for-evaluating-preconditioning-programs-for-weaned-calves-precon2.html', 'https://extension.okstate.edu/fact-sheets/selecting-a-lawn-grass-for-oklahoma.html', 'https://extension.okstate.edu/fact-sheets/pest-management-needs-assessment-for-oklahoma-corn-producers.html', 'https://extension.okstate.edu/fact-sheets/oklahoma-agricultural-soil-test-summary-2009-2013.html', 'https://extension.okstate.edu/fact-sheets/anaerobic-digestion-of-animal-manures-inhibitory-and-toxic-materials.html', 'https://extension.okstate.edu/fact-sheets/gap-analysis-as-a-tool-for-community-economic-development.html', 'https://extension.okstate.edu/fact-sheets/water-quality-series-riparian-forest-buffers.html', 'https://extension.okstate.edu/fact-sheets/preventative-medicine-programs-for-horses-equine-vaccination-programs.html', 'https://extension.okstate.edu/fact-sheets/upgraded-packer-feeder-marker-simulator.html', 'https://extension.okstate.edu/fact-sheets/natural-stream-restoration-and-enhancement.html', 'https://extension.okstate.edu/fact-sheets/pest-management-needs-assessment-for-oklahoma-soybean-producers.html', 'https://extension.okstate.edu/fact-sheets/vermicomposting-composting-with-worms.html', 'https://extension.okstate.edu/fact-sheets/water-the-most-important-nutrient.html', 'https://extension.okstate.edu/fact-sheets/commercial-apple-insect-and-disease-control.html', 'https://extension.okstate.edu/fact-sheets/strategic-planning-for-economic-development-in-rural-areas-and-small-towns-of-oklahoma.html', 'https://extension.okstate.edu/fact-sheets/intensive-early-stocking.html', 'https://extension.okstate.edu/fact-sheets/choosing-a-pest-management-company-to-protect-your-home-against-termites.html', 'https://extension.okstate.edu/fact-sheets/understanding-epd-accuracies.html', 'https://extension.okstate.edu/fact-sheets/true-cost-of-energy-comparisons-apples-to-apples.html', 'https://extension.okstate.edu/fact-sheets/whip-and-tongue-grafting-pecans.html', 'https://extension.okstate.edu/fact-sheets/veterinary-feed-directive.html', 'https://extension.okstate.edu/fact-sheets/commercial-vegetable-varieties-for-oklahoma.html', 'https://extension.okstate.edu/fact-sheets/hessian-fly-management-in-oklahoma-winter-wheat.html', 'https://extension.okstate.edu/fact-sheets/marketing-opportunities-available-to-oklahoma-beef-cattle-producers.html', 'https://extension.okstate.edu/fact-sheets/managing-winter-canola-in-oklahoma.html', 'https://extension.okstate.edu/fact-sheets/balancing-family-and-work.html', 'https://extension.okstate.edu/fact-sheets/we-agree-creating-a-parenting-plan-parenting-agreement-worksheet-oklahoma-version.html', 'https://extension.okstate.edu/fact-sheets/livestock-disease-cause-and-control.html', 'https://extension.okstate.edu/fact-sheets/diseases-of-asparagus-in-oklahoma.html', 'https://extension.okstate.edu/fact-sheets/urban-influences-on-oklahoma-agricultural-land-values.html', 'https://extension.okstate.edu/fact-sheets/funding-for-small-scale-farms-tips-for-grant-and-loan-proposals.html', 'https://extension.okstate.edu/fact-sheets/storage-and-use-of-low-test-weight-and-sprouted-wheat.html', 'https://extension.okstate.edu/fact-sheets/tips-for-working-with-an-uncooperative-co-parent-10-things-you-should-do.html', 'https://extension.okstate.edu/fact-sheets/mci-kicker-dockage-machine-wheat-grain-sorghum-corn-soybean.html', 'https://extension.okstate.edu/fact-sheets/minding-your-cattle-ps-and-qs-basic-facts-on-source-age-and-other-claim-verification-through-pvp-and-qsa-programs.html', 'https://extension.okstate.edu/fact-sheets/information-systems-for-oklahoma-farmers.html', 'https://extension.okstate.edu/fact-sheets/bermudagrass-lawn-management-calendar.html', 'https://extension.okstate.edu/fact-sheets/evaluating-the-economic-impact-of-telemedicine-in-a-rural-community.html', 'https://extension.okstate.edu/fact-sheets/sclerotinia-stem-rot-of-canola.html', 'https://extension.okstate.edu/fact-sheets/assessing-potential-forage-production-using-the-nrcs-web-soil-survey.html', 'https://extension.okstate.edu/fact-sheets/strip-till-considerations-in-oklahoma.html', 'https://extension.okstate.edu/fact-sheets/backyard-flock-production.html', 'https://extension.okstate.edu/fact-sheets/pesticides-in-residential-areas-protecting-the-environment.html', 'https://extension.okstate.edu/fact-sheets/management-strategies-for-rangeland-and-introduced-pastures.html', 'https://extension.okstate.edu/fact-sheets/economic-viability-of-grain-sorghum-and-corn-as-a-function-of-irrigation-capacity.html', 'https://extension.okstate.edu/fact-sheets/tips-for-successful-stepfamilies-moving-your-marriage-from-surviving-to-thriving-part-2.html', 'https://extension.okstate.edu/fact-sheets/farm-and-non-farm-influences-on-agricultural-land-prices.html', 'https://extension.okstate.edu/fact-sheets/pharmaceuticals-in-drinking-water.html', 'https://extension.okstate.edu/fact-sheets/using-stockpiled-feedlot-manure-as-fertilizer.html', 'https://extension.okstate.edu/fact-sheets/pet-emergency-preparedness.html', 'https://extension.okstate.edu/fact-sheets/scaling-up-your-food-process.html', 'https://extension.okstate.edu/fact-sheets/tips-for-successful-stepfamilies-moving-your-marriage-from-surviving-to-thriving-part-1.html', 'https://extension.okstate.edu/fact-sheets/the-carbon-footprint-of-u-s-beef-compared-to-global-beef.html', 'https://extension.okstate.edu/fact-sheets/burn-plan-for-prescribed-burning.html', 'https://extension.okstate.edu/fact-sheets/website-basics-for-small-businesses.html', 'https://extension.okstate.edu/fact-sheets/from-cash-records-to-cost-of-production.html', 'https://extension.okstate.edu/fact-sheets/how-are-rural-residents-informed-of-community-events.html', 'https://extension.okstate.edu/fact-sheets/improving-native-pecan-groves.html', 'https://extension.okstate.edu/fact-sheets/tips-for-successful-stepfamilies-help-im-a-stepparent.html', 'https://extension.okstate.edu/fact-sheets/update-on-beef-industry-alliances.html', 'https://extension.okstate.edu/fact-sheets/fly-control-for-suburban-or-small-acreage-horse-owners.html', 'https://extension.okstate.edu/fact-sheets/no-till-wheat-production-in-oklahoma.html', 'https://extension.okstate.edu/fact-sheets/improving-soil-quality.html', 'https://extension.okstate.edu/fact-sheets/is-local-beef-more-sustainable.html', 'https://extension.okstate.edu/fact-sheets/tips-for-successful-stepfamilies-go-slow.html', 'https://extension.okstate.edu/fact-sheets/diplodia-tip-blight-and-canker-of-pine.html', 'https://extension.okstate.edu/fact-sheets/flock-improvement-through-ram-selection.html', 'https://extension.okstate.edu/fact-sheets/commercial-production-of-fresh-market-tomatoes.html', 'https://extension.okstate.edu/fact-sheets/use-of-legumes-in-pecan-orchards.html', 'https://extension.okstate.edu/fact-sheets/agribusiness-management-series-oklahoma-wheat-stocker-spreadsheet-decision-aid.html', 'https://extension.okstate.edu/fact-sheets/selecting-the-proper-gps-guidance-system-for-your-operation.html', 'https://extension.okstate.edu/fact-sheets/artificial-insemination-for-beef-cattle.html', 'https://extension.okstate.edu/fact-sheets/crossbreeding-beef-cattle-iii.html', 'https://extension.okstate.edu/fact-sheets/crossbreeding-beef-cattle-i.html', 'https://extension.okstate.edu/fact-sheets/human-lice-and-scabies.html', 'https://extension.okstate.edu/fact-sheets/greenhouse-propagation-of-ornamental-cannas-grown-from-rhizomes-or-seeds.html', 'https://extension.okstate.edu/fact-sheets/community-assessments-three-examples-of-asset-oriented-assessment-tools.html', 'https://extension.okstate.edu/fact-sheets/equine-viral-arteritis.html', 'https://extension.okstate.edu/fact-sheets/understanding-stormwater-runoff-and-low-impact-development-lid.html', 'https://extension.okstate.edu/fact-sheets/fertilizer-nutrients-in-animal-manure.html', 'https://extension.okstate.edu/fact-sheets/sheep-showmanship.html', 'https://extension.okstate.edu/fact-sheets/what-is-the-difference-between-weather-and-climate.html', 'https://extension.okstate.edu/fact-sheets/soilborne-blight-diseases-of-peanut.html', 'https://extension.okstate.edu/fact-sheets/economic-value-of-preconditioning-feeder-calves.html', 'https://extension.okstate.edu/fact-sheets/suggested-maintenance-practices-for-roadside-weed-and-brush-problems.html', 'https://extension.okstate.edu/fact-sheets/crop-and-forage-recordkeeping-software.html', 'https://extension.okstate.edu/fact-sheets/pecan-crop-load-management.html', 'https://extension.okstate.edu/fact-sheets/pesticide-recordkeeping-requirements-for-crop-production.html', 'https://extension.okstate.edu/fact-sheets/oklahomas-native-vegetation-types.html', 'https://extension.okstate.edu/fact-sheets/e-coli-an-overview.html', 'https://extension.okstate.edu/fact-sheets/an-alternative-poultry-litter-storage-technique-for-improved-handling-transport-and-application-the-mass-reduction-system.html', 'https://extension.okstate.edu/fact-sheets/particle-size-distribution-of-manure-and-by-product-slurries.html', 'https://extension.okstate.edu/fact-sheets/scaled-quail-ecology-and-management-in-oklahoma.html', 'https://extension.okstate.edu/fact-sheets/greenhouse-carbon-dioxide-supplementation.html', 'https://extension.okstate.edu/fact-sheets/understanding-energy-efficiency-measures-for-heating-and-cooling-systems.html', 'https://extension.okstate.edu/fact-sheets/farmers-in-transition-evaluating-options-for-change.html', 'https://extension.okstate.edu/fact-sheets/peanut-insect-control-in-oklahoma.html', 'https://extension.okstate.edu/fact-sheets/oklahoma-diffuse-surface-runoff-water-law-and-rules.html', 'https://extension.okstate.edu/fact-sheets/development-and-management-of-fishing-leases.html', 'https://extension.okstate.edu/fact-sheets/rapid-diagnostic-tests-for-greenhouse-and-nursery-crop-monitoring.html', 'https://extension.okstate.edu/fact-sheets/ad-valorem-taxes.html', 'https://extension.okstate.edu/fact-sheets/water-rate-structure-a-tool-for-water-conservation-in-oklahoma1.html', 'https://extension.okstate.edu/fact-sheets/home-fruit-planting-guide.html', 'https://extension.okstate.edu/fact-sheets/grain-handling-automation-and-controls.html', 'https://extension.okstate.edu/fact-sheets/feedlot-and-carcass-performance-from-the-ok-steer-feedout-program-1990-2005.html', 'https://extension.okstate.edu/fact-sheets/understanding-electric-utility-billing.html', 'https://extension.okstate.edu/fact-sheets/single-layer-value-added-wood-composites-from-under-utilized-species-in-oklahoma.html', 'https://extension.okstate.edu/fact-sheets/poultry-ventilation-fan-maintenance-and-energy-savings.html', 'https://extension.okstate.edu/fact-sheets/freeze-branding-horses1.html', 'https://extension.okstate.edu/fact-sheets/internet-options-for-low-income-households-in-oklahoma.html', 'https://extension.okstate.edu/fact-sheets/firebreaks-for-prescribed-burning.html', 'https://extension.okstate.edu/fact-sheets/oriented-strand-board-as-a-building-material.html', 'https://extension.okstate.edu/fact-sheets/grain-bin-entrapment-what-if-it-happens-to-you-a-case-study-from-an-oklahoma-county-elevator.html', 'https://extension.okstate.edu/fact-sheets/pasture-rangeland-forage-insurance-program-prf.html', 'https://extension.okstate.edu/fact-sheets/growing-grapes-in-the-home-garden-2.html', 'https://extension.okstate.edu/fact-sheets/feeding-wheat-to-hogs.html', 'https://extension.okstate.edu/fact-sheets/meat-inspection-and-grading.html', 'https://extension.okstate.edu/fact-sheets/protecting-infants-and-toddlers-from-positional-asphyxia-car-seats-and-sling-carriers.html', 'https://extension.okstate.edu/fact-sheets/the-pecan-nut-casebearer.html', 'https://extension.okstate.edu/fact-sheets/stack-pattern-effects-on-wind-forces-in-open-buildings.html', 'https://extension.okstate.edu/fact-sheets/vitamin-and-mineral-nutrition-of-grazing-cattle.html', 'https://extension.okstate.edu/fact-sheets/grasshopper-management-in-rangeland-pastures-and-crops.html', 'https://extension.okstate.edu/fact-sheets/postweaning-evaluation-programs-for-beef-bulls.html', 'https://extension.okstate.edu/fact-sheets/phytophthora-blight-of-cucurbits-and-peppers.html', 'https://extension.okstate.edu/fact-sheets/pest-management-needs-assessment-for-oklahoma-cotton-producers.html', 'https://extension.okstate.edu/fact-sheets/oklahoma-high-school-achievement-do-small-schools-perform-better-or-worse.html', 'https://extension.okstate.edu/fact-sheets/using-biosolids-as-a-plant-nutrient-source.html', 'https://extension.okstate.edu/fact-sheets/pesticide-certification-training-series-first-aid-for-pesticide-poisoning.html', 'https://extension.okstate.edu/fact-sheets/nantucket-pine-tip-moth.html', 'https://extension.okstate.edu/fact-sheets/ethanol-fuel-basics.html', 'https://extension.okstate.edu/fact-sheets/transitioning-through-divorce-grieving-the-lost-marriage.html', 'https://extension.okstate.edu/fact-sheets/fire-effects-in-native-plant-communities.html', 'https://extension.okstate.edu/fact-sheets/the-icebox-test-an-easy-method-to-determine-autoheating-potential-of-compost-and-byproduct-materials.html', 'https://extension.okstate.edu/fact-sheets/wheat-streak-mosaic-high-plains-disease-and-triticum-mosaic-three-virus-diseases-of-wheat-in-oklahoma.html', 'https://extension.okstate.edu/fact-sheets/collecting-and-storing-pecan-propagation-wood.html', 'https://extension.okstate.edu/fact-sheets/monitoring-adult-weevil-populations-in-pecan-and-fruit-trees-in-oklahoma.html', 'https://extension.okstate.edu/fact-sheets/duties-and-responsibilities-of-non-elected-county-officials-and-boards.html', 'https://extension.okstate.edu/fact-sheets/practical-sorghum-sampling-and-hand-sieving-procedures.html', 'https://extension.okstate.edu/fact-sheets/classification-of-irrigation-water-quality.html', 'https://extension.okstate.edu/fact-sheets/proper-disposal-of-routine-and-catastrophic-livestock-and-poultry-mortality-2.html', 'https://extension.okstate.edu/fact-sheets/strategies-to-control-farmstead-odors.html', 'https://extension.okstate.edu/fact-sheets/beef-cull-cow-management-and-marketing-alternatives.html', 'https://extension.okstate.edu/fact-sheets/building-soil-organic-matter-for-a-sustainable-organic-crop-production.html', 'https://extension.okstate.edu/fact-sheets/e-commerce-and-sales-taxes-what-you-collect-depends-on-where-you-ship.html', 'https://extension.okstate.edu/fact-sheets/factors-affecting-the-beef-choice-select-spread.html', 'https://extension.okstate.edu/fact-sheets/internal-parasite-control-in-sheep-in-oklahoma.html', 'https://extension.okstate.edu/fact-sheets/do-you-want-to-buy-a-business-questions-you-should-ask.html', 'https://extension.okstate.edu/fact-sheets/blackleg-of-canola.html', 'https://extension.okstate.edu/fact-sheets/nutritional-concerns-for-exercising-horses.html', 'https://extension.okstate.edu/fact-sheets/safe-use-of-pesticides-in-the-home-and-garden.html', 'https://extension.okstate.edu/fact-sheets/agritourism-in-oklahoma.html', 'https://extension.okstate.edu/fact-sheets/stocking-rate-determination-on-native-rangeland.html', 'https://extension.okstate.edu/fact-sheets/chute-side-vaccine-cooler.html', 'https://extension.okstate.edu/fact-sheets/the-oklahoma-red-cedar-resource-and-its-potential-biomass-energy.html', 'https://extension.okstate.edu/fact-sheets/extent-of-alternative-marketing-arrangements-for-fed-cattle-and-hogs-2001-2013.html', 'https://extension.okstate.edu/fact-sheets/oklahoma-supergold-qa-late-season-supplementation-program-for-stocker-cattle.html', 'https://extension.okstate.edu/fact-sheets/common-small-grain-caterpillars-in-oklahoma.html', 'https://extension.okstate.edu/fact-sheets/comparison-of-county-government-finances-by-size-groupings.html', 'https://extension.okstate.edu/fact-sheets/water-based-recreation-in-oklahoma.html', 'https://extension.okstate.edu/fact-sheets/corn-as-cattle-feed-vs-human-food.html', 'https://extension.okstate.edu/fact-sheets/pest-management-needs-assessment-for-oklahoma-grain-sorghum-producers.html', 'https://extension.okstate.edu/fact-sheets/grid-pricing-of-fed-cattle-base-prices-and-premiums-discounts.html', 'https://extension.okstate.edu/fact-sheets/compost-turning-the-key-to-quick-composting.html', 'https://extension.okstate.edu/fact-sheets/forage-species-range-description-and-life-history.html', 'https://extension.okstate.edu/fact-sheets/agribusiness-management-series-oklahoma-wheat-stocker-purchase-planner.html', 'https://extension.okstate.edu/fact-sheets/life-and-challenges-of-low-income-couples-living-in-america-a-resource-guide-for-relationship-educators.html', 'https://extension.okstate.edu/fact-sheets/safe-use-of-chainsaws.html', 'https://extension.okstate.edu/fact-sheets/irrigation-pump-system-testing.html', 'https://extension.okstate.edu/fact-sheets/agribusiness-management-series-oklahoma-wheat-stocker-graze-out-decision-aid.html', 'https://extension.okstate.edu/fact-sheets/expected-progeny-difference-part-iv-use-of-epds.html', 'https://extension.okstate.edu/fact-sheets/fundamental-aspects-of-kiln-drying-lumber.html', 'https://extension.okstate.edu/fact-sheets/energy-development-and-its-impact-on-farms-and-farm-households.html', 'https://extension.okstate.edu/fact-sheets/developing-share-lease-agreements-for-farmland.html', 'https://extension.okstate.edu/fact-sheets/pest-management-needs-assessment-for-oklahoma-peanut-producers.html', 'https://extension.okstate.edu/fact-sheets/the-importance-of-residential-and-commercial-building-insulation.html', 'https://extension.okstate.edu/fact-sheets/the-ogallala-aquifer.html', 'https://extension.okstate.edu/fact-sheets/municipal-water-conservation-in-oklahoma-background-issues-and-options.html', 'https://extension.okstate.edu/fact-sheets/forage-budgeting-guidelines.html', 'https://extension.okstate.edu/fact-sheets/using-sunn-hemp-as-a-cover-crop-in-oklahoma.html', 'https://extension.okstate.edu/fact-sheets/madagascar-hissing-cockroaches-information-and-care.html', 'https://extension.okstate.edu/fact-sheets/another-farm-bill-expiration-how-did-we-get-here-what-does-it-mean-and-what-happens-now.html', 'https://extension.okstate.edu/fact-sheets/greenhouse-structures-and-coverings.html', 'https://extension.okstate.edu/fact-sheets/recirculating-aquaculture-tank-production-systems-aquaponics-integrating-fish-and-plant-culture.html', 'https://extension.okstate.edu/fact-sheets/equine-infectious-anemia.html', 'https://extension.okstate.edu/fact-sheets/auger-conveyors.html', 'https://extension.okstate.edu/fact-sheets/farmers-in-transition-farm-family-decision-making.html', 'https://extension.okstate.edu/fact-sheets/high-tunnels.html', 'https://extension.okstate.edu/fact-sheets/propagating-fruit-trees-by-budding.html', 'https://extension.okstate.edu/fact-sheets/how-to-estimate-the-value-of-supplementing-grazing-stocker-cattle.html', 'https://extension.okstate.edu/fact-sheets/fire-ants-in-oklahoma.html', 'https://extension.okstate.edu/fact-sheets/calibration-procedure-for-canola-planted-with-an-end-wheel-grain-drill-volumetric-method.html', 'https://extension.okstate.edu/fact-sheets/understanding-soybean-nodulation-and-inoculation.html', 'https://extension.okstate.edu/fact-sheets/can-urban-horizontal-directional-drilling-mud-be-land-applied-2.html', 'https://extension.okstate.edu/fact-sheets/co-parenting-series-developmentally-appropriate-parenting-plans.html', 'https://extension.okstate.edu/fact-sheets/use-tax-for-county-government.html', 'https://extension.okstate.edu/fact-sheets/health-impacts-on-animal-performance-from-the-ok-steer-feedout-program-1990-2005.html', 'https://extension.okstate.edu/fact-sheets/often-asked-questions-about-poultry-and-eggs.html', 'https://extension.okstate.edu/fact-sheets/integrated-pest-management-of-cannas-for-production-in-controlled-environments.html', 'https://extension.okstate.edu/fact-sheets/practicalities-in-air-drying-lumber.html', 'https://extension.okstate.edu/fact-sheets/ten-tips-for-utilizing-a-cattle-sale-catalog.html', 'https://extension.okstate.edu/fact-sheets/insect-vectors-of-pierces-disease-in-oklahoma-vineyards.html', 'https://extension.okstate.edu/fact-sheets/caterpillars-in-canola.html', 'https://extension.okstate.edu/fact-sheets/prescribed-burn-associations.html', 'https://extension.okstate.edu/fact-sheets/price-comparison-of-alternative-marketing-arrangements-for-fed-cattle-2001-2013.html', 'https://extension.okstate.edu/fact-sheets/lagoons-for-livestock-waste-treatment.html', 'https://extension.okstate.edu/fact-sheets/alfalfa-weevil-and-its-management-in-oklahoma.html', 'https://extension.okstate.edu/fact-sheets/training-pecan-trees.html', 'https://extension.okstate.edu/fact-sheets/emr-adoption-across-oklahoma.html', 'https://extension.okstate.edu/fact-sheets/components-and-ratios-of-pre-mix-herbicides-for-use-in-soybean.html', 'https://extension.okstate.edu/fact-sheets/mortality-management-options-during-an-avian-influenza-outbreak.html', 'https://extension.okstate.edu/fact-sheets/landscaping-for-energy-conservation.html', 'https://extension.okstate.edu/fact-sheets/calculating-placing-scores.html', 'https://extension.okstate.edu/fact-sheets/blackberry-and-raspberry-culture-for-the-home-garden.html', 'https://extension.okstate.edu/fact-sheets/ecology-and-management-of-sericea-lespedeza.html', 'https://extension.okstate.edu/fact-sheets/integrated-pest-management-ipm-for-the-home-landscape.html', 'https://extension.okstate.edu/fact-sheets/animal-health-and-welfare-are-vital-to-beef-sustainability.html', 'https://extension.okstate.edu/fact-sheets/current-report-oklahoma-farm-and-ranch-custom-rates-2015-2016.html', 'https://extension.okstate.edu/fact-sheets/effects-of-preconditioning-on-health-performance-and-prices-of-weaned-calves.html', 'https://extension.okstate.edu/fact-sheets/soybean-kernel-damage.html', 'https://extension.okstate.edu/fact-sheets/training-horses-safely.html', 'https://extension.okstate.edu/fact-sheets/landscape-planning.html', 'https://extension.okstate.edu/fact-sheets/winter-canola-planting-guide-for-the-southern-great-plains.html', 'https://extension.okstate.edu/fact-sheets/dothistroma-needle-blight-of-pine.html', 'https://extension.okstate.edu/fact-sheets/the-volunteer-teacher-series-teaching-adults.html', 'https://extension.okstate.edu/fact-sheets/riparian-buffer-systems-for-oklahoma.html', 'https://extension.okstate.edu/fact-sheets/black-rot-of-grapes.html', 'https://extension.okstate.edu/fact-sheets/oklahoma-pasture-rental-rates-2016-2017.html', 'https://extension.okstate.edu/fact-sheets/alfalfa-forage-insect-control.html', 'https://extension.okstate.edu/fact-sheets/alfalfa-forage-insect-control-2.html', 'https://extension.okstate.edu/fact-sheets/oklahoma-cropland-rental-rates-2016-17.html', 'https://extension.okstate.edu/fact-sheets/application-of-water-base-drilling-mud-to-winter-wheat-impact-of-application-timing-on-yield-and-soil-properties.html', 'https://extension.okstate.edu/fact-sheets/tips-for-working-with-an-uncooperative-ex-10-things-you-should-not-do.html', 'https://extension.okstate.edu/fact-sheets/calculating-across-breed-epds.html', 'https://extension.okstate.edu/fact-sheets/using-genomics-part-i-what-are-dna-markers.html', 'https://extension.okstate.edu/fact-sheets/recycle-your-clothes-and-fabrics.html', 'https://extension.okstate.edu/fact-sheets/tips-for-working-with-an-uncooperative-co-parent-why-forgiveness-is-key.html', 'https://extension.okstate.edu/fact-sheets/commercial-blackberry-strawberry-and-blueberry-insect-and-disease-control-2015.html', 'https://extension.okstate.edu/fact-sheets/the-use-of-early-weaning-in-practical-cattle-management.html', 'https://extension.okstate.edu/fact-sheets/controlling-common-internal-parasites-of-the-horse.html', 'https://extension.okstate.edu/fact-sheets/soil-ph-and-buffer-index.html', 'https://extension.okstate.edu/fact-sheets/bit-selection-for-riding-and-training-horses.html', 'https://extension.okstate.edu/fact-sheets/propagation-of-fruit-and-nuts-by-seed.html', 'https://extension.okstate.edu/fact-sheets/cedar-control-by-individual-scorched-tree-ignition-following-fire.html', 'https://extension.okstate.edu/fact-sheets/comparative-energy-costs-for-irrigation-pumping.html', 'https://extension.okstate.edu/fact-sheets/biscogniauxia-canker-and-dieback-of-trees.html', 'https://extension.okstate.edu/fact-sheets/refeeding-the-poorly-conditioned-horse.html', 'https://extension.okstate.edu/fact-sheets/ipm-scouting-and-monitoring-for-pests-in-commercial-greenhouses.html', 'https://extension.okstate.edu/fact-sheets/managing-bermudagrass-pasture-to-reduce-winter-hay-feeding-in-beef-cattle-operations.html', 'https://extension.okstate.edu/fact-sheets/containers-and-media-for-the-nursery.html', 'https://extension.okstate.edu/fact-sheets/winter-protection-for-landscape-plants.html', 'https://extension.okstate.edu/fact-sheets/sheep-health-and-management.html', 'https://extension.okstate.edu/fact-sheets/management-of-sand-sagebrush-rangelands.html', 'https://extension.okstate.edu/fact-sheets/anthracnose-and-other-common-leaf-diseases-of-deciduous-shade-trees.html', 'https://extension.okstate.edu/fact-sheets/dutch-elm-disease-and-its-control.html', 'https://extension.okstate.edu/fact-sheets/pesticide-applicator-certification-series-toxicity-of-pesticides.html', 'https://extension.okstate.edu/fact-sheets/use-of-wood-composite-panels-as-substrate-for-cabinet-manufacturing.html', 'https://extension.okstate.edu/fact-sheets/common-pond-problems.html', 'https://extension.okstate.edu/fact-sheets/layering-propagation-for-the-home-gardener.html', 'https://extension.okstate.edu/fact-sheets/commercial-blueberry-production-in-oklahoma.html', 'https://extension.okstate.edu/fact-sheets/recordkeeping-for-horse-breeding-activities.html', 'https://extension.okstate.edu/fact-sheets/nutrient-needs-of-horses.html', 'https://extension.okstate.edu/fact-sheets/landscaping-and-gardening-for-birds.html', 'https://extension.okstate.edu/fact-sheets/reducing-winter-feeding-costs.html', 'https://extension.okstate.edu/fact-sheets/blueberry-production-for-the-home-garden.html', 'https://extension.okstate.edu/fact-sheets/gossypol-toxicity-in-livestock.html', 'https://extension.okstate.edu/fact-sheets/cedar-apple-rust.html', 'https://extension.okstate.edu/fact-sheets/commercial-blackberry-production.html', 'https://extension.okstate.edu/fact-sheets/pecan-varieties-for-oklahoma.html', 'https://extension.okstate.edu/fact-sheets/avoiding-antibiotic-residues-in-beef-cattle.html', 'https://extension.okstate.edu/fact-sheets/managing-grazing-of-horses.html', 'https://extension.okstate.edu/fact-sheets/dimensional-changes-in-wood.html', 'https://extension.okstate.edu/fact-sheets/growing-tomatoes-in-the-home-garden-2.html', 'https://extension.okstate.edu/fact-sheets/foaling-management-and-care-of-the-nursing-foal.html', 'https://extension.okstate.edu/fact-sheets/land-buyers-septic-system-guide-for-oklahoma.html', 'https://extension.okstate.edu/fact-sheets/livestock-tagging.html', 'https://extension.okstate.edu/fact-sheets/nutrition-and-management-considerations-for-preconditioning-home-raised-beef-calves.html', 'https://extension.okstate.edu/fact-sheets/use-of-optical-sensors-to-monitor-plant-nitrogen-status-in-horticultural-plants.html', 'https://extension.okstate.edu/fact-sheets/real-estate-ownership-in-oklahoma.html', 'https://extension.okstate.edu/fact-sheets/buying-and-managing-feeder-pigs.html', 'https://extension.okstate.edu/fact-sheets/cull-cow-grazing-and-marketing-opportunities.html', 'https://extension.okstate.edu/fact-sheets/common-diseases-of-tomatoes-part-iii-non-infectious-diseases.html', 'https://extension.okstate.edu/fact-sheets/blister-beetles-and-alfalfa.html', 'https://extension.okstate.edu/fact-sheets/growing-elderberries-in-oklahoma.html', 'https://extension.okstate.edu/fact-sheets/herbicide-how-to-understanding-herbicide-mode-of-action.html', 'https://extension.okstate.edu/fact-sheets/watermelon-production-2.html', 'https://extension.okstate.edu/fact-sheets/alfalfa-stand-establishment_2017-1.html', 'https://extension.okstate.edu/fact-sheets/herbicide-how-to-maximizing-glyphosate-activity.html', 'https://extension.okstate.edu/fact-sheets/biology-and-control-of-the-pecan-weevil-in-oklahoma.html', 'https://extension.okstate.edu/fact-sheets/phymatotrichum-root-rot.html', 'https://extension.okstate.edu/fact-sheets/seedling-and-root-diseases-of-soybean.html', 'https://extension.okstate.edu/fact-sheets/asparagus-culture-in-the-home-garden.html', 'https://extension.okstate.edu/fact-sheets/physical-conditioning-of-horses.html', 'https://extension.okstate.edu/fact-sheets/design-of-rainwater-harvesting-systems-in-oklahoma.html', 'https://extension.okstate.edu/fact-sheets/using-the-greenseeker-handheld-sensor-and-sensor-based-nitrogen-rate-calculator.html', 'https://extension.okstate.edu/fact-sheets/choosing-a-pest-management-professional-for-bed-bug-control.html', 'https://extension.okstate.edu/fact-sheets/capturing-and-recycling-irrigation-runoff-as-a-pollution-prevention-measure.html', 'https://extension.okstate.edu/fact-sheets/diseases-of-roses.html', 'https://extension.okstate.edu/fact-sheets/the-economics-of-gene-testing-cattle.html', 'https://extension.okstate.edu/fact-sheets/earth-kind-gardening-series-cultural-control-practices.html', 'https://extension.okstate.edu/fact-sheets/asparagus-production.html', 'https://extension.okstate.edu/fact-sheets/soilborne-diseases-of-peanut.html', 'https://extension.okstate.edu/fact-sheets/aeration-and-cooling-of-stored-grain.html', 'https://extension.okstate.edu/fact-sheets/scrapie.html', 'https://extension.okstate.edu/fact-sheets/rations-for-horses-nutrients-feedstuffs-and-safety.html', 'https://extension.okstate.edu/fact-sheets/foliar-diseases-of-soybeans.html', 'https://extension.okstate.edu/fact-sheets/smart-irrigation-technology-controllers-and-sensors.html', 'https://extension.okstate.edu/fact-sheets/diseases-of-leafy-crucifer-vegetables.html', 'https://extension.okstate.edu/fact-sheets/the-economics-of-deer-farming-startup-costs-and-yearly-maintenance-costs.html', 'https://extension.okstate.edu/fact-sheets/artificial-incubation.html', 'https://extension.okstate.edu/fact-sheets/drinking-water-testing.html', 'https://extension.okstate.edu/fact-sheets/tax-aspects-of-leasing.html', 'https://extension.okstate.edu/fact-sheets/ornamental-and-lawn-pest-control-for-homeowners.html', 'https://extension.okstate.edu/fact-sheets/starting-a-sheep-enterprise.html', 'https://extension.okstate.edu/fact-sheets/capital-leases.html', 'https://extension.okstate.edu/fact-sheets/earth-kind-gardening-series-botanical-pest-controls.html', 'https://extension.okstate.edu/fact-sheets/pruning-ornamental-trees-shrubs-and-vines-2.html', 'https://extension.okstate.edu/fact-sheets/aeration-systems-for-flat-bottom-round-bins.html', 'https://extension.okstate.edu/fact-sheets/a-calendar-for-pecan-growers.html', 'https://extension.okstate.edu/fact-sheets/consistency-of-manurewater-mixtures.html', 'https://extension.okstate.edu/fact-sheets/sweet-corn-production.html', 'https://extension.okstate.edu/fact-sheets/the-dangers-of-backyard-trash-burning.html', 'https://extension.okstate.edu/fact-sheets/foliar-diseases-of-peanuts.html', 'https://extension.okstate.edu/fact-sheets/prussic-acid-poisoning.html', 'https://extension.okstate.edu/fact-sheets/fertilizing-pecan-and-fruit-trees.html', 'https://extension.okstate.edu/fact-sheets/color-patterns-in-crossbred-beef-cattle.html', 'https://extension.okstate.edu/fact-sheets/the-care-and-handling-of-cut-flowers.html', 'https://extension.okstate.edu/fact-sheets/adjusting-and-setting-up-mechanical-dockage-testers.html', 'https://extension.okstate.edu/fact-sheets/nutritive-value-of-feeds-for-beef-cattle.html', 'https://extension.okstate.edu/fact-sheets/irrigation-water-flow-measurement.html', 'https://extension.okstate.edu/fact-sheets/cantaloupe-production.html', 'https://extension.okstate.edu/fact-sheets/lease-hunting-opportunities-for-oklahoma-landowners.html', 'https://extension.okstate.edu/fact-sheets/negotiation-strategies.html', 'https://extension.okstate.edu/fact-sheets/childrens-gardens-in-which-to-learn-and-grow.html', 'https://extension.okstate.edu/fact-sheets/biology-and-control-of-the-plum-curculio-in-fruit-trees-in-oklahoma.html', 'https://extension.okstate.edu/fact-sheets/fall-gardening.html', 'https://extension.okstate.edu/fact-sheets/pesticide-use-and-safety-in-the-nursery-and-greenhouse.html', 'https://extension.okstate.edu/fact-sheets/grain-sorghum-production-calendar.html', 'https://extension.okstate.edu/fact-sheets/cool-season-greens-production-spinach-collard-kale-mustard-turnip-leaf-lettuce.html', 'https://extension.okstate.edu/fact-sheets/managing-turfgrass-in-the-shade-in-oklahoma.html', 'https://extension.okstate.edu/fact-sheets/houseplant-care.html', 'https://extension.okstate.edu/fact-sheets/spring-dead-spot-of-bermudagrass.html', 'https://extension.okstate.edu/fact-sheets/rootstocks-for-grape-production.html', 'https://extension.okstate.edu/fact-sheets/use-of-by-product-and-nontraditional-feed-for-horse.html', 'https://extension.okstate.edu/fact-sheets/flea-control.html', 'https://extension.okstate.edu/fact-sheets/design-of-closed-loop-fumigation-systems-for-grain-storage-structures.html', 'https://extension.okstate.edu/fact-sheets/crown-gall-of-grape.html', 'https://extension.okstate.edu/fact-sheets/forage-legumes-and-nitrogen-production.html', 'https://extension.okstate.edu/fact-sheets/forage-quality-interpretations.html', 'https://extension.okstate.edu/fact-sheets/benefits-of-using-cover-crops-in-oklahoma-no-till.html', 'https://extension.okstate.edu/fact-sheets/evaluating-rations-for-horses.html', 'https://extension.okstate.edu/fact-sheets/plant-galls-caused-by-insects-and-mites.html', 'https://extension.okstate.edu/fact-sheets/forage-legumes-for-oklahoma.html', 'https://extension.okstate.edu/fact-sheets/aquatic-weed-mangement-control-methods.html', 'https://extension.okstate.edu/fact-sheets/growing-vegetable-transplants.html', 'https://extension.okstate.edu/fact-sheets/summer-care-of-the-home-vegetable-garden.html', 'https://extension.okstate.edu/fact-sheets/early-weaning-for-the-beef-herd.html', 'https://extension.okstate.edu/fact-sheets/round-bale-hay-storage.html', 'https://extension.okstate.edu/fact-sheets/surface-irrigation-systems.html', 'https://extension.okstate.edu/fact-sheets/aquatic-weed-management-herbicides.html', 'https://extension.okstate.edu/fact-sheets/what-is-a-processing-aid.html', 'https://extension.okstate.edu/fact-sheets/planting-trees-and-shrubs.html', 'https://extension.okstate.edu/fact-sheets/bermudagrass-pasture-management.html', 'https://extension.okstate.edu/fact-sheets/aquaponics.html', 'https://extension.okstate.edu/fact-sheets/herbicide-injury-in-the-nursery-and-landscape.html', 'https://extension.okstate.edu/fact-sheets/the-best-time-of-year-to-conduct-prescribed-burns.html', 'https://extension.okstate.edu/fact-sheets/ornamental-and-garden-plants-controlling-deer-damage.html', 'https://extension.okstate.edu/fact-sheets/first-hollow-stem-a-critical-wheat-growth-stage-for-dual-purpose-producers.html', 'https://extension.okstate.edu/fact-sheets/practical-corn-sampling-and-hand-sieving-procedures.html', 'https://extension.okstate.edu/fact-sheets/ammoniation-of-low-quality-roughages.html', 'https://extension.okstate.edu/fact-sheets/collecting-forage-samples-for-analysis.html', 'https://extension.okstate.edu/fact-sheets/common-diseases-of-tomatoes-part-ii-diseases-caused-by-bacteria-viruses-and-nematodes.html', 'https://extension.okstate.edu/fact-sheets/growing-muscadine-grapes-in-oklahoma.html', 'https://extension.okstate.edu/fact-sheets/earth-kind-gardening-series-mechanical-pest-controls.html', 'https://extension.okstate.edu/fact-sheets/cattle-handling-safety-in-working-facilities.html', 'https://extension.okstate.edu/fact-sheets/electric-fencing-for-sheep.html', 'https://extension.okstate.edu/fact-sheets/nitrate-toxicity-in-livestock.html', 'https://extension.okstate.edu/fact-sheets/a-planning-calendar-for-sheep-herd-health-and-management.html', 'https://extension.okstate.edu/fact-sheets/feeding-whole-soybeans-and-drought-or-frost-damaged-soybeans-to-beef-cattle.html', 'https://extension.okstate.edu/fact-sheets/practical-soybean-sampling-and-hand-sieving-procedures.html', 'https://extension.okstate.edu/fact-sheets/how-eastern-redcedar-encroachment-affects-the-water-cycle-of-oklahoma-rangelands.html', 'https://extension.okstate.edu/fact-sheets/developing-a-business-plan-for-value-added-agricultural-products.html', 'https://extension.okstate.edu/fact-sheets/the-environment-for-oklahoma-agricultural-land-values-past-and-present.html', 'https://extension.okstate.edu/fact-sheets/stocking-rate-the-key-to-successful-livestock-production.html', 'https://extension.okstate.edu/fact-sheets/spiders-brown-recluse-black-widow-and-other-common-spiders.html', 'https://extension.okstate.edu/fact-sheets/bunker-silo-sizing-and-management.html', 'https://extension.okstate.edu/fact-sheets/farmer-saved-wheat-seed-in-oklahoma-questions-and-answers.html', 'https://extension.okstate.edu/fact-sheets/native-hay-meadow-management.html', 'https://extension.okstate.edu/fact-sheets/homeowner-garden-design-series-planning-the-landscape.html', 'https://extension.okstate.edu/fact-sheets/ethanol-gasoline-blends-and-small-engines.html', 'https://extension.okstate.edu/fact-sheets/prairie-dog-ecology-and-management-in-oklahoma.html', 'https://extension.okstate.edu/fact-sheets/cut-and-stuff-practices-for-enhanced-cedar-control-with-prescribed-fire.html', 'https://extension.okstate.edu/fact-sheets/getting-started-in-aquaculture.html', 'https://extension.okstate.edu/fact-sheets/preventing-grain-dust-explosions-2.html', 'https://extension.okstate.edu/fact-sheets/forage-for-horses.html', 'https://extension.okstate.edu/fact-sheets/four-flap-grafting-of-pecans.html', 'https://extension.okstate.edu/fact-sheets/composting-system-for-small-horse-farms.html', 'https://extension.okstate.edu/fact-sheets/swine-showmanship.html', 'https://extension.okstate.edu/fact-sheets/controlling-pocket-gophers.html', 'https://extension.okstate.edu/fact-sheets/problem-horticultural-plants.html', 'https://extension.okstate.edu/fact-sheets/rodent-control-in-the-poultry-house.html', 'https://extension.okstate.edu/fact-sheets/major-foliar-fungal-diseases-of-wheat-in-oklahoma.html', 'https://extension.okstate.edu/fact-sheets/raised-bed-gardening.html', 'https://extension.okstate.edu/fact-sheets/grasshopper-control-in-gardens-and-landscapes.html', 'https://extension.okstate.edu/fact-sheets/feeding-high-quality-low-test-weight-and-sprouted-wheat.html', 'https://extension.okstate.edu/fact-sheets/homeowner-garden-design-series-elements-and-principles-of-design.html', 'https://extension.okstate.edu/fact-sheets/fungicide-resistance-management.html', 'https://extension.okstate.edu/fact-sheets/growing-and-producing-pears-in-oklahoma.html', 'https://extension.okstate.edu/fact-sheets/pond-management-for-livestock-fish-and-wildlife.html', 'https://extension.okstate.edu/fact-sheets/drip-irrigation-systems.html', 'https://extension.okstate.edu/fact-sheets/centipedes-and-millipedes.html', 'https://extension.okstate.edu/fact-sheets/ecology-and-management-of-western-ragweed-on-rangeland.html', 'https://extension.okstate.edu/fact-sheets/coping-with-restructuring-or-sale-of-the-family-farm.html', 'https://extension.okstate.edu/fact-sheets/home-slaughtering-and-processing-of-beef.html', 'https://extension.okstate.edu/fact-sheets/efficient-use-of-bandsaws-in-lumber-manufacturing.html', 'https://extension.okstate.edu/fact-sheets/woodborers.html', 'https://extension.okstate.edu/fact-sheets/recycled-household-textiles-and-clothing.html', 'https://extension.okstate.edu/fact-sheets/planting-and-early-care-of-the-peach-orchard.html', 'https://extension.okstate.edu/fact-sheets/rose-rosette-disease.html', 'https://extension.okstate.edu/fact-sheets/meat-goat-marketing-and-price-seasonality.html', 'https://extension.okstate.edu/fact-sheets/the-ring-necked-pheasant-in-oklahoma.html', 'https://extension.okstate.edu/fact-sheets/healthy-garden-soils.html', 'https://extension.okstate.edu/fact-sheets/the-basics-of-vermicomposting.html', 'https://extension.okstate.edu/fact-sheets/training-young-shade-and-ornamental-trees.html', 'https://extension.okstate.edu/fact-sheets/plant-viruses-infecting-cannas.html', 'https://extension.okstate.edu/fact-sheets/establishing-a-pecan-orchard.html', 'https://extension.okstate.edu/fact-sheets/single-herbicides-and-herbicide-premixes-for-use-in-winter-wheat.html', 'https://extension.okstate.edu/fact-sheets/cooperative-management-series-building-the-board-packet.html', 'https://extension.okstate.edu/fact-sheets/what-is-the-health-insurance-marketplace.html', 'https://extension.okstate.edu/fact-sheets/guiding-young-children-series-relationships-come-first-then-look-at-discipline.html', 'https://extension.okstate.edu/fact-sheets/annual-pruning-of-fruit-trees.html', 'https://extension.okstate.edu/fact-sheets/soil-testing.html', 'https://extension.okstate.edu/fact-sheets/cole-crop-production.html', 'https://extension.okstate.edu/fact-sheets/practical-wheat-sampling-and-hand-sieving-procedures.html', 'https://extension.okstate.edu/fact-sheets/use-handling-and-care-of-vaccines.html', 'https://extension.okstate.edu/fact-sheets/managing-young-horses-for-sound-growth.html', 'https://extension.okstate.edu/fact-sheets/fertilizing-shade-and-ornamental-trees-and-shrubs.html', 'https://extension.okstate.edu/fact-sheets/conserving-beneficial-arthropods-in-residential-landscapes.html', 'https://extension.okstate.edu/fact-sheets/straw-bale-bed-a-way-to-garden-while-building-soil.html', 'https://extension.okstate.edu/fact-sheets/nectar-and-pollen-plants-of-oklahoma.html', 'https://extension.okstate.edu/fact-sheets/choosing-establishing-and-managing-bermudagrass-varieties-in-oklahoma.html', 'https://extension.okstate.edu/fact-sheets/pond-plants-weeds-or-beneficial.html', 'https://extension.okstate.edu/fact-sheets/limiting-feed-intake-with-salt.html', 'https://extension.okstate.edu/fact-sheets/pesticide-and-fertilizer-facility-operations-checklist.html', 'https://extension.okstate.edu/fact-sheets/mulching-with-wood-chips.html', 'https://extension.okstate.edu/fact-sheets/cow-calf-production-practices-in-oklahoma-part-2.html', 'https://extension.okstate.edu/fact-sheets/pest-management-series-powdery-mildews-of-ornamentals-and-fruit-shade-and-nut-trees.html', 'https://extension.okstate.edu/fact-sheets/a-breeding-program-for-a-fall-lambing-program.html', 'https://extension.okstate.edu/fact-sheets/annual-flowers-for-specific-uses-in-oklahoma-an-obga-series-fact-sheet.html', 'https://extension.okstate.edu/fact-sheets/common-diseases-of-stone-fruit-trees-and-their-control.html', 'https://extension.okstate.edu/fact-sheets/managing-shrink-and-weighing-conditions-in-beef-cattle.html', 'https://extension.okstate.edu/fact-sheets/common-ticks-of-oklahoma-and-tick-borne-diseases.html', 'https://extension.okstate.edu/fact-sheets/mulching-garden-soils.html', 'https://extension.okstate.edu/fact-sheets/oklahoma-gold-qa-late-season-supplementation-program-for-stocker-cattle.html', 'https://extension.okstate.edu/fact-sheets/bark-grafting-pecans.html', 'https://extension.okstate.edu/fact-sheets/measuring-woodland-timber.html', 'https://extension.okstate.edu/fact-sheets/patch-budding-pecans.html', 'https://extension.okstate.edu/fact-sheets/turfgrass-management-of-bermudagrass-football-fields.html', 'https://extension.okstate.edu/fact-sheets/the-africanized-honey-bee-in-oklahoma.html', 'https://extension.okstate.edu/fact-sheets/stocker-cattle-production-and-management-practices-in-oklahoma.html', 'https://extension.okstate.edu/fact-sheets/a-planning-calendar-for-beef-cattle-herd-health.html', 'https://extension.okstate.edu/fact-sheets/managing-brush-piles.html', 'https://extension.okstate.edu/fact-sheets/water-gardens-a-low-management-approach.html', 'https://extension.okstate.edu/fact-sheets/large-patch-zoysia-patch-of-warm-season-turfgrasses.html', 'https://extension.okstate.edu/fact-sheets/biological-pest-controls-for-the-home-landscape.html', 'https://extension.okstate.edu/fact-sheets/how-to-get-a-good-soil-sample.html', 'https://extension.okstate.edu/fact-sheets/beef-cow-herd-calendar.html', 'https://extension.okstate.edu/fact-sheets/dollar-spot-of-turfgrass.html', 'https://extension.okstate.edu/fact-sheets/using-vegetation-for-erosion-control-on-construction-sites.html', 'https://extension.okstate.edu/fact-sheets/weed-control-on-rangelands.html', 'https://extension.okstate.edu/fact-sheets/an-introduction-to-the-land-application-of-drilling-mud-in-oklahoma.html', 'https://extension.okstate.edu/fact-sheets/cow-calf-production-in-oklahoma-part-1.html', 'https://extension.okstate.edu/fact-sheets/beef-cattle-ectoparasites.html', 'https://extension.okstate.edu/fact-sheets/backyard-composting-in-oklahoma.html', 'https://extension.okstate.edu/fact-sheets/thatch-management-in-lawns.html', 'https://extension.okstate.edu/fact-sheets/dietary-fat-and-cholesterol.html', 'https://extension.okstate.edu/fact-sheets/anaerobic-digestion-biogas-utilization-and-cleanup.html', 'https://extension.okstate.edu/fact-sheets/corral-and-working-facilities-for-beef-cattle.html', 'https://extension.okstate.edu/fact-sheets/eleven-things-to-know-about-gmos.html', 'https://extension.okstate.edu/fact-sheets/water-measurement-units-and-conversion-factors.html', 'https://extension.okstate.edu/fact-sheets/buying-beef-for-home-freezers.html', 'https://extension.okstate.edu/fact-sheets/use-of-plastic-mulch-and-row-covers-in-vegetable-production.html', 'https://extension.okstate.edu/fact-sheets/scorpions.html', 'https://extension.okstate.edu/fact-sheets/anaerobic-digestion-of-animal-manures-methane-production-potential-of-waste-materials.html', 'https://extension.okstate.edu/fact-sheets/pinkeye.html', 'https://extension.okstate.edu/fact-sheets/wellness-for-older-adults-in-daily-life.html', 'https://extension.okstate.edu/fact-sheets/reducing-water-use-in-food-processing.html', 'https://extension.okstate.edu/fact-sheets/bovine-trichomoniasis.html', 'https://extension.okstate.edu/fact-sheets/growing-broccoli-caulifiower-and-cabbage.html', 'https://extension.okstate.edu/fact-sheets/basics-of-pressure-treatment-of-wood.html', 'https://extension.okstate.edu/fact-sheets/common-diseases-of-tomatoes-part-i-diseases-caused-by-fungi.html', 'https://extension.okstate.edu/fact-sheets/apple-and-peach-varieties-for-oklahoma.html', 'https://extension.okstate.edu/fact-sheets/understanding-the-effects-of-aging-on-the-sensory-system.html', 'https://extension.okstate.edu/fact-sheets/pecan-diseases-prevention-and-control.html', 'https://extension.okstate.edu/fact-sheets/fertilizing-bermudagrass-hay-and-pasture.html', 'https://extension.okstate.edu/fact-sheets/honey-bees-bumble-bees-carpenter-bees-and-sweat-bees.html', 'https://extension.okstate.edu/fact-sheets/formulating-swine-rations.html', 'https://extension.okstate.edu/fact-sheets/growing-strawberries-in-the-home-garden.html', 'https://extension.okstate.edu/fact-sheets/freeze-branding-cattle.html', 'https://extension.okstate.edu/fact-sheets/a-pictorial-guide-to-back-plaiting-a-lead-rope.html', 'https://extension.okstate.edu/fact-sheets/roses-in-oklahoma.html', 'https://extension.okstate.edu/fact-sheets/paper-wasps-yellowjackets-and-other-stinging-wasps.html', 'https://extension.okstate.edu/fact-sheets/feeding-management-of-the-equine.html', 'https://extension.okstate.edu/fact-sheets/grain-bin-entrapment-dont-let-it-happen-to-you.html', 'https://extension.okstate.edu/fact-sheets/establishing-a-lawn-in-oklahoma.html', 'https://extension.okstate.edu/fact-sheets/foot-rot-in-cattle.html', 'https://extension.okstate.edu/fact-sheets/solids-content-of-wastewater-and-manure.html', 'https://extension.okstate.edu/fact-sheets/home-vegetable-garden-insect-pest-control.html', 'https://extension.okstate.edu/fact-sheets/evaporation-losses-from-shallow-water-bodies-in-oklahoma.html', 'https://extension.okstate.edu/fact-sheets/coccidiosis-treatment-and-prevention-in-cattle.html', 'https://extension.okstate.edu/fact-sheets/external-parasites-of-goats.html', 'https://extension.okstate.edu/fact-sheets/organic-matter-content-of-wastewater-and-manure.html', 'https://extension.okstate.edu/fact-sheets/strategies-to-reduce-moisture-condensation-in-food-facilities.html', 'https://extension.okstate.edu/fact-sheets/potato-production.html', 'https://extension.okstate.edu/fact-sheets/the-oklahoma-farm-family-account-book.html', 'https://extension.okstate.edu/fact-sheets/reduction-of-drying-time-for-jerky-products.html', 'https://extension.okstate.edu/fact-sheets/fresh-produce-production-food-safety-plan-logs-and-worksheets.html', 'https://extension.okstate.edu/fact-sheets/biodiesel-glossary.html', 'https://extension.okstate.edu/fact-sheets/basics-of-solar-lumber-drying.html', 'https://extension.okstate.edu/fact-sheets/are-food-brokers-right-for-you.html', 'https://extension.okstate.edu/fact-sheets/gas-oven-optimization-waste-reduction.html', 'https://extension.okstate.edu/fact-sheets/oil-and-oilseed-processing-iii.html', 'https://extension.okstate.edu/fact-sheets/consistent-lethality-treatment-for-small-scale-jerky-dehydrators.html', 'https://extension.okstate.edu/fact-sheets/how-to-prepare-for-participating-in-a-food-show.html', 'https://extension.okstate.edu/fact-sheets/strength-properties-of-wood-for-practical-applications.html', 'https://extension.okstate.edu/fact-sheets/basics-of-paper-manufacturing.html', 'https://extension.okstate.edu/fact-sheets/roadside-vegetation-management-guidelines-4th-edition.html', 'https://extension.okstate.edu/fact-sheets/oil-and-oilseed-processing-ii.html', 'https://extension.okstate.edu/fact-sheets/distribution-patterns-for-gourmet-specialist-food-shops-and-gift-shops.html', 'https://extension.okstate.edu/fact-sheets/invasion-of-oklahoma-rangelands-and-forests-by-eastern-redcedar-and-ashe-juniper.html', 'https://extension.okstate.edu/fact-sheets/biodiesel-production-techniques.html', 'https://extension.okstate.edu/fact-sheets/developing-a-food-safety-plan-for-your-fresh-produce-operation.html', 'https://extension.okstate.edu/fact-sheets/compressed-air-systems-waste-reduction.html', 'https://extension.okstate.edu/fact-sheets/the-importance-of-food-ph-in-commercial-canning-operations.html', 'https://extension.okstate.edu/fact-sheets/choosing-and-using-a-ph-meter-for-food-products.html', 'https://extension.okstate.edu/fact-sheets/laminated-veneer-lumber-lvl-as-a-construction-material.html', 'https://extension.okstate.edu/fact-sheets/what-is-wood-plastic-composite.html', 'https://extension.okstate.edu/fact-sheets/the-american-diet-how-fats-and-grains-affect-your-health-and-weight.html', 'https://extension.okstate.edu/fact-sheets/clean-label-mold-inhibitors-for-baking.html', 'https://extension.okstate.edu/fact-sheets/guidelines-for-the-use-of-chlorine-bleach-as-a-sanitizer-in-food-processing-operations.html', 'https://extension.okstate.edu/fact-sheets/is-made-in-oklahoma-a-good-marketing-angle-for-my-new-business.html', 'https://extension.okstate.edu/fact-sheets/using-wood-for-violin-makers.html', 'https://extension.okstate.edu/fact-sheets/basics-of-forest-road-surveying.html', 'https://extension.okstate.edu/fact-sheets/are-you-making-a-profit-on-your-products.html', 'https://extension.okstate.edu/fact-sheets/got-compliance-dairy-products-marketing-regulations-for-oklahoma.html', 'https://extension.okstate.edu/fact-sheets/nutrition-facts-panel-changes-combating-an-old-problem-with-a-new-look.html', 'https://extension.okstate.edu/fact-sheets/marketing-basics-for-value-added-agriculture.html', 'https://extension.okstate.edu/fact-sheets/edible-oil-quality.html', 'https://extension.okstate.edu/fact-sheets/lipid-glossary.html', 'https://extension.okstate.edu/fact-sheets/findings-from-the-made-in-oklahoma-coalition-2015-consumer-perceptions-survey.html', 'https://extension.okstate.edu/fact-sheets/algal-biomass-production.html', 'https://extension.okstate.edu/fact-sheets/photobioreactor-design-for-algal-biomass-production.html', 'https://extension.okstate.edu/fact-sheets/downstream-processing-of-algal-cultures.html', 'https://extension.okstate.edu/fact-sheets/a-guide-to-marketing-locally-produced-eggs-in-oklahoma.html', 'https://extension.okstate.edu/fact-sheets/growing-north-american-indigenous-corn.html', 'https://extension.okstate.edu/fact-sheets/dimensional-stability-and-roughness-of-wood-plastic-composite-material-made-from-eastern-redcedar.html', 'https://extension.okstate.edu/fact-sheets/dimensional-movement-of-wheel-chocks-made-from-southern-pine.html', 'https://extension.okstate.edu/fact-sheets/manufacturing-sandwich-type-panels-from-eastern-redcedar-and-southern-pine.html', 'https://extension.okstate.edu/fact-sheets/ten-frequently-asked-questions-of-start-up-food-business-owners.html', 'https://extension.okstate.edu/fact-sheets/challenges-of-meeting-oklahomas-farmers-market-regulations-and-varied-requirements.html', 'https://extension.okstate.edu/fact-sheets/chickasaw-plum-for-wildlife-in-oklahoma.html', 'https://extension.okstate.edu/fact-sheets/2014-farm-bill-looking-back.html', 'https://extension.okstate.edu/fact-sheets/exploring-the-potential-effectiveness-of-a-state-low-income-housing-tax-credit-in-oklahoma.html', 'https://extension.okstate.edu/fact-sheets/logos-vs-labels-whats-the-difference.html', 'https://extension.okstate.edu/fact-sheets/best-management-practices-for-controlling-eastern-redcedar.html', 'https://extension.okstate.edu/fact-sheets/basics-of-laminated-flooring.html', 'https://extension.okstate.edu/fact-sheets/industrial-deep-fat-frying.html', 'https://extension.okstate.edu/fact-sheets/dehydrator-optimization-reduction-of-energy-use-and-carbon-emissions.html', 'https://extension.okstate.edu/fact-sheets/2010-vegetable-weed-control-studies.html', 'https://extension.okstate.edu/fact-sheets/measurement-equipment-for-food-product-development-and-manufacturing.html', 'https://extension.okstate.edu/fact-sheets/impacts-of-consumer-characteristics-and-perceptions-on-willingness-to-pay-for-natural-beef-in-the-southern-plains.html']\n"
     ]
    }
   ],
   "source": [
    "links = [x['link'] for x in data]\n",
    "print(links)"
   ]
  },
  {
   "cell_type": "code",
   "execution_count": 10,
   "id": "94fc4d83",
   "metadata": {},
   "outputs": [
    {
     "name": "stdout",
     "output_type": "stream",
     "text": [
      "https://extension.okstate.edu//fact-sheets/print-publications/fapc-food-and-agricultural-products-center/custom-beef-processing-expected-yields-fapc-245.pdf\n",
      "https://extension.okstate.edu//fact-sheets/print-publications/t/an-introduction-to-the-mental-health-challenges-for-rural-americans-t-2150.pdf\n",
      "https://extension.okstate.edu//fact-sheets/print-publications/fapc-food-and-agricultural-products-center/food-business-license-and-permit-costs-in-oklahoma-the-good-the-bad-and-the-mundane-fapc-185.pdf\n",
      "https://extension.okstate.edu//fact-sheets/print-publications/e/propagation-of-ornamental-plants-for-oklahoma-e-917.pdf\n",
      "https://extension.okstate.edu//fact-sheets/print-publications/cr/cow-calf-production-record-software-cr-3279.pdf\n",
      "https://extension.okstate.edu//fact-sheets/print-publications/doc/cr-2143-2021-2022-small-grains-variety-performance-tests.pdf\n",
      "https://extension.okstate.edu//fact-sheets/shade-tree-borers-pdf-only.pdf\n",
      "https://extension.okstate.edu//fact-sheets/print-publications/agec/machinery-ownership-versus-custom-harvest.pdf\n",
      "https://extension.okstate.edu//fact-sheets/print-publications/fapc-oklahoma-cooperative-extension-service/mobile-slaughter-units-regulatory-overview-for-oklahoma-non-poultry.pdf\n",
      "https://extension.okstate.edu//fact-sheets/print-publications/nrem/copper-sulfate-applications-for-filamentous-algae-nrem-2908.pdf\n",
      "https://extension.okstate.edu//fact-sheets/print-publications/agec/sales-tax-rules-for-farmers-markets-and-on-farm-sales-the-exemption-ends-at-the-farm-gate.pdf\n",
      "https://extension.okstate.edu//fact-sheets/print-publications/afs/oklahoma-quality-beef-network-vac-45-program-requirements-afs-3305.pdf\n",
      "https://extension.okstate.edu//fact-sheets/print-publications/hla/perennial-flowers-for-specific-use-in-oklahoma.pdf\n",
      "https://extension.okstate.edu//fact-sheets/print-publications/nrem/economic-contribution-of-forest-sector-in-oklahoma-in-2020-nrem-5057.pdf\n",
      "https://extension.okstate.edu//fact-sheets/print-publications/afs/feed-additives-for-beef-cattle-production-afs-3038.pdf\n",
      "https://extension.okstate.edu//fact-sheets/print-publications/fapc-food-and-agricultural-products-center/regulatory-landscape-for-the-direct-marketing-of-meat-and-poultry-in-oklahoma-fapc-232.pdf\n",
      "https://extension.okstate.edu//fact-sheets/print-publications/epp-entomology-and-plant-pathologhy/beneficial-insects-epp-7307.pdf\n",
      "https://extension.okstate.edu//fact-sheets/print-publications/afs/implants-and-their-use-in-beef-cattle-production-afs-3290.pdf\n",
      "https://extension.okstate.edu//fact-sheets/print-publications/t/parenting-trans-and-nonbinary-youth-t-2252.pdf\n",
      "https://extension.okstate.edu//fact-sheets/print-publications/fapc-food-and-agricultural-products-center/3-d-printed-parts-for-food-contact-fapc-244.pdf\n",
      "https://extension.okstate.edu//fact-sheets/print-publications/hla/ornamental-grasses-and-grass-like-plants-for-oklahoma-hla-6470.pdf\n",
      "https://extension.okstate.edu//fact-sheets/print-publications/e/converting-introduced-grasses-to-native-rangelands-e-1056.pdf\n",
      "https://extension.okstate.edu//fact-sheets/print-publications/pss/the-management-of-double-crop-corn-system-pss-2122.pdf\n",
      "https://extension.okstate.edu//fact-sheets/print-publications/p/2022-annual-summary-p-1064.pdf\n",
      "https://extension.okstate.edu//fact-sheets/print-publications/t/complex-carbohydrates-for-energy-and-fiber-t-2400.pdf\n",
      "https://extension.okstate.edu//fact-sheets/print-publications/t/food-safety-during-pregnancy-t-2404.pdf\n",
      "https://extension.okstate.edu//fact-sheets/print-publications/cr/fall-forage-production-and-first-hollow-stem-date-for-wheat-varieties-during-the-2021-2022-crop-year-cr-2141.pdf\n",
      "https://extension.okstate.edu//fact-sheets/print-publications/agec/hair-sheep-record-keeping-software/hair-sheep-record-keeping-software.pdf\n",
      "https://extension.okstate.edu//fact-sheets/print-publications/t/enjoy-colorful-fruits-and-vegetables-for-vital-vitamins-t-2403.pdf\n",
      "https://extension.okstate.edu//fact-sheets/print-publications/agec/wool-sheep-record-keeping-software/wool-sheep-record-keeping-software.pdf\n",
      "https://extension.okstate.edu//fact-sheets/print-publications/t/iron-is-important-during-pregnancy-t-2406.pdf\n",
      "https://extension.okstate.edu//fact-sheets/print-publications/t/calcium-and-vitamin-d-the-bone-builders-t-2397.pdf\n",
      "https://extension.okstate.edu//fact-sheets/print-publications/epp-entomology-and-plant-pathologhy/grasshoppers-of-the-cherokee-nation-in-northeast-oklahoma-epp-7342.pdf\n",
      "https://extension.okstate.edu//fact-sheets/print-publications/fapc-food-and-agricultural-products-center/new-food-labeling-standards-bioengineered-food-fapc-241.pdf\n",
      "https://extension.okstate.edu//fact-sheets/print-publications/t/alcohol-during-pregnancy-t-2395.pdf\n",
      "https://extension.okstate.edu//fact-sheets/print-publications/hla/introduction-to-vegetable-grafting-hla-6039.pdf\n",
      "https://extension.okstate.edu//fact-sheets/print-publications/t/pregnancy-weight-gain-for-underweight-moms-t-2407.pdf\n",
      "https://extension.okstate.edu//fact-sheets/print-publications/t/common-concerns-during-pregnancy-heartburn-and-indigestion-t-2398.pdf\n",
      "https://extension.okstate.edu//fact-sheets/print-publications/e/e-1052-oklahoma-proven-plant-selections-1999-2022.pdf\n",
      "https://extension.okstate.edu//fact-sheets/print-publications/p/2020-annual-summary-p-1062.pdf\n",
      "https://extension.okstate.edu//fact-sheets/print-publications/t/deciding-what-to-eat-when-you-are-pregnant-t-2401.pdf\n",
      "https://extension.okstate.edu//fact-sheets/print-publications/hla/2022-sweet-potato-production-hla-6022.pdf\n",
      "https://extension.okstate.edu//fact-sheets/print-publications/t/healthy-weight-gain-in-pregnancy-t-2405.pdf\n",
      "https://extension.okstate.edu//fact-sheets/print-publications/fapc-food-and-agricultural-products-center/homemade-food-freedom-act-fapc-242.pdf\n",
      "https://extension.okstate.edu//fact-sheets/print-publications/t/drugs-and-smoking-during-pregnancy-t-2402.pdf\n",
      "https://extension.okstate.edu//fact-sheets/print-publications/afs/afs-8301-small-flock-biosecurity-for-prevention-of-avian-influenza.pdf\n",
      "https://extension.okstate.edu//fact-sheets/print-publications/t/common-concerns-during-pregnancy-morning-sickness-t-2399.pdf\n",
      "https://extension.okstate.edu//fact-sheets/print-publications/t/t2396-being-active-during-pregnancy.pdf\n",
      "https://extension.okstate.edu//fact-sheets/print-publications/hla/southern-pea-production-hla-6029.pdf\n",
      "https://extension.okstate.edu//fact-sheets/print-publications/cr/cr-205-farm-and-ranch-custom-rates-2021-2022.pdf\n",
      "https://extension.okstate.edu//fact-sheets/print-publications/agec/farm-and-ranch-financial-trends-worksheet-fillable.pdf\n",
      "https://extension.okstate.edu//fact-sheets/print-publications/t/promoting-healthy-sleeping-habits-in-children-and-adolescents-t-2394.pdf\n",
      "https://extension.okstate.edu//fact-sheets/print-publications/mp/2021_vegetable_trial_report.pdf\n",
      "https://extension.okstate.edu//fact-sheets/print-publications/pss/true-cheat-control-in-oklahoma-winter-wheat-pss-2774.pdf\n",
      "https://extension.okstate.edu//fact-sheets/print-publications/agec/evaluating-financial-performance-and-position-agec-790-1.pdf\n",
      "https://extension.okstate.edu//fact-sheets/print-publications/nrem/fish-kills-nrem-9223.pdf\n",
      "https://extension.okstate.edu//fact-sheets/print-publications/nrem/aquatic-weeds-problem-solving-steps-nrem-9222.pdf\n",
      "https://extension.okstate.edu//fact-sheets/print-publications/t/hydration-and-athletes-t-3625.pdf\n",
      "https://extension.okstate.edu//fact-sheets/print-publications/afs/supplementing-beef-cows-afs-3010.pdf\n",
      "https://extension.okstate.edu/https://extension.okstate.edu/fact-sheets/print-publications/hla/nitrification-and-maintenance-in-media-bed-aquaponics-hla-6729.pdf\n",
      "https://extension.okstate.edu//fact-sheets/print-publications/t/nutrition-and-heart-health-in-the-fire-service-t-3624.pdf\n",
      "https://extension.okstate.edu//fact-sheets/print-publications/agec/beginning-honey-beekeeping-equipment-and-associated-costs-agec-2002.pdf\n",
      "https://extension.okstate.edu//fact-sheets/print-publications/nrem/the-exotic-invasive-chinese-tallow-nrem-5500.pdf\n",
      "https://extension.okstate.edu//fact-sheets/print-publications/pss/green-stem-syndrome-in-soybean-pss-3003.pdf\n",
      "https://extension.okstate.edu//fact-sheets/print-publications/agec/mixed-species-grazing-a-potential-opportunity-to-improve-rangelans-productivity-and-increase-profits-agec-271.pdf\n"
     ]
    },
    {
     "name": "stdout",
     "output_type": "stream",
     "text": [
      "https://extension.okstate.edu//fact-sheets/print-publications/cr/protein-concentration-of-winter-wheat-varieties-in-oklahoma-2020-2021-cr-2135.pdf\n",
      "https://extension.okstate.edu//fact-sheets/print-publications/aecl/overview-of-opportunities-for-beginning-farmers-and-ranchers-agec-2001.pdf\n",
      "https://extension.okstate.edu//fact-sheets/print-publications/pss/2021-oklahoma-cotton-harvest-aid-guide-pss-2182.pdf\n",
      "https://extension.okstate.edu//fact-sheets/print-publications/pss/impacts-of-winter-and-summer-crop-selection-on-the-performance-of-double-crop-systems-pss-3001.pdf\n",
      "https://extension.okstate.edu//fact-sheets/print-publications/agec/liabilities-schedule-agec-792-1.pdf\n",
      "https://extension.okstate.edu//fact-sheets/print-publications/agec/economically-optimal-planting-of-dual-purpose-wheat-agec-270.pdf\n",
      "https://extension.okstate.edu//fact-sheets/print-publications/hla/algae-control-in-greenhouse-production-hla-6727.pdf\n",
      "https://extension.okstate.edu//fact-sheets/print-publications/cr/should-i-buy-or-retain-stockers-to-graze-wheat-pasture-2021-cr-212.pdf\n",
      "https://extension.okstate.edu//fact-sheets/print-publications/hla/soilless-growing-mediums-hla-6728.pdf\n",
      "https://extension.okstate.edu//fact-sheets/print-publications/fapc-food-and-agricultural-products-center/slaughterhouse-water-use-and-wastewater-characteristics-fapc-240-1.pdf\n",
      "https://extension.okstate.edu//fact-sheets/print-publications/aecl/organizational-branding-101-aecl-9804.pdf\n",
      "https://extension.okstate.edu//fact-sheets/print-publications/cr/oklahoma-lawn-and-garden-soil-test-summary-2015-2019-cr-6467.pdf\n",
      "https://extension.okstate.edu/https://extension.okstate.edu/fact-sheets/print-publications/fapc-food-and-agricultural-products-center/us-and-oklahoma-covid-impacts-on-food-shopper-buying-patterns-fapc-237.pdf\n",
      "https://extension.okstate.edu//fact-sheets/print-publications/agec/a-strategy-for-building-a-beef-cow-herd-agec-269.pdf\n",
      "https://extension.okstate.edu//fact-sheets/print-publications/fapc-food-and-agricultural-products-center/sustainable-food-packaging-options-fapc-239.pdf\n",
      "https://extension.okstate.edu//fact-sheets/print-publications/hla/native-plant-index-unfamiliar-oklahoma-flora-of-horticultural-interest-hla-6469.pdf\n",
      "https://extension.okstate.edu/https://extension.okstate.edu/fact-sheets/print-publications/nrem/aflatoxins-in-wildlife-feed-know-how-to-protect-wildlife-nrem-9021-1.pdf\n",
      "https://extension.okstate.edu//fact-sheets/print-publications/fapc-food-and-agricultural-products-center/sesame-seed-oil-properties-fapc-238.pdf\n",
      "https://extension.okstate.edu//fact-sheets/print-publications/agec/owner-equity-section-agec-938-1.pdf\n",
      "https://extension.okstate.edu//fact-sheets/print-publications/e/a-resource-guide-for-beginning-farmers-in-oklahoma-e-982.pdf\n",
      "https://extension.okstate.edu//fact-sheets/print-publications/cr/2020-2021-small-grains-variety-performance-tests-cr-2143.pdf\n",
      "https://extension.okstate.edu//fact-sheets/print-publications/epp-entomology-and-plant-pathologhy/key-to-female-bumble-bees-in-oklahoma-epp-7340.pdf\n",
      "https://extension.okstate.edu/https://extension.okstate.edu/fact-sheets/print-publications/nrem/oklahoma-sheep-and-goat-auction-directory-nrem-5700.pdf\n",
      "https://extension.okstate.edu//fact-sheets/print-publications/hla/understanding-your-lawn-and-garden-soil-test-hla-6468.pdf\n",
      "https://extension.okstate.edu//fact-sheets/print-publications/aecl/oklahoma-craft-brewery-involvement-in-communities-aecl-9802.pdf\n",
      "https://extension.okstate.edu//fact-sheets/print-publications/pss/utilizing-heat-units-in-oklahoma-cotton-production-pss-3002.pdf\n",
      "https://extension.okstate.edu//fact-sheets/print-publications/bae/soil-moisture-sensing-systems-for-improving-irrigation-scheduling-bae-1543.pdf\n",
      "https://extension.okstate.edu//fact-sheets/print-publications/epp-entomology-and-plant-pathologhy/grasshoppers-of-the-choctaw-nation-in-southeast-oklahoma-epp-7341.pdf\n",
      "https://extension.okstate.edu//fact-sheets/print-publications/agec/mask-mandate-and-retail-consumer-spending-a-comparison-of-oklahoma-communitites-during-covid-19-agec-1998.pdf\n",
      "https://extension.okstate.edu//fact-sheets/print-publications/agec/schedule-of-assets-agec-791.pdf\n",
      "https://extension.okstate.edu//fact-sheets/print-publications/aecl/agritourism-operators-marketing-preferences-aecl-9803.pdf\n",
      "https://extension.okstate.edu//fact-sheets/print-publications/nrem/what-you-need-to-know-about-the-endangered-species-act-nrem-9018.pdf\n",
      "https://extension.okstate.edu//fact-sheets/print-publications/pss/smallseed-falseflax-management-in-winter-wheat-pss-2796.pdf\n",
      "https://extension.okstate.edu//fact-sheets/print-publications/agec/evaluation-of-rainfall-index-pasture-rangeland-and-forage-crop-insurance-program-and-guidelines-for-producers-agec-1999.pdf\n",
      "https://extension.okstate.edu//fact-sheets/print-publications/hla/landscaping-to-attract-butterflies-and-moths-hla-6430.pdf\n",
      "https://extension.okstate.edu//fact-sheets/print-publications/epp-entomology-and-plant-pathologhy/sampling-for-pinewood-nematodes-epp7675.pdf\n",
      "https://extension.okstate.edu//fact-sheets/print-publications/cr/management-of-insect-pests-in-small-grains-cr7194.pdf\n",
      "https://extension.okstate.edu//fact-sheets/print-publications/hla/landscape-maintenance-schedule-hla-6408.pdf\n",
      "https://extension.okstate.edu//fact-sheets/print-publications/afs/finishing-beef-cattle-on-the-farm-afs-3303.pdf\n",
      "https://extension.okstate.edu//fact-sheets/print-publications/e/oklahoma-prescribed-burning-handbook-e-1010-updated.pdf\n",
      "https://extension.okstate.edu//fact-sheets/print-publications/cr/corn-performance-trials-in-oklahoma-panhandle-2021.pdf\n",
      "https://extension.okstate.edu//fact-sheets/print-publications/t/weight-management-t-3167.pdf\n",
      "https://extension.okstate.edu//fact-sheets/print-publications/t/nutrition-for-older-adults-diet-and-health-guidelines-for-weight-loss-t-3200.pdf\n",
      "https://extension.okstate.edu//fact-sheets/print-publications/t/diet-and-high-blood-pressure-t-3159.pdf\n",
      "https://extension.okstate.edu//fact-sheets/print-publications/t/journey-through-health-immune-system-t-3215.pdf\n",
      "https://extension.okstate.edu//fact-sheets/print-publications/t/carbohydrates-in-the-diet-t-3117.pdf\n",
      "https://extension.okstate.edu//fact-sheets/print-publications/t/diet-and-heart-disease-t-3160.pdf\n",
      "https://extension.okstate.edu//fact-sheets/print-publications/t/journey-through-health-eyes-t-3206.pdf\n",
      "https://extension.okstate.edu//fact-sheets/print-publications/t/nutrition-for-older-adults-constipation-and-nutrition-t-3175.pdf\n",
      "https://extension.okstate.edu//fact-sheets/print-publications/t/protein-and-the-body-t-3163.pdf\n",
      "https://extension.okstate.edu//fact-sheets/print-publications/t/journey-through-health-stomach-t-3208.pdf\n",
      "https://extension.okstate.edu//fact-sheets/print-publications/p/research-summary-quail-population-and-nesting-characteristicsin-western-oklahoma-p-1063.pdf\n",
      "https://extension.okstate.edu//fact-sheets/print-publications/e/patch-burning-integrating-fire-and-grazing-to-promote-heterogeneity-e-998.pdf\n",
      "https://extension.okstate.edu//fact-sheets/print-publications/t/nutrition-for-older-adults-diet-and-health-guidelines-to-lower-the-risk-of-high-blood-pressure-t-3199.pdf\n",
      "https://extension.okstate.edu//fact-sheets/print-publications/t/nutrition-for-older-adults-usda-myplate-food-groups-t-3181.pdf\n",
      "https://extension.okstate.edu//fact-sheets/print-publications/t/nutrition-for-older-adults-usda-myplate-plan-t-3183.pdf\n",
      "https://extension.okstate.edu//fact-sheets/print-publications/t/nutrition-for-older-adults-strength-coordination-range-of-motion-and-nutrition-t-3187.pdf\n",
      "https://extension.okstate.edu//fact-sheets/print-publications/bae/calibrating-a-low-pressure-ground-sprayer-boom-mounted-nozzles-bae-1294.pdf\n",
      "https://extension.okstate.edu//fact-sheets/print-publications/t/journey-through-health-muscles-t-3211.pdf\n",
      "https://extension.okstate.edu//fact-sheets/print-publications/t/journey-through-health-mouth-teeth-and-gums-t-3207.pdf\n",
      "https://extension.okstate.edu//fact-sheets/print-publications/pss/understanding-grain-sorghum-irrigation-requirements-in-oklahoma-pss-2410.pdf\n",
      "https://extension.okstate.edu//fact-sheets/print-publications/epp-entomology-and-plant-pathologhy/pear-rust-epp-7681.pdf\n",
      "https://extension.okstate.edu//fact-sheets/print-publications/l/2021-tomato-variety-suggestions-l-492.pdf\n"
     ]
    },
    {
     "name": "stdout",
     "output_type": "stream",
     "text": [
      "https://extension.okstate.edu//fact-sheets/print-publications/agec/considering-water-quality-in-oklahoma-agec-1997.pdf\n",
      "https://extension.okstate.edu//fact-sheets/print-publications/hla/cucumber-production-hla-6023.pdf\n",
      "https://extension.okstate.edu//fact-sheets/print-publications/epp-entomology-and-plant-pathologhy/mites-in-small-grains-epp-7093.pdf\n",
      "https://extension.okstate.edu//fact-sheets/print-publications/cr/oklahoma-cropland-rental-rates-2020-21cr-230.pdf\n",
      "https://extension.okstate.edu//fact-sheets/print-publications/cr/oklahoma-pasture-rental-rates-2020-21-cr-216.pdf\n",
      "https://extension.okstate.edu//fact-sheets/print-publications/hla/melon-production-hla-6237.pdf\n",
      "https://extension.okstate.edu//fact-sheets/print-publications/nrem/using-drones-with-infrared-capabilities-to-monitor-fire-behavior-nrem-2907.pdf\n"
     ]
    },
    {
     "ename": "KeyboardInterrupt",
     "evalue": "",
     "output_type": "error",
     "traceback": [
      "\u001b[0;31m---------------------------------------------------------------------------\u001b[0m",
      "\u001b[0;31mKeyboardInterrupt\u001b[0m                         Traceback (most recent call last)",
      "\u001b[0;32m/tmp/ipykernel_6252/2767390004.py\u001b[0m in \u001b[0;36m<module>\u001b[0;34m\u001b[0m\n\u001b[1;32m      3\u001b[0m     \u001b[0murl\u001b[0m \u001b[0;34m=\u001b[0m \u001b[0mi\u001b[0m\u001b[0;34m\u001b[0m\u001b[0;34m\u001b[0m\u001b[0m\n\u001b[1;32m      4\u001b[0m \u001b[0;34m\u001b[0m\u001b[0m\n\u001b[0;32m----> 5\u001b[0;31m     \u001b[0mresponse\u001b[0m \u001b[0;34m=\u001b[0m \u001b[0mrequests\u001b[0m\u001b[0;34m.\u001b[0m\u001b[0mget\u001b[0m\u001b[0;34m(\u001b[0m\u001b[0murl\u001b[0m\u001b[0;34m)\u001b[0m\u001b[0;34m\u001b[0m\u001b[0;34m\u001b[0m\u001b[0m\n\u001b[0m\u001b[1;32m      6\u001b[0m     \u001b[0msoup\u001b[0m\u001b[0;34m=\u001b[0m \u001b[0mBeautifulSoup\u001b[0m\u001b[0;34m(\u001b[0m\u001b[0mresponse\u001b[0m\u001b[0;34m.\u001b[0m\u001b[0mtext\u001b[0m\u001b[0;34m,\u001b[0m \u001b[0;34m\"html.parser\"\u001b[0m\u001b[0;34m)\u001b[0m\u001b[0;34m\u001b[0m\u001b[0;34m\u001b[0m\u001b[0m\n\u001b[1;32m      7\u001b[0m     \u001b[0;32mfor\u001b[0m \u001b[0mlink\u001b[0m \u001b[0;32min\u001b[0m \u001b[0msoup\u001b[0m\u001b[0;34m.\u001b[0m\u001b[0mselect\u001b[0m\u001b[0;34m(\u001b[0m\u001b[0;34m\"#main-content > div > div > div > div > div.share_button_container > a\"\u001b[0m\u001b[0;34m)\u001b[0m\u001b[0;34m:\u001b[0m\u001b[0;34m\u001b[0m\u001b[0;34m\u001b[0m\u001b[0m\n",
      "\u001b[0;32m~/anaconda3/envs/k1/lib/python3.7/site-packages/requests/api.py\u001b[0m in \u001b[0;36mget\u001b[0;34m(url, params, **kwargs)\u001b[0m\n\u001b[1;32m     71\u001b[0m     \"\"\"\n\u001b[1;32m     72\u001b[0m \u001b[0;34m\u001b[0m\u001b[0m\n\u001b[0;32m---> 73\u001b[0;31m     \u001b[0;32mreturn\u001b[0m \u001b[0mrequest\u001b[0m\u001b[0;34m(\u001b[0m\u001b[0;34m\"get\"\u001b[0m\u001b[0;34m,\u001b[0m \u001b[0murl\u001b[0m\u001b[0;34m,\u001b[0m \u001b[0mparams\u001b[0m\u001b[0;34m=\u001b[0m\u001b[0mparams\u001b[0m\u001b[0;34m,\u001b[0m \u001b[0;34m**\u001b[0m\u001b[0mkwargs\u001b[0m\u001b[0;34m)\u001b[0m\u001b[0;34m\u001b[0m\u001b[0;34m\u001b[0m\u001b[0m\n\u001b[0m\u001b[1;32m     74\u001b[0m \u001b[0;34m\u001b[0m\u001b[0m\n\u001b[1;32m     75\u001b[0m \u001b[0;34m\u001b[0m\u001b[0m\n",
      "\u001b[0;32m~/anaconda3/envs/k1/lib/python3.7/site-packages/requests/api.py\u001b[0m in \u001b[0;36mrequest\u001b[0;34m(method, url, **kwargs)\u001b[0m\n\u001b[1;32m     57\u001b[0m     \u001b[0;31m# cases, and look like a memory leak in others.\u001b[0m\u001b[0;34m\u001b[0m\u001b[0;34m\u001b[0m\u001b[0;34m\u001b[0m\u001b[0m\n\u001b[1;32m     58\u001b[0m     \u001b[0;32mwith\u001b[0m \u001b[0msessions\u001b[0m\u001b[0;34m.\u001b[0m\u001b[0mSession\u001b[0m\u001b[0;34m(\u001b[0m\u001b[0;34m)\u001b[0m \u001b[0;32mas\u001b[0m \u001b[0msession\u001b[0m\u001b[0;34m:\u001b[0m\u001b[0;34m\u001b[0m\u001b[0;34m\u001b[0m\u001b[0m\n\u001b[0;32m---> 59\u001b[0;31m         \u001b[0;32mreturn\u001b[0m \u001b[0msession\u001b[0m\u001b[0;34m.\u001b[0m\u001b[0mrequest\u001b[0m\u001b[0;34m(\u001b[0m\u001b[0mmethod\u001b[0m\u001b[0;34m=\u001b[0m\u001b[0mmethod\u001b[0m\u001b[0;34m,\u001b[0m \u001b[0murl\u001b[0m\u001b[0;34m=\u001b[0m\u001b[0murl\u001b[0m\u001b[0;34m,\u001b[0m \u001b[0;34m**\u001b[0m\u001b[0mkwargs\u001b[0m\u001b[0;34m)\u001b[0m\u001b[0;34m\u001b[0m\u001b[0;34m\u001b[0m\u001b[0m\n\u001b[0m\u001b[1;32m     60\u001b[0m \u001b[0;34m\u001b[0m\u001b[0m\n\u001b[1;32m     61\u001b[0m \u001b[0;34m\u001b[0m\u001b[0m\n",
      "\u001b[0;32m~/anaconda3/envs/k1/lib/python3.7/site-packages/requests/sessions.py\u001b[0m in \u001b[0;36mrequest\u001b[0;34m(self, method, url, params, data, headers, cookies, files, auth, timeout, allow_redirects, proxies, hooks, stream, verify, cert, json)\u001b[0m\n\u001b[1;32m    585\u001b[0m         }\n\u001b[1;32m    586\u001b[0m         \u001b[0msend_kwargs\u001b[0m\u001b[0;34m.\u001b[0m\u001b[0mupdate\u001b[0m\u001b[0;34m(\u001b[0m\u001b[0msettings\u001b[0m\u001b[0;34m)\u001b[0m\u001b[0;34m\u001b[0m\u001b[0;34m\u001b[0m\u001b[0m\n\u001b[0;32m--> 587\u001b[0;31m         \u001b[0mresp\u001b[0m \u001b[0;34m=\u001b[0m \u001b[0mself\u001b[0m\u001b[0;34m.\u001b[0m\u001b[0msend\u001b[0m\u001b[0;34m(\u001b[0m\u001b[0mprep\u001b[0m\u001b[0;34m,\u001b[0m \u001b[0;34m**\u001b[0m\u001b[0msend_kwargs\u001b[0m\u001b[0;34m)\u001b[0m\u001b[0;34m\u001b[0m\u001b[0;34m\u001b[0m\u001b[0m\n\u001b[0m\u001b[1;32m    588\u001b[0m \u001b[0;34m\u001b[0m\u001b[0m\n\u001b[1;32m    589\u001b[0m         \u001b[0;32mreturn\u001b[0m \u001b[0mresp\u001b[0m\u001b[0;34m\u001b[0m\u001b[0;34m\u001b[0m\u001b[0m\n",
      "\u001b[0;32m~/anaconda3/envs/k1/lib/python3.7/site-packages/requests/sessions.py\u001b[0m in \u001b[0;36msend\u001b[0;34m(self, request, **kwargs)\u001b[0m\n\u001b[1;32m    699\u001b[0m \u001b[0;34m\u001b[0m\u001b[0m\n\u001b[1;32m    700\u001b[0m         \u001b[0;31m# Send the request\u001b[0m\u001b[0;34m\u001b[0m\u001b[0;34m\u001b[0m\u001b[0;34m\u001b[0m\u001b[0m\n\u001b[0;32m--> 701\u001b[0;31m         \u001b[0mr\u001b[0m \u001b[0;34m=\u001b[0m \u001b[0madapter\u001b[0m\u001b[0;34m.\u001b[0m\u001b[0msend\u001b[0m\u001b[0;34m(\u001b[0m\u001b[0mrequest\u001b[0m\u001b[0;34m,\u001b[0m \u001b[0;34m**\u001b[0m\u001b[0mkwargs\u001b[0m\u001b[0;34m)\u001b[0m\u001b[0;34m\u001b[0m\u001b[0;34m\u001b[0m\u001b[0m\n\u001b[0m\u001b[1;32m    702\u001b[0m \u001b[0;34m\u001b[0m\u001b[0m\n\u001b[1;32m    703\u001b[0m         \u001b[0;31m# Total elapsed time of the request (approximately)\u001b[0m\u001b[0;34m\u001b[0m\u001b[0;34m\u001b[0m\u001b[0;34m\u001b[0m\u001b[0m\n",
      "\u001b[0;32m~/anaconda3/envs/k1/lib/python3.7/site-packages/requests/adapters.py\u001b[0m in \u001b[0;36msend\u001b[0;34m(self, request, stream, timeout, verify, cert, proxies)\u001b[0m\n\u001b[1;32m    497\u001b[0m                     \u001b[0mdecode_content\u001b[0m\u001b[0;34m=\u001b[0m\u001b[0;32mFalse\u001b[0m\u001b[0;34m,\u001b[0m\u001b[0;34m\u001b[0m\u001b[0;34m\u001b[0m\u001b[0m\n\u001b[1;32m    498\u001b[0m                     \u001b[0mretries\u001b[0m\u001b[0;34m=\u001b[0m\u001b[0mself\u001b[0m\u001b[0;34m.\u001b[0m\u001b[0mmax_retries\u001b[0m\u001b[0;34m,\u001b[0m\u001b[0;34m\u001b[0m\u001b[0;34m\u001b[0m\u001b[0m\n\u001b[0;32m--> 499\u001b[0;31m                     \u001b[0mtimeout\u001b[0m\u001b[0;34m=\u001b[0m\u001b[0mtimeout\u001b[0m\u001b[0;34m,\u001b[0m\u001b[0;34m\u001b[0m\u001b[0;34m\u001b[0m\u001b[0m\n\u001b[0m\u001b[1;32m    500\u001b[0m                 )\n\u001b[1;32m    501\u001b[0m \u001b[0;34m\u001b[0m\u001b[0m\n",
      "\u001b[0;32m~/anaconda3/envs/k1/lib/python3.7/site-packages/urllib3/connectionpool.py\u001b[0m in \u001b[0;36murlopen\u001b[0;34m(self, method, url, body, headers, retries, redirect, assert_same_host, timeout, pool_timeout, release_conn, chunked, body_pos, **response_kw)\u001b[0m\n\u001b[1;32m    708\u001b[0m                 \u001b[0mbody\u001b[0m\u001b[0;34m=\u001b[0m\u001b[0mbody\u001b[0m\u001b[0;34m,\u001b[0m\u001b[0;34m\u001b[0m\u001b[0;34m\u001b[0m\u001b[0m\n\u001b[1;32m    709\u001b[0m                 \u001b[0mheaders\u001b[0m\u001b[0;34m=\u001b[0m\u001b[0mheaders\u001b[0m\u001b[0;34m,\u001b[0m\u001b[0;34m\u001b[0m\u001b[0;34m\u001b[0m\u001b[0m\n\u001b[0;32m--> 710\u001b[0;31m                 \u001b[0mchunked\u001b[0m\u001b[0;34m=\u001b[0m\u001b[0mchunked\u001b[0m\u001b[0;34m,\u001b[0m\u001b[0;34m\u001b[0m\u001b[0;34m\u001b[0m\u001b[0m\n\u001b[0m\u001b[1;32m    711\u001b[0m             )\n\u001b[1;32m    712\u001b[0m \u001b[0;34m\u001b[0m\u001b[0m\n",
      "\u001b[0;32m~/anaconda3/envs/k1/lib/python3.7/site-packages/urllib3/connectionpool.py\u001b[0m in \u001b[0;36m_make_request\u001b[0;34m(self, conn, method, url, timeout, chunked, **httplib_request_kw)\u001b[0m\n\u001b[1;32m    447\u001b[0m                     \u001b[0;31m# Python 3 (including for exceptions like SystemExit).\u001b[0m\u001b[0;34m\u001b[0m\u001b[0;34m\u001b[0m\u001b[0;34m\u001b[0m\u001b[0m\n\u001b[1;32m    448\u001b[0m                     \u001b[0;31m# Otherwise it looks like a bug in the code.\u001b[0m\u001b[0;34m\u001b[0m\u001b[0;34m\u001b[0m\u001b[0;34m\u001b[0m\u001b[0m\n\u001b[0;32m--> 449\u001b[0;31m                     \u001b[0msix\u001b[0m\u001b[0;34m.\u001b[0m\u001b[0mraise_from\u001b[0m\u001b[0;34m(\u001b[0m\u001b[0me\u001b[0m\u001b[0;34m,\u001b[0m \u001b[0;32mNone\u001b[0m\u001b[0;34m)\u001b[0m\u001b[0;34m\u001b[0m\u001b[0;34m\u001b[0m\u001b[0m\n\u001b[0m\u001b[1;32m    450\u001b[0m         \u001b[0;32mexcept\u001b[0m \u001b[0;34m(\u001b[0m\u001b[0mSocketTimeout\u001b[0m\u001b[0;34m,\u001b[0m \u001b[0mBaseSSLError\u001b[0m\u001b[0;34m,\u001b[0m \u001b[0mSocketError\u001b[0m\u001b[0;34m)\u001b[0m \u001b[0;32mas\u001b[0m \u001b[0me\u001b[0m\u001b[0;34m:\u001b[0m\u001b[0;34m\u001b[0m\u001b[0;34m\u001b[0m\u001b[0m\n\u001b[1;32m    451\u001b[0m             \u001b[0mself\u001b[0m\u001b[0;34m.\u001b[0m\u001b[0m_raise_timeout\u001b[0m\u001b[0;34m(\u001b[0m\u001b[0merr\u001b[0m\u001b[0;34m=\u001b[0m\u001b[0me\u001b[0m\u001b[0;34m,\u001b[0m \u001b[0murl\u001b[0m\u001b[0;34m=\u001b[0m\u001b[0murl\u001b[0m\u001b[0;34m,\u001b[0m \u001b[0mtimeout_value\u001b[0m\u001b[0;34m=\u001b[0m\u001b[0mread_timeout\u001b[0m\u001b[0;34m)\u001b[0m\u001b[0;34m\u001b[0m\u001b[0;34m\u001b[0m\u001b[0m\n",
      "\u001b[0;32m~/anaconda3/envs/k1/lib/python3.7/site-packages/urllib3/packages/six.py\u001b[0m in \u001b[0;36mraise_from\u001b[0;34m(value, from_value)\u001b[0m\n",
      "\u001b[0;32m~/anaconda3/envs/k1/lib/python3.7/site-packages/urllib3/connectionpool.py\u001b[0m in \u001b[0;36m_make_request\u001b[0;34m(self, conn, method, url, timeout, chunked, **httplib_request_kw)\u001b[0m\n\u001b[1;32m    442\u001b[0m                 \u001b[0;31m# Python 3\u001b[0m\u001b[0;34m\u001b[0m\u001b[0;34m\u001b[0m\u001b[0;34m\u001b[0m\u001b[0m\n\u001b[1;32m    443\u001b[0m                 \u001b[0;32mtry\u001b[0m\u001b[0;34m:\u001b[0m\u001b[0;34m\u001b[0m\u001b[0;34m\u001b[0m\u001b[0m\n\u001b[0;32m--> 444\u001b[0;31m                     \u001b[0mhttplib_response\u001b[0m \u001b[0;34m=\u001b[0m \u001b[0mconn\u001b[0m\u001b[0;34m.\u001b[0m\u001b[0mgetresponse\u001b[0m\u001b[0;34m(\u001b[0m\u001b[0;34m)\u001b[0m\u001b[0;34m\u001b[0m\u001b[0;34m\u001b[0m\u001b[0m\n\u001b[0m\u001b[1;32m    445\u001b[0m                 \u001b[0;32mexcept\u001b[0m \u001b[0mBaseException\u001b[0m \u001b[0;32mas\u001b[0m \u001b[0me\u001b[0m\u001b[0;34m:\u001b[0m\u001b[0;34m\u001b[0m\u001b[0;34m\u001b[0m\u001b[0m\n\u001b[1;32m    446\u001b[0m                     \u001b[0;31m# Remove the TypeError from the exception chain in\u001b[0m\u001b[0;34m\u001b[0m\u001b[0;34m\u001b[0m\u001b[0;34m\u001b[0m\u001b[0m\n",
      "\u001b[0;32m~/anaconda3/envs/k1/lib/python3.7/http/client.py\u001b[0m in \u001b[0;36mgetresponse\u001b[0;34m(self)\u001b[0m\n\u001b[1;32m   1371\u001b[0m         \u001b[0;32mtry\u001b[0m\u001b[0;34m:\u001b[0m\u001b[0;34m\u001b[0m\u001b[0;34m\u001b[0m\u001b[0m\n\u001b[1;32m   1372\u001b[0m             \u001b[0;32mtry\u001b[0m\u001b[0;34m:\u001b[0m\u001b[0;34m\u001b[0m\u001b[0;34m\u001b[0m\u001b[0m\n\u001b[0;32m-> 1373\u001b[0;31m                 \u001b[0mresponse\u001b[0m\u001b[0;34m.\u001b[0m\u001b[0mbegin\u001b[0m\u001b[0;34m(\u001b[0m\u001b[0;34m)\u001b[0m\u001b[0;34m\u001b[0m\u001b[0;34m\u001b[0m\u001b[0m\n\u001b[0m\u001b[1;32m   1374\u001b[0m             \u001b[0;32mexcept\u001b[0m \u001b[0mConnectionError\u001b[0m\u001b[0;34m:\u001b[0m\u001b[0;34m\u001b[0m\u001b[0;34m\u001b[0m\u001b[0m\n\u001b[1;32m   1375\u001b[0m                 \u001b[0mself\u001b[0m\u001b[0;34m.\u001b[0m\u001b[0mclose\u001b[0m\u001b[0;34m(\u001b[0m\u001b[0;34m)\u001b[0m\u001b[0;34m\u001b[0m\u001b[0;34m\u001b[0m\u001b[0m\n",
      "\u001b[0;32m~/anaconda3/envs/k1/lib/python3.7/http/client.py\u001b[0m in \u001b[0;36mbegin\u001b[0;34m(self)\u001b[0m\n\u001b[1;32m    317\u001b[0m         \u001b[0;31m# read until we get a non-100 response\u001b[0m\u001b[0;34m\u001b[0m\u001b[0;34m\u001b[0m\u001b[0;34m\u001b[0m\u001b[0m\n\u001b[1;32m    318\u001b[0m         \u001b[0;32mwhile\u001b[0m \u001b[0;32mTrue\u001b[0m\u001b[0;34m:\u001b[0m\u001b[0;34m\u001b[0m\u001b[0;34m\u001b[0m\u001b[0m\n\u001b[0;32m--> 319\u001b[0;31m             \u001b[0mversion\u001b[0m\u001b[0;34m,\u001b[0m \u001b[0mstatus\u001b[0m\u001b[0;34m,\u001b[0m \u001b[0mreason\u001b[0m \u001b[0;34m=\u001b[0m \u001b[0mself\u001b[0m\u001b[0;34m.\u001b[0m\u001b[0m_read_status\u001b[0m\u001b[0;34m(\u001b[0m\u001b[0;34m)\u001b[0m\u001b[0;34m\u001b[0m\u001b[0;34m\u001b[0m\u001b[0m\n\u001b[0m\u001b[1;32m    320\u001b[0m             \u001b[0;32mif\u001b[0m \u001b[0mstatus\u001b[0m \u001b[0;34m!=\u001b[0m \u001b[0mCONTINUE\u001b[0m\u001b[0;34m:\u001b[0m\u001b[0;34m\u001b[0m\u001b[0;34m\u001b[0m\u001b[0m\n\u001b[1;32m    321\u001b[0m                 \u001b[0;32mbreak\u001b[0m\u001b[0;34m\u001b[0m\u001b[0;34m\u001b[0m\u001b[0m\n",
      "\u001b[0;32m~/anaconda3/envs/k1/lib/python3.7/http/client.py\u001b[0m in \u001b[0;36m_read_status\u001b[0;34m(self)\u001b[0m\n\u001b[1;32m    278\u001b[0m \u001b[0;34m\u001b[0m\u001b[0m\n\u001b[1;32m    279\u001b[0m     \u001b[0;32mdef\u001b[0m \u001b[0m_read_status\u001b[0m\u001b[0;34m(\u001b[0m\u001b[0mself\u001b[0m\u001b[0;34m)\u001b[0m\u001b[0;34m:\u001b[0m\u001b[0;34m\u001b[0m\u001b[0;34m\u001b[0m\u001b[0m\n\u001b[0;32m--> 280\u001b[0;31m         \u001b[0mline\u001b[0m \u001b[0;34m=\u001b[0m \u001b[0mstr\u001b[0m\u001b[0;34m(\u001b[0m\u001b[0mself\u001b[0m\u001b[0;34m.\u001b[0m\u001b[0mfp\u001b[0m\u001b[0;34m.\u001b[0m\u001b[0mreadline\u001b[0m\u001b[0;34m(\u001b[0m\u001b[0m_MAXLINE\u001b[0m \u001b[0;34m+\u001b[0m \u001b[0;36m1\u001b[0m\u001b[0;34m)\u001b[0m\u001b[0;34m,\u001b[0m \u001b[0;34m\"iso-8859-1\"\u001b[0m\u001b[0;34m)\u001b[0m\u001b[0;34m\u001b[0m\u001b[0;34m\u001b[0m\u001b[0m\n\u001b[0m\u001b[1;32m    281\u001b[0m         \u001b[0;32mif\u001b[0m \u001b[0mlen\u001b[0m\u001b[0;34m(\u001b[0m\u001b[0mline\u001b[0m\u001b[0;34m)\u001b[0m \u001b[0;34m>\u001b[0m \u001b[0m_MAXLINE\u001b[0m\u001b[0;34m:\u001b[0m\u001b[0;34m\u001b[0m\u001b[0;34m\u001b[0m\u001b[0m\n\u001b[1;32m    282\u001b[0m             \u001b[0;32mraise\u001b[0m \u001b[0mLineTooLong\u001b[0m\u001b[0;34m(\u001b[0m\u001b[0;34m\"status line\"\u001b[0m\u001b[0;34m)\u001b[0m\u001b[0;34m\u001b[0m\u001b[0;34m\u001b[0m\u001b[0m\n",
      "\u001b[0;32m~/anaconda3/envs/k1/lib/python3.7/socket.py\u001b[0m in \u001b[0;36mreadinto\u001b[0;34m(self, b)\u001b[0m\n\u001b[1;32m    587\u001b[0m         \u001b[0;32mwhile\u001b[0m \u001b[0;32mTrue\u001b[0m\u001b[0;34m:\u001b[0m\u001b[0;34m\u001b[0m\u001b[0;34m\u001b[0m\u001b[0m\n\u001b[1;32m    588\u001b[0m             \u001b[0;32mtry\u001b[0m\u001b[0;34m:\u001b[0m\u001b[0;34m\u001b[0m\u001b[0;34m\u001b[0m\u001b[0m\n\u001b[0;32m--> 589\u001b[0;31m                 \u001b[0;32mreturn\u001b[0m \u001b[0mself\u001b[0m\u001b[0;34m.\u001b[0m\u001b[0m_sock\u001b[0m\u001b[0;34m.\u001b[0m\u001b[0mrecv_into\u001b[0m\u001b[0;34m(\u001b[0m\u001b[0mb\u001b[0m\u001b[0;34m)\u001b[0m\u001b[0;34m\u001b[0m\u001b[0;34m\u001b[0m\u001b[0m\n\u001b[0m\u001b[1;32m    590\u001b[0m             \u001b[0;32mexcept\u001b[0m \u001b[0mtimeout\u001b[0m\u001b[0;34m:\u001b[0m\u001b[0;34m\u001b[0m\u001b[0;34m\u001b[0m\u001b[0m\n\u001b[1;32m    591\u001b[0m                 \u001b[0mself\u001b[0m\u001b[0;34m.\u001b[0m\u001b[0m_timeout_occurred\u001b[0m \u001b[0;34m=\u001b[0m \u001b[0;32mTrue\u001b[0m\u001b[0;34m\u001b[0m\u001b[0;34m\u001b[0m\u001b[0m\n",
      "\u001b[0;32m~/anaconda3/envs/k1/lib/python3.7/ssl.py\u001b[0m in \u001b[0;36mrecv_into\u001b[0;34m(self, buffer, nbytes, flags)\u001b[0m\n\u001b[1;32m   1069\u001b[0m                   \u001b[0;34m\"non-zero flags not allowed in calls to recv_into() on %s\"\u001b[0m \u001b[0;34m%\u001b[0m\u001b[0;34m\u001b[0m\u001b[0;34m\u001b[0m\u001b[0m\n\u001b[1;32m   1070\u001b[0m                   self.__class__)\n\u001b[0;32m-> 1071\u001b[0;31m             \u001b[0;32mreturn\u001b[0m \u001b[0mself\u001b[0m\u001b[0;34m.\u001b[0m\u001b[0mread\u001b[0m\u001b[0;34m(\u001b[0m\u001b[0mnbytes\u001b[0m\u001b[0;34m,\u001b[0m \u001b[0mbuffer\u001b[0m\u001b[0;34m)\u001b[0m\u001b[0;34m\u001b[0m\u001b[0;34m\u001b[0m\u001b[0m\n\u001b[0m\u001b[1;32m   1072\u001b[0m         \u001b[0;32melse\u001b[0m\u001b[0;34m:\u001b[0m\u001b[0;34m\u001b[0m\u001b[0;34m\u001b[0m\u001b[0m\n\u001b[1;32m   1073\u001b[0m             \u001b[0;32mreturn\u001b[0m \u001b[0msuper\u001b[0m\u001b[0;34m(\u001b[0m\u001b[0;34m)\u001b[0m\u001b[0;34m.\u001b[0m\u001b[0mrecv_into\u001b[0m\u001b[0;34m(\u001b[0m\u001b[0mbuffer\u001b[0m\u001b[0;34m,\u001b[0m \u001b[0mnbytes\u001b[0m\u001b[0;34m,\u001b[0m \u001b[0mflags\u001b[0m\u001b[0;34m)\u001b[0m\u001b[0;34m\u001b[0m\u001b[0;34m\u001b[0m\u001b[0m\n",
      "\u001b[0;32m~/anaconda3/envs/k1/lib/python3.7/ssl.py\u001b[0m in \u001b[0;36mread\u001b[0;34m(self, len, buffer)\u001b[0m\n\u001b[1;32m    927\u001b[0m         \u001b[0;32mtry\u001b[0m\u001b[0;34m:\u001b[0m\u001b[0;34m\u001b[0m\u001b[0;34m\u001b[0m\u001b[0m\n\u001b[1;32m    928\u001b[0m             \u001b[0;32mif\u001b[0m \u001b[0mbuffer\u001b[0m \u001b[0;32mis\u001b[0m \u001b[0;32mnot\u001b[0m \u001b[0;32mNone\u001b[0m\u001b[0;34m:\u001b[0m\u001b[0;34m\u001b[0m\u001b[0;34m\u001b[0m\u001b[0m\n\u001b[0;32m--> 929\u001b[0;31m                 \u001b[0;32mreturn\u001b[0m \u001b[0mself\u001b[0m\u001b[0;34m.\u001b[0m\u001b[0m_sslobj\u001b[0m\u001b[0;34m.\u001b[0m\u001b[0mread\u001b[0m\u001b[0;34m(\u001b[0m\u001b[0mlen\u001b[0m\u001b[0;34m,\u001b[0m \u001b[0mbuffer\u001b[0m\u001b[0;34m)\u001b[0m\u001b[0;34m\u001b[0m\u001b[0;34m\u001b[0m\u001b[0m\n\u001b[0m\u001b[1;32m    930\u001b[0m             \u001b[0;32melse\u001b[0m\u001b[0;34m:\u001b[0m\u001b[0;34m\u001b[0m\u001b[0;34m\u001b[0m\u001b[0m\n\u001b[1;32m    931\u001b[0m                 \u001b[0;32mreturn\u001b[0m \u001b[0mself\u001b[0m\u001b[0;34m.\u001b[0m\u001b[0m_sslobj\u001b[0m\u001b[0;34m.\u001b[0m\u001b[0mread\u001b[0m\u001b[0;34m(\u001b[0m\u001b[0mlen\u001b[0m\u001b[0;34m)\u001b[0m\u001b[0;34m\u001b[0m\u001b[0;34m\u001b[0m\u001b[0m\n",
      "\u001b[0;31mKeyboardInterrupt\u001b[0m: "
     ]
    }
   ],
   "source": [
    "pdflinks=[]\n",
    "for i in links:\n",
    "    url = i\n",
    "\n",
    "    response = requests.get(url)\n",
    "    soup= BeautifulSoup(response.text, \"html.parser\")     \n",
    "    for link in soup.select(\"#main-content > div > div > div > div > div.share_button_container > a\"):\n",
    "        pdflinks.append(f\"https://extension.okstate.edu/{link['href']}\")\n",
    "        print(pdflinks[links.index(i)])\n",
    "\n"
   ]
  },
  {
   "cell_type": "code",
   "execution_count": 16,
   "id": "c13ca2e9",
   "metadata": {},
   "outputs": [
    {
     "name": "stdout",
     "output_type": "stream",
     "text": [
      "https://extension.okstate.edu//fact-sheets/print-publications/fapc-food-and-agricultural-products-center/custom-beef-processing-expected-yields-fapc-245.pdf\n"
     ]
    },
    {
     "name": "stderr",
     "output_type": "stream",
     "text": [
      "Xref table not zero-indexed. ID numbers for objects will be corrected.\n"
     ]
    },
    {
     "name": "stdout",
     "output_type": "stream",
     "text": [
      "https://extension.okstate.edu//fact-sheets/print-publications/t/an-introduction-to-the-mental-health-challenges-for-rural-americans-t-2150.pdf\n"
     ]
    },
    {
     "name": "stderr",
     "output_type": "stream",
     "text": [
      "Xref table not zero-indexed. ID numbers for objects will be corrected.\n",
      "Xref table not zero-indexed. ID numbers for objects will be corrected.\n"
     ]
    },
    {
     "name": "stdout",
     "output_type": "stream",
     "text": [
      "https://extension.okstate.edu//fact-sheets/print-publications/fapc-food-and-agricultural-products-center/food-business-license-and-permit-costs-in-oklahoma-the-good-the-bad-and-the-mundane-fapc-185.pdf\n",
      "https://extension.okstate.edu//fact-sheets/print-publications/e/propagation-of-ornamental-plants-for-oklahoma-e-917.pdf\n"
     ]
    },
    {
     "name": "stderr",
     "output_type": "stream",
     "text": [
      "Xref table not zero-indexed. ID numbers for objects will be corrected.\n",
      "Xref table not zero-indexed. ID numbers for objects will be corrected.\n"
     ]
    },
    {
     "name": "stdout",
     "output_type": "stream",
     "text": [
      "https://extension.okstate.edu//fact-sheets/print-publications/cr/cow-calf-production-record-software-cr-3279.pdf\n",
      "https://extension.okstate.edu//fact-sheets/print-publications/doc/cr-2143-2021-2022-small-grains-variety-performance-tests.pdf\n"
     ]
    },
    {
     "name": "stderr",
     "output_type": "stream",
     "text": [
      "Xref table not zero-indexed. ID numbers for objects will be corrected.\n"
     ]
    },
    {
     "name": "stdout",
     "output_type": "stream",
     "text": [
      "https://extension.okstate.edu//fact-sheets/shade-tree-borers-pdf-only.pdf\n"
     ]
    },
    {
     "name": "stderr",
     "output_type": "stream",
     "text": [
      "Xref table not zero-indexed. ID numbers for objects will be corrected.\n"
     ]
    },
    {
     "name": "stdout",
     "output_type": "stream",
     "text": [
      "https://extension.okstate.edu//fact-sheets/print-publications/agec/machinery-ownership-versus-custom-harvest.pdf\n",
      "https://extension.okstate.edu//fact-sheets/print-publications/fapc-oklahoma-cooperative-extension-service/mobile-slaughter-units-regulatory-overview-for-oklahoma-non-poultry.pdf\n"
     ]
    },
    {
     "name": "stderr",
     "output_type": "stream",
     "text": [
      "Xref table not zero-indexed. ID numbers for objects will be corrected.\n"
     ]
    },
    {
     "name": "stdout",
     "output_type": "stream",
     "text": [
      "https://extension.okstate.edu//fact-sheets/print-publications/nrem/copper-sulfate-applications-for-filamentous-algae-nrem-2908.pdf\n"
     ]
    },
    {
     "name": "stderr",
     "output_type": "stream",
     "text": [
      "Xref table not zero-indexed. ID numbers for objects will be corrected.\n"
     ]
    },
    {
     "name": "stdout",
     "output_type": "stream",
     "text": [
      "https://extension.okstate.edu//fact-sheets/print-publications/agec/sales-tax-rules-for-farmers-markets-and-on-farm-sales-the-exemption-ends-at-the-farm-gate.pdf\n"
     ]
    },
    {
     "name": "stderr",
     "output_type": "stream",
     "text": [
      "Xref table not zero-indexed. ID numbers for objects will be corrected.\n"
     ]
    },
    {
     "name": "stdout",
     "output_type": "stream",
     "text": [
      "https://extension.okstate.edu//fact-sheets/print-publications/afs/oklahoma-quality-beef-network-vac-45-program-requirements-afs-3305.pdf\n",
      "https://extension.okstate.edu//fact-sheets/print-publications/hla/perennial-flowers-for-specific-use-in-oklahoma.pdf\n"
     ]
    },
    {
     "name": "stderr",
     "output_type": "stream",
     "text": [
      "Xref table not zero-indexed. ID numbers for objects will be corrected.\n"
     ]
    },
    {
     "name": "stdout",
     "output_type": "stream",
     "text": [
      "https://extension.okstate.edu//fact-sheets/print-publications/nrem/economic-contribution-of-forest-sector-in-oklahoma-in-2020-nrem-5057.pdf\n"
     ]
    },
    {
     "name": "stderr",
     "output_type": "stream",
     "text": [
      "Xref table not zero-indexed. ID numbers for objects will be corrected.\n"
     ]
    },
    {
     "name": "stdout",
     "output_type": "stream",
     "text": [
      "https://extension.okstate.edu//fact-sheets/print-publications/afs/feed-additives-for-beef-cattle-production-afs-3038.pdf\n"
     ]
    },
    {
     "name": "stderr",
     "output_type": "stream",
     "text": [
      "Xref table not zero-indexed. ID numbers for objects will be corrected.\n",
      "Xref table not zero-indexed. ID numbers for objects will be corrected.\n"
     ]
    },
    {
     "name": "stdout",
     "output_type": "stream",
     "text": [
      "https://extension.okstate.edu//fact-sheets/print-publications/fapc-food-and-agricultural-products-center/regulatory-landscape-for-the-direct-marketing-of-meat-and-poultry-in-oklahoma-fapc-232.pdf\n",
      "https://extension.okstate.edu//fact-sheets/print-publications/epp-entomology-and-plant-pathologhy/beneficial-insects-epp-7307.pdf\n"
     ]
    },
    {
     "name": "stderr",
     "output_type": "stream",
     "text": [
      "Xref table not zero-indexed. ID numbers for objects will be corrected.\n",
      "Xref table not zero-indexed. ID numbers for objects will be corrected.\n"
     ]
    },
    {
     "name": "stdout",
     "output_type": "stream",
     "text": [
      "https://extension.okstate.edu//fact-sheets/print-publications/afs/implants-and-their-use-in-beef-cattle-production-afs-3290.pdf\n"
     ]
    },
    {
     "name": "stderr",
     "output_type": "stream",
     "text": [
      "Xref table not zero-indexed. ID numbers for objects will be corrected.\n"
     ]
    },
    {
     "name": "stdout",
     "output_type": "stream",
     "text": [
      "https://extension.okstate.edu//fact-sheets/print-publications/t/parenting-trans-and-nonbinary-youth-t-2252.pdf\n"
     ]
    },
    {
     "name": "stderr",
     "output_type": "stream",
     "text": [
      "Xref table not zero-indexed. ID numbers for objects will be corrected.\n"
     ]
    },
    {
     "name": "stdout",
     "output_type": "stream",
     "text": [
      "https://extension.okstate.edu//fact-sheets/print-publications/fapc-food-and-agricultural-products-center/3-d-printed-parts-for-food-contact-fapc-244.pdf\n",
      "https://extension.okstate.edu//fact-sheets/print-publications/hla/ornamental-grasses-and-grass-like-plants-for-oklahoma-hla-6470.pdf\n"
     ]
    },
    {
     "name": "stderr",
     "output_type": "stream",
     "text": [
      "Xref table not zero-indexed. ID numbers for objects will be corrected.\n"
     ]
    },
    {
     "name": "stdout",
     "output_type": "stream",
     "text": [
      "https://extension.okstate.edu//fact-sheets/print-publications/e/converting-introduced-grasses-to-native-rangelands-e-1056.pdf\n"
     ]
    },
    {
     "name": "stderr",
     "output_type": "stream",
     "text": [
      "Xref table not zero-indexed. ID numbers for objects will be corrected.\n"
     ]
    },
    {
     "name": "stdout",
     "output_type": "stream",
     "text": [
      "https://extension.okstate.edu//fact-sheets/print-publications/pss/the-management-of-double-crop-corn-system-pss-2122.pdf\n",
      "https://extension.okstate.edu//fact-sheets/print-publications/p/2022-annual-summary-p-1064.pdf\n"
     ]
    },
    {
     "name": "stderr",
     "output_type": "stream",
     "text": [
      "Xref table not zero-indexed. ID numbers for objects will be corrected.\n",
      "Xref table not zero-indexed. ID numbers for objects will be corrected.\n"
     ]
    },
    {
     "name": "stdout",
     "output_type": "stream",
     "text": [
      "https://extension.okstate.edu//fact-sheets/print-publications/t/complex-carbohydrates-for-energy-and-fiber-t-2400.pdf\n"
     ]
    },
    {
     "name": "stderr",
     "output_type": "stream",
     "text": [
      "Xref table not zero-indexed. ID numbers for objects will be corrected.\n"
     ]
    },
    {
     "name": "stdout",
     "output_type": "stream",
     "text": [
      "https://extension.okstate.edu//fact-sheets/print-publications/t/food-safety-during-pregnancy-t-2404.pdf\n"
     ]
    },
    {
     "name": "stderr",
     "output_type": "stream",
     "text": [
      "Xref table not zero-indexed. ID numbers for objects will be corrected.\n"
     ]
    },
    {
     "name": "stdout",
     "output_type": "stream",
     "text": [
      "https://extension.okstate.edu//fact-sheets/print-publications/cr/fall-forage-production-and-first-hollow-stem-date-for-wheat-varieties-during-the-2021-2022-crop-year-cr-2141.pdf\n",
      "https://extension.okstate.edu//fact-sheets/print-publications/agec/hair-sheep-record-keeping-software/hair-sheep-record-keeping-software.pdf\n"
     ]
    },
    {
     "name": "stderr",
     "output_type": "stream",
     "text": [
      "Xref table not zero-indexed. ID numbers for objects will be corrected.\n"
     ]
    },
    {
     "name": "stdout",
     "output_type": "stream",
     "text": [
      "https://extension.okstate.edu//fact-sheets/print-publications/t/enjoy-colorful-fruits-and-vegetables-for-vital-vitamins-t-2403.pdf\n",
      "https://extension.okstate.edu//fact-sheets/print-publications/agec/wool-sheep-record-keeping-software/wool-sheep-record-keeping-software.pdf\n"
     ]
    },
    {
     "name": "stderr",
     "output_type": "stream",
     "text": [
      "Xref table not zero-indexed. ID numbers for objects will be corrected.\n"
     ]
    },
    {
     "name": "stdout",
     "output_type": "stream",
     "text": [
      "https://extension.okstate.edu//fact-sheets/print-publications/t/iron-is-important-during-pregnancy-t-2406.pdf\n"
     ]
    },
    {
     "name": "stderr",
     "output_type": "stream",
     "text": [
      "Xref table not zero-indexed. ID numbers for objects will be corrected.\n"
     ]
    },
    {
     "name": "stdout",
     "output_type": "stream",
     "text": [
      "https://extension.okstate.edu//fact-sheets/print-publications/t/calcium-and-vitamin-d-the-bone-builders-t-2397.pdf\n",
      "https://extension.okstate.edu//fact-sheets/print-publications/epp-entomology-and-plant-pathologhy/grasshoppers-of-the-cherokee-nation-in-northeast-oklahoma-epp-7342.pdf\n",
      "https://extension.okstate.edu//fact-sheets/print-publications/fapc-food-and-agricultural-products-center/new-food-labeling-standards-bioengineered-food-fapc-241.pdf\n"
     ]
    },
    {
     "name": "stderr",
     "output_type": "stream",
     "text": [
      "Xref table not zero-indexed. ID numbers for objects will be corrected.\n"
     ]
    },
    {
     "name": "stdout",
     "output_type": "stream",
     "text": [
      "https://extension.okstate.edu//fact-sheets/print-publications/t/alcohol-during-pregnancy-t-2395.pdf\n",
      "https://extension.okstate.edu//fact-sheets/print-publications/hla/introduction-to-vegetable-grafting-hla-6039.pdf\n"
     ]
    },
    {
     "name": "stderr",
     "output_type": "stream",
     "text": [
      "Xref table not zero-indexed. ID numbers for objects will be corrected.\n"
     ]
    },
    {
     "name": "stdout",
     "output_type": "stream",
     "text": [
      "https://extension.okstate.edu//fact-sheets/print-publications/t/pregnancy-weight-gain-for-underweight-moms-t-2407.pdf\n"
     ]
    },
    {
     "name": "stderr",
     "output_type": "stream",
     "text": [
      "Xref table not zero-indexed. ID numbers for objects will be corrected.\n"
     ]
    },
    {
     "name": "stdout",
     "output_type": "stream",
     "text": [
      "https://extension.okstate.edu//fact-sheets/print-publications/t/common-concerns-during-pregnancy-heartburn-and-indigestion-t-2398.pdf\n",
      "https://extension.okstate.edu//fact-sheets/print-publications/e/e-1052-oklahoma-proven-plant-selections-1999-2022.pdf\n"
     ]
    },
    {
     "name": "stderr",
     "output_type": "stream",
     "text": [
      "Xref table not zero-indexed. ID numbers for objects will be corrected.\n"
     ]
    },
    {
     "name": "stdout",
     "output_type": "stream",
     "text": [
      "https://extension.okstate.edu//fact-sheets/print-publications/p/2020-annual-summary-p-1062.pdf\n"
     ]
    },
    {
     "name": "stderr",
     "output_type": "stream",
     "text": [
      "Xref table not zero-indexed. ID numbers for objects will be corrected.\n",
      "Xref table not zero-indexed. ID numbers for objects will be corrected.\n"
     ]
    },
    {
     "name": "stdout",
     "output_type": "stream",
     "text": [
      "https://extension.okstate.edu//fact-sheets/print-publications/t/deciding-what-to-eat-when-you-are-pregnant-t-2401.pdf\n",
      "https://extension.okstate.edu//fact-sheets/print-publications/hla/2022-sweet-potato-production-hla-6022.pdf\n"
     ]
    },
    {
     "name": "stderr",
     "output_type": "stream",
     "text": [
      "Xref table not zero-indexed. ID numbers for objects will be corrected.\n",
      "Xref table not zero-indexed. ID numbers for objects will be corrected.\n"
     ]
    },
    {
     "name": "stdout",
     "output_type": "stream",
     "text": [
      "https://extension.okstate.edu//fact-sheets/print-publications/t/healthy-weight-gain-in-pregnancy-t-2405.pdf\n",
      "https://extension.okstate.edu//fact-sheets/print-publications/fapc-food-and-agricultural-products-center/homemade-food-freedom-act-fapc-242.pdf\n"
     ]
    },
    {
     "name": "stderr",
     "output_type": "stream",
     "text": [
      "Xref table not zero-indexed. ID numbers for objects will be corrected.\n"
     ]
    },
    {
     "name": "stdout",
     "output_type": "stream",
     "text": [
      "https://extension.okstate.edu//fact-sheets/print-publications/t/drugs-and-smoking-during-pregnancy-t-2402.pdf\n",
      "https://extension.okstate.edu//fact-sheets/print-publications/afs/afs-8301-small-flock-biosecurity-for-prevention-of-avian-influenza.pdf\n"
     ]
    },
    {
     "name": "stderr",
     "output_type": "stream",
     "text": [
      "Xref table not zero-indexed. ID numbers for objects will be corrected.\n",
      "Xref table not zero-indexed. ID numbers for objects will be corrected.\n"
     ]
    },
    {
     "name": "stdout",
     "output_type": "stream",
     "text": [
      "https://extension.okstate.edu//fact-sheets/print-publications/t/common-concerns-during-pregnancy-morning-sickness-t-2399.pdf\n",
      "https://extension.okstate.edu//fact-sheets/print-publications/t/t2396-being-active-during-pregnancy.pdf\n"
     ]
    },
    {
     "name": "stderr",
     "output_type": "stream",
     "text": [
      "Xref table not zero-indexed. ID numbers for objects will be corrected.\n"
     ]
    },
    {
     "name": "stdout",
     "output_type": "stream",
     "text": [
      "https://extension.okstate.edu//fact-sheets/print-publications/hla/southern-pea-production-hla-6029.pdf\n",
      "https://extension.okstate.edu//fact-sheets/print-publications/cr/cr-205-farm-and-ranch-custom-rates-2021-2022.pdf\n",
      "https://extension.okstate.edu//fact-sheets/print-publications/agec/farm-and-ranch-financial-trends-worksheet-fillable.pdf\n"
     ]
    },
    {
     "name": "stderr",
     "output_type": "stream",
     "text": [
      "Xref table not zero-indexed. ID numbers for objects will be corrected.\n"
     ]
    },
    {
     "name": "stdout",
     "output_type": "stream",
     "text": [
      "https://extension.okstate.edu//fact-sheets/print-publications/t/promoting-healthy-sleeping-habits-in-children-and-adolescents-t-2394.pdf\n",
      "https://extension.okstate.edu//fact-sheets/print-publications/mp/2021_vegetable_trial_report.pdf\n",
      "https://extension.okstate.edu//fact-sheets/print-publications/pss/true-cheat-control-in-oklahoma-winter-wheat-pss-2774.pdf\n"
     ]
    },
    {
     "name": "stderr",
     "output_type": "stream",
     "text": [
      "Xref table not zero-indexed. ID numbers for objects will be corrected.\n",
      "Xref table not zero-indexed. ID numbers for objects will be corrected.\n"
     ]
    },
    {
     "name": "stdout",
     "output_type": "stream",
     "text": [
      "https://extension.okstate.edu//fact-sheets/print-publications/agec/evaluating-financial-performance-and-position-agec-790-1.pdf\n"
     ]
    },
    {
     "name": "stderr",
     "output_type": "stream",
     "text": [
      "Xref table not zero-indexed. ID numbers for objects will be corrected.\n"
     ]
    },
    {
     "name": "stdout",
     "output_type": "stream",
     "text": [
      "https://extension.okstate.edu//fact-sheets/print-publications/nrem/fish-kills-nrem-9223.pdf\n"
     ]
    },
    {
     "name": "stderr",
     "output_type": "stream",
     "text": [
      "Xref table not zero-indexed. ID numbers for objects will be corrected.\n"
     ]
    },
    {
     "name": "stdout",
     "output_type": "stream",
     "text": [
      "https://extension.okstate.edu//fact-sheets/print-publications/nrem/aquatic-weeds-problem-solving-steps-nrem-9222.pdf\n"
     ]
    },
    {
     "name": "stderr",
     "output_type": "stream",
     "text": [
      "Xref table not zero-indexed. ID numbers for objects will be corrected.\n"
     ]
    },
    {
     "name": "stdout",
     "output_type": "stream",
     "text": [
      "https://extension.okstate.edu//fact-sheets/print-publications/t/hydration-and-athletes-t-3625.pdf\n"
     ]
    },
    {
     "name": "stderr",
     "output_type": "stream",
     "text": [
      "Xref table not zero-indexed. ID numbers for objects will be corrected.\n"
     ]
    },
    {
     "name": "stdout",
     "output_type": "stream",
     "text": [
      "https://extension.okstate.edu//fact-sheets/print-publications/afs/supplementing-beef-cows-afs-3010.pdf\n",
      "https://extension.okstate.edu/https://extension.okstate.edu/fact-sheets/print-publications/hla/nitrification-and-maintenance-in-media-bed-aquaponics-hla-6729.pdf\n",
      "https://extension.okstate.edu//fact-sheets/print-publications/t/nutrition-and-heart-health-in-the-fire-service-t-3624.pdf\n"
     ]
    },
    {
     "name": "stderr",
     "output_type": "stream",
     "text": [
      "Xref table not zero-indexed. ID numbers for objects will be corrected.\n"
     ]
    },
    {
     "name": "stdout",
     "output_type": "stream",
     "text": [
      "https://extension.okstate.edu//fact-sheets/print-publications/agec/beginning-honey-beekeeping-equipment-and-associated-costs-agec-2002.pdf\n",
      "https://extension.okstate.edu//fact-sheets/print-publications/nrem/the-exotic-invasive-chinese-tallow-nrem-5500.pdf\n"
     ]
    },
    {
     "name": "stderr",
     "output_type": "stream",
     "text": [
      "Xref table not zero-indexed. ID numbers for objects will be corrected.\n"
     ]
    },
    {
     "name": "stdout",
     "output_type": "stream",
     "text": [
      "https://extension.okstate.edu//fact-sheets/print-publications/pss/green-stem-syndrome-in-soybean-pss-3003.pdf\n"
     ]
    },
    {
     "name": "stderr",
     "output_type": "stream",
     "text": [
      "Xref table not zero-indexed. ID numbers for objects will be corrected.\n",
      "Xref table not zero-indexed. ID numbers for objects will be corrected.\n"
     ]
    },
    {
     "name": "stdout",
     "output_type": "stream",
     "text": [
      "https://extension.okstate.edu//fact-sheets/print-publications/agec/mixed-species-grazing-a-potential-opportunity-to-improve-rangelans-productivity-and-increase-profits-agec-271.pdf\n"
     ]
    },
    {
     "name": "stderr",
     "output_type": "stream",
     "text": [
      "Xref table not zero-indexed. ID numbers for objects will be corrected.\n"
     ]
    },
    {
     "name": "stdout",
     "output_type": "stream",
     "text": [
      "https://extension.okstate.edu//fact-sheets/print-publications/cr/protein-concentration-of-winter-wheat-varieties-in-oklahoma-2020-2021-cr-2135.pdf\n"
     ]
    },
    {
     "name": "stderr",
     "output_type": "stream",
     "text": [
      "Xref table not zero-indexed. ID numbers for objects will be corrected.\n"
     ]
    },
    {
     "name": "stdout",
     "output_type": "stream",
     "text": [
      "https://extension.okstate.edu//fact-sheets/print-publications/aecl/overview-of-opportunities-for-beginning-farmers-and-ranchers-agec-2001.pdf\n"
     ]
    },
    {
     "name": "stderr",
     "output_type": "stream",
     "text": [
      "Xref table not zero-indexed. ID numbers for objects will be corrected.\n"
     ]
    },
    {
     "name": "stdout",
     "output_type": "stream",
     "text": [
      "https://extension.okstate.edu//fact-sheets/print-publications/pss/2021-oklahoma-cotton-harvest-aid-guide-pss-2182.pdf\n"
     ]
    },
    {
     "name": "stderr",
     "output_type": "stream",
     "text": [
      "Xref table not zero-indexed. ID numbers for objects will be corrected.\n"
     ]
    },
    {
     "name": "stdout",
     "output_type": "stream",
     "text": [
      "https://extension.okstate.edu//fact-sheets/print-publications/pss/impacts-of-winter-and-summer-crop-selection-on-the-performance-of-double-crop-systems-pss-3001.pdf\n"
     ]
    },
    {
     "name": "stderr",
     "output_type": "stream",
     "text": [
      "Xref table not zero-indexed. ID numbers for objects will be corrected.\n"
     ]
    },
    {
     "name": "stdout",
     "output_type": "stream",
     "text": [
      "https://extension.okstate.edu//fact-sheets/print-publications/agec/liabilities-schedule-agec-792-1.pdf\n",
      "https://extension.okstate.edu//fact-sheets/print-publications/agec/economically-optimal-planting-of-dual-purpose-wheat-agec-270.pdf\n"
     ]
    },
    {
     "name": "stderr",
     "output_type": "stream",
     "text": [
      "Xref table not zero-indexed. ID numbers for objects will be corrected.\n",
      "Xref table not zero-indexed. ID numbers for objects will be corrected.\n"
     ]
    },
    {
     "name": "stdout",
     "output_type": "stream",
     "text": [
      "https://extension.okstate.edu//fact-sheets/print-publications/hla/algae-control-in-greenhouse-production-hla-6727.pdf\n"
     ]
    },
    {
     "name": "stderr",
     "output_type": "stream",
     "text": [
      "Xref table not zero-indexed. ID numbers for objects will be corrected.\n"
     ]
    },
    {
     "name": "stdout",
     "output_type": "stream",
     "text": [
      "https://extension.okstate.edu//fact-sheets/print-publications/cr/should-i-buy-or-retain-stockers-to-graze-wheat-pasture-2021-cr-212.pdf\n",
      "https://extension.okstate.edu//fact-sheets/print-publications/hla/soilless-growing-mediums-hla-6728.pdf\n"
     ]
    },
    {
     "name": "stderr",
     "output_type": "stream",
     "text": [
      "Xref table not zero-indexed. ID numbers for objects will be corrected.\n",
      "Xref table not zero-indexed. ID numbers for objects will be corrected.\n"
     ]
    },
    {
     "name": "stdout",
     "output_type": "stream",
     "text": [
      "https://extension.okstate.edu//fact-sheets/print-publications/fapc-food-and-agricultural-products-center/slaughterhouse-water-use-and-wastewater-characteristics-fapc-240-1.pdf\n"
     ]
    },
    {
     "name": "stderr",
     "output_type": "stream",
     "text": [
      "Xref table not zero-indexed. ID numbers for objects will be corrected.\n"
     ]
    },
    {
     "name": "stdout",
     "output_type": "stream",
     "text": [
      "https://extension.okstate.edu//fact-sheets/print-publications/aecl/organizational-branding-101-aecl-9804.pdf\n",
      "https://extension.okstate.edu//fact-sheets/print-publications/cr/oklahoma-lawn-and-garden-soil-test-summary-2015-2019-cr-6467.pdf\n"
     ]
    },
    {
     "name": "stderr",
     "output_type": "stream",
     "text": [
      "Xref table not zero-indexed. ID numbers for objects will be corrected.\n"
     ]
    },
    {
     "name": "stdout",
     "output_type": "stream",
     "text": [
      "https://extension.okstate.edu/https://extension.okstate.edu/fact-sheets/print-publications/fapc-food-and-agricultural-products-center/us-and-oklahoma-covid-impacts-on-food-shopper-buying-patterns-fapc-237.pdf\n",
      "https://extension.okstate.edu//fact-sheets/print-publications/agec/a-strategy-for-building-a-beef-cow-herd-agec-269.pdf\n"
     ]
    },
    {
     "name": "stderr",
     "output_type": "stream",
     "text": [
      "Xref table not zero-indexed. ID numbers for objects will be corrected.\n",
      "Xref table not zero-indexed. ID numbers for objects will be corrected.\n"
     ]
    },
    {
     "name": "stdout",
     "output_type": "stream",
     "text": [
      "https://extension.okstate.edu//fact-sheets/print-publications/fapc-food-and-agricultural-products-center/sustainable-food-packaging-options-fapc-239.pdf\n"
     ]
    },
    {
     "name": "stderr",
     "output_type": "stream",
     "text": [
      "Xref table not zero-indexed. ID numbers for objects will be corrected.\n"
     ]
    },
    {
     "name": "stdout",
     "output_type": "stream",
     "text": [
      "https://extension.okstate.edu//fact-sheets/print-publications/hla/native-plant-index-unfamiliar-oklahoma-flora-of-horticultural-interest-hla-6469.pdf\n"
     ]
    },
    {
     "name": "stderr",
     "output_type": "stream",
     "text": [
      "Xref table not zero-indexed. ID numbers for objects will be corrected.\n"
     ]
    },
    {
     "name": "stdout",
     "output_type": "stream",
     "text": [
      "https://extension.okstate.edu/https://extension.okstate.edu/fact-sheets/print-publications/nrem/aflatoxins-in-wildlife-feed-know-how-to-protect-wildlife-nrem-9021-1.pdf\n",
      "https://extension.okstate.edu//fact-sheets/print-publications/fapc-food-and-agricultural-products-center/sesame-seed-oil-properties-fapc-238.pdf\n"
     ]
    },
    {
     "name": "stderr",
     "output_type": "stream",
     "text": [
      "Xref table not zero-indexed. ID numbers for objects will be corrected.\n"
     ]
    },
    {
     "name": "stdout",
     "output_type": "stream",
     "text": [
      "https://extension.okstate.edu//fact-sheets/print-publications/agec/owner-equity-section-agec-938-1.pdf\n",
      "https://extension.okstate.edu//fact-sheets/print-publications/e/a-resource-guide-for-beginning-farmers-in-oklahoma-e-982.pdf\n",
      "https://extension.okstate.edu//fact-sheets/print-publications/cr/2020-2021-small-grains-variety-performance-tests-cr-2143.pdf\n"
     ]
    },
    {
     "name": "stderr",
     "output_type": "stream",
     "text": [
      "Xref table not zero-indexed. ID numbers for objects will be corrected.\n"
     ]
    },
    {
     "name": "stdout",
     "output_type": "stream",
     "text": [
      "https://extension.okstate.edu//fact-sheets/print-publications/epp-entomology-and-plant-pathologhy/key-to-female-bumble-bees-in-oklahoma-epp-7340.pdf\n"
     ]
    },
    {
     "name": "stderr",
     "output_type": "stream",
     "text": [
      "Xref table not zero-indexed. ID numbers for objects will be corrected.\n"
     ]
    },
    {
     "name": "stdout",
     "output_type": "stream",
     "text": [
      "https://extension.okstate.edu/https://extension.okstate.edu/fact-sheets/print-publications/nrem/oklahoma-sheep-and-goat-auction-directory-nrem-5700.pdf\n",
      "https://extension.okstate.edu//fact-sheets/print-publications/hla/understanding-your-lawn-and-garden-soil-test-hla-6468.pdf\n"
     ]
    },
    {
     "name": "stderr",
     "output_type": "stream",
     "text": [
      "Xref table not zero-indexed. ID numbers for objects will be corrected.\n",
      "Xref table not zero-indexed. ID numbers for objects will be corrected.\n"
     ]
    },
    {
     "name": "stdout",
     "output_type": "stream",
     "text": [
      "https://extension.okstate.edu//fact-sheets/print-publications/aecl/oklahoma-craft-brewery-involvement-in-communities-aecl-9802.pdf\n"
     ]
    },
    {
     "name": "stderr",
     "output_type": "stream",
     "text": [
      "Xref table not zero-indexed. ID numbers for objects will be corrected.\n"
     ]
    },
    {
     "name": "stdout",
     "output_type": "stream",
     "text": [
      "https://extension.okstate.edu//fact-sheets/print-publications/pss/utilizing-heat-units-in-oklahoma-cotton-production-pss-3002.pdf\n",
      "https://extension.okstate.edu//fact-sheets/print-publications/bae/soil-moisture-sensing-systems-for-improving-irrigation-scheduling-bae-1543.pdf\n"
     ]
    },
    {
     "name": "stderr",
     "output_type": "stream",
     "text": [
      "Xref table not zero-indexed. ID numbers for objects will be corrected.\n"
     ]
    },
    {
     "name": "stdout",
     "output_type": "stream",
     "text": [
      "https://extension.okstate.edu//fact-sheets/print-publications/epp-entomology-and-plant-pathologhy/grasshoppers-of-the-choctaw-nation-in-southeast-oklahoma-epp-7341.pdf\n"
     ]
    },
    {
     "name": "stderr",
     "output_type": "stream",
     "text": [
      "Xref table not zero-indexed. ID numbers for objects will be corrected.\n"
     ]
    },
    {
     "name": "stdout",
     "output_type": "stream",
     "text": [
      "https://extension.okstate.edu//fact-sheets/print-publications/agec/mask-mandate-and-retail-consumer-spending-a-comparison-of-oklahoma-communitites-during-covid-19-agec-1998.pdf\n"
     ]
    },
    {
     "name": "stderr",
     "output_type": "stream",
     "text": [
      "Xref table not zero-indexed. ID numbers for objects will be corrected.\n",
      "Xref table not zero-indexed. ID numbers for objects will be corrected.\n"
     ]
    },
    {
     "name": "stdout",
     "output_type": "stream",
     "text": [
      "https://extension.okstate.edu//fact-sheets/print-publications/agec/schedule-of-assets-agec-791.pdf\n"
     ]
    },
    {
     "name": "stderr",
     "output_type": "stream",
     "text": [
      "Xref table not zero-indexed. ID numbers for objects will be corrected.\n"
     ]
    },
    {
     "name": "stdout",
     "output_type": "stream",
     "text": [
      "https://extension.okstate.edu//fact-sheets/print-publications/aecl/agritourism-operators-marketing-preferences-aecl-9803.pdf\n",
      "https://extension.okstate.edu//fact-sheets/print-publications/nrem/what-you-need-to-know-about-the-endangered-species-act-nrem-9018.pdf\n"
     ]
    },
    {
     "name": "stderr",
     "output_type": "stream",
     "text": [
      "Xref table not zero-indexed. ID numbers for objects will be corrected.\n"
     ]
    },
    {
     "name": "stdout",
     "output_type": "stream",
     "text": [
      "https://extension.okstate.edu//fact-sheets/print-publications/pss/smallseed-falseflax-management-in-winter-wheat-pss-2796.pdf\n"
     ]
    },
    {
     "name": "stderr",
     "output_type": "stream",
     "text": [
      "Xref table not zero-indexed. ID numbers for objects will be corrected.\n"
     ]
    },
    {
     "name": "stdout",
     "output_type": "stream",
     "text": [
      "https://extension.okstate.edu//fact-sheets/print-publications/agec/evaluation-of-rainfall-index-pasture-rangeland-and-forage-crop-insurance-program-and-guidelines-for-producers-agec-1999.pdf\n"
     ]
    },
    {
     "name": "stderr",
     "output_type": "stream",
     "text": [
      "Xref table not zero-indexed. ID numbers for objects will be corrected.\n"
     ]
    },
    {
     "name": "stdout",
     "output_type": "stream",
     "text": [
      "https://extension.okstate.edu//fact-sheets/print-publications/hla/landscaping-to-attract-butterflies-and-moths-hla-6430.pdf\n"
     ]
    },
    {
     "name": "stderr",
     "output_type": "stream",
     "text": [
      "Xref table not zero-indexed. ID numbers for objects will be corrected.\n"
     ]
    },
    {
     "name": "stdout",
     "output_type": "stream",
     "text": [
      "https://extension.okstate.edu//fact-sheets/print-publications/epp-entomology-and-plant-pathologhy/sampling-for-pinewood-nematodes-epp7675.pdf\n"
     ]
    },
    {
     "name": "stderr",
     "output_type": "stream",
     "text": [
      "Xref table not zero-indexed. ID numbers for objects will be corrected.\n",
      "Xref table not zero-indexed. ID numbers for objects will be corrected.\n"
     ]
    },
    {
     "name": "stdout",
     "output_type": "stream",
     "text": [
      "https://extension.okstate.edu//fact-sheets/print-publications/cr/management-of-insect-pests-in-small-grains-cr7194.pdf\n"
     ]
    },
    {
     "name": "stderr",
     "output_type": "stream",
     "text": [
      "Xref table not zero-indexed. ID numbers for objects will be corrected.\n"
     ]
    },
    {
     "name": "stdout",
     "output_type": "stream",
     "text": [
      "https://extension.okstate.edu//fact-sheets/print-publications/hla/landscape-maintenance-schedule-hla-6408.pdf\n"
     ]
    },
    {
     "name": "stderr",
     "output_type": "stream",
     "text": [
      "Xref table not zero-indexed. ID numbers for objects will be corrected.\n"
     ]
    },
    {
     "name": "stdout",
     "output_type": "stream",
     "text": [
      "https://extension.okstate.edu//fact-sheets/print-publications/afs/finishing-beef-cattle-on-the-farm-afs-3303.pdf\n",
      "https://extension.okstate.edu//fact-sheets/print-publications/e/oklahoma-prescribed-burning-handbook-e-1010-updated.pdf\n"
     ]
    },
    {
     "name": "stderr",
     "output_type": "stream",
     "text": [
      "Xref table not zero-indexed. ID numbers for objects will be corrected.\n"
     ]
    },
    {
     "name": "stdout",
     "output_type": "stream",
     "text": [
      "https://extension.okstate.edu//fact-sheets/print-publications/cr/corn-performance-trials-in-oklahoma-panhandle-2021.pdf\n"
     ]
    },
    {
     "name": "stderr",
     "output_type": "stream",
     "text": [
      "Xref table not zero-indexed. ID numbers for objects will be corrected.\n"
     ]
    },
    {
     "name": "stdout",
     "output_type": "stream",
     "text": [
      "https://extension.okstate.edu//fact-sheets/print-publications/t/weight-management-t-3167.pdf\n"
     ]
    },
    {
     "name": "stderr",
     "output_type": "stream",
     "text": [
      "Xref table not zero-indexed. ID numbers for objects will be corrected.\n"
     ]
    },
    {
     "name": "stdout",
     "output_type": "stream",
     "text": [
      "https://extension.okstate.edu//fact-sheets/print-publications/t/nutrition-for-older-adults-diet-and-health-guidelines-for-weight-loss-t-3200.pdf\n"
     ]
    },
    {
     "name": "stderr",
     "output_type": "stream",
     "text": [
      "Xref table not zero-indexed. ID numbers for objects will be corrected.\n"
     ]
    },
    {
     "name": "stdout",
     "output_type": "stream",
     "text": [
      "https://extension.okstate.edu//fact-sheets/print-publications/t/diet-and-high-blood-pressure-t-3159.pdf\n"
     ]
    },
    {
     "name": "stderr",
     "output_type": "stream",
     "text": [
      "Xref table not zero-indexed. ID numbers for objects will be corrected.\n"
     ]
    },
    {
     "name": "stdout",
     "output_type": "stream",
     "text": [
      "https://extension.okstate.edu//fact-sheets/print-publications/t/journey-through-health-immune-system-t-3215.pdf\n"
     ]
    },
    {
     "name": "stderr",
     "output_type": "stream",
     "text": [
      "Xref table not zero-indexed. ID numbers for objects will be corrected.\n"
     ]
    },
    {
     "name": "stdout",
     "output_type": "stream",
     "text": [
      "https://extension.okstate.edu//fact-sheets/print-publications/t/carbohydrates-in-the-diet-t-3117.pdf\n",
      "https://extension.okstate.edu//fact-sheets/print-publications/t/diet-and-heart-disease-t-3160.pdf\n"
     ]
    },
    {
     "name": "stderr",
     "output_type": "stream",
     "text": [
      "Xref table not zero-indexed. ID numbers for objects will be corrected.\n",
      "Xref table not zero-indexed. ID numbers for objects will be corrected.\n"
     ]
    },
    {
     "name": "stdout",
     "output_type": "stream",
     "text": [
      "https://extension.okstate.edu//fact-sheets/print-publications/t/journey-through-health-eyes-t-3206.pdf\n"
     ]
    },
    {
     "name": "stderr",
     "output_type": "stream",
     "text": [
      "Xref table not zero-indexed. ID numbers for objects will be corrected.\n"
     ]
    },
    {
     "name": "stdout",
     "output_type": "stream",
     "text": [
      "https://extension.okstate.edu//fact-sheets/print-publications/t/nutrition-for-older-adults-constipation-and-nutrition-t-3175.pdf\n",
      "https://extension.okstate.edu//fact-sheets/print-publications/t/protein-and-the-body-t-3163.pdf\n"
     ]
    },
    {
     "name": "stderr",
     "output_type": "stream",
     "text": [
      "Xref table not zero-indexed. ID numbers for objects will be corrected.\n",
      "Xref table not zero-indexed. ID numbers for objects will be corrected.\n"
     ]
    },
    {
     "name": "stdout",
     "output_type": "stream",
     "text": [
      "https://extension.okstate.edu//fact-sheets/print-publications/t/journey-through-health-stomach-t-3208.pdf\n",
      "https://extension.okstate.edu//fact-sheets/print-publications/p/research-summary-quail-population-and-nesting-characteristicsin-western-oklahoma-p-1063.pdf\n"
     ]
    },
    {
     "name": "stderr",
     "output_type": "stream",
     "text": [
      "Xref table not zero-indexed. ID numbers for objects will be corrected.\n"
     ]
    },
    {
     "name": "stdout",
     "output_type": "stream",
     "text": [
      "https://extension.okstate.edu//fact-sheets/print-publications/e/patch-burning-integrating-fire-and-grazing-to-promote-heterogeneity-e-998.pdf\n"
     ]
    },
    {
     "name": "stderr",
     "output_type": "stream",
     "text": [
      "Xref table not zero-indexed. ID numbers for objects will be corrected.\n"
     ]
    },
    {
     "name": "stdout",
     "output_type": "stream",
     "text": [
      "https://extension.okstate.edu//fact-sheets/print-publications/t/nutrition-for-older-adults-diet-and-health-guidelines-to-lower-the-risk-of-high-blood-pressure-t-3199.pdf\n"
     ]
    },
    {
     "name": "stderr",
     "output_type": "stream",
     "text": [
      "Xref table not zero-indexed. ID numbers for objects will be corrected.\n",
      "Xref table not zero-indexed. ID numbers for objects will be corrected.\n"
     ]
    },
    {
     "name": "stdout",
     "output_type": "stream",
     "text": [
      "https://extension.okstate.edu//fact-sheets/print-publications/t/nutrition-for-older-adults-usda-myplate-food-groups-t-3181.pdf\n"
     ]
    },
    {
     "name": "stderr",
     "output_type": "stream",
     "text": [
      "Xref table not zero-indexed. ID numbers for objects will be corrected.\n"
     ]
    },
    {
     "name": "stdout",
     "output_type": "stream",
     "text": [
      "https://extension.okstate.edu//fact-sheets/print-publications/t/nutrition-for-older-adults-usda-myplate-plan-t-3183.pdf\n",
      "https://extension.okstate.edu//fact-sheets/print-publications/t/nutrition-for-older-adults-strength-coordination-range-of-motion-and-nutrition-t-3187.pdf\n"
     ]
    },
    {
     "name": "stderr",
     "output_type": "stream",
     "text": [
      "Xref table not zero-indexed. ID numbers for objects will be corrected.\n"
     ]
    },
    {
     "name": "stdout",
     "output_type": "stream",
     "text": [
      "https://extension.okstate.edu//fact-sheets/print-publications/bae/calibrating-a-low-pressure-ground-sprayer-boom-mounted-nozzles-bae-1294.pdf\n"
     ]
    },
    {
     "name": "stderr",
     "output_type": "stream",
     "text": [
      "Xref table not zero-indexed. ID numbers for objects will be corrected.\n",
      "Xref table not zero-indexed. ID numbers for objects will be corrected.\n"
     ]
    },
    {
     "name": "stdout",
     "output_type": "stream",
     "text": [
      "https://extension.okstate.edu//fact-sheets/print-publications/t/journey-through-health-muscles-t-3211.pdf\n"
     ]
    },
    {
     "name": "stderr",
     "output_type": "stream",
     "text": [
      "Xref table not zero-indexed. ID numbers for objects will be corrected.\n"
     ]
    },
    {
     "name": "stdout",
     "output_type": "stream",
     "text": [
      "https://extension.okstate.edu//fact-sheets/print-publications/t/journey-through-health-mouth-teeth-and-gums-t-3207.pdf\n",
      "https://extension.okstate.edu//fact-sheets/print-publications/pss/understanding-grain-sorghum-irrigation-requirements-in-oklahoma-pss-2410.pdf\n"
     ]
    },
    {
     "name": "stderr",
     "output_type": "stream",
     "text": [
      "Xref table not zero-indexed. ID numbers for objects will be corrected.\n"
     ]
    },
    {
     "name": "stdout",
     "output_type": "stream",
     "text": [
      "https://extension.okstate.edu//fact-sheets/print-publications/epp-entomology-and-plant-pathologhy/pear-rust-epp-7681.pdf\n"
     ]
    },
    {
     "name": "stderr",
     "output_type": "stream",
     "text": [
      "Xref table not zero-indexed. ID numbers for objects will be corrected.\n",
      "Xref table not zero-indexed. ID numbers for objects will be corrected.\n"
     ]
    },
    {
     "name": "stdout",
     "output_type": "stream",
     "text": [
      "https://extension.okstate.edu//fact-sheets/print-publications/l/2021-tomato-variety-suggestions-l-492.pdf\n",
      "https://extension.okstate.edu//fact-sheets/print-publications/agec/considering-water-quality-in-oklahoma-agec-1997.pdf\n"
     ]
    },
    {
     "name": "stderr",
     "output_type": "stream",
     "text": [
      "Xref table not zero-indexed. ID numbers for objects will be corrected.\n"
     ]
    },
    {
     "name": "stdout",
     "output_type": "stream",
     "text": [
      "https://extension.okstate.edu//fact-sheets/print-publications/hla/cucumber-production-hla-6023.pdf\n"
     ]
    },
    {
     "name": "stderr",
     "output_type": "stream",
     "text": [
      "Xref table not zero-indexed. ID numbers for objects will be corrected.\n"
     ]
    },
    {
     "name": "stdout",
     "output_type": "stream",
     "text": [
      "https://extension.okstate.edu//fact-sheets/print-publications/epp-entomology-and-plant-pathologhy/mites-in-small-grains-epp-7093.pdf\n"
     ]
    },
    {
     "name": "stderr",
     "output_type": "stream",
     "text": [
      "Xref table not zero-indexed. ID numbers for objects will be corrected.\n",
      "Xref table not zero-indexed. ID numbers for objects will be corrected.\n"
     ]
    },
    {
     "name": "stdout",
     "output_type": "stream",
     "text": [
      "https://extension.okstate.edu//fact-sheets/print-publications/cr/oklahoma-cropland-rental-rates-2020-21cr-230.pdf\n"
     ]
    },
    {
     "name": "stderr",
     "output_type": "stream",
     "text": [
      "Xref table not zero-indexed. ID numbers for objects will be corrected.\n"
     ]
    },
    {
     "name": "stdout",
     "output_type": "stream",
     "text": [
      "https://extension.okstate.edu//fact-sheets/print-publications/cr/oklahoma-pasture-rental-rates-2020-21-cr-216.pdf\n",
      "https://extension.okstate.edu//fact-sheets/print-publications/hla/melon-production-hla-6237.pdf\n"
     ]
    },
    {
     "name": "stderr",
     "output_type": "stream",
     "text": [
      "Xref table not zero-indexed. ID numbers for objects will be corrected.\n"
     ]
    },
    {
     "name": "stdout",
     "output_type": "stream",
     "text": [
      "https://extension.okstate.edu//fact-sheets/print-publications/nrem/using-drones-with-infrared-capabilities-to-monitor-fire-behavior-nrem-2907.pdf\n"
     ]
    },
    {
     "name": "stderr",
     "output_type": "stream",
     "text": [
      "Xref table not zero-indexed. ID numbers for objects will be corrected.\n"
     ]
    }
   ],
   "source": [
    "all_tokens=[]\n",
    "\n",
    "def scrape_pdf(file, pdflink):\n",
    "    wFile=file\n",
    "    pdfreader = PyPDF2.PdfFileReader(BytesIO(wFile.read()))\n",
    "    count=pdfreader.numPages\n",
    "    words=list()\n",
    "    words.append(pdflink)\n",
    "    for j in range(count):\n",
    "        pageObj = pdfreader.getPage(j)\n",
    "        page1 = pageObj.extractText()\n",
    "        punctuations = ['(',')',';',':','[',']',',','...','.']\n",
    "        tokens = word_tokenize(page1)\n",
    "        stop_words = stopwords.words('english')\n",
    "        keywords = [word for word in tokens if not word in stop_words and not word in punctuations]\n",
    "        for idx, token in enumerate(tokens):\n",
    "            words.append(token)\n",
    "        all_tokens.append(words)\n",
    "\n",
    "\n",
    "        \n",
    "def scrape_site(file):\n",
    "    wFile=weasyprint.HTML(file).write_pdf()\n",
    "    print(wFile)\n",
    "    pdfreader = PyPDF2.PdfFileReader(BytesIO(wFile.read()))\n",
    "    count=pdfreader.numPages\n",
    "    words=list()\n",
    "    for j in range(count):\n",
    "        pageObj = pdfreader.getPage(j)\n",
    "        page1 = pageObj.extractText()\n",
    "        punctuations = ['(',')',';',':','[',']',',','...','.']\n",
    "        tokens = word_tokenize(page1)\n",
    "        stop_words = stopwords.words('english')\n",
    "        keywords = [word for word in tokens if not word in stop_words and not word in punctuations]\n",
    "        for idx, token in enumerate(tokens):\n",
    "            words.append(token)\n",
    "        all_tokens.append(words)\n",
    "\n",
    "for i in range(len(pdflinks)):\n",
    "    print(pdflinks[i])\n",
    "    try:\n",
    "        wFile=urllib.request.urlopen(pdflinks[i])\n",
    "        scrape_pdf(wFile, pdflinks[i])\n",
    "    except:\n",
    "        pass\n",
    "            \n",
    "\n",
    "        "
   ]
  },
  {
   "cell_type": "code",
   "execution_count": 17,
   "id": "2a252c33",
   "metadata": {},
   "outputs": [
    {
     "name": "stdout",
     "output_type": "stream",
     "text": [
      "['https://extension.okstate.edu//fact-sheets/print-publications/fapc-food-and-agricultural-products-center/custom-beef-processing-expected-yields-fapc-245.pdf', 'Division', 'of', 'Agricultural', 'Sciences', 'and', 'Natural', 'Resources', '•', 'Oklahoma', 'State', 'UniversityFAPC-245', 'Oklahoma', 'Cooperative', 'Extension', 'Fact', 'Sheets', 'are', 'also', 'available', 'on', 'our', 'website', 'at', ':', 'extension.okstate.eduOklahoma', 'Cooperative', 'Extension', 'Service', 'September', '2022', 'Joel', 'Jackson', 'Meat', 'Pilot', 'Manager', ',', 'FAPC', 'Recent', 'meat', 'shortages', 'have', 'resulted', 'in', 'an', 'increase', 'of', 'first-time', 'custom', 'slaughter', 'customers', '.', 'There', 'are', 'significant', 'differences', 'in', 'finished', 'product', 'weight', 'based', 'off', 'multiple', 'factors', '.', 'The', 'following', 'information', 'will', 'give', 'customers', 'an', 'idea', 'of', 'what', 'they', 'can', 'expect', 'when', 'picking', 'up', 'their', 'custom', 'processed', 'meat', '.', 'All', 'Cattle', 'Are', 'Not', 'Created', 'Equally', '!', 'The', 'first', 'difference', 'that', 'people', 'may', 'notice', 'is', 'simply', 'size', 'or', 'weight', '.', 'This', 'may', 'be', 'due', 'to', 'age', ',', 'ration', '(', 'pasture', ',', 'grain', 'fed', ',', 'combination', 'etc', '.', ')', 'breed', 'and', 'genetics', '.', 'The', 'live', 'weight', 'percentage', 'of', 'boneless', 'and', 'lean', 'cuts', 'will', 'not', 'be', 'the', 'same', 'with', 'a', '600lb', 'calf', 'vs.', 'a', '1,200lb', 'steer', '.', 'Animals', 'may', 'be', 'lighter', 'muscled', 'or', 'heavier', 'muscled', 'in', 'relation', 'to', 'the', 'frame', '(', 'skeleton', ')', '.', 'Aging', 'Aging', 'is', 'an', 'important', 'step', 'in', 'providing', 'the', 'best', 'product', 'and', 'customer', 'experience', '.', 'The', 'most', 'common', 'method', 'is', 'to', 'hang', '(', 'dry', 'age', ')', 'all', 'beef', 'carcasses', 'for', 'a', 'minimum', 'of', '14', 'days', 'before', 'processing', '.', 'This', 'allows', 'for', 'a', 'significant', 'increase', 'of', 'tenderness', 'along', 'with', 'an', 'overall', 'better', 'eating', 'experience', '.', 'This', 'comes', 'with', 'a', 'cost', 'in', 'terms', 'of', 'moisture', 'loss', '(', 'shrink', ')', '.', 'A', 'carcass', 'can', 'lose', 'on', 'average', '5-7', '%', 'of', 'the', 'total', 'weight', 'from', 'aging', ';', 'which', 'may', 'not', 'sound', 'like', 'much', 'but', 'it', 'relates', 'to', '30-', '40lbs', 'on', 'a', '600lb', 'carcass', '.', 'Aging', 'beyond', '14', 'days', 'may', 'result', 'in', 'a', '“', 'beefy', '”', 'flavor', 'that', 'is', 'desired', 'by', 'some', 'customers', ',', 'but', 'extended', 'aging', 'results', 'in', 'increased', 'moisture', 'loss', 'and', 'trim', '-', 'ming', 'of', 'finished', 'cuts', '.', 'Quantity', 'vs.', 'Quality', 'Most', 'processors', 'strive', 'to', 'provide', 'the', 'best', 'quality', 'product', 'possible', '.', 'Custom', 'processing', 'sheets', 'allow', 'a', 'processor', 'to', 'pro', '-', 'duce', 'the', 'specific', 'cuts', 'the', 'customer', 'requests', '.', 'The', 'processor', 'may', 'trim', 'fat', ',', 'debone', 'and', 'remove', 'connective', 'tissue', '(', 'gristle', ')', 'as', 'needed', '.', 'All', 'of', 'these', 'factors', 'may', 'reduce', 'the', 'total', 'pounds', 'of', 'finished', 'product', 'but', 'result', 'in', 'a', 'higher', 'quality', 'product', '.', 'Fat', 'Fat', 'enhances', 'flavor', ',', 'palatability', 'and', 'even', 'the', 'percep', '-', 'tion', 'of', 'tenderness', '.', 'Commodity', 'beef', 'that', 'is', 'often', 'available', 'at', 'your', 'local', 'grocery', 'store', 'is', 'likely', 'sourced', 'from', 'a', 'variety', 'of', 'breeds', 'that', 'are', 'fed', 'and', 'finished', 'to', 'a', 'weight', 'of', '1,100-', '1,400lbs', 'on', 'average', '.', 'An', 'animal', '’', 's', 'ability', 'to', 'put', 'on', 'fat', 'is', 'de', '-Custom', 'Beef', 'Processing', ':', 'Expected', 'Yields', 'pendent', 'on', 'time', ',', 'quality', 'ration', 'and', 'genetics', '.', 'Excessive', 'fat', 'will', 'be', 'trimmed', 'off', 'of', 'finished', 'cuts', '.', 'Although', 'trimming', 'is', 'not', 'beneficial', 'to', 'yields', ',', 'a', 'fatter', 'carcass', 'will', 'lose', 'less', 'moisture', '(', 'pounds', ')', 'during', 'aging', '.', 'Average', 'Yield', 'Examples', 'A', '1,200lb', 'grain', 'fed', 'steer', 'should', 'result', 'in', 'roughly', 'a', '756lb', 'carcass', '(', '≈60-63', '%', 'dressing', 'percentage', ')', '.', 'Aging', '14', 'days', 're', '-', 'sults', 'in', 'a', '710lb', 'carcass', 'ready', 'to', 'cut', '(', '6', '%', 'shrink', ')', '.', 'Depending', 'on', 'how', 'fat', 'the', 'animal', 'was', 'and', 'the', 'percentage', 'of', 'bone-in', 'and', 'boneless', 'cuts', ',', 'a', 'customer', 'can', 'expect', 'to', 'yield', '50-65', '%', 'of', 'the', '710lb', 'aged', 'carcass', 'or', '355–460lbs', 'of', 'finished', 'product', '.', 'A', '600lb', 'calf', 'should', 'result', 'in', 'a', 'roughly', '330lb', 'carcass', '(', '≈55', '%', 'dressing', 'percentage', ')', '.', 'Aging', '14', 'days', 'results', 'in', 'a', '307lb', 'carcass', 'ready', 'to', 'cut', '(', '7', '%', 'shrink', ')', '.', 'Since', 'younger', 'cattle', 'will', 'likely', 'not', 'have', 'as', 'much', 'fat', 'as', 'an', 'older', 'animal', ',', 'one', 'can', 'expect', 'a', 'higher', 'moisture', 'loss', 'and', 'increased', 'trimming', '.', 'Depending', 'on', 'the', 'percentage', 'of', 'bone-in', 'and', 'boneless', 'cuts', ',', 'one', 'can', 'expect', 'to', 'yield', '45-60', '%', 'of', 'the', 'aged', 'carcass', 'or', '140', '–', '185lbs', 'of', 'finished', 'product', '.', 'This', 'is', 'often', 'a', 'result', 'of', 'less', 'muscle', 'in', 'relation', 'to', 'the', 'skeleton', '.', 'Common', 'Cuts', 'Depending', 'on', 'desired', 'cut', 'or', 'thickness', ',', 'a', 'customer', 'can', 'expect', 'the', 'following', 'grilling', 'steaks', 'from', 'one', 'steer', 'or', 'calf', ':', '•', '20-26', 'Ribeye', 'Steaks', '•', '22-28', 'T-Bone/Porterhouse', 'Steaks', '•', '6-8', 'Filets', '•', '10-14', 'Sirloin', 'Steaks', 'The', 'remainder', 'of', 'the', 'carcass', 'is', 'often', 'divided', 'into', 'roasts', ',', 'steaks', ',', 'stew', 'meat', ',', 'and', 'ground', 'beef', '.', 'Summary', 'As', 'stated', 'above', ',', 'several', 'factors', 'can', 'influence', 'yield', ',', 'qual', '-', 'ity', 'and', 'eating', 'experience', 'of', 'meat', 'from', 'a', 'custom', 'slaughtered', 'animal', '.', 'Knowing', 'these', 'variables', 'can', 'help', 'processors', 'and', 'customers', 'develop', 'a', 'good', 'working', 'relationship', '.', '*', 'The', 'goal', 'of', 'OSU', '’', 's', 'Cowboy', 'Meats', 'is', 'to', 'provide', 'our', 'customers', 'with', 'a', 'safe', 'and', 'wholesome', 'product', 'while', 'producing', 'the', 'best', 'quality', 'products', 'from', 'your', 'livestock', '.', 'If', 'you', 'have', 'any', 'questions', 'or', 'wish', 'to', 'schedule', 'an', 'appointment', ',', 'please', 'call', '(', '405', ')', '744-MEAT', '.', 'FAPC-245-2Oklahoma', 'State', 'University', ',', 'as', 'an', 'equal', 'opportunity', 'employer', ',', 'complies', 'with', 'all', 'applicable', 'federal', 'and', 'state', 'laws', 'regarding', 'non-discrimination', 'and', 'affirmative', 'action', '.', 'Oklahoma', 'State', 'University', 'is', 'committed', 'to', 'a', 'policy', 'of', 'equal', 'opportunity', 'for', 'all', 'individuals', 'and', 'does', 'not', 'discriminate', 'based', 'on', 'race', ',', 'religion', ',', 'age', ',', 'sex', ',', 'color', ',', 'national', 'origin', ',', 'marital', 'status', ',', 'sexual', 'orientation', ',', 'gender', 'identity/', 'expression', ',', 'disability', ',', 'or', 'veteran', 'status', 'with', 'regard', 'to', 'employment', ',', 'educational', 'programs', 'and', 'activities', ',', 'and/or', 'admissions', '.', 'For', 'more', 'information', ',', 'visit', 'https', ':', '///', 'eeo.okstate.edu', '.', 'Issued', 'in', 'furtherance', 'of', 'Cooperative', 'Extension', 'work', ',', 'acts', 'of', 'May', '8', 'and', 'June', '30', ',', '1914', ',', 'in', 'cooperation', 'with', 'the', 'U.S.', 'Department', 'of', 'Agriculture', ',', 'Director', 'of', 'Oklahoma', 'Cooperative', 'Extension', 'Service', ',', 'Oklahoma', 'State', 'University', ',', 'Stillwater', ',', 'Oklahoma', '.', 'This', 'publication', 'is', 'printed', 'and', 'issued', 'by', 'Oklahoma', 'State', 'University', 'as', 'authorized', 'by', 'the', 'Vice', 'President', 'for', 'Agricultural', 'Programs', 'and', 'has', 'been', 'prepared', 'and', 'distributed', 'at', 'a', 'cost', 'of', '20', 'cents', 'per', 'copy', '.', 'September', '2022', 'AF.The', 'Oklahoma', 'Cooperative', 'Extension', 'Service', 'WE', 'ARE', 'OKLAHOMA', 'for', 'people', 'of', 'all', 'ages', '.', 'It', 'is', 'designated', 'to', 'take', 'the', 'knowledge', 'of', 'the', 'university', 'to', 'those', 'persons', 'who', 'do', 'not', 'or', 'can', 'not', 'participate', 'in', 'the', 'formal', 'classroom', 'instruction', 'of', 'the', 'university', '.', '•', 'It', 'utilizes', 'research', 'from', 'university', ',', 'government', ',', 'and', 'other', 'sources', 'to', 'help', 'people', 'make', 'their', 'own', 'decisions', '.', '•', 'More', 'than', 'a', 'million', 'volunteers', 'help', 'multiply', 'the', 'impact', 'of', 'the', 'Extension', 'professional', 'staff', '.', '•', 'It', 'dispenses', 'no', 'funds', 'to', 'the', 'public', '.', '•', 'It', 'is', 'not', 'a', 'regulatory', 'agency', ',', 'but', 'it', 'does', 'inform', 'people', 'of', 'regulations', 'and', 'of', 'their', 'options', 'in', 'meet', '-', 'ing', 'them', '.', '•', 'Local', 'programs', 'are', 'developed', 'and', 'carried', 'out', 'in', 'full', 'recognition', 'of', 'national', 'problems', 'and', 'goals', '.', '•', 'The', 'Extension', 'staff', 'educates', 'people', 'through', 'personal', 'contacts', ',', 'meetings', ',', 'demonstrations', ',', 'and', 'the', 'mass', 'media', '.', '•', 'Extension', 'has', 'the', 'built-in', 'flexibility', 'to', 'adjust', 'its', 'programs', 'and', 'subject', 'matter', 'to', 'meet', 'new', 'needs', '.', 'Activities', 'shift', 'from', 'year', 'to', 'year', 'as', 'citizen', 'groups', 'and', 'Extension', 'workers', 'close', 'to', 'the', 'problems', 'advise', 'changes.The', 'Cooperative', 'Extension', 'Service', 'is', 'the', 'largest', ',', 'most', 'successful', 'informal', 'educational', 'organization', 'in', 'the', 'world', '.', 'It', 'is', 'a', 'nationwide', 'system', 'funded', 'and', 'guided', 'by', 'a', 'partnership', 'of', 'federal', ',', 'state', ',', 'and', 'local', 'govern', '-', 'ments', 'that', 'delivers', 'information', 'to', 'help', 'people', 'help', 'themselves', 'through', 'the', 'land-grant', 'university', 'system', '.', 'Extension', 'carries', 'out', 'programs', 'in', 'the', 'broad', 'catego', '-', 'ries', 'of', 'agriculture', ',', 'natural', 'resources', 'and', 'environment', ';', 'family', 'and', 'consumer', 'sciences', ';', '4-H', 'and', 'other', 'youth', ';', 'and', 'community', 'resource', 'development', '.', 'Extension', 'staff', 'members', 'live', 'and', 'work', 'among', 'the', 'people', 'they', 'serve', 'to', 'help', 'stimulate', 'and', 'educate', 'Americans', 'to', 'plan', 'ahead', 'and', 'cope', 'with', 'their', 'problems', '.', 'Some', 'characteristics', 'of', 'the', 'Cooperative', 'Extension', 'system', 'are', ':', '•', 'The', 'federal', ',', 'state', ',', 'and', 'local', 'governments', 'coopera', '-', 'tively', 'share', 'in', 'its', 'financial', 'support', 'and', 'program', 'direction', '.', '•', 'It', 'is', 'administered', 'by', 'the', 'land-grant', 'university', 'as', 'designated', 'by', 'the', 'state', 'legislature', 'through', 'an', 'Extension', 'director', '.', '•', 'Extension', 'programs', 'are', 'nonpolitical', ',', 'objective', ',', 'and', 'research-based', 'information', '.', '•', 'It', 'provides', 'practical', ',', 'problem-oriented', 'education']\n"
     ]
    }
   ],
   "source": [
    "print(all_tokens[0])"
   ]
  },
  {
   "cell_type": "code",
   "execution_count": null,
   "id": "f12925cb",
   "metadata": {},
   "outputs": [],
   "source": []
  }
 ],
 "metadata": {
  "kernelspec": {
   "display_name": "Python 3 (ipykernel)",
   "language": "python",
   "name": "python3"
  },
  "language_info": {
   "codemirror_mode": {
    "name": "ipython",
    "version": 3
   },
   "file_extension": ".py",
   "mimetype": "text/x-python",
   "name": "python",
   "nbconvert_exporter": "python",
   "pygments_lexer": "ipython3",
   "version": "3.7.13"
  }
 },
 "nbformat": 4,
 "nbformat_minor": 5
}
